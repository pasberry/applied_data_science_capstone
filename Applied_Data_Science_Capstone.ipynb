{
 "cells": [
  {
   "cell_type": "markdown",
   "metadata": {},
   "source": [
    "# Applied Data Science Capstone\n",
    "\n",
    "This notebook will contain the final capstone project for this course.\n"
   ]
  },
  {
   "cell_type": "markdown",
   "metadata": {},
   "source": [
    "# Business Problem"
   ]
  },
  {
   "cell_type": "markdown",
   "metadata": {},
   "source": [
    "Traffic pattern analyis and optimization is critical for the effecient flow of goods and services in a city. With this information, cities can better plan construction projects, infastructure improvements and deployment of emergency vehicles to accidents. \n",
    "\n",
    "When these accidents occur, critical life saving measures need to be deployed. Armed with predictive analytics, cities can anticipate when and where to make emergency vehicles available. \n",
    "\n",
    "This report aims to provide the city of Seattle with such information to improve its emergency logistic capabilities.  "
   ]
  },
  {
   "cell_type": "code",
   "execution_count": null,
   "metadata": {},
   "outputs": [],
   "source": []
  }
 ],
 "metadata": {
  "kernelspec": {
   "display_name": "Python 3",
   "language": "python",
   "name": "python3"
  },
  "language_info": {
   "codemirror_mode": {
    "name": "ipython",
    "version": 3
   },
   "file_extension": ".py",
   "mimetype": "text/x-python",
   "name": "python",
   "nbconvert_exporter": "python",
   "pygments_lexer": "ipython3",
   "version": "3.8.5"
  }
 },
 "nbformat": 4,
 "nbformat_minor": 4
}
