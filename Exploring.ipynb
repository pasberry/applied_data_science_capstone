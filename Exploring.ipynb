{
 "cells": [
  {
   "cell_type": "markdown",
   "metadata": {},
   "source": [
    "# Exploratory Data Analysis Notebook\n",
    "\n",
    "### Summary\n",
    "\n",
    "This notebook chronicles the data exploration I have undertaken to analyze and choose the features I will be using for my classification of accident severity.\n",
    "\n",
    "I have choosen to used the most represented (those with the least null values ) columns in the dataset  for my analysis. These columns had a near universal presence in all rows. This observation leads me to believe their consistant inclusion shows there predictive qualities. \n",
    "\n",
    "My feature selection can be seen below\n"
   ]
  },
  {
   "cell_type": "code",
   "execution_count": 1,
   "metadata": {},
   "outputs": [],
   "source": [
    "import pandas as pd"
   ]
  },
  {
   "cell_type": "code",
   "execution_count": 2,
   "metadata": {},
   "outputs": [],
   "source": [
    "import numpy as np"
   ]
  },
  {
   "cell_type": "markdown",
   "metadata": {},
   "source": [
    "## Loading and Sampling the Data"
   ]
  },
  {
   "cell_type": "code",
   "execution_count": 4,
   "metadata": {},
   "outputs": [
    {
     "name": "stderr",
     "output_type": "stream",
     "text": [
      "/home/pasberry/anaconda3/envs/coursera_pyspark/lib/python3.8/site-packages/IPython/core/interactiveshell.py:3145: DtypeWarning: Columns (33) have mixed types.Specify dtype option on import or set low_memory=False.\n",
      "  has_raised = await self.run_ast_nodes(code_ast.body, cell_name,\n"
     ]
    }
   ],
   "source": [
    "accident_df = pd.read_csv('./Data-Collisions.csv' )"
   ]
  },
  {
   "cell_type": "code",
   "execution_count": 5,
   "metadata": {},
   "outputs": [
    {
     "data": {
      "text/html": [
       "<div>\n",
       "<style scoped>\n",
       "    .dataframe tbody tr th:only-of-type {\n",
       "        vertical-align: middle;\n",
       "    }\n",
       "\n",
       "    .dataframe tbody tr th {\n",
       "        vertical-align: top;\n",
       "    }\n",
       "\n",
       "    .dataframe thead th {\n",
       "        text-align: right;\n",
       "    }\n",
       "</style>\n",
       "<table border=\"1\" class=\"dataframe\">\n",
       "  <thead>\n",
       "    <tr style=\"text-align: right;\">\n",
       "      <th></th>\n",
       "      <th>SEVERITYCODE</th>\n",
       "      <th>X</th>\n",
       "      <th>Y</th>\n",
       "      <th>OBJECTID</th>\n",
       "      <th>INCKEY</th>\n",
       "      <th>COLDETKEY</th>\n",
       "      <th>REPORTNO</th>\n",
       "      <th>STATUS</th>\n",
       "      <th>ADDRTYPE</th>\n",
       "      <th>INTKEY</th>\n",
       "      <th>...</th>\n",
       "      <th>ROADCOND</th>\n",
       "      <th>LIGHTCOND</th>\n",
       "      <th>PEDROWNOTGRNT</th>\n",
       "      <th>SDOTCOLNUM</th>\n",
       "      <th>SPEEDING</th>\n",
       "      <th>ST_COLCODE</th>\n",
       "      <th>ST_COLDESC</th>\n",
       "      <th>SEGLANEKEY</th>\n",
       "      <th>CROSSWALKKEY</th>\n",
       "      <th>HITPARKEDCAR</th>\n",
       "    </tr>\n",
       "  </thead>\n",
       "  <tbody>\n",
       "    <tr>\n",
       "      <th>0</th>\n",
       "      <td>2</td>\n",
       "      <td>-122.323148</td>\n",
       "      <td>47.703140</td>\n",
       "      <td>1</td>\n",
       "      <td>1307</td>\n",
       "      <td>1307</td>\n",
       "      <td>3502005</td>\n",
       "      <td>Matched</td>\n",
       "      <td>Intersection</td>\n",
       "      <td>37475.0</td>\n",
       "      <td>...</td>\n",
       "      <td>Wet</td>\n",
       "      <td>Daylight</td>\n",
       "      <td>NaN</td>\n",
       "      <td>NaN</td>\n",
       "      <td>NaN</td>\n",
       "      <td>10</td>\n",
       "      <td>Entering at angle</td>\n",
       "      <td>0</td>\n",
       "      <td>0</td>\n",
       "      <td>N</td>\n",
       "    </tr>\n",
       "    <tr>\n",
       "      <th>1</th>\n",
       "      <td>1</td>\n",
       "      <td>-122.347294</td>\n",
       "      <td>47.647172</td>\n",
       "      <td>2</td>\n",
       "      <td>52200</td>\n",
       "      <td>52200</td>\n",
       "      <td>2607959</td>\n",
       "      <td>Matched</td>\n",
       "      <td>Block</td>\n",
       "      <td>NaN</td>\n",
       "      <td>...</td>\n",
       "      <td>Wet</td>\n",
       "      <td>Dark - Street Lights On</td>\n",
       "      <td>NaN</td>\n",
       "      <td>6354039.0</td>\n",
       "      <td>NaN</td>\n",
       "      <td>11</td>\n",
       "      <td>From same direction - both going straight - bo...</td>\n",
       "      <td>0</td>\n",
       "      <td>0</td>\n",
       "      <td>N</td>\n",
       "    </tr>\n",
       "    <tr>\n",
       "      <th>2</th>\n",
       "      <td>1</td>\n",
       "      <td>-122.334540</td>\n",
       "      <td>47.607871</td>\n",
       "      <td>3</td>\n",
       "      <td>26700</td>\n",
       "      <td>26700</td>\n",
       "      <td>1482393</td>\n",
       "      <td>Matched</td>\n",
       "      <td>Block</td>\n",
       "      <td>NaN</td>\n",
       "      <td>...</td>\n",
       "      <td>Dry</td>\n",
       "      <td>Daylight</td>\n",
       "      <td>NaN</td>\n",
       "      <td>4323031.0</td>\n",
       "      <td>NaN</td>\n",
       "      <td>32</td>\n",
       "      <td>One parked--one moving</td>\n",
       "      <td>0</td>\n",
       "      <td>0</td>\n",
       "      <td>N</td>\n",
       "    </tr>\n",
       "    <tr>\n",
       "      <th>3</th>\n",
       "      <td>1</td>\n",
       "      <td>-122.334803</td>\n",
       "      <td>47.604803</td>\n",
       "      <td>4</td>\n",
       "      <td>1144</td>\n",
       "      <td>1144</td>\n",
       "      <td>3503937</td>\n",
       "      <td>Matched</td>\n",
       "      <td>Block</td>\n",
       "      <td>NaN</td>\n",
       "      <td>...</td>\n",
       "      <td>Dry</td>\n",
       "      <td>Daylight</td>\n",
       "      <td>NaN</td>\n",
       "      <td>NaN</td>\n",
       "      <td>NaN</td>\n",
       "      <td>23</td>\n",
       "      <td>From same direction - all others</td>\n",
       "      <td>0</td>\n",
       "      <td>0</td>\n",
       "      <td>N</td>\n",
       "    </tr>\n",
       "    <tr>\n",
       "      <th>4</th>\n",
       "      <td>2</td>\n",
       "      <td>-122.306426</td>\n",
       "      <td>47.545739</td>\n",
       "      <td>5</td>\n",
       "      <td>17700</td>\n",
       "      <td>17700</td>\n",
       "      <td>1807429</td>\n",
       "      <td>Matched</td>\n",
       "      <td>Intersection</td>\n",
       "      <td>34387.0</td>\n",
       "      <td>...</td>\n",
       "      <td>Wet</td>\n",
       "      <td>Daylight</td>\n",
       "      <td>NaN</td>\n",
       "      <td>4028032.0</td>\n",
       "      <td>NaN</td>\n",
       "      <td>10</td>\n",
       "      <td>Entering at angle</td>\n",
       "      <td>0</td>\n",
       "      <td>0</td>\n",
       "      <td>N</td>\n",
       "    </tr>\n",
       "  </tbody>\n",
       "</table>\n",
       "<p>5 rows × 38 columns</p>\n",
       "</div>"
      ],
      "text/plain": [
       "   SEVERITYCODE           X          Y  OBJECTID  INCKEY  COLDETKEY REPORTNO  \\\n",
       "0             2 -122.323148  47.703140         1    1307       1307  3502005   \n",
       "1             1 -122.347294  47.647172         2   52200      52200  2607959   \n",
       "2             1 -122.334540  47.607871         3   26700      26700  1482393   \n",
       "3             1 -122.334803  47.604803         4    1144       1144  3503937   \n",
       "4             2 -122.306426  47.545739         5   17700      17700  1807429   \n",
       "\n",
       "    STATUS      ADDRTYPE   INTKEY  ... ROADCOND                LIGHTCOND  \\\n",
       "0  Matched  Intersection  37475.0  ...      Wet                 Daylight   \n",
       "1  Matched         Block      NaN  ...      Wet  Dark - Street Lights On   \n",
       "2  Matched         Block      NaN  ...      Dry                 Daylight   \n",
       "3  Matched         Block      NaN  ...      Dry                 Daylight   \n",
       "4  Matched  Intersection  34387.0  ...      Wet                 Daylight   \n",
       "\n",
       "  PEDROWNOTGRNT  SDOTCOLNUM SPEEDING ST_COLCODE  \\\n",
       "0           NaN         NaN      NaN         10   \n",
       "1           NaN   6354039.0      NaN         11   \n",
       "2           NaN   4323031.0      NaN         32   \n",
       "3           NaN         NaN      NaN         23   \n",
       "4           NaN   4028032.0      NaN         10   \n",
       "\n",
       "                                          ST_COLDESC  SEGLANEKEY  \\\n",
       "0                                  Entering at angle           0   \n",
       "1  From same direction - both going straight - bo...           0   \n",
       "2                             One parked--one moving           0   \n",
       "3                   From same direction - all others           0   \n",
       "4                                  Entering at angle           0   \n",
       "\n",
       "   CROSSWALKKEY  HITPARKEDCAR  \n",
       "0             0             N  \n",
       "1             0             N  \n",
       "2             0             N  \n",
       "3             0             N  \n",
       "4             0             N  \n",
       "\n",
       "[5 rows x 38 columns]"
      ]
     },
     "execution_count": 5,
     "metadata": {},
     "output_type": "execute_result"
    }
   ],
   "source": [
    "accident_df.head()"
   ]
  },
  {
   "cell_type": "code",
   "execution_count": 6,
   "metadata": {},
   "outputs": [
    {
     "data": {
      "text/plain": [
       "Dry               124510\n",
       "Wet                47474\n",
       "Unknown            15078\n",
       "Ice                 1209\n",
       "Snow/Slush          1004\n",
       "Other                132\n",
       "Standing Water       115\n",
       "Sand/Mud/Dirt         75\n",
       "Oil                   64\n",
       "Name: ROADCOND, dtype: int64"
      ]
     },
     "execution_count": 6,
     "metadata": {},
     "output_type": "execute_result"
    }
   ],
   "source": [
    "accident_df['ROADCOND'].value_counts()"
   ]
  },
  {
   "cell_type": "markdown",
   "metadata": {},
   "source": [
    "## Checking the Consistancy of the Data\n",
    "\n",
    "As we can see, a few of the columns have null or missing data"
   ]
  },
  {
   "cell_type": "code",
   "execution_count": 7,
   "metadata": {},
   "outputs": [
    {
     "data": {
      "text/plain": [
       "SEVERITYCODE      False\n",
       "X                  True\n",
       "Y                  True\n",
       "OBJECTID          False\n",
       "INCKEY            False\n",
       "COLDETKEY         False\n",
       "REPORTNO          False\n",
       "STATUS            False\n",
       "ADDRTYPE           True\n",
       "INTKEY             True\n",
       "LOCATION           True\n",
       "EXCEPTRSNCODE      True\n",
       "EXCEPTRSNDESC      True\n",
       "SEVERITYCODE.1    False\n",
       "SEVERITYDESC      False\n",
       "COLLISIONTYPE      True\n",
       "PERSONCOUNT       False\n",
       "PEDCOUNT          False\n",
       "PEDCYLCOUNT       False\n",
       "VEHCOUNT          False\n",
       "INCDATE           False\n",
       "INCDTTM           False\n",
       "JUNCTIONTYPE       True\n",
       "SDOT_COLCODE      False\n",
       "SDOT_COLDESC      False\n",
       "INATTENTIONIND     True\n",
       "UNDERINFL          True\n",
       "WEATHER            True\n",
       "ROADCOND           True\n",
       "LIGHTCOND          True\n",
       "PEDROWNOTGRNT      True\n",
       "SDOTCOLNUM         True\n",
       "SPEEDING           True\n",
       "ST_COLCODE         True\n",
       "ST_COLDESC         True\n",
       "SEGLANEKEY        False\n",
       "CROSSWALKKEY      False\n",
       "HITPARKEDCAR      False\n",
       "dtype: bool"
      ]
     },
     "execution_count": 7,
     "metadata": {},
     "output_type": "execute_result"
    }
   ],
   "source": [
    "accident_df.isnull().any()"
   ]
  },
  {
   "cell_type": "code",
   "execution_count": 8,
   "metadata": {},
   "outputs": [
    {
     "data": {
      "text/plain": [
       "SEVERITYCODE           0\n",
       "X                   5334\n",
       "Y                   5334\n",
       "OBJECTID               0\n",
       "INCKEY                 0\n",
       "COLDETKEY              0\n",
       "REPORTNO               0\n",
       "STATUS                 0\n",
       "ADDRTYPE            1926\n",
       "INTKEY            129603\n",
       "LOCATION            2677\n",
       "EXCEPTRSNCODE     109862\n",
       "EXCEPTRSNDESC     189035\n",
       "SEVERITYCODE.1         0\n",
       "SEVERITYDESC           0\n",
       "COLLISIONTYPE       4904\n",
       "PERSONCOUNT            0\n",
       "PEDCOUNT               0\n",
       "PEDCYLCOUNT            0\n",
       "VEHCOUNT               0\n",
       "INCDATE                0\n",
       "INCDTTM                0\n",
       "JUNCTIONTYPE        6329\n",
       "SDOT_COLCODE           0\n",
       "SDOT_COLDESC           0\n",
       "INATTENTIONIND    164868\n",
       "UNDERINFL           4884\n",
       "WEATHER             5081\n",
       "ROADCOND            5012\n",
       "LIGHTCOND           5170\n",
       "PEDROWNOTGRNT     190006\n",
       "SDOTCOLNUM         79737\n",
       "SPEEDING          185340\n",
       "ST_COLCODE            18\n",
       "ST_COLDESC          4904\n",
       "SEGLANEKEY             0\n",
       "CROSSWALKKEY           0\n",
       "HITPARKEDCAR           0\n",
       "dtype: int64"
      ]
     },
     "execution_count": 8,
     "metadata": {},
     "output_type": "execute_result"
    }
   ],
   "source": [
    "accident_df.isnull().sum()\n"
   ]
  },
  {
   "cell_type": "markdown",
   "metadata": {},
   "source": [
    "Below are the total number of records available for each data point"
   ]
  },
  {
   "cell_type": "code",
   "execution_count": 8,
   "metadata": {},
   "outputs": [
    {
     "data": {
      "text/plain": [
       "SEVERITYCODE      194673\n",
       "X                 189339\n",
       "Y                 189339\n",
       "OBJECTID          194673\n",
       "INCKEY            194673\n",
       "COLDETKEY         194673\n",
       "REPORTNO          194673\n",
       "STATUS            194673\n",
       "ADDRTYPE          192747\n",
       "INTKEY             65070\n",
       "LOCATION          191996\n",
       "EXCEPTRSNCODE      84811\n",
       "EXCEPTRSNDESC       5638\n",
       "SEVERITYCODE.1    194673\n",
       "SEVERITYDESC      194673\n",
       "COLLISIONTYPE     189769\n",
       "PERSONCOUNT       194673\n",
       "PEDCOUNT          194673\n",
       "PEDCYLCOUNT       194673\n",
       "VEHCOUNT          194673\n",
       "INCDATE           194673\n",
       "INCDTTM           194673\n",
       "JUNCTIONTYPE      188344\n",
       "SDOT_COLCODE      194673\n",
       "SDOT_COLDESC      194673\n",
       "INATTENTIONIND     29805\n",
       "UNDERINFL         189789\n",
       "WEATHER           189592\n",
       "ROADCOND          189661\n",
       "LIGHTCOND         189503\n",
       "PEDROWNOTGRNT       4667\n",
       "SDOTCOLNUM        114936\n",
       "SPEEDING            9333\n",
       "ST_COLCODE        194655\n",
       "ST_COLDESC        189769\n",
       "SEGLANEKEY        194673\n",
       "CROSSWALKKEY      194673\n",
       "HITPARKEDCAR      194673\n",
       "dtype: int64"
      ]
     },
     "execution_count": 8,
     "metadata": {},
     "output_type": "execute_result"
    }
   ],
   "source": [
    "accident_df.count()"
   ]
  },
  {
   "cell_type": "code",
   "execution_count": 13,
   "metadata": {},
   "outputs": [
    {
     "data": {
      "text/plain": [
       "194673"
      ]
     },
     "execution_count": 13,
     "metadata": {},
     "output_type": "execute_result"
    }
   ],
   "source": [
    "len(accident_df.index)"
   ]
  },
  {
   "cell_type": "markdown",
   "metadata": {},
   "source": [
    "Simple correlation performed on the dataframe"
   ]
  },
  {
   "cell_type": "code",
   "execution_count": 7,
   "metadata": {},
   "outputs": [
    {
     "data": {
      "text/html": [
       "<div>\n",
       "<style scoped>\n",
       "    .dataframe tbody tr th:only-of-type {\n",
       "        vertical-align: middle;\n",
       "    }\n",
       "\n",
       "    .dataframe tbody tr th {\n",
       "        vertical-align: top;\n",
       "    }\n",
       "\n",
       "    .dataframe thead th {\n",
       "        text-align: right;\n",
       "    }\n",
       "</style>\n",
       "<table border=\"1\" class=\"dataframe\">\n",
       "  <thead>\n",
       "    <tr style=\"text-align: right;\">\n",
       "      <th></th>\n",
       "      <th>SEVERITYCODE</th>\n",
       "      <th>X</th>\n",
       "      <th>Y</th>\n",
       "      <th>OBJECTID</th>\n",
       "      <th>INCKEY</th>\n",
       "      <th>COLDETKEY</th>\n",
       "      <th>INTKEY</th>\n",
       "      <th>SEVERITYCODE.1</th>\n",
       "      <th>PERSONCOUNT</th>\n",
       "      <th>PEDCOUNT</th>\n",
       "      <th>PEDCYLCOUNT</th>\n",
       "      <th>VEHCOUNT</th>\n",
       "      <th>SDOT_COLCODE</th>\n",
       "      <th>SDOTCOLNUM</th>\n",
       "      <th>SEGLANEKEY</th>\n",
       "      <th>CROSSWALKKEY</th>\n",
       "    </tr>\n",
       "  </thead>\n",
       "  <tbody>\n",
       "    <tr>\n",
       "      <th>SEVERITYCODE</th>\n",
       "      <td>1.000000</td>\n",
       "      <td>0.010309</td>\n",
       "      <td>0.017737</td>\n",
       "      <td>0.020131</td>\n",
       "      <td>0.022065</td>\n",
       "      <td>0.022079</td>\n",
       "      <td>0.006553</td>\n",
       "      <td>1.000000</td>\n",
       "      <td>0.130949</td>\n",
       "      <td>0.246338</td>\n",
       "      <td>0.214218</td>\n",
       "      <td>-0.054686</td>\n",
       "      <td>0.188905</td>\n",
       "      <td>0.004226</td>\n",
       "      <td>0.104276</td>\n",
       "      <td>0.175093</td>\n",
       "    </tr>\n",
       "    <tr>\n",
       "      <th>X</th>\n",
       "      <td>0.010309</td>\n",
       "      <td>1.000000</td>\n",
       "      <td>-0.160262</td>\n",
       "      <td>0.009956</td>\n",
       "      <td>0.010309</td>\n",
       "      <td>0.010300</td>\n",
       "      <td>0.120754</td>\n",
       "      <td>0.010309</td>\n",
       "      <td>0.012887</td>\n",
       "      <td>0.011304</td>\n",
       "      <td>-0.001752</td>\n",
       "      <td>-0.012168</td>\n",
       "      <td>0.010904</td>\n",
       "      <td>-0.001016</td>\n",
       "      <td>-0.001618</td>\n",
       "      <td>0.013586</td>\n",
       "    </tr>\n",
       "    <tr>\n",
       "      <th>Y</th>\n",
       "      <td>0.017737</td>\n",
       "      <td>-0.160262</td>\n",
       "      <td>1.000000</td>\n",
       "      <td>-0.023848</td>\n",
       "      <td>-0.027396</td>\n",
       "      <td>-0.027415</td>\n",
       "      <td>-0.114935</td>\n",
       "      <td>0.017737</td>\n",
       "      <td>-0.013850</td>\n",
       "      <td>0.010178</td>\n",
       "      <td>0.026304</td>\n",
       "      <td>0.017058</td>\n",
       "      <td>-0.019694</td>\n",
       "      <td>-0.006958</td>\n",
       "      <td>0.004618</td>\n",
       "      <td>0.009508</td>\n",
       "    </tr>\n",
       "    <tr>\n",
       "      <th>OBJECTID</th>\n",
       "      <td>0.020131</td>\n",
       "      <td>0.009956</td>\n",
       "      <td>-0.023848</td>\n",
       "      <td>1.000000</td>\n",
       "      <td>0.946383</td>\n",
       "      <td>0.945837</td>\n",
       "      <td>0.046929</td>\n",
       "      <td>0.020131</td>\n",
       "      <td>-0.062333</td>\n",
       "      <td>0.024604</td>\n",
       "      <td>0.034432</td>\n",
       "      <td>-0.094280</td>\n",
       "      <td>-0.037094</td>\n",
       "      <td>0.969276</td>\n",
       "      <td>0.028076</td>\n",
       "      <td>0.056046</td>\n",
       "    </tr>\n",
       "    <tr>\n",
       "      <th>INCKEY</th>\n",
       "      <td>0.022065</td>\n",
       "      <td>0.010309</td>\n",
       "      <td>-0.027396</td>\n",
       "      <td>0.946383</td>\n",
       "      <td>1.000000</td>\n",
       "      <td>0.999996</td>\n",
       "      <td>0.048524</td>\n",
       "      <td>0.022065</td>\n",
       "      <td>-0.061500</td>\n",
       "      <td>0.024918</td>\n",
       "      <td>0.031342</td>\n",
       "      <td>-0.107528</td>\n",
       "      <td>-0.027617</td>\n",
       "      <td>0.990571</td>\n",
       "      <td>0.019701</td>\n",
       "      <td>0.048179</td>\n",
       "    </tr>\n",
       "    <tr>\n",
       "      <th>COLDETKEY</th>\n",
       "      <td>0.022079</td>\n",
       "      <td>0.010300</td>\n",
       "      <td>-0.027415</td>\n",
       "      <td>0.945837</td>\n",
       "      <td>0.999996</td>\n",
       "      <td>1.000000</td>\n",
       "      <td>0.048499</td>\n",
       "      <td>0.022079</td>\n",
       "      <td>-0.061403</td>\n",
       "      <td>0.024914</td>\n",
       "      <td>0.031296</td>\n",
       "      <td>-0.107598</td>\n",
       "      <td>-0.027461</td>\n",
       "      <td>0.990571</td>\n",
       "      <td>0.019586</td>\n",
       "      <td>0.048063</td>\n",
       "    </tr>\n",
       "    <tr>\n",
       "      <th>INTKEY</th>\n",
       "      <td>0.006553</td>\n",
       "      <td>0.120754</td>\n",
       "      <td>-0.114935</td>\n",
       "      <td>0.046929</td>\n",
       "      <td>0.048524</td>\n",
       "      <td>0.048499</td>\n",
       "      <td>1.000000</td>\n",
       "      <td>0.006553</td>\n",
       "      <td>0.001886</td>\n",
       "      <td>-0.004784</td>\n",
       "      <td>0.000531</td>\n",
       "      <td>-0.012929</td>\n",
       "      <td>0.007114</td>\n",
       "      <td>0.032604</td>\n",
       "      <td>-0.010510</td>\n",
       "      <td>0.018420</td>\n",
       "    </tr>\n",
       "    <tr>\n",
       "      <th>SEVERITYCODE.1</th>\n",
       "      <td>1.000000</td>\n",
       "      <td>0.010309</td>\n",
       "      <td>0.017737</td>\n",
       "      <td>0.020131</td>\n",
       "      <td>0.022065</td>\n",
       "      <td>0.022079</td>\n",
       "      <td>0.006553</td>\n",
       "      <td>1.000000</td>\n",
       "      <td>0.130949</td>\n",
       "      <td>0.246338</td>\n",
       "      <td>0.214218</td>\n",
       "      <td>-0.054686</td>\n",
       "      <td>0.188905</td>\n",
       "      <td>0.004226</td>\n",
       "      <td>0.104276</td>\n",
       "      <td>0.175093</td>\n",
       "    </tr>\n",
       "    <tr>\n",
       "      <th>PERSONCOUNT</th>\n",
       "      <td>0.130949</td>\n",
       "      <td>0.012887</td>\n",
       "      <td>-0.013850</td>\n",
       "      <td>-0.062333</td>\n",
       "      <td>-0.061500</td>\n",
       "      <td>-0.061403</td>\n",
       "      <td>0.001886</td>\n",
       "      <td>0.130949</td>\n",
       "      <td>1.000000</td>\n",
       "      <td>-0.023464</td>\n",
       "      <td>-0.038809</td>\n",
       "      <td>0.380523</td>\n",
       "      <td>-0.128960</td>\n",
       "      <td>0.011784</td>\n",
       "      <td>-0.021383</td>\n",
       "      <td>-0.032258</td>\n",
       "    </tr>\n",
       "    <tr>\n",
       "      <th>PEDCOUNT</th>\n",
       "      <td>0.246338</td>\n",
       "      <td>0.011304</td>\n",
       "      <td>0.010178</td>\n",
       "      <td>0.024604</td>\n",
       "      <td>0.024918</td>\n",
       "      <td>0.024914</td>\n",
       "      <td>-0.004784</td>\n",
       "      <td>0.246338</td>\n",
       "      <td>-0.023464</td>\n",
       "      <td>1.000000</td>\n",
       "      <td>-0.016920</td>\n",
       "      <td>-0.261285</td>\n",
       "      <td>0.260393</td>\n",
       "      <td>0.021461</td>\n",
       "      <td>0.001810</td>\n",
       "      <td>0.565326</td>\n",
       "    </tr>\n",
       "    <tr>\n",
       "      <th>PEDCYLCOUNT</th>\n",
       "      <td>0.214218</td>\n",
       "      <td>-0.001752</td>\n",
       "      <td>0.026304</td>\n",
       "      <td>0.034432</td>\n",
       "      <td>0.031342</td>\n",
       "      <td>0.031296</td>\n",
       "      <td>0.000531</td>\n",
       "      <td>0.214218</td>\n",
       "      <td>-0.038809</td>\n",
       "      <td>-0.016920</td>\n",
       "      <td>1.000000</td>\n",
       "      <td>-0.253773</td>\n",
       "      <td>0.382521</td>\n",
       "      <td>0.034593</td>\n",
       "      <td>0.453657</td>\n",
       "      <td>0.109820</td>\n",
       "    </tr>\n",
       "    <tr>\n",
       "      <th>VEHCOUNT</th>\n",
       "      <td>-0.054686</td>\n",
       "      <td>-0.012168</td>\n",
       "      <td>0.017058</td>\n",
       "      <td>-0.094280</td>\n",
       "      <td>-0.107528</td>\n",
       "      <td>-0.107598</td>\n",
       "      <td>-0.012929</td>\n",
       "      <td>-0.054686</td>\n",
       "      <td>0.380523</td>\n",
       "      <td>-0.261285</td>\n",
       "      <td>-0.253773</td>\n",
       "      <td>1.000000</td>\n",
       "      <td>-0.365814</td>\n",
       "      <td>-0.023813</td>\n",
       "      <td>-0.122941</td>\n",
       "      <td>-0.200526</td>\n",
       "    </tr>\n",
       "    <tr>\n",
       "      <th>SDOT_COLCODE</th>\n",
       "      <td>0.188905</td>\n",
       "      <td>0.010904</td>\n",
       "      <td>-0.019694</td>\n",
       "      <td>-0.037094</td>\n",
       "      <td>-0.027617</td>\n",
       "      <td>-0.027461</td>\n",
       "      <td>0.007114</td>\n",
       "      <td>0.188905</td>\n",
       "      <td>-0.128960</td>\n",
       "      <td>0.260393</td>\n",
       "      <td>0.382521</td>\n",
       "      <td>-0.365814</td>\n",
       "      <td>1.000000</td>\n",
       "      <td>-0.041084</td>\n",
       "      <td>0.206835</td>\n",
       "      <td>0.189518</td>\n",
       "    </tr>\n",
       "    <tr>\n",
       "      <th>SDOTCOLNUM</th>\n",
       "      <td>0.004226</td>\n",
       "      <td>-0.001016</td>\n",
       "      <td>-0.006958</td>\n",
       "      <td>0.969276</td>\n",
       "      <td>0.990571</td>\n",
       "      <td>0.990571</td>\n",
       "      <td>0.032604</td>\n",
       "      <td>0.004226</td>\n",
       "      <td>0.011784</td>\n",
       "      <td>0.021461</td>\n",
       "      <td>0.034593</td>\n",
       "      <td>-0.023813</td>\n",
       "      <td>-0.041084</td>\n",
       "      <td>1.000000</td>\n",
       "      <td>0.066449</td>\n",
       "      <td>0.086228</td>\n",
       "    </tr>\n",
       "    <tr>\n",
       "      <th>SEGLANEKEY</th>\n",
       "      <td>0.104276</td>\n",
       "      <td>-0.001618</td>\n",
       "      <td>0.004618</td>\n",
       "      <td>0.028076</td>\n",
       "      <td>0.019701</td>\n",
       "      <td>0.019586</td>\n",
       "      <td>-0.010510</td>\n",
       "      <td>0.104276</td>\n",
       "      <td>-0.021383</td>\n",
       "      <td>0.001810</td>\n",
       "      <td>0.453657</td>\n",
       "      <td>-0.122941</td>\n",
       "      <td>0.206835</td>\n",
       "      <td>0.066449</td>\n",
       "      <td>1.000000</td>\n",
       "      <td>-0.003422</td>\n",
       "    </tr>\n",
       "    <tr>\n",
       "      <th>CROSSWALKKEY</th>\n",
       "      <td>0.175093</td>\n",
       "      <td>0.013586</td>\n",
       "      <td>0.009508</td>\n",
       "      <td>0.056046</td>\n",
       "      <td>0.048179</td>\n",
       "      <td>0.048063</td>\n",
       "      <td>0.018420</td>\n",
       "      <td>0.175093</td>\n",
       "      <td>-0.032258</td>\n",
       "      <td>0.565326</td>\n",
       "      <td>0.109820</td>\n",
       "      <td>-0.200526</td>\n",
       "      <td>0.189518</td>\n",
       "      <td>0.086228</td>\n",
       "      <td>-0.003422</td>\n",
       "      <td>1.000000</td>\n",
       "    </tr>\n",
       "  </tbody>\n",
       "</table>\n",
       "</div>"
      ],
      "text/plain": [
       "                SEVERITYCODE         X         Y  OBJECTID    INCKEY  \\\n",
       "SEVERITYCODE        1.000000  0.010309  0.017737  0.020131  0.022065   \n",
       "X                   0.010309  1.000000 -0.160262  0.009956  0.010309   \n",
       "Y                   0.017737 -0.160262  1.000000 -0.023848 -0.027396   \n",
       "OBJECTID            0.020131  0.009956 -0.023848  1.000000  0.946383   \n",
       "INCKEY              0.022065  0.010309 -0.027396  0.946383  1.000000   \n",
       "COLDETKEY           0.022079  0.010300 -0.027415  0.945837  0.999996   \n",
       "INTKEY              0.006553  0.120754 -0.114935  0.046929  0.048524   \n",
       "SEVERITYCODE.1      1.000000  0.010309  0.017737  0.020131  0.022065   \n",
       "PERSONCOUNT         0.130949  0.012887 -0.013850 -0.062333 -0.061500   \n",
       "PEDCOUNT            0.246338  0.011304  0.010178  0.024604  0.024918   \n",
       "PEDCYLCOUNT         0.214218 -0.001752  0.026304  0.034432  0.031342   \n",
       "VEHCOUNT           -0.054686 -0.012168  0.017058 -0.094280 -0.107528   \n",
       "SDOT_COLCODE        0.188905  0.010904 -0.019694 -0.037094 -0.027617   \n",
       "SDOTCOLNUM          0.004226 -0.001016 -0.006958  0.969276  0.990571   \n",
       "SEGLANEKEY          0.104276 -0.001618  0.004618  0.028076  0.019701   \n",
       "CROSSWALKKEY        0.175093  0.013586  0.009508  0.056046  0.048179   \n",
       "\n",
       "                COLDETKEY    INTKEY  SEVERITYCODE.1  PERSONCOUNT  PEDCOUNT  \\\n",
       "SEVERITYCODE     0.022079  0.006553        1.000000     0.130949  0.246338   \n",
       "X                0.010300  0.120754        0.010309     0.012887  0.011304   \n",
       "Y               -0.027415 -0.114935        0.017737    -0.013850  0.010178   \n",
       "OBJECTID         0.945837  0.046929        0.020131    -0.062333  0.024604   \n",
       "INCKEY           0.999996  0.048524        0.022065    -0.061500  0.024918   \n",
       "COLDETKEY        1.000000  0.048499        0.022079    -0.061403  0.024914   \n",
       "INTKEY           0.048499  1.000000        0.006553     0.001886 -0.004784   \n",
       "SEVERITYCODE.1   0.022079  0.006553        1.000000     0.130949  0.246338   \n",
       "PERSONCOUNT     -0.061403  0.001886        0.130949     1.000000 -0.023464   \n",
       "PEDCOUNT         0.024914 -0.004784        0.246338    -0.023464  1.000000   \n",
       "PEDCYLCOUNT      0.031296  0.000531        0.214218    -0.038809 -0.016920   \n",
       "VEHCOUNT        -0.107598 -0.012929       -0.054686     0.380523 -0.261285   \n",
       "SDOT_COLCODE    -0.027461  0.007114        0.188905    -0.128960  0.260393   \n",
       "SDOTCOLNUM       0.990571  0.032604        0.004226     0.011784  0.021461   \n",
       "SEGLANEKEY       0.019586 -0.010510        0.104276    -0.021383  0.001810   \n",
       "CROSSWALKKEY     0.048063  0.018420        0.175093    -0.032258  0.565326   \n",
       "\n",
       "                PEDCYLCOUNT  VEHCOUNT  SDOT_COLCODE  SDOTCOLNUM  SEGLANEKEY  \\\n",
       "SEVERITYCODE       0.214218 -0.054686      0.188905    0.004226    0.104276   \n",
       "X                 -0.001752 -0.012168      0.010904   -0.001016   -0.001618   \n",
       "Y                  0.026304  0.017058     -0.019694   -0.006958    0.004618   \n",
       "OBJECTID           0.034432 -0.094280     -0.037094    0.969276    0.028076   \n",
       "INCKEY             0.031342 -0.107528     -0.027617    0.990571    0.019701   \n",
       "COLDETKEY          0.031296 -0.107598     -0.027461    0.990571    0.019586   \n",
       "INTKEY             0.000531 -0.012929      0.007114    0.032604   -0.010510   \n",
       "SEVERITYCODE.1     0.214218 -0.054686      0.188905    0.004226    0.104276   \n",
       "PERSONCOUNT       -0.038809  0.380523     -0.128960    0.011784   -0.021383   \n",
       "PEDCOUNT          -0.016920 -0.261285      0.260393    0.021461    0.001810   \n",
       "PEDCYLCOUNT        1.000000 -0.253773      0.382521    0.034593    0.453657   \n",
       "VEHCOUNT          -0.253773  1.000000     -0.365814   -0.023813   -0.122941   \n",
       "SDOT_COLCODE       0.382521 -0.365814      1.000000   -0.041084    0.206835   \n",
       "SDOTCOLNUM         0.034593 -0.023813     -0.041084    1.000000    0.066449   \n",
       "SEGLANEKEY         0.453657 -0.122941      0.206835    0.066449    1.000000   \n",
       "CROSSWALKKEY       0.109820 -0.200526      0.189518    0.086228   -0.003422   \n",
       "\n",
       "                CROSSWALKKEY  \n",
       "SEVERITYCODE        0.175093  \n",
       "X                   0.013586  \n",
       "Y                   0.009508  \n",
       "OBJECTID            0.056046  \n",
       "INCKEY              0.048179  \n",
       "COLDETKEY           0.048063  \n",
       "INTKEY              0.018420  \n",
       "SEVERITYCODE.1      0.175093  \n",
       "PERSONCOUNT        -0.032258  \n",
       "PEDCOUNT            0.565326  \n",
       "PEDCYLCOUNT         0.109820  \n",
       "VEHCOUNT           -0.200526  \n",
       "SDOT_COLCODE        0.189518  \n",
       "SDOTCOLNUM          0.086228  \n",
       "SEGLANEKEY         -0.003422  \n",
       "CROSSWALKKEY        1.000000  "
      ]
     },
     "execution_count": 7,
     "metadata": {},
     "output_type": "execute_result"
    }
   ],
   "source": [
    "accident_df.corr()"
   ]
  },
  {
   "cell_type": "markdown",
   "metadata": {},
   "source": [
    "## Sample the Data From Potential Features\n",
    "\n",
    "As we can see below, the Severity of the accident is broken into two classes, with 130000+ positve and 50000+ negatives\n",
    "\n"
   ]
  },
  {
   "cell_type": "code",
   "execution_count": 6,
   "metadata": {},
   "outputs": [
    {
     "data": {
      "text/plain": [
       "1    136485\n",
       "2     58188\n",
       "Name: SEVERITYCODE, dtype: int64"
      ]
     },
     "execution_count": 6,
     "metadata": {},
     "output_type": "execute_result"
    }
   ],
   "source": [
    "accident_df['SEVERITYCODE'].value_counts()"
   ]
  },
  {
   "cell_type": "markdown",
   "metadata": {},
   "source": [
    "<br>\n",
    "<br>"
   ]
  },
  {
   "cell_type": "markdown",
   "metadata": {},
   "source": [
    "\n",
    "**In addition to sampling the 'Severity' column, below other samplings can be observed**\n"
   ]
  },
  {
   "cell_type": "markdown",
   "metadata": {},
   "source": [
    "<br>"
   ]
  },
  {
   "cell_type": "code",
   "execution_count": 9,
   "metadata": {},
   "outputs": [
    {
     "data": {
      "text/plain": [
       "Daylight                    116137\n",
       "Dark - Street Lights On      48507\n",
       "Unknown                      13473\n",
       "Dusk                          5902\n",
       "Dawn                          2502\n",
       "Dark - No Street Lights       1537\n",
       "Dark - Street Lights Off      1199\n",
       "Other                          235\n",
       "Dark - Unknown Lighting         11\n",
       "Name: LIGHTCOND, dtype: int64"
      ]
     },
     "execution_count": 9,
     "metadata": {},
     "output_type": "execute_result"
    }
   ],
   "source": [
    "accident_df['LIGHTCOND'].value_counts()"
   ]
  },
  {
   "cell_type": "code",
   "execution_count": 10,
   "metadata": {},
   "outputs": [
    {
     "data": {
      "text/plain": [
       "Parked Car    47987\n",
       "Angles        34674\n",
       "Rear Ended    34090\n",
       "Other         23703\n",
       "Sideswipe     18609\n",
       "Left Turn     13703\n",
       "Pedestrian     6608\n",
       "Cycles         5415\n",
       "Right Turn     2956\n",
       "Head On        2024\n",
       "Name: COLLISIONTYPE, dtype: int64"
      ]
     },
     "execution_count": 10,
     "metadata": {},
     "output_type": "execute_result"
    }
   ],
   "source": [
    "accident_df['COLLISIONTYPE'].value_counts()"
   ]
  },
  {
   "cell_type": "code",
   "execution_count": 11,
   "metadata": {},
   "outputs": [
    {
     "data": {
      "text/plain": [
       "2006/11/02 00:00:00+00    96\n",
       "2008/10/03 00:00:00+00    92\n",
       "2005/05/18 00:00:00+00    84\n",
       "2005/11/05 00:00:00+00    83\n",
       "2006/01/13 00:00:00+00    83\n",
       "                          ..\n",
       "2020/05/18 00:00:00+00     2\n",
       "2020/05/20 00:00:00+00     1\n",
       "2015/12/25 00:00:00+00     1\n",
       "2020/05/17 00:00:00+00     1\n",
       "2020/05/19 00:00:00+00     1\n",
       "Name: INCDATE, Length: 5985, dtype: int64"
      ]
     },
     "execution_count": 11,
     "metadata": {},
     "output_type": "execute_result"
    }
   ],
   "source": [
    "accident_df['INCDATE'].value_counts()"
   ]
  },
  {
   "cell_type": "code",
   "execution_count": 12,
   "metadata": {},
   "outputs": [
    {
     "data": {
      "text/plain": [
       "11/2/2006                96\n",
       "10/3/2008                91\n",
       "11/5/2005                83\n",
       "12/4/2004                74\n",
       "6/1/2006                 73\n",
       "                         ..\n",
       "11/26/2010 6:36:00 PM     1\n",
       "9/25/2014 7:45:00 PM      1\n",
       "7/10/2010 7:53:00 PM      1\n",
       "5/21/2004 12:48:00 AM     1\n",
       "3/28/2017 1:42:00 PM      1\n",
       "Name: INCDTTM, Length: 162058, dtype: int64"
      ]
     },
     "execution_count": 12,
     "metadata": {},
     "output_type": "execute_result"
    }
   ],
   "source": [
    "accident_df['INCDTTM'].value_counts()"
   ]
  },
  {
   "cell_type": "code",
   "execution_count": 13,
   "metadata": {},
   "outputs": [
    {
     "data": {
      "text/plain": [
       "Mid-Block (not related to intersection)              89800\n",
       "At Intersection (intersection related)               62810\n",
       "Mid-Block (but intersection related)                 22790\n",
       "Driveway Junction                                    10671\n",
       "At Intersection (but not related to intersection)     2098\n",
       "Ramp Junction                                          166\n",
       "Unknown                                                  9\n",
       "Name: JUNCTIONTYPE, dtype: int64"
      ]
     },
     "execution_count": 13,
     "metadata": {},
     "output_type": "execute_result"
    }
   ],
   "source": [
    "accident_df['JUNCTIONTYPE'].value_counts()"
   ]
  },
  {
   "cell_type": "code",
   "execution_count": 14,
   "metadata": {},
   "outputs": [
    {
     "data": {
      "text/plain": [
       "11    85209\n",
       "14    54299\n",
       "16     9928\n",
       "0      9787\n",
       "28     8856\n",
       "24     6518\n",
       "13     5852\n",
       "26     4741\n",
       "18     3104\n",
       "15     1604\n",
       "12     1440\n",
       "51     1312\n",
       "29      479\n",
       "21      181\n",
       "56      180\n",
       "27      166\n",
       "54      139\n",
       "23      124\n",
       "48      107\n",
       "31      104\n",
       "25      102\n",
       "34       93\n",
       "64       75\n",
       "69       69\n",
       "33       53\n",
       "55       50\n",
       "66       23\n",
       "22       17\n",
       "32       12\n",
       "53        9\n",
       "44        8\n",
       "61        7\n",
       "35        6\n",
       "58        5\n",
       "68        4\n",
       "36        4\n",
       "46        3\n",
       "52        2\n",
       "47        1\n",
       "Name: SDOT_COLCODE, dtype: int64"
      ]
     },
     "execution_count": 14,
     "metadata": {},
     "output_type": "execute_result"
    }
   ],
   "source": [
    "accident_df['SDOT_COLCODE'].value_counts()"
   ]
  },
  {
   "cell_type": "code",
   "execution_count": 15,
   "metadata": {},
   "outputs": [
    {
     "data": {
      "text/plain": [
       "MOTOR VEHICLE STRUCK MOTOR VEHICLE, FRONT END AT ANGLE          85209\n",
       "MOTOR VEHICLE STRUCK MOTOR VEHICLE, REAR END                    54299\n",
       "MOTOR VEHICLE STRUCK MOTOR VEHICLE, LEFT SIDE SIDESWIPE          9928\n",
       "NOT ENOUGH INFORMATION / NOT APPLICABLE                          9787\n",
       "MOTOR VEHICLE RAN OFF ROAD - HIT FIXED OBJECT                    8856\n",
       "MOTOR VEHCILE STRUCK PEDESTRIAN                                  6518\n",
       "MOTOR VEHICLE STRUCK MOTOR VEHICLE, LEFT SIDE AT ANGLE           5852\n",
       "MOTOR VEHICLE STRUCK OBJECT IN ROAD                              4741\n",
       "MOTOR VEHICLE STRUCK PEDALCYCLIST, FRONT END AT ANGLE            3104\n",
       "MOTOR VEHICLE STRUCK MOTOR VEHICLE, RIGHT SIDE SIDESWIPE         1604\n",
       "MOTOR VEHICLE STRUCK MOTOR VEHICLE, RIGHT SIDE AT ANGLE          1440\n",
       "PEDALCYCLIST STRUCK MOTOR VEHICLE FRONT END AT ANGLE             1312\n",
       "MOTOR VEHICLE OVERTURNED IN ROAD                                  479\n",
       "MOTOR VEHICLE STRUCK PEDALCYCLIST, REAR END                       181\n",
       "PEDALCYCLIST STRUCK MOTOR VEHICLE LEFT SIDE SIDESWIPE             180\n",
       "MOTOR VEHICLE RAN OFF ROAD - NO COLLISION                         166\n",
       "PEDALCYCLIST STRUCK MOTOR VEHICLE REAR END                        139\n",
       "MOTOR VEHICLE STRUCK PEDALCYCLIST, LEFT SIDE SIDESWIPE            124\n",
       "DRIVERLESS VEHICLE RAN OFF ROAD - HIT FIXED OBJECT                107\n",
       "DRIVERLESS VEHICLE STRUCK MOTOR VEHICLE FRONT END AT ANGLE        104\n",
       "MOTOR VEHICLE STRUCK TRAIN                                        102\n",
       "DRIVERLESS VEHICLE STRUCK MOTOR VEHICLE REAR END                   93\n",
       "PEDALCYCLIST STRUCK PEDESTRIAN                                     75\n",
       "PEDALCYCLIST OVERTURNED IN ROAD                                    69\n",
       "DRIVERLESS VEHICLE STRUCK MOTOR VEHICLE LEFT SIDE AT ANGLE         53\n",
       "PEDALCYCLIST STRUCK MOTOR VEHICLE RIGHT SIDE SIDESWIPE             50\n",
       "PEDALCYCLIST STRUCK OBJECT IN ROAD                                 23\n",
       "MOTOR VEHICLE STRUCK PEDALCYCLIST, RIGHT SIDE SIDESWIPE            17\n",
       "DRIVERLESS VEHICLE STRUCK MOTOR VEHICLE RIGHT SIDE AT ANGLE        12\n",
       "PEDALCYCLIST STRUCK MOTOR VEHICLE LEFT SIDE AT ANGLE                9\n",
       "DRIVERLESS VEHICLE STRUCK PEDESTRIAN                                8\n",
       "PEDALCYCLIST STRUCK PEDALCYCLIST REAR END                           7\n",
       "DRIVERLESS VEHICLE STRUCK MOTOR VEHICLE RIGHT SIDE SIDESWIPE        6\n",
       "PEDALCYCLIST STRUCK PEDALCYCLIST FRONT END AT ANGLE                 5\n",
       "PEDALCYCLIST RAN OFF ROAD - HIT FIXED OBJECT                        4\n",
       "DRIVERLESS VEHICLE STRUCK MOTOR VEHICLE LEFT SIDE SIDESWIPE         4\n",
       "DRIVERLESS VEHICLE STRUCK OBJECT IN ROADWAY                         3\n",
       "PEDALCYCLIST STRUCK MOTOR VEHICLE RIGHT SIDE AT ANGLE               2\n",
       "DRIVERLESS VEHICLE RAN OFF ROAD - NO COLLISION                      1\n",
       "Name: SDOT_COLDESC, dtype: int64"
      ]
     },
     "execution_count": 15,
     "metadata": {},
     "output_type": "execute_result"
    }
   ],
   "source": [
    "accident_df['SDOT_COLDESC'].value_counts()"
   ]
  },
  {
   "cell_type": "code",
   "execution_count": 16,
   "metadata": {},
   "outputs": [
    {
     "data": {
      "text/plain": [
       "Y    29805\n",
       "Name: INATTENTIONIND, dtype: int64"
      ]
     },
     "execution_count": 16,
     "metadata": {},
     "output_type": "execute_result"
    }
   ],
   "source": [
    "accident_df['INATTENTIONIND'].value_counts()"
   ]
  },
  {
   "cell_type": "code",
   "execution_count": 17,
   "metadata": {},
   "outputs": [
    {
     "data": {
      "text/plain": [
       "N    100274\n",
       "0     80394\n",
       "Y      5126\n",
       "1      3995\n",
       "Name: UNDERINFL, dtype: int64"
      ]
     },
     "execution_count": 17,
     "metadata": {},
     "output_type": "execute_result"
    }
   ],
   "source": [
    "accident_df['UNDERINFL'].value_counts()"
   ]
  },
  {
   "cell_type": "code",
   "execution_count": 18,
   "metadata": {},
   "outputs": [
    {
     "data": {
      "text/plain": [
       "Clear                       111135\n",
       "Raining                      33145\n",
       "Overcast                     27714\n",
       "Unknown                      15091\n",
       "Snowing                        907\n",
       "Other                          832\n",
       "Fog/Smog/Smoke                 569\n",
       "Sleet/Hail/Freezing Rain       113\n",
       "Blowing Sand/Dirt               56\n",
       "Severe Crosswind                25\n",
       "Partly Cloudy                    5\n",
       "Name: WEATHER, dtype: int64"
      ]
     },
     "execution_count": 18,
     "metadata": {},
     "output_type": "execute_result"
    }
   ],
   "source": [
    "accident_df['WEATHER'].value_counts()"
   ]
  },
  {
   "cell_type": "code",
   "execution_count": 19,
   "metadata": {},
   "outputs": [
    {
     "data": {
      "text/plain": [
       "Dry               124510\n",
       "Wet                47474\n",
       "Unknown            15078\n",
       "Ice                 1209\n",
       "Snow/Slush          1004\n",
       "Other                132\n",
       "Standing Water       115\n",
       "Sand/Mud/Dirt         75\n",
       "Oil                   64\n",
       "Name: ROADCOND, dtype: int64"
      ]
     },
     "execution_count": 19,
     "metadata": {},
     "output_type": "execute_result"
    }
   ],
   "source": [
    "accident_df['ROADCOND'].value_counts()"
   ]
  },
  {
   "cell_type": "code",
   "execution_count": 20,
   "metadata": {},
   "outputs": [
    {
     "data": {
      "text/plain": [
       "Y    4667\n",
       "Name: PEDROWNOTGRNT, dtype: int64"
      ]
     },
     "execution_count": 20,
     "metadata": {},
     "output_type": "execute_result"
    }
   ],
   "source": [
    "accident_df['PEDROWNOTGRNT'].value_counts()"
   ]
  },
  {
   "cell_type": "code",
   "execution_count": 21,
   "metadata": {},
   "outputs": [
    {
     "data": {
      "text/plain": [
       "4116034.0     2\n",
       "11200007.0    2\n",
       "4112025.0     2\n",
       "4116048.0     2\n",
       "5036003.0     1\n",
       "             ..\n",
       "6262043.0     1\n",
       "6162018.0     1\n",
       "6277003.0     1\n",
       "8267022.0     1\n",
       "5071015.0     1\n",
       "Name: SDOTCOLNUM, Length: 114932, dtype: int64"
      ]
     },
     "execution_count": 21,
     "metadata": {},
     "output_type": "execute_result"
    }
   ],
   "source": [
    "accident_df['SDOTCOLNUM'].value_counts()"
   ]
  },
  {
   "cell_type": "code",
   "execution_count": 22,
   "metadata": {},
   "outputs": [
    {
     "data": {
      "text/plain": [
       "Y    9333\n",
       "Name: SPEEDING, dtype: int64"
      ]
     },
     "execution_count": 22,
     "metadata": {},
     "output_type": "execute_result"
    }
   ],
   "source": [
    "accident_df['SPEEDING'].value_counts()"
   ]
  },
  {
   "cell_type": "code",
   "execution_count": 23,
   "metadata": {},
   "outputs": [
    {
     "data": {
      "text/plain": [
       "32    27612\n",
       "10    23427\n",
       "14    16883\n",
       "32    16809\n",
       "10    11247\n",
       "      ...  \n",
       "49        1\n",
       "43        1\n",
       "54        1\n",
       "43        1\n",
       "87        1\n",
       "Name: ST_COLCODE, Length: 115, dtype: int64"
      ]
     },
     "execution_count": 23,
     "metadata": {},
     "output_type": "execute_result"
    }
   ],
   "source": [
    "accident_df['ST_COLCODE'].value_counts()"
   ]
  },
  {
   "cell_type": "code",
   "execution_count": 24,
   "metadata": {},
   "outputs": [
    {
     "data": {
      "text/plain": [
       "One parked--one moving                                                 44421\n",
       "Entering at angle                                                      34674\n",
       "From same direction - both going straight - one stopped - rear-end     25771\n",
       "Fixed object                                                           13554\n",
       "From same direction - both going straight - both moving - sideswipe    12777\n",
       "                                                                       ...  \n",
       "Vehicle Strikes All Other Non-Domestic Animal                              2\n",
       "Railway Vehicle Strikes Pedalcyclist                                       2\n",
       "Non-domestic animal (deer, bear, elk, etc)                                 1\n",
       "Vehicle Hits State Road or Construction Machinery                          1\n",
       "Vehicle Strikes Deer                                                       1\n",
       "Name: ST_COLDESC, Length: 62, dtype: int64"
      ]
     },
     "execution_count": 24,
     "metadata": {},
     "output_type": "execute_result"
    }
   ],
   "source": [
    "accident_df['ST_COLDESC'].value_counts()"
   ]
  },
  {
   "cell_type": "code",
   "execution_count": 25,
   "metadata": {},
   "outputs": [
    {
     "data": {
      "text/plain": [
       "Block           126926\n",
       "Intersection     65070\n",
       "Alley              751\n",
       "Name: ADDRTYPE, dtype: int64"
      ]
     },
     "execution_count": 25,
     "metadata": {},
     "output_type": "execute_result"
    }
   ],
   "source": [
    "accident_df['ADDRTYPE'].value_counts()"
   ]
  },
  {
   "cell_type": "code",
   "execution_count": 26,
   "metadata": {},
   "outputs": [
    {
     "data": {
      "text/plain": [
       "194673"
      ]
     },
     "execution_count": 26,
     "metadata": {},
     "output_type": "execute_result"
    }
   ],
   "source": [
    "len(accident_df['ADDRTYPE'])"
   ]
  },
  {
   "cell_type": "code",
   "execution_count": 27,
   "metadata": {},
   "outputs": [
    {
     "data": {
      "text/plain": [
       "Mid-Block (not related to intersection)              89800\n",
       "At Intersection (intersection related)               62810\n",
       "Mid-Block (but intersection related)                 22790\n",
       "Driveway Junction                                    10671\n",
       "At Intersection (but not related to intersection)     2098\n",
       "Ramp Junction                                          166\n",
       "Unknown                                                  9\n",
       "Name: JUNCTIONTYPE, dtype: int64"
      ]
     },
     "execution_count": 27,
     "metadata": {},
     "output_type": "execute_result"
    }
   ],
   "source": [
    "accident_df['JUNCTIONTYPE'].value_counts()"
   ]
  },
  {
   "cell_type": "code",
   "execution_count": 28,
   "metadata": {},
   "outputs": [
    {
     "data": {
      "text/plain": [
       "Not Enough Information, or Insufficient Location Information    5638\n",
       "Name: EXCEPTRSNDESC, dtype: int64"
      ]
     },
     "execution_count": 28,
     "metadata": {},
     "output_type": "execute_result"
    }
   ],
   "source": [
    "accident_df['EXCEPTRSNDESC'].value_counts()"
   ]
  },
  {
   "cell_type": "code",
   "execution_count": 29,
   "metadata": {},
   "outputs": [
    {
     "data": {
      "text/html": [
       "<div>\n",
       "<style scoped>\n",
       "    .dataframe tbody tr th:only-of-type {\n",
       "        vertical-align: middle;\n",
       "    }\n",
       "\n",
       "    .dataframe tbody tr th {\n",
       "        vertical-align: top;\n",
       "    }\n",
       "\n",
       "    .dataframe thead th {\n",
       "        text-align: right;\n",
       "    }\n",
       "</style>\n",
       "<table border=\"1\" class=\"dataframe\">\n",
       "  <thead>\n",
       "    <tr style=\"text-align: right;\">\n",
       "      <th></th>\n",
       "      <th>SEVERITYCODE</th>\n",
       "      <th>X</th>\n",
       "      <th>Y</th>\n",
       "      <th>OBJECTID</th>\n",
       "      <th>INCKEY</th>\n",
       "      <th>COLDETKEY</th>\n",
       "      <th>INTKEY</th>\n",
       "      <th>SEVERITYCODE.1</th>\n",
       "      <th>PERSONCOUNT</th>\n",
       "      <th>PEDCOUNT</th>\n",
       "      <th>PEDCYLCOUNT</th>\n",
       "      <th>VEHCOUNT</th>\n",
       "      <th>SDOT_COLCODE</th>\n",
       "      <th>SDOTCOLNUM</th>\n",
       "      <th>SEGLANEKEY</th>\n",
       "      <th>CROSSWALKKEY</th>\n",
       "    </tr>\n",
       "  </thead>\n",
       "  <tbody>\n",
       "    <tr>\n",
       "      <th>count</th>\n",
       "      <td>194673.000000</td>\n",
       "      <td>189339.000000</td>\n",
       "      <td>189339.000000</td>\n",
       "      <td>194673.000000</td>\n",
       "      <td>194673.000000</td>\n",
       "      <td>194673.000000</td>\n",
       "      <td>65070.000000</td>\n",
       "      <td>194673.000000</td>\n",
       "      <td>194673.000000</td>\n",
       "      <td>194673.000000</td>\n",
       "      <td>194673.000000</td>\n",
       "      <td>194673.000000</td>\n",
       "      <td>194673.000000</td>\n",
       "      <td>1.149360e+05</td>\n",
       "      <td>194673.000000</td>\n",
       "      <td>1.946730e+05</td>\n",
       "    </tr>\n",
       "    <tr>\n",
       "      <th>mean</th>\n",
       "      <td>1.298901</td>\n",
       "      <td>-122.330518</td>\n",
       "      <td>47.619543</td>\n",
       "      <td>108479.364930</td>\n",
       "      <td>141091.456350</td>\n",
       "      <td>141298.811381</td>\n",
       "      <td>37558.450576</td>\n",
       "      <td>1.298901</td>\n",
       "      <td>2.444427</td>\n",
       "      <td>0.037139</td>\n",
       "      <td>0.028391</td>\n",
       "      <td>1.920780</td>\n",
       "      <td>13.867768</td>\n",
       "      <td>7.972521e+06</td>\n",
       "      <td>269.401114</td>\n",
       "      <td>9.782452e+03</td>\n",
       "    </tr>\n",
       "    <tr>\n",
       "      <th>std</th>\n",
       "      <td>0.457778</td>\n",
       "      <td>0.029976</td>\n",
       "      <td>0.056157</td>\n",
       "      <td>62649.722558</td>\n",
       "      <td>86634.402737</td>\n",
       "      <td>86986.542110</td>\n",
       "      <td>51745.990273</td>\n",
       "      <td>0.457778</td>\n",
       "      <td>1.345929</td>\n",
       "      <td>0.198150</td>\n",
       "      <td>0.167413</td>\n",
       "      <td>0.631047</td>\n",
       "      <td>6.868755</td>\n",
       "      <td>2.553533e+06</td>\n",
       "      <td>3315.776055</td>\n",
       "      <td>7.226926e+04</td>\n",
       "    </tr>\n",
       "    <tr>\n",
       "      <th>min</th>\n",
       "      <td>1.000000</td>\n",
       "      <td>-122.419091</td>\n",
       "      <td>47.495573</td>\n",
       "      <td>1.000000</td>\n",
       "      <td>1001.000000</td>\n",
       "      <td>1001.000000</td>\n",
       "      <td>23807.000000</td>\n",
       "      <td>1.000000</td>\n",
       "      <td>0.000000</td>\n",
       "      <td>0.000000</td>\n",
       "      <td>0.000000</td>\n",
       "      <td>0.000000</td>\n",
       "      <td>0.000000</td>\n",
       "      <td>1.007024e+06</td>\n",
       "      <td>0.000000</td>\n",
       "      <td>0.000000e+00</td>\n",
       "    </tr>\n",
       "    <tr>\n",
       "      <th>25%</th>\n",
       "      <td>1.000000</td>\n",
       "      <td>-122.348673</td>\n",
       "      <td>47.575956</td>\n",
       "      <td>54267.000000</td>\n",
       "      <td>70383.000000</td>\n",
       "      <td>70383.000000</td>\n",
       "      <td>28667.000000</td>\n",
       "      <td>1.000000</td>\n",
       "      <td>2.000000</td>\n",
       "      <td>0.000000</td>\n",
       "      <td>0.000000</td>\n",
       "      <td>2.000000</td>\n",
       "      <td>11.000000</td>\n",
       "      <td>6.040015e+06</td>\n",
       "      <td>0.000000</td>\n",
       "      <td>0.000000e+00</td>\n",
       "    </tr>\n",
       "    <tr>\n",
       "      <th>50%</th>\n",
       "      <td>1.000000</td>\n",
       "      <td>-122.330224</td>\n",
       "      <td>47.615369</td>\n",
       "      <td>106912.000000</td>\n",
       "      <td>123363.000000</td>\n",
       "      <td>123363.000000</td>\n",
       "      <td>29973.000000</td>\n",
       "      <td>1.000000</td>\n",
       "      <td>2.000000</td>\n",
       "      <td>0.000000</td>\n",
       "      <td>0.000000</td>\n",
       "      <td>2.000000</td>\n",
       "      <td>13.000000</td>\n",
       "      <td>8.023022e+06</td>\n",
       "      <td>0.000000</td>\n",
       "      <td>0.000000e+00</td>\n",
       "    </tr>\n",
       "    <tr>\n",
       "      <th>75%</th>\n",
       "      <td>2.000000</td>\n",
       "      <td>-122.311937</td>\n",
       "      <td>47.663664</td>\n",
       "      <td>162272.000000</td>\n",
       "      <td>203319.000000</td>\n",
       "      <td>203459.000000</td>\n",
       "      <td>33973.000000</td>\n",
       "      <td>2.000000</td>\n",
       "      <td>3.000000</td>\n",
       "      <td>0.000000</td>\n",
       "      <td>0.000000</td>\n",
       "      <td>2.000000</td>\n",
       "      <td>14.000000</td>\n",
       "      <td>1.015501e+07</td>\n",
       "      <td>0.000000</td>\n",
       "      <td>0.000000e+00</td>\n",
       "    </tr>\n",
       "    <tr>\n",
       "      <th>max</th>\n",
       "      <td>2.000000</td>\n",
       "      <td>-122.238949</td>\n",
       "      <td>47.734142</td>\n",
       "      <td>219547.000000</td>\n",
       "      <td>331454.000000</td>\n",
       "      <td>332954.000000</td>\n",
       "      <td>757580.000000</td>\n",
       "      <td>2.000000</td>\n",
       "      <td>81.000000</td>\n",
       "      <td>6.000000</td>\n",
       "      <td>2.000000</td>\n",
       "      <td>12.000000</td>\n",
       "      <td>69.000000</td>\n",
       "      <td>1.307202e+07</td>\n",
       "      <td>525241.000000</td>\n",
       "      <td>5.239700e+06</td>\n",
       "    </tr>\n",
       "  </tbody>\n",
       "</table>\n",
       "</div>"
      ],
      "text/plain": [
       "        SEVERITYCODE              X              Y       OBJECTID  \\\n",
       "count  194673.000000  189339.000000  189339.000000  194673.000000   \n",
       "mean        1.298901    -122.330518      47.619543  108479.364930   \n",
       "std         0.457778       0.029976       0.056157   62649.722558   \n",
       "min         1.000000    -122.419091      47.495573       1.000000   \n",
       "25%         1.000000    -122.348673      47.575956   54267.000000   \n",
       "50%         1.000000    -122.330224      47.615369  106912.000000   \n",
       "75%         2.000000    -122.311937      47.663664  162272.000000   \n",
       "max         2.000000    -122.238949      47.734142  219547.000000   \n",
       "\n",
       "              INCKEY      COLDETKEY         INTKEY  SEVERITYCODE.1  \\\n",
       "count  194673.000000  194673.000000   65070.000000   194673.000000   \n",
       "mean   141091.456350  141298.811381   37558.450576        1.298901   \n",
       "std     86634.402737   86986.542110   51745.990273        0.457778   \n",
       "min      1001.000000    1001.000000   23807.000000        1.000000   \n",
       "25%     70383.000000   70383.000000   28667.000000        1.000000   \n",
       "50%    123363.000000  123363.000000   29973.000000        1.000000   \n",
       "75%    203319.000000  203459.000000   33973.000000        2.000000   \n",
       "max    331454.000000  332954.000000  757580.000000        2.000000   \n",
       "\n",
       "         PERSONCOUNT       PEDCOUNT    PEDCYLCOUNT       VEHCOUNT  \\\n",
       "count  194673.000000  194673.000000  194673.000000  194673.000000   \n",
       "mean        2.444427       0.037139       0.028391       1.920780   \n",
       "std         1.345929       0.198150       0.167413       0.631047   \n",
       "min         0.000000       0.000000       0.000000       0.000000   \n",
       "25%         2.000000       0.000000       0.000000       2.000000   \n",
       "50%         2.000000       0.000000       0.000000       2.000000   \n",
       "75%         3.000000       0.000000       0.000000       2.000000   \n",
       "max        81.000000       6.000000       2.000000      12.000000   \n",
       "\n",
       "        SDOT_COLCODE    SDOTCOLNUM     SEGLANEKEY  CROSSWALKKEY  \n",
       "count  194673.000000  1.149360e+05  194673.000000  1.946730e+05  \n",
       "mean       13.867768  7.972521e+06     269.401114  9.782452e+03  \n",
       "std         6.868755  2.553533e+06    3315.776055  7.226926e+04  \n",
       "min         0.000000  1.007024e+06       0.000000  0.000000e+00  \n",
       "25%        11.000000  6.040015e+06       0.000000  0.000000e+00  \n",
       "50%        13.000000  8.023022e+06       0.000000  0.000000e+00  \n",
       "75%        14.000000  1.015501e+07       0.000000  0.000000e+00  \n",
       "max        69.000000  1.307202e+07  525241.000000  5.239700e+06  "
      ]
     },
     "execution_count": 29,
     "metadata": {},
     "output_type": "execute_result"
    }
   ],
   "source": [
    "accident_df.describe()"
   ]
  },
  {
   "cell_type": "code",
   "execution_count": 30,
   "metadata": {},
   "outputs": [
    {
     "data": {
      "text/plain": [
       "-122.332653    265\n",
       "-122.344896    254\n",
       "-122.328079    252\n",
       "-122.344997    239\n",
       "-122.299160    231\n",
       "              ... \n",
       "-122.322768      1\n",
       "-122.288680      1\n",
       "-122.405699      1\n",
       "-122.323578      1\n",
       "-122.343898      1\n",
       "Name: X, Length: 23563, dtype: int64"
      ]
     },
     "execution_count": 30,
     "metadata": {},
     "output_type": "execute_result"
    }
   ],
   "source": [
    "accident_df['X'].value_counts()"
   ]
  },
  {
   "cell_type": "code",
   "execution_count": 31,
   "metadata": {},
   "outputs": [
    {
     "data": {
      "text/plain": [
       "47.708655    265\n",
       "47.717173    254\n",
       "47.604161    252\n",
       "47.725036    239\n",
       "47.579673    231\n",
       "            ... \n",
       "47.556705      1\n",
       "47.709101      1\n",
       "47.513899      1\n",
       "47.565438      1\n",
       "47.563521      1\n",
       "Name: Y, Length: 23839, dtype: int64"
      ]
     },
     "execution_count": 31,
     "metadata": {},
     "output_type": "execute_result"
    }
   ],
   "source": [
    "accident_df['Y'].value_counts()"
   ]
  },
  {
   "cell_type": "code",
   "execution_count": 32,
   "metadata": {},
   "outputs": [
    {
     "data": {
      "text/html": [
       "<div>\n",
       "<style scoped>\n",
       "    .dataframe tbody tr th:only-of-type {\n",
       "        vertical-align: middle;\n",
       "    }\n",
       "\n",
       "    .dataframe tbody tr th {\n",
       "        vertical-align: top;\n",
       "    }\n",
       "\n",
       "    .dataframe thead th {\n",
       "        text-align: right;\n",
       "    }\n",
       "</style>\n",
       "<table border=\"1\" class=\"dataframe\">\n",
       "  <thead>\n",
       "    <tr style=\"text-align: right;\">\n",
       "      <th></th>\n",
       "      <th>INCDATE</th>\n",
       "    </tr>\n",
       "  </thead>\n",
       "  <tbody>\n",
       "    <tr>\n",
       "      <th>0</th>\n",
       "      <td>2013/03/27 00:00:00+00</td>\n",
       "    </tr>\n",
       "    <tr>\n",
       "      <th>1</th>\n",
       "      <td>2006/12/20 00:00:00+00</td>\n",
       "    </tr>\n",
       "    <tr>\n",
       "      <th>2</th>\n",
       "      <td>2004/11/18 00:00:00+00</td>\n",
       "    </tr>\n",
       "    <tr>\n",
       "      <th>3</th>\n",
       "      <td>2013/03/29 00:00:00+00</td>\n",
       "    </tr>\n",
       "    <tr>\n",
       "      <th>4</th>\n",
       "      <td>2004/01/28 00:00:00+00</td>\n",
       "    </tr>\n",
       "    <tr>\n",
       "      <th>...</th>\n",
       "      <td>...</td>\n",
       "    </tr>\n",
       "    <tr>\n",
       "      <th>194668</th>\n",
       "      <td>2018/11/12 00:00:00+00</td>\n",
       "    </tr>\n",
       "    <tr>\n",
       "      <th>194669</th>\n",
       "      <td>2018/12/18 00:00:00+00</td>\n",
       "    </tr>\n",
       "    <tr>\n",
       "      <th>194670</th>\n",
       "      <td>2019/01/19 00:00:00+00</td>\n",
       "    </tr>\n",
       "    <tr>\n",
       "      <th>194671</th>\n",
       "      <td>2019/01/15 00:00:00+00</td>\n",
       "    </tr>\n",
       "    <tr>\n",
       "      <th>194672</th>\n",
       "      <td>2018/11/30 00:00:00+00</td>\n",
       "    </tr>\n",
       "  </tbody>\n",
       "</table>\n",
       "<p>194673 rows × 1 columns</p>\n",
       "</div>"
      ],
      "text/plain": [
       "                       INCDATE\n",
       "0       2013/03/27 00:00:00+00\n",
       "1       2006/12/20 00:00:00+00\n",
       "2       2004/11/18 00:00:00+00\n",
       "3       2013/03/29 00:00:00+00\n",
       "4       2004/01/28 00:00:00+00\n",
       "...                        ...\n",
       "194668  2018/11/12 00:00:00+00\n",
       "194669  2018/12/18 00:00:00+00\n",
       "194670  2019/01/19 00:00:00+00\n",
       "194671  2019/01/15 00:00:00+00\n",
       "194672  2018/11/30 00:00:00+00\n",
       "\n",
       "[194673 rows x 1 columns]"
      ]
     },
     "execution_count": 32,
     "metadata": {},
     "output_type": "execute_result"
    }
   ],
   "source": [
    "incident_df = accident_df[['INCDATE']]\n",
    "incident_df"
   ]
  },
  {
   "cell_type": "code",
   "execution_count": 33,
   "metadata": {
    "collapsed": true,
    "jupyter": {
     "outputs_hidden": true,
     "source_hidden": true
    }
   },
   "outputs": [
    {
     "data": {
      "text/plain": [
       "'2013-03-27'"
      ]
     },
     "execution_count": 33,
     "metadata": {},
     "output_type": "execute_result"
    }
   ],
   "source": [
    "incident_df['INCDATE'][0].split()[0].replace('/', '-')"
   ]
  },
  {
   "cell_type": "code",
   "execution_count": 34,
   "metadata": {
    "collapsed": true,
    "jupyter": {
     "outputs_hidden": true,
     "source_hidden": true
    }
   },
   "outputs": [
    {
     "data": {
      "text/plain": [
       "0         2013-03-27\n",
       "1         2006-12-20\n",
       "2         2004-11-18\n",
       "3         2013-03-29\n",
       "4         2004-01-28\n",
       "             ...    \n",
       "194668    2018-11-12\n",
       "194669    2018-12-18\n",
       "194670    2019-01-19\n",
       "194671    2019-01-15\n",
       "194672    2018-11-30\n",
       "Name: INCDATE, Length: 194673, dtype: object"
      ]
     },
     "execution_count": 34,
     "metadata": {},
     "output_type": "execute_result"
    }
   ],
   "source": [
    "x = incident_df['INCDATE'].apply(lambda row : row.split()[0].replace('/', '-'))\n",
    "x"
   ]
  },
  {
   "cell_type": "markdown",
   "metadata": {},
   "source": [
    "## Transforming the Data to Build the Feature Set"
   ]
  },
  {
   "cell_type": "code",
   "execution_count": 35,
   "metadata": {},
   "outputs": [],
   "source": [
    "from datetime import date"
   ]
  },
  {
   "cell_type": "code",
   "execution_count": 84,
   "metadata": {},
   "outputs": [],
   "source": [
    "def get_accident_month(row):\n",
    "    '''\n",
    "        This function will take the month from the INCDATE column of the dataset.\n",
    "    '''\n",
    "    date_iso_format = row.split()[0].replace('/', '-')\n",
    "    date_val = date.fromisoformat(date_iso_format)\n",
    "    \n",
    "    if date_val.month == 1:\n",
    "        return 'January'\n",
    "    elif date_val.month == 2:\n",
    "        return 'Feburary'\n",
    "    elif date_val.month == 3:\n",
    "        return 'March'\n",
    "    elif date_val.month == 4:\n",
    "        return 'April'\n",
    "    elif date_val.month == 5:\n",
    "        return 'May'\n",
    "    elif date_val.month == 6:\n",
    "        return 'June'\n",
    "    elif date_val.month == 7:\n",
    "        return 'July'\n",
    "    elif date_val.month == 8:\n",
    "        return 'August'\n",
    "    elif date_val.month == 9:\n",
    "        return 'September'\n",
    "    elif date_val.month == 10:\n",
    "        return 'October'\n",
    "    elif date_val.month == 11:\n",
    "        return 'November'\n",
    "    elif date_val.month == 12:\n",
    "        return 'December'\n",
    "    \n",
    "    return date_val.month"
   ]
  },
  {
   "cell_type": "code",
   "execution_count": 85,
   "metadata": {},
   "outputs": [
    {
     "data": {
      "text/plain": [
       "0            March\n",
       "1         December\n",
       "2         November\n",
       "3            March\n",
       "4          January\n",
       "            ...   \n",
       "194668    November\n",
       "194669    December\n",
       "194670     January\n",
       "194671     January\n",
       "194672    November\n",
       "Name: INCDATE, Length: 194673, dtype: object"
      ]
     },
     "execution_count": 85,
     "metadata": {},
     "output_type": "execute_result"
    }
   ],
   "source": [
    "months = incident_df['INCDATE'].apply(lambda row : get_accident_month(row))\n",
    "months"
   ]
  },
  {
   "cell_type": "code",
   "execution_count": 83,
   "metadata": {
    "jupyter": {
     "source_hidden": true
    }
   },
   "outputs": [],
   "source": [
    "s = date.fromisoformat(incident_df['INCDATE'][0].split()[0].replace('/', '-'))"
   ]
  },
  {
   "cell_type": "code",
   "execution_count": 84,
   "metadata": {
    "collapsed": true,
    "jupyter": {
     "outputs_hidden": true,
     "source_hidden": true
    }
   },
   "outputs": [
    {
     "data": {
      "text/plain": [
       "datetime.date(2013, 3, 27)"
      ]
     },
     "execution_count": 84,
     "metadata": {},
     "output_type": "execute_result"
    }
   ],
   "source": [
    "s"
   ]
  },
  {
   "cell_type": "code",
   "execution_count": 85,
   "metadata": {
    "collapsed": true,
    "jupyter": {
     "outputs_hidden": true,
     "source_hidden": true
    }
   },
   "outputs": [
    {
     "data": {
      "text/plain": [
       "3"
      ]
     },
     "execution_count": 85,
     "metadata": {},
     "output_type": "execute_result"
    }
   ],
   "source": [
    "s.month"
   ]
  },
  {
   "cell_type": "code",
   "execution_count": 86,
   "metadata": {},
   "outputs": [],
   "source": [
    "def get_accident_day_of_week(row):\n",
    "    '''\n",
    "        This function will take the day of the week from the INCDATE column of the dataset.\n",
    "    '''\n",
    "    date_iso_format = row.split()[0].replace('/', '-')\n",
    "    date_val = date.fromisoformat(date_iso_format)\n",
    "    \n",
    "    if date_val.weekday() == 0:\n",
    "        return 'Monday'\n",
    "    elif date_val.weekday() == 1:\n",
    "        return 'Tuesday'\n",
    "    elif date_val.weekday() == 2:\n",
    "        return 'Wednesday'\n",
    "    elif date_val.weekday() == 3:\n",
    "        return 'Thursday'\n",
    "    elif date_val.weekday() == 4:\n",
    "        return 'Friday'\n",
    "    elif date_val.weekday() == 5:\n",
    "        return 'Saturday'\n",
    "    elif date_val.weekday() == 6:\n",
    "        return 'Sunday'\n",
    "    \n",
    "    return date_val.weekday()"
   ]
  },
  {
   "cell_type": "code",
   "execution_count": 87,
   "metadata": {},
   "outputs": [],
   "source": [
    "days_of_week = incident_df['INCDATE'].apply(lambda row : get_accident_day_of_week(row))"
   ]
  },
  {
   "cell_type": "code",
   "execution_count": 88,
   "metadata": {},
   "outputs": [
    {
     "data": {
      "text/plain": [
       "0         Wednesday\n",
       "1         Wednesday\n",
       "2          Thursday\n",
       "3            Friday\n",
       "4         Wednesday\n",
       "            ...    \n",
       "194668       Monday\n",
       "194669      Tuesday\n",
       "194670     Saturday\n",
       "194671      Tuesday\n",
       "194672       Friday\n",
       "Name: INCDATE, Length: 194673, dtype: object"
      ]
     },
     "execution_count": 88,
     "metadata": {},
     "output_type": "execute_result"
    }
   ],
   "source": [
    "days_of_week"
   ]
  },
  {
   "cell_type": "code",
   "execution_count": 124,
   "metadata": {
    "collapsed": true,
    "jupyter": {
     "outputs_hidden": true,
     "source_hidden": true
    }
   },
   "outputs": [
    {
     "data": {
      "text/plain": [
       "'k'"
      ]
     },
     "execution_count": 124,
     "metadata": {},
     "output_type": "execute_result"
    }
   ],
   "source": [
    " accident_df['ROADCOND'][0] "
   ]
  },
  {
   "cell_type": "code",
   "execution_count": 41,
   "metadata": {},
   "outputs": [],
   "source": [
    "def change_road_condition_categories(row):\n",
    "    \n",
    "    '''\n",
    "        This function will recategorize the road conditions into two categories, Fair and Hazardous\n",
    "    '''\n",
    "        \n",
    "    HAZARD_CONDITION = 'Hazardous'\n",
    "    FAIR_CONDITION = 'Fair'\n",
    "    \n",
    "    if row == 'Dry':\n",
    "        return FAIR_CONDITION\n",
    "    elif row == 'Wet' or row == 'Snow/Slush' or row == 'Ice' or row == 'Standing Water'or row == 'Sand/Mud/Dirt' or row == 'Oil':\n",
    "        return HAZARD_CONDITION\n",
    "    else :\n",
    "        return FAIR_CONDITION"
   ]
  },
  {
   "cell_type": "code",
   "execution_count": 42,
   "metadata": {},
   "outputs": [],
   "source": [
    "road_condition = accident_df['ROADCOND'].apply(lambda row : change_road_condition_categories(row))"
   ]
  },
  {
   "cell_type": "code",
   "execution_count": 43,
   "metadata": {},
   "outputs": [
    {
     "data": {
      "text/plain": [
       "0         Hazardous\n",
       "1         Hazardous\n",
       "2              Fair\n",
       "3              Fair\n",
       "4         Hazardous\n",
       "            ...    \n",
       "194668         Fair\n",
       "194669    Hazardous\n",
       "194670         Fair\n",
       "194671         Fair\n",
       "194672    Hazardous\n",
       "Name: ROADCOND, Length: 194673, dtype: object"
      ]
     },
     "execution_count": 43,
     "metadata": {},
     "output_type": "execute_result"
    }
   ],
   "source": [
    "road_condition"
   ]
  },
  {
   "cell_type": "code",
   "execution_count": 44,
   "metadata": {},
   "outputs": [],
   "source": [
    "def change_weather_condition_categories(row):\n",
    "    '''\n",
    "        This function will recategorize the weather conditions into two categories, Clear and Inclement\n",
    "    '''\n",
    "    \n",
    "    CLEAR_CONDITION = 'Clear'\n",
    "    INCLEMENT_CONDITION = 'Inclement'\n",
    "    \n",
    "    if row == 'Clear' or row == 'Overcast' or row == 'Unknown' or row == 'Other' or row == 'Partly Cloudy' :\n",
    "        return CLEAR_CONDITION\n",
    "    elif row == 'Raining' or row == 'Snowing' or row == 'Fog/Smog/Smoke' or row == 'Sleet/Hail/Freezing Rain' or row == 'Blowing Sand/Dirt' or row == 'Severe Crosswind' :\n",
    "        return INCLEMENT_CONDITION\n",
    "    else:\n",
    "        return CLEAR_CONDITION\n",
    "    \n",
    "    "
   ]
  },
  {
   "cell_type": "code",
   "execution_count": 45,
   "metadata": {},
   "outputs": [
    {
     "data": {
      "text/plain": [
       "0             Clear\n",
       "1         Inclement\n",
       "2             Clear\n",
       "3             Clear\n",
       "4         Inclement\n",
       "            ...    \n",
       "194668        Clear\n",
       "194669    Inclement\n",
       "194670        Clear\n",
       "194671        Clear\n",
       "194672        Clear\n",
       "Name: WEATHER, Length: 194673, dtype: object"
      ]
     },
     "execution_count": 45,
     "metadata": {},
     "output_type": "execute_result"
    }
   ],
   "source": [
    "weather_condition = accident_df['WEATHER'].apply(lambda row : change_weather_condition_categories(row))\n",
    "weather_condition"
   ]
  },
  {
   "cell_type": "code",
   "execution_count": 46,
   "metadata": {},
   "outputs": [
    {
     "data": {
      "text/plain": [
       "(34815,)"
      ]
     },
     "execution_count": 46,
     "metadata": {},
     "output_type": "execute_result"
    }
   ],
   "source": [
    "weather_condition[weather_condition != 'Clear'].shape"
   ]
  },
  {
   "cell_type": "code",
   "execution_count": 47,
   "metadata": {},
   "outputs": [],
   "source": [
    "def change_lighting_condition_categories(row):\n",
    "    '''\n",
    "        This function will recategorize the lighting condition into two categories. Night and Day\n",
    "    '''\n",
    "    \n",
    "    DAY_HOURS = 'Day'\n",
    "    NIGHT_HOURS = 'Night'\n",
    "    \n",
    "    if row == 'Daylight' or row == 'Unknown' or row == 'Dusk' or row == 'Dawn' or row == 'Other' :\n",
    "        return DAY_HOURS\n",
    "    elif row == 'Dark - Street Lights On' or row == 'Dark - No Street Lights' or row == 'Dark - Street Lights Off' or row == 'Dark - Unknown Lighting' :\n",
    "        return NIGHT_HOURS\n",
    "    else:\n",
    "        return DAY_HOURS\n",
    "\n",
    "\n"
   ]
  },
  {
   "cell_type": "code",
   "execution_count": 48,
   "metadata": {},
   "outputs": [
    {
     "data": {
      "text/plain": [
       "0           Day\n",
       "1         Night\n",
       "2           Day\n",
       "3           Day\n",
       "4           Day\n",
       "          ...  \n",
       "194668      Day\n",
       "194669      Day\n",
       "194670      Day\n",
       "194671      Day\n",
       "194672      Day\n",
       "Name: LIGHTCOND, Length: 194673, dtype: object"
      ]
     },
     "execution_count": 48,
     "metadata": {},
     "output_type": "execute_result"
    }
   ],
   "source": [
    "lighting_condition = accident_df['LIGHTCOND'].apply(lambda row : change_lighting_condition_categories(row))\n",
    "lighting_condition"
   ]
  },
  {
   "cell_type": "code",
   "execution_count": 49,
   "metadata": {},
   "outputs": [
    {
     "data": {
      "text/plain": [
       "(143419,)"
      ]
     },
     "execution_count": 49,
     "metadata": {},
     "output_type": "execute_result"
    }
   ],
   "source": [
    "lighting_condition[lighting_condition == 'Day'].to_numpy().shape"
   ]
  },
  {
   "cell_type": "code",
   "execution_count": 50,
   "metadata": {},
   "outputs": [],
   "source": [
    "def change_under_the_influence_categories(row):\n",
    "    ''' \n",
    "        This function will combine categories 0 and N into a No category and Y and 1 into a Yes category\n",
    "    '''\n",
    "    \n",
    "    NO = \"No\"\n",
    "    YES = \"Yes\"\n",
    "    \n",
    "    if row == 'N' or row == '0' :\n",
    "        return NO\n",
    "    elif row == 'Y' or row == '1' :\n",
    "        return YES\n",
    "    else:\n",
    "        return NO"
   ]
  },
  {
   "cell_type": "code",
   "execution_count": 51,
   "metadata": {},
   "outputs": [],
   "source": [
    "under_the_influence = accident_df['UNDERINFL'].apply(lambda row : change_under_the_influence_categories(row))"
   ]
  },
  {
   "cell_type": "code",
   "execution_count": 52,
   "metadata": {},
   "outputs": [
    {
     "data": {
      "text/plain": [
       "(185552,)"
      ]
     },
     "execution_count": 52,
     "metadata": {},
     "output_type": "execute_result"
    }
   ],
   "source": [
    "under_the_influence[under_the_influence == 'No'].to_numpy().shape"
   ]
  },
  {
   "cell_type": "code",
   "execution_count": 230,
   "metadata": {
    "collapsed": true,
    "jupyter": {
     "outputs_hidden": true,
     "source_hidden": true
    }
   },
   "outputs": [
    {
     "data": {
      "text/plain": [
       "12"
      ]
     },
     "execution_count": 230,
     "metadata": {},
     "output_type": "execute_result"
    }
   ],
   "source": [
    "accident_df['VEHCOUNT'].max()"
   ]
  },
  {
   "cell_type": "code",
   "execution_count": 231,
   "metadata": {
    "jupyter": {
     "source_hidden": true
    }
   },
   "outputs": [
    {
     "data": {
      "text/plain": [
       "0"
      ]
     },
     "execution_count": 231,
     "metadata": {},
     "output_type": "execute_result"
    }
   ],
   "source": [
    "accident_df['VEHCOUNT'].min()\n"
   ]
  },
  {
   "cell_type": "code",
   "execution_count": 232,
   "metadata": {
    "collapsed": true,
    "jupyter": {
     "outputs_hidden": true,
     "source_hidden": true
    }
   },
   "outputs": [
    {
     "data": {
      "text/plain": [
       "1.9207799746241132"
      ]
     },
     "execution_count": 232,
     "metadata": {},
     "output_type": "execute_result"
    }
   ],
   "source": [
    "accident_df['VEHCOUNT'].mean()"
   ]
  },
  {
   "cell_type": "code",
   "execution_count": 53,
   "metadata": {},
   "outputs": [],
   "source": [
    "vehicle_count = (accident_df['VEHCOUNT'] - accident_df['VEHCOUNT'].min() ) / (accident_df['VEHCOUNT'].max() - accident_df['VEHCOUNT'].min())"
   ]
  },
  {
   "cell_type": "code",
   "execution_count": 54,
   "metadata": {},
   "outputs": [],
   "source": [
    "person_count = (accident_df['PERSONCOUNT'] - accident_df['PERSONCOUNT'].min() ) / (accident_df['PERSONCOUNT'].max() - accident_df['PERSONCOUNT'].min())"
   ]
  },
  {
   "cell_type": "code",
   "execution_count": 55,
   "metadata": {},
   "outputs": [],
   "source": [
    "pedestrian_count = (accident_df['PEDCOUNT'] - accident_df['PEDCOUNT'].min() ) / (accident_df['PEDCOUNT'].max() - accident_df['PEDCOUNT'].min())"
   ]
  },
  {
   "cell_type": "code",
   "execution_count": 56,
   "metadata": {},
   "outputs": [],
   "source": [
    "cyclist_count = (accident_df['PEDCYLCOUNT'] - accident_df['PEDCYLCOUNT'].min() ) / (accident_df['PEDCYLCOUNT'].max() - accident_df['PEDCYLCOUNT'].min())"
   ]
  },
  {
   "cell_type": "code",
   "execution_count": 57,
   "metadata": {},
   "outputs": [],
   "source": [
    "accident_location = accident_df['ADDRTYPE'].fillna('Block')"
   ]
  },
  {
   "cell_type": "code",
   "execution_count": null,
   "metadata": {},
   "outputs": [],
   "source": []
  },
  {
   "cell_type": "code",
   "execution_count": 58,
   "metadata": {},
   "outputs": [],
   "source": [
    "X_scaled = (accident_df['X'] - accident_df['X'].min()) / (accident_df['X'].max() -  accident_df['X'].min() )"
   ]
  },
  {
   "cell_type": "code",
   "execution_count": 59,
   "metadata": {},
   "outputs": [
    {
     "data": {
      "text/plain": [
       "0         0.532596\n",
       "1         0.398557\n",
       "2         0.469359\n",
       "3         0.467897\n",
       "4         0.625423\n",
       "            ...   \n",
       "194668    0.712022\n",
       "194669    0.413924\n",
       "194670    0.623967\n",
       "194671    0.354024\n",
       "194672    0.720163\n",
       "Name: X, Length: 194673, dtype: float64"
      ]
     },
     "execution_count": 59,
     "metadata": {},
     "output_type": "execute_result"
    }
   ],
   "source": [
    "X_scaled"
   ]
  },
  {
   "cell_type": "code",
   "execution_count": 60,
   "metadata": {},
   "outputs": [],
   "source": [
    "Y_scaled = (accident_df['Y'] - accident_df['Y'].min()) / (accident_df['Y'].max() -  accident_df['Y'].min() )"
   ]
  },
  {
   "cell_type": "code",
   "execution_count": 61,
   "metadata": {},
   "outputs": [
    {
     "data": {
      "text/plain": [
       "0         0.870053\n",
       "1         0.635455\n",
       "2         0.470718\n",
       "3         0.457855\n",
       "4         0.210281\n",
       "            ...   \n",
       "194668    0.292726\n",
       "194669    0.818844\n",
       "194670    0.785828\n",
       "194671    0.767751\n",
       "194672    0.483903\n",
       "Name: Y, Length: 194673, dtype: float64"
      ]
     },
     "execution_count": 61,
     "metadata": {},
     "output_type": "execute_result"
    }
   ],
   "source": [
    "Y_scaled"
   ]
  },
  {
   "cell_type": "code",
   "execution_count": 89,
   "metadata": {},
   "outputs": [],
   "source": [
    "unscaled_features = {'X' : accident_df['X'], 'Y' : accident_df['Y'], 'Incident Month' : months, 'Incident Day of Week' : days_of_week, 'Road Condition' : road_condition, 'Weather' : weather_condition, 'Time of Day' : lighting_condition, 'Drunk Driving Incident': under_the_influence, 'Vehicles Involved': accident_df['VEHCOUNT'] , 'Persons Involved': accident_df['PERSONCOUNT'] , \"Accident Location\": accident_location}"
   ]
  },
  {
   "cell_type": "code",
   "execution_count": 90,
   "metadata": {},
   "outputs": [],
   "source": [
    "features = {'X' : X_scaled, 'Y' : Y_scaled, 'Incident Month' : months, 'Incident Day of Week' : days_of_week, 'Road Condition' : road_condition, 'Weather' : weather_condition, 'Time of Day' : lighting_condition, 'Drunk Driving Incident': under_the_influence, 'Vehicles Involved': vehicle_count , 'Persons Involved': person_count , \"Accident Location\": accident_location}"
   ]
  },
  {
   "cell_type": "markdown",
   "metadata": {},
   "source": [
    "<br>\n",
    "<br>"
   ]
  },
  {
   "cell_type": "markdown",
   "metadata": {},
   "source": [
    "## Building the Feature Set Dataframe"
   ]
  },
  {
   "cell_type": "markdown",
   "metadata": {},
   "source": [
    "Here is the dataframe containing the selected features used in our classification algorithms"
   ]
  },
  {
   "cell_type": "code",
   "execution_count": 91,
   "metadata": {},
   "outputs": [],
   "source": [
    "unscaled_features_df = pd.DataFrame(unscaled_features)"
   ]
  },
  {
   "cell_type": "code",
   "execution_count": 92,
   "metadata": {},
   "outputs": [
    {
     "data": {
      "text/html": [
       "<div>\n",
       "<style scoped>\n",
       "    .dataframe tbody tr th:only-of-type {\n",
       "        vertical-align: middle;\n",
       "    }\n",
       "\n",
       "    .dataframe tbody tr th {\n",
       "        vertical-align: top;\n",
       "    }\n",
       "\n",
       "    .dataframe thead th {\n",
       "        text-align: right;\n",
       "    }\n",
       "</style>\n",
       "<table border=\"1\" class=\"dataframe\">\n",
       "  <thead>\n",
       "    <tr style=\"text-align: right;\">\n",
       "      <th></th>\n",
       "      <th>X</th>\n",
       "      <th>Y</th>\n",
       "      <th>Incident Month</th>\n",
       "      <th>Incident Day of Week</th>\n",
       "      <th>Road Condition</th>\n",
       "      <th>Weather</th>\n",
       "      <th>Time of Day</th>\n",
       "      <th>Drunk Driving Incident</th>\n",
       "      <th>Vehicles Involved</th>\n",
       "      <th>Persons Involved</th>\n",
       "      <th>Accident Location</th>\n",
       "    </tr>\n",
       "  </thead>\n",
       "  <tbody>\n",
       "    <tr>\n",
       "      <th>0</th>\n",
       "      <td>-122.323148</td>\n",
       "      <td>47.703140</td>\n",
       "      <td>March</td>\n",
       "      <td>Wednesday</td>\n",
       "      <td>Hazardous</td>\n",
       "      <td>Clear</td>\n",
       "      <td>Day</td>\n",
       "      <td>No</td>\n",
       "      <td>2</td>\n",
       "      <td>2</td>\n",
       "      <td>Intersection</td>\n",
       "    </tr>\n",
       "    <tr>\n",
       "      <th>1</th>\n",
       "      <td>-122.347294</td>\n",
       "      <td>47.647172</td>\n",
       "      <td>December</td>\n",
       "      <td>Wednesday</td>\n",
       "      <td>Hazardous</td>\n",
       "      <td>Inclement</td>\n",
       "      <td>Night</td>\n",
       "      <td>No</td>\n",
       "      <td>2</td>\n",
       "      <td>2</td>\n",
       "      <td>Block</td>\n",
       "    </tr>\n",
       "    <tr>\n",
       "      <th>2</th>\n",
       "      <td>-122.334540</td>\n",
       "      <td>47.607871</td>\n",
       "      <td>November</td>\n",
       "      <td>Thursday</td>\n",
       "      <td>Fair</td>\n",
       "      <td>Clear</td>\n",
       "      <td>Day</td>\n",
       "      <td>No</td>\n",
       "      <td>3</td>\n",
       "      <td>4</td>\n",
       "      <td>Block</td>\n",
       "    </tr>\n",
       "    <tr>\n",
       "      <th>3</th>\n",
       "      <td>-122.334803</td>\n",
       "      <td>47.604803</td>\n",
       "      <td>March</td>\n",
       "      <td>Friday</td>\n",
       "      <td>Fair</td>\n",
       "      <td>Clear</td>\n",
       "      <td>Day</td>\n",
       "      <td>No</td>\n",
       "      <td>3</td>\n",
       "      <td>3</td>\n",
       "      <td>Block</td>\n",
       "    </tr>\n",
       "    <tr>\n",
       "      <th>4</th>\n",
       "      <td>-122.306426</td>\n",
       "      <td>47.545739</td>\n",
       "      <td>January</td>\n",
       "      <td>Wednesday</td>\n",
       "      <td>Hazardous</td>\n",
       "      <td>Inclement</td>\n",
       "      <td>Day</td>\n",
       "      <td>No</td>\n",
       "      <td>2</td>\n",
       "      <td>2</td>\n",
       "      <td>Intersection</td>\n",
       "    </tr>\n",
       "    <tr>\n",
       "      <th>...</th>\n",
       "      <td>...</td>\n",
       "      <td>...</td>\n",
       "      <td>...</td>\n",
       "      <td>...</td>\n",
       "      <td>...</td>\n",
       "      <td>...</td>\n",
       "      <td>...</td>\n",
       "      <td>...</td>\n",
       "      <td>...</td>\n",
       "      <td>...</td>\n",
       "      <td>...</td>\n",
       "    </tr>\n",
       "    <tr>\n",
       "      <th>194668</th>\n",
       "      <td>-122.290826</td>\n",
       "      <td>47.565408</td>\n",
       "      <td>November</td>\n",
       "      <td>Monday</td>\n",
       "      <td>Fair</td>\n",
       "      <td>Clear</td>\n",
       "      <td>Day</td>\n",
       "      <td>No</td>\n",
       "      <td>2</td>\n",
       "      <td>3</td>\n",
       "      <td>Block</td>\n",
       "    </tr>\n",
       "    <tr>\n",
       "      <th>194669</th>\n",
       "      <td>-122.344526</td>\n",
       "      <td>47.690924</td>\n",
       "      <td>December</td>\n",
       "      <td>Tuesday</td>\n",
       "      <td>Hazardous</td>\n",
       "      <td>Inclement</td>\n",
       "      <td>Day</td>\n",
       "      <td>No</td>\n",
       "      <td>2</td>\n",
       "      <td>2</td>\n",
       "      <td>Block</td>\n",
       "    </tr>\n",
       "    <tr>\n",
       "      <th>194670</th>\n",
       "      <td>-122.306689</td>\n",
       "      <td>47.683047</td>\n",
       "      <td>January</td>\n",
       "      <td>Saturday</td>\n",
       "      <td>Fair</td>\n",
       "      <td>Clear</td>\n",
       "      <td>Day</td>\n",
       "      <td>No</td>\n",
       "      <td>2</td>\n",
       "      <td>3</td>\n",
       "      <td>Intersection</td>\n",
       "    </tr>\n",
       "    <tr>\n",
       "      <th>194671</th>\n",
       "      <td>-122.355317</td>\n",
       "      <td>47.678734</td>\n",
       "      <td>January</td>\n",
       "      <td>Tuesday</td>\n",
       "      <td>Fair</td>\n",
       "      <td>Clear</td>\n",
       "      <td>Day</td>\n",
       "      <td>No</td>\n",
       "      <td>1</td>\n",
       "      <td>2</td>\n",
       "      <td>Intersection</td>\n",
       "    </tr>\n",
       "    <tr>\n",
       "      <th>194672</th>\n",
       "      <td>-122.289360</td>\n",
       "      <td>47.611017</td>\n",
       "      <td>November</td>\n",
       "      <td>Friday</td>\n",
       "      <td>Hazardous</td>\n",
       "      <td>Clear</td>\n",
       "      <td>Day</td>\n",
       "      <td>No</td>\n",
       "      <td>2</td>\n",
       "      <td>2</td>\n",
       "      <td>Block</td>\n",
       "    </tr>\n",
       "  </tbody>\n",
       "</table>\n",
       "<p>194673 rows × 11 columns</p>\n",
       "</div>"
      ],
      "text/plain": [
       "                 X          Y Incident Month Incident Day of Week  \\\n",
       "0      -122.323148  47.703140          March            Wednesday   \n",
       "1      -122.347294  47.647172       December            Wednesday   \n",
       "2      -122.334540  47.607871       November             Thursday   \n",
       "3      -122.334803  47.604803          March               Friday   \n",
       "4      -122.306426  47.545739        January            Wednesday   \n",
       "...            ...        ...            ...                  ...   \n",
       "194668 -122.290826  47.565408       November               Monday   \n",
       "194669 -122.344526  47.690924       December              Tuesday   \n",
       "194670 -122.306689  47.683047        January             Saturday   \n",
       "194671 -122.355317  47.678734        January              Tuesday   \n",
       "194672 -122.289360  47.611017       November               Friday   \n",
       "\n",
       "       Road Condition    Weather Time of Day Drunk Driving Incident  \\\n",
       "0           Hazardous      Clear         Day                     No   \n",
       "1           Hazardous  Inclement       Night                     No   \n",
       "2                Fair      Clear         Day                     No   \n",
       "3                Fair      Clear         Day                     No   \n",
       "4           Hazardous  Inclement         Day                     No   \n",
       "...               ...        ...         ...                    ...   \n",
       "194668           Fair      Clear         Day                     No   \n",
       "194669      Hazardous  Inclement         Day                     No   \n",
       "194670           Fair      Clear         Day                     No   \n",
       "194671           Fair      Clear         Day                     No   \n",
       "194672      Hazardous      Clear         Day                     No   \n",
       "\n",
       "        Vehicles Involved  Persons Involved Accident Location  \n",
       "0                       2                 2      Intersection  \n",
       "1                       2                 2             Block  \n",
       "2                       3                 4             Block  \n",
       "3                       3                 3             Block  \n",
       "4                       2                 2      Intersection  \n",
       "...                   ...               ...               ...  \n",
       "194668                  2                 3             Block  \n",
       "194669                  2                 2             Block  \n",
       "194670                  2                 3      Intersection  \n",
       "194671                  1                 2      Intersection  \n",
       "194672                  2                 2             Block  \n",
       "\n",
       "[194673 rows x 11 columns]"
      ]
     },
     "execution_count": 92,
     "metadata": {},
     "output_type": "execute_result"
    }
   ],
   "source": [
    "unscaled_features_df"
   ]
  },
  {
   "cell_type": "markdown",
   "metadata": {},
   "source": [
    "The below dataframe represents the data with all numerical data **Min/Max Normalized**"
   ]
  },
  {
   "cell_type": "code",
   "execution_count": 93,
   "metadata": {},
   "outputs": [],
   "source": [
    "features_df = pd.DataFrame(features)"
   ]
  },
  {
   "cell_type": "code",
   "execution_count": 94,
   "metadata": {},
   "outputs": [
    {
     "data": {
      "text/html": [
       "<div>\n",
       "<style scoped>\n",
       "    .dataframe tbody tr th:only-of-type {\n",
       "        vertical-align: middle;\n",
       "    }\n",
       "\n",
       "    .dataframe tbody tr th {\n",
       "        vertical-align: top;\n",
       "    }\n",
       "\n",
       "    .dataframe thead th {\n",
       "        text-align: right;\n",
       "    }\n",
       "</style>\n",
       "<table border=\"1\" class=\"dataframe\">\n",
       "  <thead>\n",
       "    <tr style=\"text-align: right;\">\n",
       "      <th></th>\n",
       "      <th>X</th>\n",
       "      <th>Y</th>\n",
       "      <th>Incident Month</th>\n",
       "      <th>Incident Day of Week</th>\n",
       "      <th>Road Condition</th>\n",
       "      <th>Weather</th>\n",
       "      <th>Time of Day</th>\n",
       "      <th>Drunk Driving Incident</th>\n",
       "      <th>Vehicles Involved</th>\n",
       "      <th>Persons Involved</th>\n",
       "      <th>Accident Location</th>\n",
       "    </tr>\n",
       "  </thead>\n",
       "  <tbody>\n",
       "    <tr>\n",
       "      <th>0</th>\n",
       "      <td>0.532596</td>\n",
       "      <td>0.870053</td>\n",
       "      <td>March</td>\n",
       "      <td>Wednesday</td>\n",
       "      <td>Hazardous</td>\n",
       "      <td>Clear</td>\n",
       "      <td>Day</td>\n",
       "      <td>No</td>\n",
       "      <td>0.166667</td>\n",
       "      <td>0.024691</td>\n",
       "      <td>Intersection</td>\n",
       "    </tr>\n",
       "    <tr>\n",
       "      <th>1</th>\n",
       "      <td>0.398557</td>\n",
       "      <td>0.635455</td>\n",
       "      <td>December</td>\n",
       "      <td>Wednesday</td>\n",
       "      <td>Hazardous</td>\n",
       "      <td>Inclement</td>\n",
       "      <td>Night</td>\n",
       "      <td>No</td>\n",
       "      <td>0.166667</td>\n",
       "      <td>0.024691</td>\n",
       "      <td>Block</td>\n",
       "    </tr>\n",
       "    <tr>\n",
       "      <th>2</th>\n",
       "      <td>0.469359</td>\n",
       "      <td>0.470718</td>\n",
       "      <td>November</td>\n",
       "      <td>Thursday</td>\n",
       "      <td>Fair</td>\n",
       "      <td>Clear</td>\n",
       "      <td>Day</td>\n",
       "      <td>No</td>\n",
       "      <td>0.250000</td>\n",
       "      <td>0.049383</td>\n",
       "      <td>Block</td>\n",
       "    </tr>\n",
       "    <tr>\n",
       "      <th>3</th>\n",
       "      <td>0.467897</td>\n",
       "      <td>0.457855</td>\n",
       "      <td>March</td>\n",
       "      <td>Friday</td>\n",
       "      <td>Fair</td>\n",
       "      <td>Clear</td>\n",
       "      <td>Day</td>\n",
       "      <td>No</td>\n",
       "      <td>0.250000</td>\n",
       "      <td>0.037037</td>\n",
       "      <td>Block</td>\n",
       "    </tr>\n",
       "    <tr>\n",
       "      <th>4</th>\n",
       "      <td>0.625423</td>\n",
       "      <td>0.210281</td>\n",
       "      <td>January</td>\n",
       "      <td>Wednesday</td>\n",
       "      <td>Hazardous</td>\n",
       "      <td>Inclement</td>\n",
       "      <td>Day</td>\n",
       "      <td>No</td>\n",
       "      <td>0.166667</td>\n",
       "      <td>0.024691</td>\n",
       "      <td>Intersection</td>\n",
       "    </tr>\n",
       "    <tr>\n",
       "      <th>...</th>\n",
       "      <td>...</td>\n",
       "      <td>...</td>\n",
       "      <td>...</td>\n",
       "      <td>...</td>\n",
       "      <td>...</td>\n",
       "      <td>...</td>\n",
       "      <td>...</td>\n",
       "      <td>...</td>\n",
       "      <td>...</td>\n",
       "      <td>...</td>\n",
       "      <td>...</td>\n",
       "    </tr>\n",
       "    <tr>\n",
       "      <th>194668</th>\n",
       "      <td>0.712022</td>\n",
       "      <td>0.292726</td>\n",
       "      <td>November</td>\n",
       "      <td>Monday</td>\n",
       "      <td>Fair</td>\n",
       "      <td>Clear</td>\n",
       "      <td>Day</td>\n",
       "      <td>No</td>\n",
       "      <td>0.166667</td>\n",
       "      <td>0.037037</td>\n",
       "      <td>Block</td>\n",
       "    </tr>\n",
       "    <tr>\n",
       "      <th>194669</th>\n",
       "      <td>0.413924</td>\n",
       "      <td>0.818844</td>\n",
       "      <td>December</td>\n",
       "      <td>Tuesday</td>\n",
       "      <td>Hazardous</td>\n",
       "      <td>Inclement</td>\n",
       "      <td>Day</td>\n",
       "      <td>No</td>\n",
       "      <td>0.166667</td>\n",
       "      <td>0.024691</td>\n",
       "      <td>Block</td>\n",
       "    </tr>\n",
       "    <tr>\n",
       "      <th>194670</th>\n",
       "      <td>0.623967</td>\n",
       "      <td>0.785828</td>\n",
       "      <td>January</td>\n",
       "      <td>Saturday</td>\n",
       "      <td>Fair</td>\n",
       "      <td>Clear</td>\n",
       "      <td>Day</td>\n",
       "      <td>No</td>\n",
       "      <td>0.166667</td>\n",
       "      <td>0.037037</td>\n",
       "      <td>Intersection</td>\n",
       "    </tr>\n",
       "    <tr>\n",
       "      <th>194671</th>\n",
       "      <td>0.354024</td>\n",
       "      <td>0.767751</td>\n",
       "      <td>January</td>\n",
       "      <td>Tuesday</td>\n",
       "      <td>Fair</td>\n",
       "      <td>Clear</td>\n",
       "      <td>Day</td>\n",
       "      <td>No</td>\n",
       "      <td>0.083333</td>\n",
       "      <td>0.024691</td>\n",
       "      <td>Intersection</td>\n",
       "    </tr>\n",
       "    <tr>\n",
       "      <th>194672</th>\n",
       "      <td>0.720163</td>\n",
       "      <td>0.483903</td>\n",
       "      <td>November</td>\n",
       "      <td>Friday</td>\n",
       "      <td>Hazardous</td>\n",
       "      <td>Clear</td>\n",
       "      <td>Day</td>\n",
       "      <td>No</td>\n",
       "      <td>0.166667</td>\n",
       "      <td>0.024691</td>\n",
       "      <td>Block</td>\n",
       "    </tr>\n",
       "  </tbody>\n",
       "</table>\n",
       "<p>194673 rows × 11 columns</p>\n",
       "</div>"
      ],
      "text/plain": [
       "               X         Y Incident Month Incident Day of Week Road Condition  \\\n",
       "0       0.532596  0.870053          March            Wednesday      Hazardous   \n",
       "1       0.398557  0.635455       December            Wednesday      Hazardous   \n",
       "2       0.469359  0.470718       November             Thursday           Fair   \n",
       "3       0.467897  0.457855          March               Friday           Fair   \n",
       "4       0.625423  0.210281        January            Wednesday      Hazardous   \n",
       "...          ...       ...            ...                  ...            ...   \n",
       "194668  0.712022  0.292726       November               Monday           Fair   \n",
       "194669  0.413924  0.818844       December              Tuesday      Hazardous   \n",
       "194670  0.623967  0.785828        January             Saturday           Fair   \n",
       "194671  0.354024  0.767751        January              Tuesday           Fair   \n",
       "194672  0.720163  0.483903       November               Friday      Hazardous   \n",
       "\n",
       "          Weather Time of Day Drunk Driving Incident  Vehicles Involved  \\\n",
       "0           Clear         Day                     No           0.166667   \n",
       "1       Inclement       Night                     No           0.166667   \n",
       "2           Clear         Day                     No           0.250000   \n",
       "3           Clear         Day                     No           0.250000   \n",
       "4       Inclement         Day                     No           0.166667   \n",
       "...           ...         ...                    ...                ...   \n",
       "194668      Clear         Day                     No           0.166667   \n",
       "194669  Inclement         Day                     No           0.166667   \n",
       "194670      Clear         Day                     No           0.166667   \n",
       "194671      Clear         Day                     No           0.083333   \n",
       "194672      Clear         Day                     No           0.166667   \n",
       "\n",
       "        Persons Involved Accident Location  \n",
       "0               0.024691      Intersection  \n",
       "1               0.024691             Block  \n",
       "2               0.049383             Block  \n",
       "3               0.037037             Block  \n",
       "4               0.024691      Intersection  \n",
       "...                  ...               ...  \n",
       "194668          0.037037             Block  \n",
       "194669          0.024691             Block  \n",
       "194670          0.037037      Intersection  \n",
       "194671          0.024691      Intersection  \n",
       "194672          0.024691             Block  \n",
       "\n",
       "[194673 rows x 11 columns]"
      ]
     },
     "execution_count": 94,
     "metadata": {},
     "output_type": "execute_result"
    }
   ],
   "source": [
    "features_df"
   ]
  },
  {
   "cell_type": "markdown",
   "metadata": {},
   "source": [
    "<br>"
   ]
  },
  {
   "cell_type": "markdown",
   "metadata": {},
   "source": [
    "Now we will **One Hot Encode** all of the categorical fields of the `features_df`"
   ]
  },
  {
   "cell_type": "code",
   "execution_count": 95,
   "metadata": {},
   "outputs": [],
   "source": [
    "features_vectorized_df = pd.concat ([features_df , pd.get_dummies(features_df['Road Condition'], prefix='road_condition')] , axis = 1)"
   ]
  },
  {
   "cell_type": "code",
   "execution_count": 96,
   "metadata": {},
   "outputs": [
    {
     "data": {
      "text/html": [
       "<div>\n",
       "<style scoped>\n",
       "    .dataframe tbody tr th:only-of-type {\n",
       "        vertical-align: middle;\n",
       "    }\n",
       "\n",
       "    .dataframe tbody tr th {\n",
       "        vertical-align: top;\n",
       "    }\n",
       "\n",
       "    .dataframe thead th {\n",
       "        text-align: right;\n",
       "    }\n",
       "</style>\n",
       "<table border=\"1\" class=\"dataframe\">\n",
       "  <thead>\n",
       "    <tr style=\"text-align: right;\">\n",
       "      <th></th>\n",
       "      <th>X</th>\n",
       "      <th>Y</th>\n",
       "      <th>Incident Month</th>\n",
       "      <th>Incident Day of Week</th>\n",
       "      <th>Road Condition</th>\n",
       "      <th>Weather</th>\n",
       "      <th>Time of Day</th>\n",
       "      <th>Drunk Driving Incident</th>\n",
       "      <th>Vehicles Involved</th>\n",
       "      <th>Persons Involved</th>\n",
       "      <th>Accident Location</th>\n",
       "      <th>road_condition_Fair</th>\n",
       "      <th>road_condition_Hazardous</th>\n",
       "    </tr>\n",
       "  </thead>\n",
       "  <tbody>\n",
       "    <tr>\n",
       "      <th>0</th>\n",
       "      <td>0.532596</td>\n",
       "      <td>0.870053</td>\n",
       "      <td>March</td>\n",
       "      <td>Wednesday</td>\n",
       "      <td>Hazardous</td>\n",
       "      <td>Clear</td>\n",
       "      <td>Day</td>\n",
       "      <td>No</td>\n",
       "      <td>0.166667</td>\n",
       "      <td>0.024691</td>\n",
       "      <td>Intersection</td>\n",
       "      <td>0</td>\n",
       "      <td>1</td>\n",
       "    </tr>\n",
       "    <tr>\n",
       "      <th>1</th>\n",
       "      <td>0.398557</td>\n",
       "      <td>0.635455</td>\n",
       "      <td>December</td>\n",
       "      <td>Wednesday</td>\n",
       "      <td>Hazardous</td>\n",
       "      <td>Inclement</td>\n",
       "      <td>Night</td>\n",
       "      <td>No</td>\n",
       "      <td>0.166667</td>\n",
       "      <td>0.024691</td>\n",
       "      <td>Block</td>\n",
       "      <td>0</td>\n",
       "      <td>1</td>\n",
       "    </tr>\n",
       "    <tr>\n",
       "      <th>2</th>\n",
       "      <td>0.469359</td>\n",
       "      <td>0.470718</td>\n",
       "      <td>November</td>\n",
       "      <td>Thursday</td>\n",
       "      <td>Fair</td>\n",
       "      <td>Clear</td>\n",
       "      <td>Day</td>\n",
       "      <td>No</td>\n",
       "      <td>0.250000</td>\n",
       "      <td>0.049383</td>\n",
       "      <td>Block</td>\n",
       "      <td>1</td>\n",
       "      <td>0</td>\n",
       "    </tr>\n",
       "    <tr>\n",
       "      <th>3</th>\n",
       "      <td>0.467897</td>\n",
       "      <td>0.457855</td>\n",
       "      <td>March</td>\n",
       "      <td>Friday</td>\n",
       "      <td>Fair</td>\n",
       "      <td>Clear</td>\n",
       "      <td>Day</td>\n",
       "      <td>No</td>\n",
       "      <td>0.250000</td>\n",
       "      <td>0.037037</td>\n",
       "      <td>Block</td>\n",
       "      <td>1</td>\n",
       "      <td>0</td>\n",
       "    </tr>\n",
       "    <tr>\n",
       "      <th>4</th>\n",
       "      <td>0.625423</td>\n",
       "      <td>0.210281</td>\n",
       "      <td>January</td>\n",
       "      <td>Wednesday</td>\n",
       "      <td>Hazardous</td>\n",
       "      <td>Inclement</td>\n",
       "      <td>Day</td>\n",
       "      <td>No</td>\n",
       "      <td>0.166667</td>\n",
       "      <td>0.024691</td>\n",
       "      <td>Intersection</td>\n",
       "      <td>0</td>\n",
       "      <td>1</td>\n",
       "    </tr>\n",
       "    <tr>\n",
       "      <th>...</th>\n",
       "      <td>...</td>\n",
       "      <td>...</td>\n",
       "      <td>...</td>\n",
       "      <td>...</td>\n",
       "      <td>...</td>\n",
       "      <td>...</td>\n",
       "      <td>...</td>\n",
       "      <td>...</td>\n",
       "      <td>...</td>\n",
       "      <td>...</td>\n",
       "      <td>...</td>\n",
       "      <td>...</td>\n",
       "      <td>...</td>\n",
       "    </tr>\n",
       "    <tr>\n",
       "      <th>194668</th>\n",
       "      <td>0.712022</td>\n",
       "      <td>0.292726</td>\n",
       "      <td>November</td>\n",
       "      <td>Monday</td>\n",
       "      <td>Fair</td>\n",
       "      <td>Clear</td>\n",
       "      <td>Day</td>\n",
       "      <td>No</td>\n",
       "      <td>0.166667</td>\n",
       "      <td>0.037037</td>\n",
       "      <td>Block</td>\n",
       "      <td>1</td>\n",
       "      <td>0</td>\n",
       "    </tr>\n",
       "    <tr>\n",
       "      <th>194669</th>\n",
       "      <td>0.413924</td>\n",
       "      <td>0.818844</td>\n",
       "      <td>December</td>\n",
       "      <td>Tuesday</td>\n",
       "      <td>Hazardous</td>\n",
       "      <td>Inclement</td>\n",
       "      <td>Day</td>\n",
       "      <td>No</td>\n",
       "      <td>0.166667</td>\n",
       "      <td>0.024691</td>\n",
       "      <td>Block</td>\n",
       "      <td>0</td>\n",
       "      <td>1</td>\n",
       "    </tr>\n",
       "    <tr>\n",
       "      <th>194670</th>\n",
       "      <td>0.623967</td>\n",
       "      <td>0.785828</td>\n",
       "      <td>January</td>\n",
       "      <td>Saturday</td>\n",
       "      <td>Fair</td>\n",
       "      <td>Clear</td>\n",
       "      <td>Day</td>\n",
       "      <td>No</td>\n",
       "      <td>0.166667</td>\n",
       "      <td>0.037037</td>\n",
       "      <td>Intersection</td>\n",
       "      <td>1</td>\n",
       "      <td>0</td>\n",
       "    </tr>\n",
       "    <tr>\n",
       "      <th>194671</th>\n",
       "      <td>0.354024</td>\n",
       "      <td>0.767751</td>\n",
       "      <td>January</td>\n",
       "      <td>Tuesday</td>\n",
       "      <td>Fair</td>\n",
       "      <td>Clear</td>\n",
       "      <td>Day</td>\n",
       "      <td>No</td>\n",
       "      <td>0.083333</td>\n",
       "      <td>0.024691</td>\n",
       "      <td>Intersection</td>\n",
       "      <td>1</td>\n",
       "      <td>0</td>\n",
       "    </tr>\n",
       "    <tr>\n",
       "      <th>194672</th>\n",
       "      <td>0.720163</td>\n",
       "      <td>0.483903</td>\n",
       "      <td>November</td>\n",
       "      <td>Friday</td>\n",
       "      <td>Hazardous</td>\n",
       "      <td>Clear</td>\n",
       "      <td>Day</td>\n",
       "      <td>No</td>\n",
       "      <td>0.166667</td>\n",
       "      <td>0.024691</td>\n",
       "      <td>Block</td>\n",
       "      <td>0</td>\n",
       "      <td>1</td>\n",
       "    </tr>\n",
       "  </tbody>\n",
       "</table>\n",
       "<p>194673 rows × 13 columns</p>\n",
       "</div>"
      ],
      "text/plain": [
       "               X         Y Incident Month Incident Day of Week Road Condition  \\\n",
       "0       0.532596  0.870053          March            Wednesday      Hazardous   \n",
       "1       0.398557  0.635455       December            Wednesday      Hazardous   \n",
       "2       0.469359  0.470718       November             Thursday           Fair   \n",
       "3       0.467897  0.457855          March               Friday           Fair   \n",
       "4       0.625423  0.210281        January            Wednesday      Hazardous   \n",
       "...          ...       ...            ...                  ...            ...   \n",
       "194668  0.712022  0.292726       November               Monday           Fair   \n",
       "194669  0.413924  0.818844       December              Tuesday      Hazardous   \n",
       "194670  0.623967  0.785828        January             Saturday           Fair   \n",
       "194671  0.354024  0.767751        January              Tuesday           Fair   \n",
       "194672  0.720163  0.483903       November               Friday      Hazardous   \n",
       "\n",
       "          Weather Time of Day Drunk Driving Incident  Vehicles Involved  \\\n",
       "0           Clear         Day                     No           0.166667   \n",
       "1       Inclement       Night                     No           0.166667   \n",
       "2           Clear         Day                     No           0.250000   \n",
       "3           Clear         Day                     No           0.250000   \n",
       "4       Inclement         Day                     No           0.166667   \n",
       "...           ...         ...                    ...                ...   \n",
       "194668      Clear         Day                     No           0.166667   \n",
       "194669  Inclement         Day                     No           0.166667   \n",
       "194670      Clear         Day                     No           0.166667   \n",
       "194671      Clear         Day                     No           0.083333   \n",
       "194672      Clear         Day                     No           0.166667   \n",
       "\n",
       "        Persons Involved Accident Location  road_condition_Fair  \\\n",
       "0               0.024691      Intersection                    0   \n",
       "1               0.024691             Block                    0   \n",
       "2               0.049383             Block                    1   \n",
       "3               0.037037             Block                    1   \n",
       "4               0.024691      Intersection                    0   \n",
       "...                  ...               ...                  ...   \n",
       "194668          0.037037             Block                    1   \n",
       "194669          0.024691             Block                    0   \n",
       "194670          0.037037      Intersection                    1   \n",
       "194671          0.024691      Intersection                    1   \n",
       "194672          0.024691             Block                    0   \n",
       "\n",
       "        road_condition_Hazardous  \n",
       "0                              1  \n",
       "1                              1  \n",
       "2                              0  \n",
       "3                              0  \n",
       "4                              1  \n",
       "...                          ...  \n",
       "194668                         0  \n",
       "194669                         1  \n",
       "194670                         0  \n",
       "194671                         0  \n",
       "194672                         1  \n",
       "\n",
       "[194673 rows x 13 columns]"
      ]
     },
     "execution_count": 96,
     "metadata": {},
     "output_type": "execute_result"
    }
   ],
   "source": [
    "features_vectorized_df"
   ]
  },
  {
   "cell_type": "code",
   "execution_count": 97,
   "metadata": {},
   "outputs": [],
   "source": [
    "features_vectorized_df = features_vectorized_df.drop(['Road Condition'], axis=1)"
   ]
  },
  {
   "cell_type": "code",
   "execution_count": 98,
   "metadata": {},
   "outputs": [
    {
     "data": {
      "text/html": [
       "<div>\n",
       "<style scoped>\n",
       "    .dataframe tbody tr th:only-of-type {\n",
       "        vertical-align: middle;\n",
       "    }\n",
       "\n",
       "    .dataframe tbody tr th {\n",
       "        vertical-align: top;\n",
       "    }\n",
       "\n",
       "    .dataframe thead th {\n",
       "        text-align: right;\n",
       "    }\n",
       "</style>\n",
       "<table border=\"1\" class=\"dataframe\">\n",
       "  <thead>\n",
       "    <tr style=\"text-align: right;\">\n",
       "      <th></th>\n",
       "      <th>X</th>\n",
       "      <th>Y</th>\n",
       "      <th>Incident Month</th>\n",
       "      <th>Incident Day of Week</th>\n",
       "      <th>Weather</th>\n",
       "      <th>Time of Day</th>\n",
       "      <th>Drunk Driving Incident</th>\n",
       "      <th>Vehicles Involved</th>\n",
       "      <th>Persons Involved</th>\n",
       "      <th>Accident Location</th>\n",
       "      <th>road_condition_Fair</th>\n",
       "      <th>road_condition_Hazardous</th>\n",
       "    </tr>\n",
       "  </thead>\n",
       "  <tbody>\n",
       "    <tr>\n",
       "      <th>0</th>\n",
       "      <td>0.532596</td>\n",
       "      <td>0.870053</td>\n",
       "      <td>March</td>\n",
       "      <td>Wednesday</td>\n",
       "      <td>Clear</td>\n",
       "      <td>Day</td>\n",
       "      <td>No</td>\n",
       "      <td>0.166667</td>\n",
       "      <td>0.024691</td>\n",
       "      <td>Intersection</td>\n",
       "      <td>0</td>\n",
       "      <td>1</td>\n",
       "    </tr>\n",
       "    <tr>\n",
       "      <th>1</th>\n",
       "      <td>0.398557</td>\n",
       "      <td>0.635455</td>\n",
       "      <td>December</td>\n",
       "      <td>Wednesday</td>\n",
       "      <td>Inclement</td>\n",
       "      <td>Night</td>\n",
       "      <td>No</td>\n",
       "      <td>0.166667</td>\n",
       "      <td>0.024691</td>\n",
       "      <td>Block</td>\n",
       "      <td>0</td>\n",
       "      <td>1</td>\n",
       "    </tr>\n",
       "    <tr>\n",
       "      <th>2</th>\n",
       "      <td>0.469359</td>\n",
       "      <td>0.470718</td>\n",
       "      <td>November</td>\n",
       "      <td>Thursday</td>\n",
       "      <td>Clear</td>\n",
       "      <td>Day</td>\n",
       "      <td>No</td>\n",
       "      <td>0.250000</td>\n",
       "      <td>0.049383</td>\n",
       "      <td>Block</td>\n",
       "      <td>1</td>\n",
       "      <td>0</td>\n",
       "    </tr>\n",
       "    <tr>\n",
       "      <th>3</th>\n",
       "      <td>0.467897</td>\n",
       "      <td>0.457855</td>\n",
       "      <td>March</td>\n",
       "      <td>Friday</td>\n",
       "      <td>Clear</td>\n",
       "      <td>Day</td>\n",
       "      <td>No</td>\n",
       "      <td>0.250000</td>\n",
       "      <td>0.037037</td>\n",
       "      <td>Block</td>\n",
       "      <td>1</td>\n",
       "      <td>0</td>\n",
       "    </tr>\n",
       "    <tr>\n",
       "      <th>4</th>\n",
       "      <td>0.625423</td>\n",
       "      <td>0.210281</td>\n",
       "      <td>January</td>\n",
       "      <td>Wednesday</td>\n",
       "      <td>Inclement</td>\n",
       "      <td>Day</td>\n",
       "      <td>No</td>\n",
       "      <td>0.166667</td>\n",
       "      <td>0.024691</td>\n",
       "      <td>Intersection</td>\n",
       "      <td>0</td>\n",
       "      <td>1</td>\n",
       "    </tr>\n",
       "    <tr>\n",
       "      <th>...</th>\n",
       "      <td>...</td>\n",
       "      <td>...</td>\n",
       "      <td>...</td>\n",
       "      <td>...</td>\n",
       "      <td>...</td>\n",
       "      <td>...</td>\n",
       "      <td>...</td>\n",
       "      <td>...</td>\n",
       "      <td>...</td>\n",
       "      <td>...</td>\n",
       "      <td>...</td>\n",
       "      <td>...</td>\n",
       "    </tr>\n",
       "    <tr>\n",
       "      <th>194668</th>\n",
       "      <td>0.712022</td>\n",
       "      <td>0.292726</td>\n",
       "      <td>November</td>\n",
       "      <td>Monday</td>\n",
       "      <td>Clear</td>\n",
       "      <td>Day</td>\n",
       "      <td>No</td>\n",
       "      <td>0.166667</td>\n",
       "      <td>0.037037</td>\n",
       "      <td>Block</td>\n",
       "      <td>1</td>\n",
       "      <td>0</td>\n",
       "    </tr>\n",
       "    <tr>\n",
       "      <th>194669</th>\n",
       "      <td>0.413924</td>\n",
       "      <td>0.818844</td>\n",
       "      <td>December</td>\n",
       "      <td>Tuesday</td>\n",
       "      <td>Inclement</td>\n",
       "      <td>Day</td>\n",
       "      <td>No</td>\n",
       "      <td>0.166667</td>\n",
       "      <td>0.024691</td>\n",
       "      <td>Block</td>\n",
       "      <td>0</td>\n",
       "      <td>1</td>\n",
       "    </tr>\n",
       "    <tr>\n",
       "      <th>194670</th>\n",
       "      <td>0.623967</td>\n",
       "      <td>0.785828</td>\n",
       "      <td>January</td>\n",
       "      <td>Saturday</td>\n",
       "      <td>Clear</td>\n",
       "      <td>Day</td>\n",
       "      <td>No</td>\n",
       "      <td>0.166667</td>\n",
       "      <td>0.037037</td>\n",
       "      <td>Intersection</td>\n",
       "      <td>1</td>\n",
       "      <td>0</td>\n",
       "    </tr>\n",
       "    <tr>\n",
       "      <th>194671</th>\n",
       "      <td>0.354024</td>\n",
       "      <td>0.767751</td>\n",
       "      <td>January</td>\n",
       "      <td>Tuesday</td>\n",
       "      <td>Clear</td>\n",
       "      <td>Day</td>\n",
       "      <td>No</td>\n",
       "      <td>0.083333</td>\n",
       "      <td>0.024691</td>\n",
       "      <td>Intersection</td>\n",
       "      <td>1</td>\n",
       "      <td>0</td>\n",
       "    </tr>\n",
       "    <tr>\n",
       "      <th>194672</th>\n",
       "      <td>0.720163</td>\n",
       "      <td>0.483903</td>\n",
       "      <td>November</td>\n",
       "      <td>Friday</td>\n",
       "      <td>Clear</td>\n",
       "      <td>Day</td>\n",
       "      <td>No</td>\n",
       "      <td>0.166667</td>\n",
       "      <td>0.024691</td>\n",
       "      <td>Block</td>\n",
       "      <td>0</td>\n",
       "      <td>1</td>\n",
       "    </tr>\n",
       "  </tbody>\n",
       "</table>\n",
       "<p>194673 rows × 12 columns</p>\n",
       "</div>"
      ],
      "text/plain": [
       "               X         Y Incident Month Incident Day of Week    Weather  \\\n",
       "0       0.532596  0.870053          March            Wednesday      Clear   \n",
       "1       0.398557  0.635455       December            Wednesday  Inclement   \n",
       "2       0.469359  0.470718       November             Thursday      Clear   \n",
       "3       0.467897  0.457855          March               Friday      Clear   \n",
       "4       0.625423  0.210281        January            Wednesday  Inclement   \n",
       "...          ...       ...            ...                  ...        ...   \n",
       "194668  0.712022  0.292726       November               Monday      Clear   \n",
       "194669  0.413924  0.818844       December              Tuesday  Inclement   \n",
       "194670  0.623967  0.785828        January             Saturday      Clear   \n",
       "194671  0.354024  0.767751        January              Tuesday      Clear   \n",
       "194672  0.720163  0.483903       November               Friday      Clear   \n",
       "\n",
       "       Time of Day Drunk Driving Incident  Vehicles Involved  \\\n",
       "0              Day                     No           0.166667   \n",
       "1            Night                     No           0.166667   \n",
       "2              Day                     No           0.250000   \n",
       "3              Day                     No           0.250000   \n",
       "4              Day                     No           0.166667   \n",
       "...            ...                    ...                ...   \n",
       "194668         Day                     No           0.166667   \n",
       "194669         Day                     No           0.166667   \n",
       "194670         Day                     No           0.166667   \n",
       "194671         Day                     No           0.083333   \n",
       "194672         Day                     No           0.166667   \n",
       "\n",
       "        Persons Involved Accident Location  road_condition_Fair  \\\n",
       "0               0.024691      Intersection                    0   \n",
       "1               0.024691             Block                    0   \n",
       "2               0.049383             Block                    1   \n",
       "3               0.037037             Block                    1   \n",
       "4               0.024691      Intersection                    0   \n",
       "...                  ...               ...                  ...   \n",
       "194668          0.037037             Block                    1   \n",
       "194669          0.024691             Block                    0   \n",
       "194670          0.037037      Intersection                    1   \n",
       "194671          0.024691      Intersection                    1   \n",
       "194672          0.024691             Block                    0   \n",
       "\n",
       "        road_condition_Hazardous  \n",
       "0                              1  \n",
       "1                              1  \n",
       "2                              0  \n",
       "3                              0  \n",
       "4                              1  \n",
       "...                          ...  \n",
       "194668                         0  \n",
       "194669                         1  \n",
       "194670                         0  \n",
       "194671                         0  \n",
       "194672                         1  \n",
       "\n",
       "[194673 rows x 12 columns]"
      ]
     },
     "execution_count": 98,
     "metadata": {},
     "output_type": "execute_result"
    }
   ],
   "source": [
    "features_vectorized_df"
   ]
  },
  {
   "cell_type": "code",
   "execution_count": 99,
   "metadata": {},
   "outputs": [],
   "source": [
    "features_vectorized_df = pd.concat ([features_vectorized_df , pd.get_dummies(features_df['Weather'], prefix='weather_condition')] , axis = 1)\n",
    "features_vectorized_df = features_vectorized_df.drop(['Weather'], axis=1)"
   ]
  },
  {
   "cell_type": "code",
   "execution_count": 100,
   "metadata": {},
   "outputs": [],
   "source": [
    "features_vectorized_df = pd.concat ([features_vectorized_df , pd.get_dummies(features_df['Time of Day'])] , axis = 1)\n",
    "features_vectorized_df = features_vectorized_df.drop(['Time of Day'], axis=1)"
   ]
  },
  {
   "cell_type": "code",
   "execution_count": 101,
   "metadata": {},
   "outputs": [],
   "source": [
    "features_vectorized_df = pd.concat ([features_vectorized_df , pd.get_dummies(features_df['Drunk Driving Incident'], prefix='drunk_driver_related')] , axis = 1)\n",
    "features_vectorized_df = features_vectorized_df.drop(['Drunk Driving Incident'], axis=1)"
   ]
  },
  {
   "cell_type": "code",
   "execution_count": 102,
   "metadata": {},
   "outputs": [],
   "source": [
    "features_vectorized_df = pd.concat ([features_vectorized_df , pd.get_dummies(features_df['Accident Location'])] , axis = 1)\n",
    "features_vectorized_df = features_vectorized_df.drop(['Accident Location'], axis=1)"
   ]
  },
  {
   "cell_type": "code",
   "execution_count": 103,
   "metadata": {},
   "outputs": [],
   "source": [
    "features_vectorized_df = pd.concat ([features_vectorized_df , pd.get_dummies(features_df['Incident Month'], prefix='month_of_year')] , axis = 1)\n",
    "features_vectorized_df = features_vectorized_df.drop(['Incident Month'], axis=1)"
   ]
  },
  {
   "cell_type": "code",
   "execution_count": 104,
   "metadata": {},
   "outputs": [],
   "source": [
    "features_vectorized_df = pd.concat ([features_vectorized_df , pd.get_dummies(features_df['Incident Day of Week'], prefix='day_of_the_week')] , axis = 1)\n",
    "features_vectorized_df = features_vectorized_df.drop(['Incident Day of Week'], axis=1)"
   ]
  },
  {
   "cell_type": "code",
   "execution_count": 105,
   "metadata": {},
   "outputs": [
    {
     "data": {
      "text/html": [
       "<div>\n",
       "<style scoped>\n",
       "    .dataframe tbody tr th:only-of-type {\n",
       "        vertical-align: middle;\n",
       "    }\n",
       "\n",
       "    .dataframe tbody tr th {\n",
       "        vertical-align: top;\n",
       "    }\n",
       "\n",
       "    .dataframe thead th {\n",
       "        text-align: right;\n",
       "    }\n",
       "</style>\n",
       "<table border=\"1\" class=\"dataframe\">\n",
       "  <thead>\n",
       "    <tr style=\"text-align: right;\">\n",
       "      <th></th>\n",
       "      <th>X</th>\n",
       "      <th>Y</th>\n",
       "      <th>Vehicles Involved</th>\n",
       "      <th>Persons Involved</th>\n",
       "      <th>road_condition_Fair</th>\n",
       "      <th>road_condition_Hazardous</th>\n",
       "      <th>weather_condition_Clear</th>\n",
       "      <th>weather_condition_Inclement</th>\n",
       "      <th>Day</th>\n",
       "      <th>Night</th>\n",
       "      <th>...</th>\n",
       "      <th>month_of_year_November</th>\n",
       "      <th>month_of_year_October</th>\n",
       "      <th>month_of_year_September</th>\n",
       "      <th>day_of_the_week_Friday</th>\n",
       "      <th>day_of_the_week_Monday</th>\n",
       "      <th>day_of_the_week_Saturday</th>\n",
       "      <th>day_of_the_week_Sunday</th>\n",
       "      <th>day_of_the_week_Thursday</th>\n",
       "      <th>day_of_the_week_Tuesday</th>\n",
       "      <th>day_of_the_week_Wednesday</th>\n",
       "    </tr>\n",
       "  </thead>\n",
       "  <tbody>\n",
       "    <tr>\n",
       "      <th>0</th>\n",
       "      <td>0.532596</td>\n",
       "      <td>0.870053</td>\n",
       "      <td>0.166667</td>\n",
       "      <td>0.024691</td>\n",
       "      <td>0</td>\n",
       "      <td>1</td>\n",
       "      <td>1</td>\n",
       "      <td>0</td>\n",
       "      <td>1</td>\n",
       "      <td>0</td>\n",
       "      <td>...</td>\n",
       "      <td>0</td>\n",
       "      <td>0</td>\n",
       "      <td>0</td>\n",
       "      <td>0</td>\n",
       "      <td>0</td>\n",
       "      <td>0</td>\n",
       "      <td>0</td>\n",
       "      <td>0</td>\n",
       "      <td>0</td>\n",
       "      <td>1</td>\n",
       "    </tr>\n",
       "    <tr>\n",
       "      <th>1</th>\n",
       "      <td>0.398557</td>\n",
       "      <td>0.635455</td>\n",
       "      <td>0.166667</td>\n",
       "      <td>0.024691</td>\n",
       "      <td>0</td>\n",
       "      <td>1</td>\n",
       "      <td>0</td>\n",
       "      <td>1</td>\n",
       "      <td>0</td>\n",
       "      <td>1</td>\n",
       "      <td>...</td>\n",
       "      <td>0</td>\n",
       "      <td>0</td>\n",
       "      <td>0</td>\n",
       "      <td>0</td>\n",
       "      <td>0</td>\n",
       "      <td>0</td>\n",
       "      <td>0</td>\n",
       "      <td>0</td>\n",
       "      <td>0</td>\n",
       "      <td>1</td>\n",
       "    </tr>\n",
       "    <tr>\n",
       "      <th>2</th>\n",
       "      <td>0.469359</td>\n",
       "      <td>0.470718</td>\n",
       "      <td>0.250000</td>\n",
       "      <td>0.049383</td>\n",
       "      <td>1</td>\n",
       "      <td>0</td>\n",
       "      <td>1</td>\n",
       "      <td>0</td>\n",
       "      <td>1</td>\n",
       "      <td>0</td>\n",
       "      <td>...</td>\n",
       "      <td>1</td>\n",
       "      <td>0</td>\n",
       "      <td>0</td>\n",
       "      <td>0</td>\n",
       "      <td>0</td>\n",
       "      <td>0</td>\n",
       "      <td>0</td>\n",
       "      <td>1</td>\n",
       "      <td>0</td>\n",
       "      <td>0</td>\n",
       "    </tr>\n",
       "    <tr>\n",
       "      <th>3</th>\n",
       "      <td>0.467897</td>\n",
       "      <td>0.457855</td>\n",
       "      <td>0.250000</td>\n",
       "      <td>0.037037</td>\n",
       "      <td>1</td>\n",
       "      <td>0</td>\n",
       "      <td>1</td>\n",
       "      <td>0</td>\n",
       "      <td>1</td>\n",
       "      <td>0</td>\n",
       "      <td>...</td>\n",
       "      <td>0</td>\n",
       "      <td>0</td>\n",
       "      <td>0</td>\n",
       "      <td>1</td>\n",
       "      <td>0</td>\n",
       "      <td>0</td>\n",
       "      <td>0</td>\n",
       "      <td>0</td>\n",
       "      <td>0</td>\n",
       "      <td>0</td>\n",
       "    </tr>\n",
       "    <tr>\n",
       "      <th>4</th>\n",
       "      <td>0.625423</td>\n",
       "      <td>0.210281</td>\n",
       "      <td>0.166667</td>\n",
       "      <td>0.024691</td>\n",
       "      <td>0</td>\n",
       "      <td>1</td>\n",
       "      <td>0</td>\n",
       "      <td>1</td>\n",
       "      <td>1</td>\n",
       "      <td>0</td>\n",
       "      <td>...</td>\n",
       "      <td>0</td>\n",
       "      <td>0</td>\n",
       "      <td>0</td>\n",
       "      <td>0</td>\n",
       "      <td>0</td>\n",
       "      <td>0</td>\n",
       "      <td>0</td>\n",
       "      <td>0</td>\n",
       "      <td>0</td>\n",
       "      <td>1</td>\n",
       "    </tr>\n",
       "    <tr>\n",
       "      <th>...</th>\n",
       "      <td>...</td>\n",
       "      <td>...</td>\n",
       "      <td>...</td>\n",
       "      <td>...</td>\n",
       "      <td>...</td>\n",
       "      <td>...</td>\n",
       "      <td>...</td>\n",
       "      <td>...</td>\n",
       "      <td>...</td>\n",
       "      <td>...</td>\n",
       "      <td>...</td>\n",
       "      <td>...</td>\n",
       "      <td>...</td>\n",
       "      <td>...</td>\n",
       "      <td>...</td>\n",
       "      <td>...</td>\n",
       "      <td>...</td>\n",
       "      <td>...</td>\n",
       "      <td>...</td>\n",
       "      <td>...</td>\n",
       "      <td>...</td>\n",
       "    </tr>\n",
       "    <tr>\n",
       "      <th>194668</th>\n",
       "      <td>0.712022</td>\n",
       "      <td>0.292726</td>\n",
       "      <td>0.166667</td>\n",
       "      <td>0.037037</td>\n",
       "      <td>1</td>\n",
       "      <td>0</td>\n",
       "      <td>1</td>\n",
       "      <td>0</td>\n",
       "      <td>1</td>\n",
       "      <td>0</td>\n",
       "      <td>...</td>\n",
       "      <td>1</td>\n",
       "      <td>0</td>\n",
       "      <td>0</td>\n",
       "      <td>0</td>\n",
       "      <td>1</td>\n",
       "      <td>0</td>\n",
       "      <td>0</td>\n",
       "      <td>0</td>\n",
       "      <td>0</td>\n",
       "      <td>0</td>\n",
       "    </tr>\n",
       "    <tr>\n",
       "      <th>194669</th>\n",
       "      <td>0.413924</td>\n",
       "      <td>0.818844</td>\n",
       "      <td>0.166667</td>\n",
       "      <td>0.024691</td>\n",
       "      <td>0</td>\n",
       "      <td>1</td>\n",
       "      <td>0</td>\n",
       "      <td>1</td>\n",
       "      <td>1</td>\n",
       "      <td>0</td>\n",
       "      <td>...</td>\n",
       "      <td>0</td>\n",
       "      <td>0</td>\n",
       "      <td>0</td>\n",
       "      <td>0</td>\n",
       "      <td>0</td>\n",
       "      <td>0</td>\n",
       "      <td>0</td>\n",
       "      <td>0</td>\n",
       "      <td>1</td>\n",
       "      <td>0</td>\n",
       "    </tr>\n",
       "    <tr>\n",
       "      <th>194670</th>\n",
       "      <td>0.623967</td>\n",
       "      <td>0.785828</td>\n",
       "      <td>0.166667</td>\n",
       "      <td>0.037037</td>\n",
       "      <td>1</td>\n",
       "      <td>0</td>\n",
       "      <td>1</td>\n",
       "      <td>0</td>\n",
       "      <td>1</td>\n",
       "      <td>0</td>\n",
       "      <td>...</td>\n",
       "      <td>0</td>\n",
       "      <td>0</td>\n",
       "      <td>0</td>\n",
       "      <td>0</td>\n",
       "      <td>0</td>\n",
       "      <td>1</td>\n",
       "      <td>0</td>\n",
       "      <td>0</td>\n",
       "      <td>0</td>\n",
       "      <td>0</td>\n",
       "    </tr>\n",
       "    <tr>\n",
       "      <th>194671</th>\n",
       "      <td>0.354024</td>\n",
       "      <td>0.767751</td>\n",
       "      <td>0.083333</td>\n",
       "      <td>0.024691</td>\n",
       "      <td>1</td>\n",
       "      <td>0</td>\n",
       "      <td>1</td>\n",
       "      <td>0</td>\n",
       "      <td>1</td>\n",
       "      <td>0</td>\n",
       "      <td>...</td>\n",
       "      <td>0</td>\n",
       "      <td>0</td>\n",
       "      <td>0</td>\n",
       "      <td>0</td>\n",
       "      <td>0</td>\n",
       "      <td>0</td>\n",
       "      <td>0</td>\n",
       "      <td>0</td>\n",
       "      <td>1</td>\n",
       "      <td>0</td>\n",
       "    </tr>\n",
       "    <tr>\n",
       "      <th>194672</th>\n",
       "      <td>0.720163</td>\n",
       "      <td>0.483903</td>\n",
       "      <td>0.166667</td>\n",
       "      <td>0.024691</td>\n",
       "      <td>0</td>\n",
       "      <td>1</td>\n",
       "      <td>1</td>\n",
       "      <td>0</td>\n",
       "      <td>1</td>\n",
       "      <td>0</td>\n",
       "      <td>...</td>\n",
       "      <td>1</td>\n",
       "      <td>0</td>\n",
       "      <td>0</td>\n",
       "      <td>1</td>\n",
       "      <td>0</td>\n",
       "      <td>0</td>\n",
       "      <td>0</td>\n",
       "      <td>0</td>\n",
       "      <td>0</td>\n",
       "      <td>0</td>\n",
       "    </tr>\n",
       "  </tbody>\n",
       "</table>\n",
       "<p>194673 rows × 34 columns</p>\n",
       "</div>"
      ],
      "text/plain": [
       "               X         Y  Vehicles Involved  Persons Involved  \\\n",
       "0       0.532596  0.870053           0.166667          0.024691   \n",
       "1       0.398557  0.635455           0.166667          0.024691   \n",
       "2       0.469359  0.470718           0.250000          0.049383   \n",
       "3       0.467897  0.457855           0.250000          0.037037   \n",
       "4       0.625423  0.210281           0.166667          0.024691   \n",
       "...          ...       ...                ...               ...   \n",
       "194668  0.712022  0.292726           0.166667          0.037037   \n",
       "194669  0.413924  0.818844           0.166667          0.024691   \n",
       "194670  0.623967  0.785828           0.166667          0.037037   \n",
       "194671  0.354024  0.767751           0.083333          0.024691   \n",
       "194672  0.720163  0.483903           0.166667          0.024691   \n",
       "\n",
       "        road_condition_Fair  road_condition_Hazardous  \\\n",
       "0                         0                         1   \n",
       "1                         0                         1   \n",
       "2                         1                         0   \n",
       "3                         1                         0   \n",
       "4                         0                         1   \n",
       "...                     ...                       ...   \n",
       "194668                    1                         0   \n",
       "194669                    0                         1   \n",
       "194670                    1                         0   \n",
       "194671                    1                         0   \n",
       "194672                    0                         1   \n",
       "\n",
       "        weather_condition_Clear  weather_condition_Inclement  Day  Night  ...  \\\n",
       "0                             1                            0    1      0  ...   \n",
       "1                             0                            1    0      1  ...   \n",
       "2                             1                            0    1      0  ...   \n",
       "3                             1                            0    1      0  ...   \n",
       "4                             0                            1    1      0  ...   \n",
       "...                         ...                          ...  ...    ...  ...   \n",
       "194668                        1                            0    1      0  ...   \n",
       "194669                        0                            1    1      0  ...   \n",
       "194670                        1                            0    1      0  ...   \n",
       "194671                        1                            0    1      0  ...   \n",
       "194672                        1                            0    1      0  ...   \n",
       "\n",
       "        month_of_year_November  month_of_year_October  \\\n",
       "0                            0                      0   \n",
       "1                            0                      0   \n",
       "2                            1                      0   \n",
       "3                            0                      0   \n",
       "4                            0                      0   \n",
       "...                        ...                    ...   \n",
       "194668                       1                      0   \n",
       "194669                       0                      0   \n",
       "194670                       0                      0   \n",
       "194671                       0                      0   \n",
       "194672                       1                      0   \n",
       "\n",
       "        month_of_year_September  day_of_the_week_Friday  \\\n",
       "0                             0                       0   \n",
       "1                             0                       0   \n",
       "2                             0                       0   \n",
       "3                             0                       1   \n",
       "4                             0                       0   \n",
       "...                         ...                     ...   \n",
       "194668                        0                       0   \n",
       "194669                        0                       0   \n",
       "194670                        0                       0   \n",
       "194671                        0                       0   \n",
       "194672                        0                       1   \n",
       "\n",
       "        day_of_the_week_Monday  day_of_the_week_Saturday  \\\n",
       "0                            0                         0   \n",
       "1                            0                         0   \n",
       "2                            0                         0   \n",
       "3                            0                         0   \n",
       "4                            0                         0   \n",
       "...                        ...                       ...   \n",
       "194668                       1                         0   \n",
       "194669                       0                         0   \n",
       "194670                       0                         1   \n",
       "194671                       0                         0   \n",
       "194672                       0                         0   \n",
       "\n",
       "        day_of_the_week_Sunday  day_of_the_week_Thursday  \\\n",
       "0                            0                         0   \n",
       "1                            0                         0   \n",
       "2                            0                         1   \n",
       "3                            0                         0   \n",
       "4                            0                         0   \n",
       "...                        ...                       ...   \n",
       "194668                       0                         0   \n",
       "194669                       0                         0   \n",
       "194670                       0                         0   \n",
       "194671                       0                         0   \n",
       "194672                       0                         0   \n",
       "\n",
       "        day_of_the_week_Tuesday  day_of_the_week_Wednesday  \n",
       "0                             0                          1  \n",
       "1                             0                          1  \n",
       "2                             0                          0  \n",
       "3                             0                          0  \n",
       "4                             0                          1  \n",
       "...                         ...                        ...  \n",
       "194668                        0                          0  \n",
       "194669                        1                          0  \n",
       "194670                        0                          0  \n",
       "194671                        1                          0  \n",
       "194672                        0                          0  \n",
       "\n",
       "[194673 rows x 34 columns]"
      ]
     },
     "execution_count": 105,
     "metadata": {},
     "output_type": "execute_result"
    }
   ],
   "source": [
    "features_vectorized_df"
   ]
  },
  {
   "cell_type": "markdown",
   "metadata": {},
   "source": [
    "<br>"
   ]
  },
  {
   "cell_type": "markdown",
   "metadata": {},
   "source": [
    "## Visualizing the Data"
   ]
  },
  {
   "cell_type": "code",
   "execution_count": 106,
   "metadata": {},
   "outputs": [],
   "source": [
    "import seaborn as sns\n",
    "import matplotlib.pyplot as plt\n",
    "\n",
    "sns.set_theme(style='ticks', color_codes=True)"
   ]
  },
  {
   "cell_type": "markdown",
   "metadata": {},
   "source": [
    "<br>"
   ]
  },
  {
   "cell_type": "markdown",
   "metadata": {},
   "source": [
    "### Charting Persons Involved for Different Days, Months , and Times of Day"
   ]
  },
  {
   "cell_type": "code",
   "execution_count": 107,
   "metadata": {},
   "outputs": [
    {
     "data": {
      "text/plain": [
       "<seaborn.axisgrid.FacetGrid at 0x7f6fc7d0ef10>"
      ]
     },
     "execution_count": 107,
     "metadata": {},
     "output_type": "execute_result"
    },
    {
     "data": {
      "image/png": "[encoded data removed]",
      "text/plain": [
       "<Figure size 360x360 with 1 Axes>"
      ]
     },
     "metadata": {},
     "output_type": "display_data"
    }
   ],
   "source": [
    "sns.catplot(x=\"Time of Day\", y=\"Persons Involved\"  ,data=unscaled_features_df)"
   ]
  },
  {
   "cell_type": "code",
   "execution_count": 108,
   "metadata": {},
   "outputs": [
    {
     "data": {
      "text/plain": [
       "<seaborn.axisgrid.FacetGrid at 0x7f6fd7cc25e0>"
      ]
     },
     "execution_count": 108,
     "metadata": {},
     "output_type": "execute_result"
    },
    {
     "data": {
      "image/png": "[encoded data removed]",
      "text/plain": [
       "<Figure size 360x360 with 1 Axes>"
      ]
     },
     "metadata": {},
     "output_type": "display_data"
    }
   ],
   "source": [
    "sns.catplot(x=\"Time of Day\", y=\"Persons Involved\" , data=unscaled_features_df, kind=\"box\")"
   ]
  },
  {
   "cell_type": "code",
   "execution_count": 112,
   "metadata": {},
   "outputs": [
    {
     "data": {
      "text/plain": [
       "<seaborn.axisgrid.FacetGrid at 0x7f6fd0938280>"
      ]
     },
     "execution_count": 112,
     "metadata": {},
     "output_type": "execute_result"
    },
    {
     "data": {
      "image/png": "[encoded data removed]",
      "text/plain": [
       "<Figure size 540x360 with 1 Axes>"
      ]
     },
     "metadata": {},
     "output_type": "display_data"
    }
   ],
   "source": [
    "sns.catplot(x=\"Incident Day of Week\", y=\"Persons Involved\" , data=unscaled_features_df, aspect=1.5)"
   ]
  },
  {
   "cell_type": "code",
   "execution_count": 113,
   "metadata": {},
   "outputs": [
    {
     "data": {
      "text/plain": [
       "<seaborn.axisgrid.FacetGrid at 0x7f6fc7520b80>"
      ]
     },
     "execution_count": 113,
     "metadata": {},
     "output_type": "execute_result"
    },
    {
     "data": {
      "image/png": "[encoded data removed]",
      "text/plain": [
       "<Figure size 540x360 with 1 Axes>"
      ]
     },
     "metadata": {},
     "output_type": "display_data"
    }
   ],
   "source": [
    "sns.catplot(x=\"Incident Day of Week\", y=\"Persons Involved\" , data=unscaled_features_df, aspect=1.5, kind='box')"
   ]
  },
  {
   "cell_type": "code",
   "execution_count": 115,
   "metadata": {},
   "outputs": [
    {
     "data": {
      "text/plain": [
       "<seaborn.axisgrid.FacetGrid at 0x7f6fc6fb5bb0>"
      ]
     },
     "execution_count": 115,
     "metadata": {},
     "output_type": "execute_result"
    },
    {
     "data": {
      "image/png": "[encoded data removed]",
      "text/plain": [
       "<Figure size 900x360 with 1 Axes>"
      ]
     },
     "metadata": {},
     "output_type": "display_data"
    }
   ],
   "source": [
    "sns.catplot(x=\"Incident Month\", y=\"Persons Involved\" , data=unscaled_features_df, aspect=2.5, kind='box')"
   ]
  },
  {
   "cell_type": "markdown",
   "metadata": {},
   "source": [
    "### Charting Vehicles Involved for Different Days, Months, and Times of Day"
   ]
  },
  {
   "cell_type": "code",
   "execution_count": 116,
   "metadata": {},
   "outputs": [
    {
     "data": {
      "text/plain": [
       "<seaborn.axisgrid.FacetGrid at 0x7f6fc74e2e50>"
      ]
     },
     "execution_count": 116,
     "metadata": {},
     "output_type": "execute_result"
    },
    {
     "data": {
      "image/png": "[encoded data removed]",
      "text/plain": [
       "<Figure size 360x360 with 1 Axes>"
      ]
     },
     "metadata": {},
     "output_type": "display_data"
    }
   ],
   "source": [
    "sns.catplot(x=\"Time of Day\", y=\"Vehicles Involved\"  ,data=unscaled_features_df)"
   ]
  },
  {
   "cell_type": "code",
   "execution_count": 118,
   "metadata": {},
   "outputs": [
    {
     "data": {
      "text/plain": [
       "<seaborn.axisgrid.FacetGrid at 0x7f6fc71414f0>"
      ]
     },
     "execution_count": 118,
     "metadata": {},
     "output_type": "execute_result"
    },
    {
     "data": {
      "image/png": "[encoded data removed]",
      "text/plain": [
       "<Figure size 360x360 with 1 Axes>"
      ]
     },
     "metadata": {},
     "output_type": "display_data"
    }
   ],
   "source": [
    "sns.catplot(x=\"Time of Day\", y=\"Vehicles Involved\"  ,data=unscaled_features_df, kind='box')"
   ]
  },
  {
   "cell_type": "code",
   "execution_count": 120,
   "metadata": {},
   "outputs": [
    {
     "data": {
      "text/plain": [
       "<seaborn.axisgrid.FacetGrid at 0x7f6fc7315280>"
      ]
     },
     "execution_count": 120,
     "metadata": {},
     "output_type": "execute_result"
    },
    {
     "data": {
      "image/png": "[encoded data removed]",
      "text/plain": [
       "<Figure size 540x360 with 1 Axes>"
      ]
     },
     "metadata": {},
     "output_type": "display_data"
    }
   ],
   "source": [
    "sns.catplot(x=\"Incident Day of Week\", y=\"Vehicles Involved\" , data=unscaled_features_df, aspect=1.5)"
   ]
  },
  {
   "cell_type": "code",
   "execution_count": 121,
   "metadata": {},
   "outputs": [
    {
     "data": {
      "text/plain": [
       "<seaborn.axisgrid.FacetGrid at 0x7f6fc609b040>"
      ]
     },
     "execution_count": 121,
     "metadata": {},
     "output_type": "execute_result"
    },
    {
     "data": {
      "image/png": "[encoded data removed]",
      "text/plain": [
       "<Figure size 540x360 with 1 Axes>"
      ]
     },
     "metadata": {},
     "output_type": "display_data"
    }
   ],
   "source": [
    "sns.catplot(x=\"Incident Day of Week\", y=\"Vehicles Involved\" , data=unscaled_features_df, aspect=1.5, kind='box')"
   ]
  },
  {
   "cell_type": "code",
   "execution_count": 122,
   "metadata": {},
   "outputs": [
    {
     "data": {
      "text/plain": [
       "<seaborn.axisgrid.FacetGrid at 0x7f6fc62430d0>"
      ]
     },
     "execution_count": 122,
     "metadata": {},
     "output_type": "execute_result"
    },
    {
     "data": {
      "image/png": "[encoded data removed]",
      "text/plain": [
       "<Figure size 900x360 with 1 Axes>"
      ]
     },
     "metadata": {},
     "output_type": "display_data"
    }
   ],
   "source": [
    "sns.catplot(x=\"Incident Month\", y=\"Vehicles Involved\" , data=unscaled_features_df, aspect=2.5, kind='box')"
   ]
  },
  {
   "cell_type": "code",
   "execution_count": 123,
   "metadata": {},
   "outputs": [
    {
     "data": {
      "text/plain": [
       "<seaborn.axisgrid.FacetGrid at 0x7f6fc641bc10>"
      ]
     },
     "execution_count": 123,
     "metadata": {},
     "output_type": "execute_result"
    },
    {
     "data": {
      "image/png": "[encoded data removed]",
      "text/plain": [
       "<Figure size 900x360 with 1 Axes>"
      ]
     },
     "metadata": {},
     "output_type": "display_data"
    }
   ],
   "source": [
    "sns.catplot(x=\"Incident Month\", y=\"Vehicles Involved\" , data=unscaled_features_df, aspect=2.5)"
   ]
  },
  {
   "cell_type": "code",
   "execution_count": 125,
   "metadata": {},
   "outputs": [
    {
     "data": {
      "text/plain": [
       "<seaborn.axisgrid.FacetGrid at 0x7f6fc5fc0730>"
      ]
     },
     "execution_count": 125,
     "metadata": {},
     "output_type": "execute_result"
    },
    {
     "data": {
      "image/png": "[encoded data removed]",
      "text/plain": [
       "<Figure size 360x360 with 1 Axes>"
      ]
     },
     "metadata": {},
     "output_type": "display_data"
    }
   ],
   "source": [
    "sns.catplot(x=\"Weather\", y=\"Persons Involved\"  ,data=unscaled_features_df , kind='box')"
   ]
  },
  {
   "cell_type": "code",
   "execution_count": null,
   "metadata": {},
   "outputs": [],
   "source": []
  }
 ],
 "metadata": {
  "kernelspec": {
   "display_name": "Python 3",
   "language": "python",
   "name": "python3"
  },
  "language_info": {
   "codemirror_mode": {
    "name": "ipython",
    "version": 3
   },
   "file_extension": ".py",
   "mimetype": "text/x-python",
   "name": "python",
   "nbconvert_exporter": "python",
   "pygments_lexer": "ipython3",
   "version": "3.8.5"
  }
 },
 "nbformat": 4,
 "nbformat_minor": 4
}
