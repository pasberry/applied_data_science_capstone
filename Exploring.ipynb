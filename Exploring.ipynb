{
 "cells": [
  {
   "cell_type": "markdown",
   "metadata": {},
   "source": [
    "# Exploratory Data Analysis Notebook\n",
    "\n",
    "\n"
   ]
  },
  {
   "cell_type": "code",
   "execution_count": 4,
   "metadata": {},
   "outputs": [],
   "source": [
    "import pandas as pd"
   ]
  },
  {
   "cell_type": "code",
   "execution_count": 5,
   "metadata": {},
   "outputs": [],
   "source": [
    "import numpy as np"
   ]
  },
  {
   "cell_type": "markdown",
   "metadata": {},
   "source": [
    "## Loading and Sampling the Data"
   ]
  },
  {
   "cell_type": "code",
   "execution_count": 6,
   "metadata": {},
   "outputs": [
    {
     "name": "stderr",
     "output_type": "stream",
     "text": [
      "/home/pasberry/anaconda3/envs/coursera_pyspark/lib/python3.8/site-packages/IPython/core/interactiveshell.py:3145: DtypeWarning: Columns (33) have mixed types.Specify dtype option on import or set low_memory=False.\n",
      "  has_raised = await self.run_ast_nodes(code_ast.body, cell_name,\n"
     ]
    }
   ],
   "source": [
    "accident_df = pd.read_csv('./Data-Collisions.csv' )"
   ]
  },
  {
   "cell_type": "code",
   "execution_count": 7,
   "metadata": {},
   "outputs": [
    {
     "data": {
      "text/html": [
       "<div>\n",
       "<style scoped>\n",
       "    .dataframe tbody tr th:only-of-type {\n",
       "        vertical-align: middle;\n",
       "    }\n",
       "\n",
       "    .dataframe tbody tr th {\n",
       "        vertical-align: top;\n",
       "    }\n",
       "\n",
       "    .dataframe thead th {\n",
       "        text-align: right;\n",
       "    }\n",
       "</style>\n",
       "<table border=\"1\" class=\"dataframe\">\n",
       "  <thead>\n",
       "    <tr style=\"text-align: right;\">\n",
       "      <th></th>\n",
       "      <th>SEVERITYCODE</th>\n",
       "      <th>X</th>\n",
       "      <th>Y</th>\n",
       "      <th>OBJECTID</th>\n",
       "      <th>INCKEY</th>\n",
       "      <th>COLDETKEY</th>\n",
       "      <th>REPORTNO</th>\n",
       "      <th>STATUS</th>\n",
       "      <th>ADDRTYPE</th>\n",
       "      <th>INTKEY</th>\n",
       "      <th>...</th>\n",
       "      <th>ROADCOND</th>\n",
       "      <th>LIGHTCOND</th>\n",
       "      <th>PEDROWNOTGRNT</th>\n",
       "      <th>SDOTCOLNUM</th>\n",
       "      <th>SPEEDING</th>\n",
       "      <th>ST_COLCODE</th>\n",
       "      <th>ST_COLDESC</th>\n",
       "      <th>SEGLANEKEY</th>\n",
       "      <th>CROSSWALKKEY</th>\n",
       "      <th>HITPARKEDCAR</th>\n",
       "    </tr>\n",
       "  </thead>\n",
       "  <tbody>\n",
       "    <tr>\n",
       "      <th>0</th>\n",
       "      <td>2</td>\n",
       "      <td>-122.323148</td>\n",
       "      <td>47.703140</td>\n",
       "      <td>1</td>\n",
       "      <td>1307</td>\n",
       "      <td>1307</td>\n",
       "      <td>3502005</td>\n",
       "      <td>Matched</td>\n",
       "      <td>Intersection</td>\n",
       "      <td>37475.0</td>\n",
       "      <td>...</td>\n",
       "      <td>Wet</td>\n",
       "      <td>Daylight</td>\n",
       "      <td>NaN</td>\n",
       "      <td>NaN</td>\n",
       "      <td>NaN</td>\n",
       "      <td>10</td>\n",
       "      <td>Entering at angle</td>\n",
       "      <td>0</td>\n",
       "      <td>0</td>\n",
       "      <td>N</td>\n",
       "    </tr>\n",
       "    <tr>\n",
       "      <th>1</th>\n",
       "      <td>1</td>\n",
       "      <td>-122.347294</td>\n",
       "      <td>47.647172</td>\n",
       "      <td>2</td>\n",
       "      <td>52200</td>\n",
       "      <td>52200</td>\n",
       "      <td>2607959</td>\n",
       "      <td>Matched</td>\n",
       "      <td>Block</td>\n",
       "      <td>NaN</td>\n",
       "      <td>...</td>\n",
       "      <td>Wet</td>\n",
       "      <td>Dark - Street Lights On</td>\n",
       "      <td>NaN</td>\n",
       "      <td>6354039.0</td>\n",
       "      <td>NaN</td>\n",
       "      <td>11</td>\n",
       "      <td>From same direction - both going straight - bo...</td>\n",
       "      <td>0</td>\n",
       "      <td>0</td>\n",
       "      <td>N</td>\n",
       "    </tr>\n",
       "    <tr>\n",
       "      <th>2</th>\n",
       "      <td>1</td>\n",
       "      <td>-122.334540</td>\n",
       "      <td>47.607871</td>\n",
       "      <td>3</td>\n",
       "      <td>26700</td>\n",
       "      <td>26700</td>\n",
       "      <td>1482393</td>\n",
       "      <td>Matched</td>\n",
       "      <td>Block</td>\n",
       "      <td>NaN</td>\n",
       "      <td>...</td>\n",
       "      <td>Dry</td>\n",
       "      <td>Daylight</td>\n",
       "      <td>NaN</td>\n",
       "      <td>4323031.0</td>\n",
       "      <td>NaN</td>\n",
       "      <td>32</td>\n",
       "      <td>One parked--one moving</td>\n",
       "      <td>0</td>\n",
       "      <td>0</td>\n",
       "      <td>N</td>\n",
       "    </tr>\n",
       "    <tr>\n",
       "      <th>3</th>\n",
       "      <td>1</td>\n",
       "      <td>-122.334803</td>\n",
       "      <td>47.604803</td>\n",
       "      <td>4</td>\n",
       "      <td>1144</td>\n",
       "      <td>1144</td>\n",
       "      <td>3503937</td>\n",
       "      <td>Matched</td>\n",
       "      <td>Block</td>\n",
       "      <td>NaN</td>\n",
       "      <td>...</td>\n",
       "      <td>Dry</td>\n",
       "      <td>Daylight</td>\n",
       "      <td>NaN</td>\n",
       "      <td>NaN</td>\n",
       "      <td>NaN</td>\n",
       "      <td>23</td>\n",
       "      <td>From same direction - all others</td>\n",
       "      <td>0</td>\n",
       "      <td>0</td>\n",
       "      <td>N</td>\n",
       "    </tr>\n",
       "    <tr>\n",
       "      <th>4</th>\n",
       "      <td>2</td>\n",
       "      <td>-122.306426</td>\n",
       "      <td>47.545739</td>\n",
       "      <td>5</td>\n",
       "      <td>17700</td>\n",
       "      <td>17700</td>\n",
       "      <td>1807429</td>\n",
       "      <td>Matched</td>\n",
       "      <td>Intersection</td>\n",
       "      <td>34387.0</td>\n",
       "      <td>...</td>\n",
       "      <td>Wet</td>\n",
       "      <td>Daylight</td>\n",
       "      <td>NaN</td>\n",
       "      <td>4028032.0</td>\n",
       "      <td>NaN</td>\n",
       "      <td>10</td>\n",
       "      <td>Entering at angle</td>\n",
       "      <td>0</td>\n",
       "      <td>0</td>\n",
       "      <td>N</td>\n",
       "    </tr>\n",
       "  </tbody>\n",
       "</table>\n",
       "<p>5 rows × 38 columns</p>\n",
       "</div>"
      ],
      "text/plain": [
       "   SEVERITYCODE           X          Y  OBJECTID  INCKEY  COLDETKEY REPORTNO  \\\n",
       "0             2 -122.323148  47.703140         1    1307       1307  3502005   \n",
       "1             1 -122.347294  47.647172         2   52200      52200  2607959   \n",
       "2             1 -122.334540  47.607871         3   26700      26700  1482393   \n",
       "3             1 -122.334803  47.604803         4    1144       1144  3503937   \n",
       "4             2 -122.306426  47.545739         5   17700      17700  1807429   \n",
       "\n",
       "    STATUS      ADDRTYPE   INTKEY  ... ROADCOND                LIGHTCOND  \\\n",
       "0  Matched  Intersection  37475.0  ...      Wet                 Daylight   \n",
       "1  Matched         Block      NaN  ...      Wet  Dark - Street Lights On   \n",
       "2  Matched         Block      NaN  ...      Dry                 Daylight   \n",
       "3  Matched         Block      NaN  ...      Dry                 Daylight   \n",
       "4  Matched  Intersection  34387.0  ...      Wet                 Daylight   \n",
       "\n",
       "  PEDROWNOTGRNT  SDOTCOLNUM SPEEDING ST_COLCODE  \\\n",
       "0           NaN         NaN      NaN         10   \n",
       "1           NaN   6354039.0      NaN         11   \n",
       "2           NaN   4323031.0      NaN         32   \n",
       "3           NaN         NaN      NaN         23   \n",
       "4           NaN   4028032.0      NaN         10   \n",
       "\n",
       "                                          ST_COLDESC  SEGLANEKEY  \\\n",
       "0                                  Entering at angle           0   \n",
       "1  From same direction - both going straight - bo...           0   \n",
       "2                             One parked--one moving           0   \n",
       "3                   From same direction - all others           0   \n",
       "4                                  Entering at angle           0   \n",
       "\n",
       "   CROSSWALKKEY  HITPARKEDCAR  \n",
       "0             0             N  \n",
       "1             0             N  \n",
       "2             0             N  \n",
       "3             0             N  \n",
       "4             0             N  \n",
       "\n",
       "[5 rows x 38 columns]"
      ]
     },
     "execution_count": 7,
     "metadata": {},
     "output_type": "execute_result"
    }
   ],
   "source": [
    "accident_df.head()"
   ]
  },
  {
   "cell_type": "code",
   "execution_count": 8,
   "metadata": {},
   "outputs": [
    {
     "data": {
      "text/plain": [
       "Dry               124510\n",
       "Wet                47474\n",
       "Unknown            15078\n",
       "Ice                 1209\n",
       "Snow/Slush          1004\n",
       "Other                132\n",
       "Standing Water       115\n",
       "Sand/Mud/Dirt         75\n",
       "Oil                   64\n",
       "Name: ROADCOND, dtype: int64"
      ]
     },
     "execution_count": 8,
     "metadata": {},
     "output_type": "execute_result"
    }
   ],
   "source": [
    "accident_df['ROADCOND'].value_counts()"
   ]
  },
  {
   "cell_type": "markdown",
   "metadata": {},
   "source": [
    "## Checking the Consistancy of the Data\n",
    "\n",
    "As we can see, a few of the columns have null or missing data"
   ]
  },
  {
   "cell_type": "code",
   "execution_count": 9,
   "metadata": {},
   "outputs": [
    {
     "data": {
      "text/plain": [
       "SEVERITYCODE      False\n",
       "X                  True\n",
       "Y                  True\n",
       "OBJECTID          False\n",
       "INCKEY            False\n",
       "COLDETKEY         False\n",
       "REPORTNO          False\n",
       "STATUS            False\n",
       "ADDRTYPE           True\n",
       "INTKEY             True\n",
       "LOCATION           True\n",
       "EXCEPTRSNCODE      True\n",
       "EXCEPTRSNDESC      True\n",
       "SEVERITYCODE.1    False\n",
       "SEVERITYDESC      False\n",
       "COLLISIONTYPE      True\n",
       "PERSONCOUNT       False\n",
       "PEDCOUNT          False\n",
       "PEDCYLCOUNT       False\n",
       "VEHCOUNT          False\n",
       "INCDATE           False\n",
       "INCDTTM           False\n",
       "JUNCTIONTYPE       True\n",
       "SDOT_COLCODE      False\n",
       "SDOT_COLDESC      False\n",
       "INATTENTIONIND     True\n",
       "UNDERINFL          True\n",
       "WEATHER            True\n",
       "ROADCOND           True\n",
       "LIGHTCOND          True\n",
       "PEDROWNOTGRNT      True\n",
       "SDOTCOLNUM         True\n",
       "SPEEDING           True\n",
       "ST_COLCODE         True\n",
       "ST_COLDESC         True\n",
       "SEGLANEKEY        False\n",
       "CROSSWALKKEY      False\n",
       "HITPARKEDCAR      False\n",
       "dtype: bool"
      ]
     },
     "execution_count": 9,
     "metadata": {},
     "output_type": "execute_result"
    }
   ],
   "source": [
    "accident_df.isnull().any()"
   ]
  },
  {
   "cell_type": "code",
   "execution_count": 10,
   "metadata": {},
   "outputs": [
    {
     "data": {
      "text/plain": [
       "SEVERITYCODE           0\n",
       "X                   5334\n",
       "Y                   5334\n",
       "OBJECTID               0\n",
       "INCKEY                 0\n",
       "COLDETKEY              0\n",
       "REPORTNO               0\n",
       "STATUS                 0\n",
       "ADDRTYPE            1926\n",
       "INTKEY            129603\n",
       "LOCATION            2677\n",
       "EXCEPTRSNCODE     109862\n",
       "EXCEPTRSNDESC     189035\n",
       "SEVERITYCODE.1         0\n",
       "SEVERITYDESC           0\n",
       "COLLISIONTYPE       4904\n",
       "PERSONCOUNT            0\n",
       "PEDCOUNT               0\n",
       "PEDCYLCOUNT            0\n",
       "VEHCOUNT               0\n",
       "INCDATE                0\n",
       "INCDTTM                0\n",
       "JUNCTIONTYPE        6329\n",
       "SDOT_COLCODE           0\n",
       "SDOT_COLDESC           0\n",
       "INATTENTIONIND    164868\n",
       "UNDERINFL           4884\n",
       "WEATHER             5081\n",
       "ROADCOND            5012\n",
       "LIGHTCOND           5170\n",
       "PEDROWNOTGRNT     190006\n",
       "SDOTCOLNUM         79737\n",
       "SPEEDING          185340\n",
       "ST_COLCODE            18\n",
       "ST_COLDESC          4904\n",
       "SEGLANEKEY             0\n",
       "CROSSWALKKEY           0\n",
       "HITPARKEDCAR           0\n",
       "dtype: int64"
      ]
     },
     "execution_count": 10,
     "metadata": {},
     "output_type": "execute_result"
    }
   ],
   "source": [
    "accident_df.isnull().sum()\n"
   ]
  },
  {
   "cell_type": "markdown",
   "metadata": {},
   "source": [
    "Below are the total number of records available for each data point"
   ]
  },
  {
   "cell_type": "code",
   "execution_count": 11,
   "metadata": {},
   "outputs": [
    {
     "data": {
      "text/plain": [
       "SEVERITYCODE      194673\n",
       "X                 189339\n",
       "Y                 189339\n",
       "OBJECTID          194673\n",
       "INCKEY            194673\n",
       "COLDETKEY         194673\n",
       "REPORTNO          194673\n",
       "STATUS            194673\n",
       "ADDRTYPE          192747\n",
       "INTKEY             65070\n",
       "LOCATION          191996\n",
       "EXCEPTRSNCODE      84811\n",
       "EXCEPTRSNDESC       5638\n",
       "SEVERITYCODE.1    194673\n",
       "SEVERITYDESC      194673\n",
       "COLLISIONTYPE     189769\n",
       "PERSONCOUNT       194673\n",
       "PEDCOUNT          194673\n",
       "PEDCYLCOUNT       194673\n",
       "VEHCOUNT          194673\n",
       "INCDATE           194673\n",
       "INCDTTM           194673\n",
       "JUNCTIONTYPE      188344\n",
       "SDOT_COLCODE      194673\n",
       "SDOT_COLDESC      194673\n",
       "INATTENTIONIND     29805\n",
       "UNDERINFL         189789\n",
       "WEATHER           189592\n",
       "ROADCOND          189661\n",
       "LIGHTCOND         189503\n",
       "PEDROWNOTGRNT       4667\n",
       "SDOTCOLNUM        114936\n",
       "SPEEDING            9333\n",
       "ST_COLCODE        194655\n",
       "ST_COLDESC        189769\n",
       "SEGLANEKEY        194673\n",
       "CROSSWALKKEY      194673\n",
       "HITPARKEDCAR      194673\n",
       "dtype: int64"
      ]
     },
     "execution_count": 11,
     "metadata": {},
     "output_type": "execute_result"
    }
   ],
   "source": [
    "accident_df.count()"
   ]
  },
  {
   "cell_type": "code",
   "execution_count": 12,
   "metadata": {},
   "outputs": [
    {
     "data": {
      "text/plain": [
       "194673"
      ]
     },
     "execution_count": 12,
     "metadata": {},
     "output_type": "execute_result"
    }
   ],
   "source": [
    "len(accident_df.index)"
   ]
  },
  {
   "cell_type": "markdown",
   "metadata": {},
   "source": [
    "Simple correlation performed on the dataframe"
   ]
  },
  {
   "cell_type": "code",
   "execution_count": 13,
   "metadata": {},
   "outputs": [
    {
     "data": {
      "text/html": [
       "<div>\n",
       "<style scoped>\n",
       "    .dataframe tbody tr th:only-of-type {\n",
       "        vertical-align: middle;\n",
       "    }\n",
       "\n",
       "    .dataframe tbody tr th {\n",
       "        vertical-align: top;\n",
       "    }\n",
       "\n",
       "    .dataframe thead th {\n",
       "        text-align: right;\n",
       "    }\n",
       "</style>\n",
       "<table border=\"1\" class=\"dataframe\">\n",
       "  <thead>\n",
       "    <tr style=\"text-align: right;\">\n",
       "      <th></th>\n",
       "      <th>SEVERITYCODE</th>\n",
       "      <th>X</th>\n",
       "      <th>Y</th>\n",
       "      <th>OBJECTID</th>\n",
       "      <th>INCKEY</th>\n",
       "      <th>COLDETKEY</th>\n",
       "      <th>INTKEY</th>\n",
       "      <th>SEVERITYCODE.1</th>\n",
       "      <th>PERSONCOUNT</th>\n",
       "      <th>PEDCOUNT</th>\n",
       "      <th>PEDCYLCOUNT</th>\n",
       "      <th>VEHCOUNT</th>\n",
       "      <th>SDOT_COLCODE</th>\n",
       "      <th>SDOTCOLNUM</th>\n",
       "      <th>SEGLANEKEY</th>\n",
       "      <th>CROSSWALKKEY</th>\n",
       "    </tr>\n",
       "  </thead>\n",
       "  <tbody>\n",
       "    <tr>\n",
       "      <th>SEVERITYCODE</th>\n",
       "      <td>1.000000</td>\n",
       "      <td>0.010309</td>\n",
       "      <td>0.017737</td>\n",
       "      <td>0.020131</td>\n",
       "      <td>0.022065</td>\n",
       "      <td>0.022079</td>\n",
       "      <td>0.006553</td>\n",
       "      <td>1.000000</td>\n",
       "      <td>0.130949</td>\n",
       "      <td>0.246338</td>\n",
       "      <td>0.214218</td>\n",
       "      <td>-0.054686</td>\n",
       "      <td>0.188905</td>\n",
       "      <td>0.004226</td>\n",
       "      <td>0.104276</td>\n",
       "      <td>0.175093</td>\n",
       "    </tr>\n",
       "    <tr>\n",
       "      <th>X</th>\n",
       "      <td>0.010309</td>\n",
       "      <td>1.000000</td>\n",
       "      <td>-0.160262</td>\n",
       "      <td>0.009956</td>\n",
       "      <td>0.010309</td>\n",
       "      <td>0.010300</td>\n",
       "      <td>0.120754</td>\n",
       "      <td>0.010309</td>\n",
       "      <td>0.012887</td>\n",
       "      <td>0.011304</td>\n",
       "      <td>-0.001752</td>\n",
       "      <td>-0.012168</td>\n",
       "      <td>0.010904</td>\n",
       "      <td>-0.001016</td>\n",
       "      <td>-0.001618</td>\n",
       "      <td>0.013586</td>\n",
       "    </tr>\n",
       "    <tr>\n",
       "      <th>Y</th>\n",
       "      <td>0.017737</td>\n",
       "      <td>-0.160262</td>\n",
       "      <td>1.000000</td>\n",
       "      <td>-0.023848</td>\n",
       "      <td>-0.027396</td>\n",
       "      <td>-0.027415</td>\n",
       "      <td>-0.114935</td>\n",
       "      <td>0.017737</td>\n",
       "      <td>-0.013850</td>\n",
       "      <td>0.010178</td>\n",
       "      <td>0.026304</td>\n",
       "      <td>0.017058</td>\n",
       "      <td>-0.019694</td>\n",
       "      <td>-0.006958</td>\n",
       "      <td>0.004618</td>\n",
       "      <td>0.009508</td>\n",
       "    </tr>\n",
       "    <tr>\n",
       "      <th>OBJECTID</th>\n",
       "      <td>0.020131</td>\n",
       "      <td>0.009956</td>\n",
       "      <td>-0.023848</td>\n",
       "      <td>1.000000</td>\n",
       "      <td>0.946383</td>\n",
       "      <td>0.945837</td>\n",
       "      <td>0.046929</td>\n",
       "      <td>0.020131</td>\n",
       "      <td>-0.062333</td>\n",
       "      <td>0.024604</td>\n",
       "      <td>0.034432</td>\n",
       "      <td>-0.094280</td>\n",
       "      <td>-0.037094</td>\n",
       "      <td>0.969276</td>\n",
       "      <td>0.028076</td>\n",
       "      <td>0.056046</td>\n",
       "    </tr>\n",
       "    <tr>\n",
       "      <th>INCKEY</th>\n",
       "      <td>0.022065</td>\n",
       "      <td>0.010309</td>\n",
       "      <td>-0.027396</td>\n",
       "      <td>0.946383</td>\n",
       "      <td>1.000000</td>\n",
       "      <td>0.999996</td>\n",
       "      <td>0.048524</td>\n",
       "      <td>0.022065</td>\n",
       "      <td>-0.061500</td>\n",
       "      <td>0.024918</td>\n",
       "      <td>0.031342</td>\n",
       "      <td>-0.107528</td>\n",
       "      <td>-0.027617</td>\n",
       "      <td>0.990571</td>\n",
       "      <td>0.019701</td>\n",
       "      <td>0.048179</td>\n",
       "    </tr>\n",
       "    <tr>\n",
       "      <th>COLDETKEY</th>\n",
       "      <td>0.022079</td>\n",
       "      <td>0.010300</td>\n",
       "      <td>-0.027415</td>\n",
       "      <td>0.945837</td>\n",
       "      <td>0.999996</td>\n",
       "      <td>1.000000</td>\n",
       "      <td>0.048499</td>\n",
       "      <td>0.022079</td>\n",
       "      <td>-0.061403</td>\n",
       "      <td>0.024914</td>\n",
       "      <td>0.031296</td>\n",
       "      <td>-0.107598</td>\n",
       "      <td>-0.027461</td>\n",
       "      <td>0.990571</td>\n",
       "      <td>0.019586</td>\n",
       "      <td>0.048063</td>\n",
       "    </tr>\n",
       "    <tr>\n",
       "      <th>INTKEY</th>\n",
       "      <td>0.006553</td>\n",
       "      <td>0.120754</td>\n",
       "      <td>-0.114935</td>\n",
       "      <td>0.046929</td>\n",
       "      <td>0.048524</td>\n",
       "      <td>0.048499</td>\n",
       "      <td>1.000000</td>\n",
       "      <td>0.006553</td>\n",
       "      <td>0.001886</td>\n",
       "      <td>-0.004784</td>\n",
       "      <td>0.000531</td>\n",
       "      <td>-0.012929</td>\n",
       "      <td>0.007114</td>\n",
       "      <td>0.032604</td>\n",
       "      <td>-0.010510</td>\n",
       "      <td>0.018420</td>\n",
       "    </tr>\n",
       "    <tr>\n",
       "      <th>SEVERITYCODE.1</th>\n",
       "      <td>1.000000</td>\n",
       "      <td>0.010309</td>\n",
       "      <td>0.017737</td>\n",
       "      <td>0.020131</td>\n",
       "      <td>0.022065</td>\n",
       "      <td>0.022079</td>\n",
       "      <td>0.006553</td>\n",
       "      <td>1.000000</td>\n",
       "      <td>0.130949</td>\n",
       "      <td>0.246338</td>\n",
       "      <td>0.214218</td>\n",
       "      <td>-0.054686</td>\n",
       "      <td>0.188905</td>\n",
       "      <td>0.004226</td>\n",
       "      <td>0.104276</td>\n",
       "      <td>0.175093</td>\n",
       "    </tr>\n",
       "    <tr>\n",
       "      <th>PERSONCOUNT</th>\n",
       "      <td>0.130949</td>\n",
       "      <td>0.012887</td>\n",
       "      <td>-0.013850</td>\n",
       "      <td>-0.062333</td>\n",
       "      <td>-0.061500</td>\n",
       "      <td>-0.061403</td>\n",
       "      <td>0.001886</td>\n",
       "      <td>0.130949</td>\n",
       "      <td>1.000000</td>\n",
       "      <td>-0.023464</td>\n",
       "      <td>-0.038809</td>\n",
       "      <td>0.380523</td>\n",
       "      <td>-0.128960</td>\n",
       "      <td>0.011784</td>\n",
       "      <td>-0.021383</td>\n",
       "      <td>-0.032258</td>\n",
       "    </tr>\n",
       "    <tr>\n",
       "      <th>PEDCOUNT</th>\n",
       "      <td>0.246338</td>\n",
       "      <td>0.011304</td>\n",
       "      <td>0.010178</td>\n",
       "      <td>0.024604</td>\n",
       "      <td>0.024918</td>\n",
       "      <td>0.024914</td>\n",
       "      <td>-0.004784</td>\n",
       "      <td>0.246338</td>\n",
       "      <td>-0.023464</td>\n",
       "      <td>1.000000</td>\n",
       "      <td>-0.016920</td>\n",
       "      <td>-0.261285</td>\n",
       "      <td>0.260393</td>\n",
       "      <td>0.021461</td>\n",
       "      <td>0.001810</td>\n",
       "      <td>0.565326</td>\n",
       "    </tr>\n",
       "    <tr>\n",
       "      <th>PEDCYLCOUNT</th>\n",
       "      <td>0.214218</td>\n",
       "      <td>-0.001752</td>\n",
       "      <td>0.026304</td>\n",
       "      <td>0.034432</td>\n",
       "      <td>0.031342</td>\n",
       "      <td>0.031296</td>\n",
       "      <td>0.000531</td>\n",
       "      <td>0.214218</td>\n",
       "      <td>-0.038809</td>\n",
       "      <td>-0.016920</td>\n",
       "      <td>1.000000</td>\n",
       "      <td>-0.253773</td>\n",
       "      <td>0.382521</td>\n",
       "      <td>0.034593</td>\n",
       "      <td>0.453657</td>\n",
       "      <td>0.109820</td>\n",
       "    </tr>\n",
       "    <tr>\n",
       "      <th>VEHCOUNT</th>\n",
       "      <td>-0.054686</td>\n",
       "      <td>-0.012168</td>\n",
       "      <td>0.017058</td>\n",
       "      <td>-0.094280</td>\n",
       "      <td>-0.107528</td>\n",
       "      <td>-0.107598</td>\n",
       "      <td>-0.012929</td>\n",
       "      <td>-0.054686</td>\n",
       "      <td>0.380523</td>\n",
       "      <td>-0.261285</td>\n",
       "      <td>-0.253773</td>\n",
       "      <td>1.000000</td>\n",
       "      <td>-0.365814</td>\n",
       "      <td>-0.023813</td>\n",
       "      <td>-0.122941</td>\n",
       "      <td>-0.200526</td>\n",
       "    </tr>\n",
       "    <tr>\n",
       "      <th>SDOT_COLCODE</th>\n",
       "      <td>0.188905</td>\n",
       "      <td>0.010904</td>\n",
       "      <td>-0.019694</td>\n",
       "      <td>-0.037094</td>\n",
       "      <td>-0.027617</td>\n",
       "      <td>-0.027461</td>\n",
       "      <td>0.007114</td>\n",
       "      <td>0.188905</td>\n",
       "      <td>-0.128960</td>\n",
       "      <td>0.260393</td>\n",
       "      <td>0.382521</td>\n",
       "      <td>-0.365814</td>\n",
       "      <td>1.000000</td>\n",
       "      <td>-0.041084</td>\n",
       "      <td>0.206835</td>\n",
       "      <td>0.189518</td>\n",
       "    </tr>\n",
       "    <tr>\n",
       "      <th>SDOTCOLNUM</th>\n",
       "      <td>0.004226</td>\n",
       "      <td>-0.001016</td>\n",
       "      <td>-0.006958</td>\n",
       "      <td>0.969276</td>\n",
       "      <td>0.990571</td>\n",
       "      <td>0.990571</td>\n",
       "      <td>0.032604</td>\n",
       "      <td>0.004226</td>\n",
       "      <td>0.011784</td>\n",
       "      <td>0.021461</td>\n",
       "      <td>0.034593</td>\n",
       "      <td>-0.023813</td>\n",
       "      <td>-0.041084</td>\n",
       "      <td>1.000000</td>\n",
       "      <td>0.066449</td>\n",
       "      <td>0.086228</td>\n",
       "    </tr>\n",
       "    <tr>\n",
       "      <th>SEGLANEKEY</th>\n",
       "      <td>0.104276</td>\n",
       "      <td>-0.001618</td>\n",
       "      <td>0.004618</td>\n",
       "      <td>0.028076</td>\n",
       "      <td>0.019701</td>\n",
       "      <td>0.019586</td>\n",
       "      <td>-0.010510</td>\n",
       "      <td>0.104276</td>\n",
       "      <td>-0.021383</td>\n",
       "      <td>0.001810</td>\n",
       "      <td>0.453657</td>\n",
       "      <td>-0.122941</td>\n",
       "      <td>0.206835</td>\n",
       "      <td>0.066449</td>\n",
       "      <td>1.000000</td>\n",
       "      <td>-0.003422</td>\n",
       "    </tr>\n",
       "    <tr>\n",
       "      <th>CROSSWALKKEY</th>\n",
       "      <td>0.175093</td>\n",
       "      <td>0.013586</td>\n",
       "      <td>0.009508</td>\n",
       "      <td>0.056046</td>\n",
       "      <td>0.048179</td>\n",
       "      <td>0.048063</td>\n",
       "      <td>0.018420</td>\n",
       "      <td>0.175093</td>\n",
       "      <td>-0.032258</td>\n",
       "      <td>0.565326</td>\n",
       "      <td>0.109820</td>\n",
       "      <td>-0.200526</td>\n",
       "      <td>0.189518</td>\n",
       "      <td>0.086228</td>\n",
       "      <td>-0.003422</td>\n",
       "      <td>1.000000</td>\n",
       "    </tr>\n",
       "  </tbody>\n",
       "</table>\n",
       "</div>"
      ],
      "text/plain": [
       "                SEVERITYCODE         X         Y  OBJECTID    INCKEY  \\\n",
       "SEVERITYCODE        1.000000  0.010309  0.017737  0.020131  0.022065   \n",
       "X                   0.010309  1.000000 -0.160262  0.009956  0.010309   \n",
       "Y                   0.017737 -0.160262  1.000000 -0.023848 -0.027396   \n",
       "OBJECTID            0.020131  0.009956 -0.023848  1.000000  0.946383   \n",
       "INCKEY              0.022065  0.010309 -0.027396  0.946383  1.000000   \n",
       "COLDETKEY           0.022079  0.010300 -0.027415  0.945837  0.999996   \n",
       "INTKEY              0.006553  0.120754 -0.114935  0.046929  0.048524   \n",
       "SEVERITYCODE.1      1.000000  0.010309  0.017737  0.020131  0.022065   \n",
       "PERSONCOUNT         0.130949  0.012887 -0.013850 -0.062333 -0.061500   \n",
       "PEDCOUNT            0.246338  0.011304  0.010178  0.024604  0.024918   \n",
       "PEDCYLCOUNT         0.214218 -0.001752  0.026304  0.034432  0.031342   \n",
       "VEHCOUNT           -0.054686 -0.012168  0.017058 -0.094280 -0.107528   \n",
       "SDOT_COLCODE        0.188905  0.010904 -0.019694 -0.037094 -0.027617   \n",
       "SDOTCOLNUM          0.004226 -0.001016 -0.006958  0.969276  0.990571   \n",
       "SEGLANEKEY          0.104276 -0.001618  0.004618  0.028076  0.019701   \n",
       "CROSSWALKKEY        0.175093  0.013586  0.009508  0.056046  0.048179   \n",
       "\n",
       "                COLDETKEY    INTKEY  SEVERITYCODE.1  PERSONCOUNT  PEDCOUNT  \\\n",
       "SEVERITYCODE     0.022079  0.006553        1.000000     0.130949  0.246338   \n",
       "X                0.010300  0.120754        0.010309     0.012887  0.011304   \n",
       "Y               -0.027415 -0.114935        0.017737    -0.013850  0.010178   \n",
       "OBJECTID         0.945837  0.046929        0.020131    -0.062333  0.024604   \n",
       "INCKEY           0.999996  0.048524        0.022065    -0.061500  0.024918   \n",
       "COLDETKEY        1.000000  0.048499        0.022079    -0.061403  0.024914   \n",
       "INTKEY           0.048499  1.000000        0.006553     0.001886 -0.004784   \n",
       "SEVERITYCODE.1   0.022079  0.006553        1.000000     0.130949  0.246338   \n",
       "PERSONCOUNT     -0.061403  0.001886        0.130949     1.000000 -0.023464   \n",
       "PEDCOUNT         0.024914 -0.004784        0.246338    -0.023464  1.000000   \n",
       "PEDCYLCOUNT      0.031296  0.000531        0.214218    -0.038809 -0.016920   \n",
       "VEHCOUNT        -0.107598 -0.012929       -0.054686     0.380523 -0.261285   \n",
       "SDOT_COLCODE    -0.027461  0.007114        0.188905    -0.128960  0.260393   \n",
       "SDOTCOLNUM       0.990571  0.032604        0.004226     0.011784  0.021461   \n",
       "SEGLANEKEY       0.019586 -0.010510        0.104276    -0.021383  0.001810   \n",
       "CROSSWALKKEY     0.048063  0.018420        0.175093    -0.032258  0.565326   \n",
       "\n",
       "                PEDCYLCOUNT  VEHCOUNT  SDOT_COLCODE  SDOTCOLNUM  SEGLANEKEY  \\\n",
       "SEVERITYCODE       0.214218 -0.054686      0.188905    0.004226    0.104276   \n",
       "X                 -0.001752 -0.012168      0.010904   -0.001016   -0.001618   \n",
       "Y                  0.026304  0.017058     -0.019694   -0.006958    0.004618   \n",
       "OBJECTID           0.034432 -0.094280     -0.037094    0.969276    0.028076   \n",
       "INCKEY             0.031342 -0.107528     -0.027617    0.990571    0.019701   \n",
       "COLDETKEY          0.031296 -0.107598     -0.027461    0.990571    0.019586   \n",
       "INTKEY             0.000531 -0.012929      0.007114    0.032604   -0.010510   \n",
       "SEVERITYCODE.1     0.214218 -0.054686      0.188905    0.004226    0.104276   \n",
       "PERSONCOUNT       -0.038809  0.380523     -0.128960    0.011784   -0.021383   \n",
       "PEDCOUNT          -0.016920 -0.261285      0.260393    0.021461    0.001810   \n",
       "PEDCYLCOUNT        1.000000 -0.253773      0.382521    0.034593    0.453657   \n",
       "VEHCOUNT          -0.253773  1.000000     -0.365814   -0.023813   -0.122941   \n",
       "SDOT_COLCODE       0.382521 -0.365814      1.000000   -0.041084    0.206835   \n",
       "SDOTCOLNUM         0.034593 -0.023813     -0.041084    1.000000    0.066449   \n",
       "SEGLANEKEY         0.453657 -0.122941      0.206835    0.066449    1.000000   \n",
       "CROSSWALKKEY       0.109820 -0.200526      0.189518    0.086228   -0.003422   \n",
       "\n",
       "                CROSSWALKKEY  \n",
       "SEVERITYCODE        0.175093  \n",
       "X                   0.013586  \n",
       "Y                   0.009508  \n",
       "OBJECTID            0.056046  \n",
       "INCKEY              0.048179  \n",
       "COLDETKEY           0.048063  \n",
       "INTKEY              0.018420  \n",
       "SEVERITYCODE.1      0.175093  \n",
       "PERSONCOUNT        -0.032258  \n",
       "PEDCOUNT            0.565326  \n",
       "PEDCYLCOUNT         0.109820  \n",
       "VEHCOUNT           -0.200526  \n",
       "SDOT_COLCODE        0.189518  \n",
       "SDOTCOLNUM          0.086228  \n",
       "SEGLANEKEY         -0.003422  \n",
       "CROSSWALKKEY        1.000000  "
      ]
     },
     "execution_count": 13,
     "metadata": {},
     "output_type": "execute_result"
    }
   ],
   "source": [
    "accident_df.corr()"
   ]
  },
  {
   "cell_type": "markdown",
   "metadata": {},
   "source": [
    "## Sample the Data From Potential Features\n",
    "\n",
    "As we can see below, the Severity of the accident is broken into two classes, with 130000+ positve and 50000+ negatives\n",
    "\n"
   ]
  },
  {
   "cell_type": "code",
   "execution_count": 14,
   "metadata": {},
   "outputs": [
    {
     "data": {
      "text/plain": [
       "1    136485\n",
       "2     58188\n",
       "Name: SEVERITYCODE, dtype: int64"
      ]
     },
     "execution_count": 14,
     "metadata": {},
     "output_type": "execute_result"
    }
   ],
   "source": [
    "accident_df['SEVERITYCODE'].value_counts()"
   ]
  },
  {
   "cell_type": "markdown",
   "metadata": {},
   "source": [
    "<br>\n",
    "<br>"
   ]
  },
  {
   "cell_type": "markdown",
   "metadata": {},
   "source": [
    "\n",
    "**In addition to sampling the 'Severity' column, below other samplings can be observed**\n"
   ]
  },
  {
   "cell_type": "markdown",
   "metadata": {},
   "source": [
    "<br>"
   ]
  },
  {
   "cell_type": "code",
   "execution_count": 15,
   "metadata": {},
   "outputs": [
    {
     "data": {
      "text/plain": [
       "Daylight                    116137\n",
       "Dark - Street Lights On      48507\n",
       "Unknown                      13473\n",
       "Dusk                          5902\n",
       "Dawn                          2502\n",
       "Dark - No Street Lights       1537\n",
       "Dark - Street Lights Off      1199\n",
       "Other                          235\n",
       "Dark - Unknown Lighting         11\n",
       "Name: LIGHTCOND, dtype: int64"
      ]
     },
     "execution_count": 15,
     "metadata": {},
     "output_type": "execute_result"
    }
   ],
   "source": [
    "accident_df['LIGHTCOND'].value_counts()"
   ]
  },
  {
   "cell_type": "code",
   "execution_count": 16,
   "metadata": {},
   "outputs": [
    {
     "data": {
      "text/plain": [
       "Parked Car    47987\n",
       "Angles        34674\n",
       "Rear Ended    34090\n",
       "Other         23703\n",
       "Sideswipe     18609\n",
       "Left Turn     13703\n",
       "Pedestrian     6608\n",
       "Cycles         5415\n",
       "Right Turn     2956\n",
       "Head On        2024\n",
       "Name: COLLISIONTYPE, dtype: int64"
      ]
     },
     "execution_count": 16,
     "metadata": {},
     "output_type": "execute_result"
    }
   ],
   "source": [
    "accident_df['COLLISIONTYPE'].value_counts()"
   ]
  },
  {
   "cell_type": "code",
   "execution_count": 17,
   "metadata": {},
   "outputs": [
    {
     "data": {
      "text/plain": [
       "2006/11/02 00:00:00+00    96\n",
       "2008/10/03 00:00:00+00    92\n",
       "2005/05/18 00:00:00+00    84\n",
       "2006/01/13 00:00:00+00    83\n",
       "2005/11/05 00:00:00+00    83\n",
       "                          ..\n",
       "2020/05/18 00:00:00+00     2\n",
       "2020/05/20 00:00:00+00     1\n",
       "2020/05/19 00:00:00+00     1\n",
       "2015/12/25 00:00:00+00     1\n",
       "2020/05/17 00:00:00+00     1\n",
       "Name: INCDATE, Length: 5985, dtype: int64"
      ]
     },
     "execution_count": 17,
     "metadata": {},
     "output_type": "execute_result"
    }
   ],
   "source": [
    "accident_df['INCDATE'].value_counts()"
   ]
  },
  {
   "cell_type": "code",
   "execution_count": 18,
   "metadata": {},
   "outputs": [
    {
     "data": {
      "text/plain": [
       "11/2/2006                96\n",
       "10/3/2008                91\n",
       "11/5/2005                83\n",
       "12/4/2004                74\n",
       "6/1/2006                 73\n",
       "                         ..\n",
       "6/29/2014 11:00:00 PM     1\n",
       "6/3/2016 4:27:00 PM       1\n",
       "8/3/2012 9:37:00 PM       1\n",
       "8/8/2012                  1\n",
       "4/6/2017 8:29:00 PM       1\n",
       "Name: INCDTTM, Length: 162058, dtype: int64"
      ]
     },
     "execution_count": 18,
     "metadata": {},
     "output_type": "execute_result"
    }
   ],
   "source": [
    "accident_df['INCDTTM'].value_counts()"
   ]
  },
  {
   "cell_type": "code",
   "execution_count": 19,
   "metadata": {},
   "outputs": [
    {
     "data": {
      "text/plain": [
       "Mid-Block (not related to intersection)              89800\n",
       "At Intersection (intersection related)               62810\n",
       "Mid-Block (but intersection related)                 22790\n",
       "Driveway Junction                                    10671\n",
       "At Intersection (but not related to intersection)     2098\n",
       "Ramp Junction                                          166\n",
       "Unknown                                                  9\n",
       "Name: JUNCTIONTYPE, dtype: int64"
      ]
     },
     "execution_count": 19,
     "metadata": {},
     "output_type": "execute_result"
    }
   ],
   "source": [
    "accident_df['JUNCTIONTYPE'].value_counts()"
   ]
  },
  {
   "cell_type": "code",
   "execution_count": 20,
   "metadata": {},
   "outputs": [
    {
     "data": {
      "text/plain": [
       "11    85209\n",
       "14    54299\n",
       "16     9928\n",
       "0      9787\n",
       "28     8856\n",
       "24     6518\n",
       "13     5852\n",
       "26     4741\n",
       "18     3104\n",
       "15     1604\n",
       "12     1440\n",
       "51     1312\n",
       "29      479\n",
       "21      181\n",
       "56      180\n",
       "27      166\n",
       "54      139\n",
       "23      124\n",
       "48      107\n",
       "31      104\n",
       "25      102\n",
       "34       93\n",
       "64       75\n",
       "69       69\n",
       "33       53\n",
       "55       50\n",
       "66       23\n",
       "22       17\n",
       "32       12\n",
       "53        9\n",
       "44        8\n",
       "61        7\n",
       "35        6\n",
       "58        5\n",
       "68        4\n",
       "36        4\n",
       "46        3\n",
       "52        2\n",
       "47        1\n",
       "Name: SDOT_COLCODE, dtype: int64"
      ]
     },
     "execution_count": 20,
     "metadata": {},
     "output_type": "execute_result"
    }
   ],
   "source": [
    "accident_df['SDOT_COLCODE'].value_counts()"
   ]
  },
  {
   "cell_type": "code",
   "execution_count": 21,
   "metadata": {},
   "outputs": [
    {
     "data": {
      "text/plain": [
       "MOTOR VEHICLE STRUCK MOTOR VEHICLE, FRONT END AT ANGLE          85209\n",
       "MOTOR VEHICLE STRUCK MOTOR VEHICLE, REAR END                    54299\n",
       "MOTOR VEHICLE STRUCK MOTOR VEHICLE, LEFT SIDE SIDESWIPE          9928\n",
       "NOT ENOUGH INFORMATION / NOT APPLICABLE                          9787\n",
       "MOTOR VEHICLE RAN OFF ROAD - HIT FIXED OBJECT                    8856\n",
       "MOTOR VEHCILE STRUCK PEDESTRIAN                                  6518\n",
       "MOTOR VEHICLE STRUCK MOTOR VEHICLE, LEFT SIDE AT ANGLE           5852\n",
       "MOTOR VEHICLE STRUCK OBJECT IN ROAD                              4741\n",
       "MOTOR VEHICLE STRUCK PEDALCYCLIST, FRONT END AT ANGLE            3104\n",
       "MOTOR VEHICLE STRUCK MOTOR VEHICLE, RIGHT SIDE SIDESWIPE         1604\n",
       "MOTOR VEHICLE STRUCK MOTOR VEHICLE, RIGHT SIDE AT ANGLE          1440\n",
       "PEDALCYCLIST STRUCK MOTOR VEHICLE FRONT END AT ANGLE             1312\n",
       "MOTOR VEHICLE OVERTURNED IN ROAD                                  479\n",
       "MOTOR VEHICLE STRUCK PEDALCYCLIST, REAR END                       181\n",
       "PEDALCYCLIST STRUCK MOTOR VEHICLE LEFT SIDE SIDESWIPE             180\n",
       "MOTOR VEHICLE RAN OFF ROAD - NO COLLISION                         166\n",
       "PEDALCYCLIST STRUCK MOTOR VEHICLE REAR END                        139\n",
       "MOTOR VEHICLE STRUCK PEDALCYCLIST, LEFT SIDE SIDESWIPE            124\n",
       "DRIVERLESS VEHICLE RAN OFF ROAD - HIT FIXED OBJECT                107\n",
       "DRIVERLESS VEHICLE STRUCK MOTOR VEHICLE FRONT END AT ANGLE        104\n",
       "MOTOR VEHICLE STRUCK TRAIN                                        102\n",
       "DRIVERLESS VEHICLE STRUCK MOTOR VEHICLE REAR END                   93\n",
       "PEDALCYCLIST STRUCK PEDESTRIAN                                     75\n",
       "PEDALCYCLIST OVERTURNED IN ROAD                                    69\n",
       "DRIVERLESS VEHICLE STRUCK MOTOR VEHICLE LEFT SIDE AT ANGLE         53\n",
       "PEDALCYCLIST STRUCK MOTOR VEHICLE RIGHT SIDE SIDESWIPE             50\n",
       "PEDALCYCLIST STRUCK OBJECT IN ROAD                                 23\n",
       "MOTOR VEHICLE STRUCK PEDALCYCLIST, RIGHT SIDE SIDESWIPE            17\n",
       "DRIVERLESS VEHICLE STRUCK MOTOR VEHICLE RIGHT SIDE AT ANGLE        12\n",
       "PEDALCYCLIST STRUCK MOTOR VEHICLE LEFT SIDE AT ANGLE                9\n",
       "DRIVERLESS VEHICLE STRUCK PEDESTRIAN                                8\n",
       "PEDALCYCLIST STRUCK PEDALCYCLIST REAR END                           7\n",
       "DRIVERLESS VEHICLE STRUCK MOTOR VEHICLE RIGHT SIDE SIDESWIPE        6\n",
       "PEDALCYCLIST STRUCK PEDALCYCLIST FRONT END AT ANGLE                 5\n",
       "PEDALCYCLIST RAN OFF ROAD - HIT FIXED OBJECT                        4\n",
       "DRIVERLESS VEHICLE STRUCK MOTOR VEHICLE LEFT SIDE SIDESWIPE         4\n",
       "DRIVERLESS VEHICLE STRUCK OBJECT IN ROADWAY                         3\n",
       "PEDALCYCLIST STRUCK MOTOR VEHICLE RIGHT SIDE AT ANGLE               2\n",
       "DRIVERLESS VEHICLE RAN OFF ROAD - NO COLLISION                      1\n",
       "Name: SDOT_COLDESC, dtype: int64"
      ]
     },
     "execution_count": 21,
     "metadata": {},
     "output_type": "execute_result"
    }
   ],
   "source": [
    "accident_df['SDOT_COLDESC'].value_counts()"
   ]
  },
  {
   "cell_type": "code",
   "execution_count": 22,
   "metadata": {},
   "outputs": [
    {
     "data": {
      "text/plain": [
       "Y    29805\n",
       "Name: INATTENTIONIND, dtype: int64"
      ]
     },
     "execution_count": 22,
     "metadata": {},
     "output_type": "execute_result"
    }
   ],
   "source": [
    "accident_df['INATTENTIONIND'].value_counts()"
   ]
  },
  {
   "cell_type": "code",
   "execution_count": 23,
   "metadata": {},
   "outputs": [
    {
     "data": {
      "text/plain": [
       "N    100274\n",
       "0     80394\n",
       "Y      5126\n",
       "1      3995\n",
       "Name: UNDERINFL, dtype: int64"
      ]
     },
     "execution_count": 23,
     "metadata": {},
     "output_type": "execute_result"
    }
   ],
   "source": [
    "accident_df['UNDERINFL'].value_counts()"
   ]
  },
  {
   "cell_type": "code",
   "execution_count": 24,
   "metadata": {},
   "outputs": [
    {
     "data": {
      "text/plain": [
       "Clear                       111135\n",
       "Raining                      33145\n",
       "Overcast                     27714\n",
       "Unknown                      15091\n",
       "Snowing                        907\n",
       "Other                          832\n",
       "Fog/Smog/Smoke                 569\n",
       "Sleet/Hail/Freezing Rain       113\n",
       "Blowing Sand/Dirt               56\n",
       "Severe Crosswind                25\n",
       "Partly Cloudy                    5\n",
       "Name: WEATHER, dtype: int64"
      ]
     },
     "execution_count": 24,
     "metadata": {},
     "output_type": "execute_result"
    }
   ],
   "source": [
    "accident_df['WEATHER'].value_counts()"
   ]
  },
  {
   "cell_type": "code",
   "execution_count": 25,
   "metadata": {},
   "outputs": [
    {
     "data": {
      "text/plain": [
       "Dry               124510\n",
       "Wet                47474\n",
       "Unknown            15078\n",
       "Ice                 1209\n",
       "Snow/Slush          1004\n",
       "Other                132\n",
       "Standing Water       115\n",
       "Sand/Mud/Dirt         75\n",
       "Oil                   64\n",
       "Name: ROADCOND, dtype: int64"
      ]
     },
     "execution_count": 25,
     "metadata": {},
     "output_type": "execute_result"
    }
   ],
   "source": [
    "accident_df['ROADCOND'].value_counts()"
   ]
  },
  {
   "cell_type": "code",
   "execution_count": 26,
   "metadata": {},
   "outputs": [
    {
     "data": {
      "text/plain": [
       "0    189189\n",
       "1      5441\n",
       "2        43\n",
       "Name: PEDCYLCOUNT, dtype: int64"
      ]
     },
     "execution_count": 26,
     "metadata": {},
     "output_type": "execute_result"
    }
   ],
   "source": [
    "accident_df['PEDCYLCOUNT'].value_counts()"
   ]
  },
  {
   "cell_type": "code",
   "execution_count": 27,
   "metadata": {},
   "outputs": [
    {
     "data": {
      "text/plain": [
       "0    187734\n",
       "1      6685\n",
       "2       226\n",
       "3        22\n",
       "4         4\n",
       "6         1\n",
       "5         1\n",
       "Name: PEDCOUNT, dtype: int64"
      ]
     },
     "execution_count": 27,
     "metadata": {},
     "output_type": "execute_result"
    }
   ],
   "source": [
    "accident_df['PEDCOUNT'].value_counts()"
   ]
  },
  {
   "cell_type": "code",
   "execution_count": 28,
   "metadata": {},
   "outputs": [
    {
     "data": {
      "text/plain": [
       "Y    4667\n",
       "Name: PEDROWNOTGRNT, dtype: int64"
      ]
     },
     "execution_count": 28,
     "metadata": {},
     "output_type": "execute_result"
    }
   ],
   "source": [
    "accident_df['PEDROWNOTGRNT'].value_counts()"
   ]
  },
  {
   "cell_type": "code",
   "execution_count": 29,
   "metadata": {},
   "outputs": [
    {
     "data": {
      "text/plain": [
       "4116034.0     2\n",
       "11200007.0    2\n",
       "4112025.0     2\n",
       "4116048.0     2\n",
       "5036003.0     1\n",
       "             ..\n",
       "6262043.0     1\n",
       "6162018.0     1\n",
       "6277003.0     1\n",
       "8267022.0     1\n",
       "5071015.0     1\n",
       "Name: SDOTCOLNUM, Length: 114932, dtype: int64"
      ]
     },
     "execution_count": 29,
     "metadata": {},
     "output_type": "execute_result"
    }
   ],
   "source": [
    "accident_df['SDOTCOLNUM'].value_counts()"
   ]
  },
  {
   "cell_type": "code",
   "execution_count": 30,
   "metadata": {},
   "outputs": [
    {
     "data": {
      "text/plain": [
       "Y    9333\n",
       "Name: SPEEDING, dtype: int64"
      ]
     },
     "execution_count": 30,
     "metadata": {},
     "output_type": "execute_result"
    }
   ],
   "source": [
    "accident_df['SPEEDING'].value_counts()"
   ]
  },
  {
   "cell_type": "code",
   "execution_count": 31,
   "metadata": {},
   "outputs": [
    {
     "data": {
      "text/plain": [
       "32    27612\n",
       "10    23427\n",
       "14    16883\n",
       "32    16809\n",
       "10    11247\n",
       "      ...  \n",
       "49        1\n",
       "54        1\n",
       "43        1\n",
       "87        1\n",
       "60        1\n",
       "Name: ST_COLCODE, Length: 115, dtype: int64"
      ]
     },
     "execution_count": 31,
     "metadata": {},
     "output_type": "execute_result"
    }
   ],
   "source": [
    "accident_df['ST_COLCODE'].value_counts()"
   ]
  },
  {
   "cell_type": "code",
   "execution_count": 32,
   "metadata": {},
   "outputs": [
    {
     "data": {
      "text/plain": [
       "One parked--one moving                                                 44421\n",
       "Entering at angle                                                      34674\n",
       "From same direction - both going straight - one stopped - rear-end     25771\n",
       "Fixed object                                                           13554\n",
       "From same direction - both going straight - both moving - sideswipe    12777\n",
       "                                                                       ...  \n",
       "Railway Vehicle Strikes Pedalcyclist                                       2\n",
       "Vehicle Strikes All Other Non-Domestic Animal                              2\n",
       "Vehicle Strikes Deer                                                       1\n",
       "Non-domestic animal (deer, bear, elk, etc)                                 1\n",
       "Vehicle Hits State Road or Construction Machinery                          1\n",
       "Name: ST_COLDESC, Length: 62, dtype: int64"
      ]
     },
     "execution_count": 32,
     "metadata": {},
     "output_type": "execute_result"
    }
   ],
   "source": [
    "accident_df['ST_COLDESC'].value_counts()"
   ]
  },
  {
   "cell_type": "code",
   "execution_count": 33,
   "metadata": {},
   "outputs": [
    {
     "data": {
      "text/plain": [
       "Block           126926\n",
       "Intersection     65070\n",
       "Alley              751\n",
       "Name: ADDRTYPE, dtype: int64"
      ]
     },
     "execution_count": 33,
     "metadata": {},
     "output_type": "execute_result"
    }
   ],
   "source": [
    "accident_df['ADDRTYPE'].value_counts()"
   ]
  },
  {
   "cell_type": "code",
   "execution_count": 34,
   "metadata": {},
   "outputs": [
    {
     "data": {
      "text/plain": [
       "194673"
      ]
     },
     "execution_count": 34,
     "metadata": {},
     "output_type": "execute_result"
    }
   ],
   "source": [
    "len(accident_df['ADDRTYPE'])"
   ]
  },
  {
   "cell_type": "code",
   "execution_count": 35,
   "metadata": {},
   "outputs": [
    {
     "data": {
      "text/plain": [
       "Mid-Block (not related to intersection)              89800\n",
       "At Intersection (intersection related)               62810\n",
       "Mid-Block (but intersection related)                 22790\n",
       "Driveway Junction                                    10671\n",
       "At Intersection (but not related to intersection)     2098\n",
       "Ramp Junction                                          166\n",
       "Unknown                                                  9\n",
       "Name: JUNCTIONTYPE, dtype: int64"
      ]
     },
     "execution_count": 35,
     "metadata": {},
     "output_type": "execute_result"
    }
   ],
   "source": [
    "accident_df['JUNCTIONTYPE'].value_counts()"
   ]
  },
  {
   "cell_type": "code",
   "execution_count": 36,
   "metadata": {},
   "outputs": [
    {
     "data": {
      "text/plain": [
       "Not Enough Information, or Insufficient Location Information    5638\n",
       "Name: EXCEPTRSNDESC, dtype: int64"
      ]
     },
     "execution_count": 36,
     "metadata": {},
     "output_type": "execute_result"
    }
   ],
   "source": [
    "accident_df['EXCEPTRSNDESC'].value_counts()"
   ]
  },
  {
   "cell_type": "code",
   "execution_count": 37,
   "metadata": {},
   "outputs": [
    {
     "data": {
      "text/html": [
       "<div>\n",
       "<style scoped>\n",
       "    .dataframe tbody tr th:only-of-type {\n",
       "        vertical-align: middle;\n",
       "    }\n",
       "\n",
       "    .dataframe tbody tr th {\n",
       "        vertical-align: top;\n",
       "    }\n",
       "\n",
       "    .dataframe thead th {\n",
       "        text-align: right;\n",
       "    }\n",
       "</style>\n",
       "<table border=\"1\" class=\"dataframe\">\n",
       "  <thead>\n",
       "    <tr style=\"text-align: right;\">\n",
       "      <th></th>\n",
       "      <th>SEVERITYCODE</th>\n",
       "      <th>X</th>\n",
       "      <th>Y</th>\n",
       "      <th>OBJECTID</th>\n",
       "      <th>INCKEY</th>\n",
       "      <th>COLDETKEY</th>\n",
       "      <th>INTKEY</th>\n",
       "      <th>SEVERITYCODE.1</th>\n",
       "      <th>PERSONCOUNT</th>\n",
       "      <th>PEDCOUNT</th>\n",
       "      <th>PEDCYLCOUNT</th>\n",
       "      <th>VEHCOUNT</th>\n",
       "      <th>SDOT_COLCODE</th>\n",
       "      <th>SDOTCOLNUM</th>\n",
       "      <th>SEGLANEKEY</th>\n",
       "      <th>CROSSWALKKEY</th>\n",
       "    </tr>\n",
       "  </thead>\n",
       "  <tbody>\n",
       "    <tr>\n",
       "      <th>count</th>\n",
       "      <td>194673.000000</td>\n",
       "      <td>189339.000000</td>\n",
       "      <td>189339.000000</td>\n",
       "      <td>194673.000000</td>\n",
       "      <td>194673.000000</td>\n",
       "      <td>194673.000000</td>\n",
       "      <td>65070.000000</td>\n",
       "      <td>194673.000000</td>\n",
       "      <td>194673.000000</td>\n",
       "      <td>194673.000000</td>\n",
       "      <td>194673.000000</td>\n",
       "      <td>194673.000000</td>\n",
       "      <td>194673.000000</td>\n",
       "      <td>1.149360e+05</td>\n",
       "      <td>194673.000000</td>\n",
       "      <td>1.946730e+05</td>\n",
       "    </tr>\n",
       "    <tr>\n",
       "      <th>mean</th>\n",
       "      <td>1.298901</td>\n",
       "      <td>-122.330518</td>\n",
       "      <td>47.619543</td>\n",
       "      <td>108479.364930</td>\n",
       "      <td>141091.456350</td>\n",
       "      <td>141298.811381</td>\n",
       "      <td>37558.450576</td>\n",
       "      <td>1.298901</td>\n",
       "      <td>2.444427</td>\n",
       "      <td>0.037139</td>\n",
       "      <td>0.028391</td>\n",
       "      <td>1.920780</td>\n",
       "      <td>13.867768</td>\n",
       "      <td>7.972521e+06</td>\n",
       "      <td>269.401114</td>\n",
       "      <td>9.782452e+03</td>\n",
       "    </tr>\n",
       "    <tr>\n",
       "      <th>std</th>\n",
       "      <td>0.457778</td>\n",
       "      <td>0.029976</td>\n",
       "      <td>0.056157</td>\n",
       "      <td>62649.722558</td>\n",
       "      <td>86634.402737</td>\n",
       "      <td>86986.542110</td>\n",
       "      <td>51745.990273</td>\n",
       "      <td>0.457778</td>\n",
       "      <td>1.345929</td>\n",
       "      <td>0.198150</td>\n",
       "      <td>0.167413</td>\n",
       "      <td>0.631047</td>\n",
       "      <td>6.868755</td>\n",
       "      <td>2.553533e+06</td>\n",
       "      <td>3315.776055</td>\n",
       "      <td>7.226926e+04</td>\n",
       "    </tr>\n",
       "    <tr>\n",
       "      <th>min</th>\n",
       "      <td>1.000000</td>\n",
       "      <td>-122.419091</td>\n",
       "      <td>47.495573</td>\n",
       "      <td>1.000000</td>\n",
       "      <td>1001.000000</td>\n",
       "      <td>1001.000000</td>\n",
       "      <td>23807.000000</td>\n",
       "      <td>1.000000</td>\n",
       "      <td>0.000000</td>\n",
       "      <td>0.000000</td>\n",
       "      <td>0.000000</td>\n",
       "      <td>0.000000</td>\n",
       "      <td>0.000000</td>\n",
       "      <td>1.007024e+06</td>\n",
       "      <td>0.000000</td>\n",
       "      <td>0.000000e+00</td>\n",
       "    </tr>\n",
       "    <tr>\n",
       "      <th>25%</th>\n",
       "      <td>1.000000</td>\n",
       "      <td>-122.348673</td>\n",
       "      <td>47.575956</td>\n",
       "      <td>54267.000000</td>\n",
       "      <td>70383.000000</td>\n",
       "      <td>70383.000000</td>\n",
       "      <td>28667.000000</td>\n",
       "      <td>1.000000</td>\n",
       "      <td>2.000000</td>\n",
       "      <td>0.000000</td>\n",
       "      <td>0.000000</td>\n",
       "      <td>2.000000</td>\n",
       "      <td>11.000000</td>\n",
       "      <td>6.040015e+06</td>\n",
       "      <td>0.000000</td>\n",
       "      <td>0.000000e+00</td>\n",
       "    </tr>\n",
       "    <tr>\n",
       "      <th>50%</th>\n",
       "      <td>1.000000</td>\n",
       "      <td>-122.330224</td>\n",
       "      <td>47.615369</td>\n",
       "      <td>106912.000000</td>\n",
       "      <td>123363.000000</td>\n",
       "      <td>123363.000000</td>\n",
       "      <td>29973.000000</td>\n",
       "      <td>1.000000</td>\n",
       "      <td>2.000000</td>\n",
       "      <td>0.000000</td>\n",
       "      <td>0.000000</td>\n",
       "      <td>2.000000</td>\n",
       "      <td>13.000000</td>\n",
       "      <td>8.023022e+06</td>\n",
       "      <td>0.000000</td>\n",
       "      <td>0.000000e+00</td>\n",
       "    </tr>\n",
       "    <tr>\n",
       "      <th>75%</th>\n",
       "      <td>2.000000</td>\n",
       "      <td>-122.311937</td>\n",
       "      <td>47.663664</td>\n",
       "      <td>162272.000000</td>\n",
       "      <td>203319.000000</td>\n",
       "      <td>203459.000000</td>\n",
       "      <td>33973.000000</td>\n",
       "      <td>2.000000</td>\n",
       "      <td>3.000000</td>\n",
       "      <td>0.000000</td>\n",
       "      <td>0.000000</td>\n",
       "      <td>2.000000</td>\n",
       "      <td>14.000000</td>\n",
       "      <td>1.015501e+07</td>\n",
       "      <td>0.000000</td>\n",
       "      <td>0.000000e+00</td>\n",
       "    </tr>\n",
       "    <tr>\n",
       "      <th>max</th>\n",
       "      <td>2.000000</td>\n",
       "      <td>-122.238949</td>\n",
       "      <td>47.734142</td>\n",
       "      <td>219547.000000</td>\n",
       "      <td>331454.000000</td>\n",
       "      <td>332954.000000</td>\n",
       "      <td>757580.000000</td>\n",
       "      <td>2.000000</td>\n",
       "      <td>81.000000</td>\n",
       "      <td>6.000000</td>\n",
       "      <td>2.000000</td>\n",
       "      <td>12.000000</td>\n",
       "      <td>69.000000</td>\n",
       "      <td>1.307202e+07</td>\n",
       "      <td>525241.000000</td>\n",
       "      <td>5.239700e+06</td>\n",
       "    </tr>\n",
       "  </tbody>\n",
       "</table>\n",
       "</div>"
      ],
      "text/plain": [
       "        SEVERITYCODE              X              Y       OBJECTID  \\\n",
       "count  194673.000000  189339.000000  189339.000000  194673.000000   \n",
       "mean        1.298901    -122.330518      47.619543  108479.364930   \n",
       "std         0.457778       0.029976       0.056157   62649.722558   \n",
       "min         1.000000    -122.419091      47.495573       1.000000   \n",
       "25%         1.000000    -122.348673      47.575956   54267.000000   \n",
       "50%         1.000000    -122.330224      47.615369  106912.000000   \n",
       "75%         2.000000    -122.311937      47.663664  162272.000000   \n",
       "max         2.000000    -122.238949      47.734142  219547.000000   \n",
       "\n",
       "              INCKEY      COLDETKEY         INTKEY  SEVERITYCODE.1  \\\n",
       "count  194673.000000  194673.000000   65070.000000   194673.000000   \n",
       "mean   141091.456350  141298.811381   37558.450576        1.298901   \n",
       "std     86634.402737   86986.542110   51745.990273        0.457778   \n",
       "min      1001.000000    1001.000000   23807.000000        1.000000   \n",
       "25%     70383.000000   70383.000000   28667.000000        1.000000   \n",
       "50%    123363.000000  123363.000000   29973.000000        1.000000   \n",
       "75%    203319.000000  203459.000000   33973.000000        2.000000   \n",
       "max    331454.000000  332954.000000  757580.000000        2.000000   \n",
       "\n",
       "         PERSONCOUNT       PEDCOUNT    PEDCYLCOUNT       VEHCOUNT  \\\n",
       "count  194673.000000  194673.000000  194673.000000  194673.000000   \n",
       "mean        2.444427       0.037139       0.028391       1.920780   \n",
       "std         1.345929       0.198150       0.167413       0.631047   \n",
       "min         0.000000       0.000000       0.000000       0.000000   \n",
       "25%         2.000000       0.000000       0.000000       2.000000   \n",
       "50%         2.000000       0.000000       0.000000       2.000000   \n",
       "75%         3.000000       0.000000       0.000000       2.000000   \n",
       "max        81.000000       6.000000       2.000000      12.000000   \n",
       "\n",
       "        SDOT_COLCODE    SDOTCOLNUM     SEGLANEKEY  CROSSWALKKEY  \n",
       "count  194673.000000  1.149360e+05  194673.000000  1.946730e+05  \n",
       "mean       13.867768  7.972521e+06     269.401114  9.782452e+03  \n",
       "std         6.868755  2.553533e+06    3315.776055  7.226926e+04  \n",
       "min         0.000000  1.007024e+06       0.000000  0.000000e+00  \n",
       "25%        11.000000  6.040015e+06       0.000000  0.000000e+00  \n",
       "50%        13.000000  8.023022e+06       0.000000  0.000000e+00  \n",
       "75%        14.000000  1.015501e+07       0.000000  0.000000e+00  \n",
       "max        69.000000  1.307202e+07  525241.000000  5.239700e+06  "
      ]
     },
     "execution_count": 37,
     "metadata": {},
     "output_type": "execute_result"
    }
   ],
   "source": [
    "accident_df.describe()"
   ]
  },
  {
   "cell_type": "code",
   "execution_count": 38,
   "metadata": {},
   "outputs": [
    {
     "data": {
      "text/plain": [
       "-122.332653    265\n",
       "-122.344896    254\n",
       "-122.328079    252\n",
       "-122.344997    239\n",
       "-122.299160    231\n",
       "              ... \n",
       "-122.322768      1\n",
       "-122.288680      1\n",
       "-122.405699      1\n",
       "-122.323578      1\n",
       "-122.343898      1\n",
       "Name: X, Length: 23563, dtype: int64"
      ]
     },
     "execution_count": 38,
     "metadata": {},
     "output_type": "execute_result"
    }
   ],
   "source": [
    "accident_df['X'].value_counts()"
   ]
  },
  {
   "cell_type": "code",
   "execution_count": 39,
   "metadata": {},
   "outputs": [
    {
     "data": {
      "text/plain": [
       "47.708655    265\n",
       "47.717173    254\n",
       "47.604161    252\n",
       "47.725036    239\n",
       "47.579673    231\n",
       "            ... \n",
       "47.556705      1\n",
       "47.709101      1\n",
       "47.513899      1\n",
       "47.565438      1\n",
       "47.563521      1\n",
       "Name: Y, Length: 23839, dtype: int64"
      ]
     },
     "execution_count": 39,
     "metadata": {},
     "output_type": "execute_result"
    }
   ],
   "source": [
    "accident_df['Y'].value_counts()"
   ]
  },
  {
   "cell_type": "code",
   "execution_count": 40,
   "metadata": {},
   "outputs": [
    {
     "data": {
      "text/html": [
       "<div>\n",
       "<style scoped>\n",
       "    .dataframe tbody tr th:only-of-type {\n",
       "        vertical-align: middle;\n",
       "    }\n",
       "\n",
       "    .dataframe tbody tr th {\n",
       "        vertical-align: top;\n",
       "    }\n",
       "\n",
       "    .dataframe thead th {\n",
       "        text-align: right;\n",
       "    }\n",
       "</style>\n",
       "<table border=\"1\" class=\"dataframe\">\n",
       "  <thead>\n",
       "    <tr style=\"text-align: right;\">\n",
       "      <th></th>\n",
       "      <th>INCDATE</th>\n",
       "    </tr>\n",
       "  </thead>\n",
       "  <tbody>\n",
       "    <tr>\n",
       "      <th>0</th>\n",
       "      <td>2013/03/27 00:00:00+00</td>\n",
       "    </tr>\n",
       "    <tr>\n",
       "      <th>1</th>\n",
       "      <td>2006/12/20 00:00:00+00</td>\n",
       "    </tr>\n",
       "    <tr>\n",
       "      <th>2</th>\n",
       "      <td>2004/11/18 00:00:00+00</td>\n",
       "    </tr>\n",
       "    <tr>\n",
       "      <th>3</th>\n",
       "      <td>2013/03/29 00:00:00+00</td>\n",
       "    </tr>\n",
       "    <tr>\n",
       "      <th>4</th>\n",
       "      <td>2004/01/28 00:00:00+00</td>\n",
       "    </tr>\n",
       "    <tr>\n",
       "      <th>...</th>\n",
       "      <td>...</td>\n",
       "    </tr>\n",
       "    <tr>\n",
       "      <th>194668</th>\n",
       "      <td>2018/11/12 00:00:00+00</td>\n",
       "    </tr>\n",
       "    <tr>\n",
       "      <th>194669</th>\n",
       "      <td>2018/12/18 00:00:00+00</td>\n",
       "    </tr>\n",
       "    <tr>\n",
       "      <th>194670</th>\n",
       "      <td>2019/01/19 00:00:00+00</td>\n",
       "    </tr>\n",
       "    <tr>\n",
       "      <th>194671</th>\n",
       "      <td>2019/01/15 00:00:00+00</td>\n",
       "    </tr>\n",
       "    <tr>\n",
       "      <th>194672</th>\n",
       "      <td>2018/11/30 00:00:00+00</td>\n",
       "    </tr>\n",
       "  </tbody>\n",
       "</table>\n",
       "<p>194673 rows × 1 columns</p>\n",
       "</div>"
      ],
      "text/plain": [
       "                       INCDATE\n",
       "0       2013/03/27 00:00:00+00\n",
       "1       2006/12/20 00:00:00+00\n",
       "2       2004/11/18 00:00:00+00\n",
       "3       2013/03/29 00:00:00+00\n",
       "4       2004/01/28 00:00:00+00\n",
       "...                        ...\n",
       "194668  2018/11/12 00:00:00+00\n",
       "194669  2018/12/18 00:00:00+00\n",
       "194670  2019/01/19 00:00:00+00\n",
       "194671  2019/01/15 00:00:00+00\n",
       "194672  2018/11/30 00:00:00+00\n",
       "\n",
       "[194673 rows x 1 columns]"
      ]
     },
     "execution_count": 40,
     "metadata": {},
     "output_type": "execute_result"
    }
   ],
   "source": [
    "incident_df = accident_df[['INCDATE']]\n",
    "incident_df"
   ]
  },
  {
   "cell_type": "code",
   "execution_count": 38,
   "metadata": {
    "collapsed": true,
    "jupyter": {
     "outputs_hidden": true,
     "source_hidden": true
    }
   },
   "outputs": [
    {
     "data": {
      "text/plain": [
       "'2013-03-27'"
      ]
     },
     "execution_count": 38,
     "metadata": {},
     "output_type": "execute_result"
    }
   ],
   "source": [
    "incident_df['INCDATE'][0].split()[0].replace('/', '-')"
   ]
  },
  {
   "cell_type": "code",
   "execution_count": 39,
   "metadata": {
    "collapsed": true,
    "jupyter": {
     "outputs_hidden": true,
     "source_hidden": true
    }
   },
   "outputs": [
    {
     "data": {
      "text/plain": [
       "0         2013-03-27\n",
       "1         2006-12-20\n",
       "2         2004-11-18\n",
       "3         2013-03-29\n",
       "4         2004-01-28\n",
       "             ...    \n",
       "194668    2018-11-12\n",
       "194669    2018-12-18\n",
       "194670    2019-01-19\n",
       "194671    2019-01-15\n",
       "194672    2018-11-30\n",
       "Name: INCDATE, Length: 194673, dtype: object"
      ]
     },
     "execution_count": 39,
     "metadata": {},
     "output_type": "execute_result"
    }
   ],
   "source": [
    "x = incident_df['INCDATE'].apply(lambda row : row.split()[0].replace('/', '-'))\n",
    "x"
   ]
  },
  {
   "cell_type": "markdown",
   "metadata": {},
   "source": [
    "## Transforming the Data to Build the Feature Set"
   ]
  },
  {
   "cell_type": "code",
   "execution_count": 41,
   "metadata": {},
   "outputs": [],
   "source": [
    "from datetime import date"
   ]
  },
  {
   "cell_type": "code",
   "execution_count": 42,
   "metadata": {},
   "outputs": [],
   "source": [
    "def get_accident_month(row):\n",
    "    '''\n",
    "        This function will take the month from the INCDATE column of the dataset.\n",
    "    '''\n",
    "    date_iso_format = row.split()[0].replace('/', '-')\n",
    "    date_val = date.fromisoformat(date_iso_format)\n",
    "    \n",
    "    if date_val.month == 1:\n",
    "        return 'January'\n",
    "    elif date_val.month == 2:\n",
    "        return 'Feburary'\n",
    "    elif date_val.month == 3:\n",
    "        return 'March'\n",
    "    elif date_val.month == 4:\n",
    "        return 'April'\n",
    "    elif date_val.month == 5:\n",
    "        return 'May'\n",
    "    elif date_val.month == 6:\n",
    "        return 'June'\n",
    "    elif date_val.month == 7:\n",
    "        return 'July'\n",
    "    elif date_val.month == 8:\n",
    "        return 'August'\n",
    "    elif date_val.month == 9:\n",
    "        return 'September'\n",
    "    elif date_val.month == 10:\n",
    "        return 'October'\n",
    "    elif date_val.month == 11:\n",
    "        return 'November'\n",
    "    elif date_val.month == 12:\n",
    "        return 'December'\n",
    "    \n",
    "    return date_val.month"
   ]
  },
  {
   "cell_type": "code",
   "execution_count": 43,
   "metadata": {},
   "outputs": [
    {
     "data": {
      "text/plain": [
       "0            March\n",
       "1         December\n",
       "2         November\n",
       "3            March\n",
       "4          January\n",
       "            ...   \n",
       "194668    November\n",
       "194669    December\n",
       "194670     January\n",
       "194671     January\n",
       "194672    November\n",
       "Name: INCDATE, Length: 194673, dtype: object"
      ]
     },
     "execution_count": 43,
     "metadata": {},
     "output_type": "execute_result"
    }
   ],
   "source": [
    "months = incident_df['INCDATE'].apply(lambda row : get_accident_month(row))\n",
    "months"
   ]
  },
  {
   "cell_type": "code",
   "execution_count": 43,
   "metadata": {
    "jupyter": {
     "source_hidden": true
    }
   },
   "outputs": [],
   "source": [
    "s = date.fromisoformat(incident_df['INCDATE'][0].split()[0].replace('/', '-'))"
   ]
  },
  {
   "cell_type": "code",
   "execution_count": 44,
   "metadata": {
    "collapsed": true,
    "jupyter": {
     "outputs_hidden": true,
     "source_hidden": true
    }
   },
   "outputs": [
    {
     "data": {
      "text/plain": [
       "datetime.date(2013, 3, 27)"
      ]
     },
     "execution_count": 44,
     "metadata": {},
     "output_type": "execute_result"
    }
   ],
   "source": [
    "s"
   ]
  },
  {
   "cell_type": "code",
   "execution_count": 45,
   "metadata": {
    "collapsed": true,
    "jupyter": {
     "outputs_hidden": true,
     "source_hidden": true
    }
   },
   "outputs": [
    {
     "data": {
      "text/plain": [
       "3"
      ]
     },
     "execution_count": 45,
     "metadata": {},
     "output_type": "execute_result"
    }
   ],
   "source": [
    "s.month"
   ]
  },
  {
   "cell_type": "code",
   "execution_count": 44,
   "metadata": {},
   "outputs": [],
   "source": [
    "def get_accident_day_of_week(row):\n",
    "    '''\n",
    "        This function will take the day of the week from the INCDATE column of the dataset.\n",
    "    '''\n",
    "    date_iso_format = row.split()[0].replace('/', '-')\n",
    "    date_val = date.fromisoformat(date_iso_format)\n",
    "    \n",
    "    if date_val.weekday() == 0:\n",
    "        return 'Monday'\n",
    "    elif date_val.weekday() == 1:\n",
    "        return 'Tuesday'\n",
    "    elif date_val.weekday() == 2:\n",
    "        return 'Wednesday'\n",
    "    elif date_val.weekday() == 3:\n",
    "        return 'Thursday'\n",
    "    elif date_val.weekday() == 4:\n",
    "        return 'Friday'\n",
    "    elif date_val.weekday() == 5:\n",
    "        return 'Saturday'\n",
    "    elif date_val.weekday() == 6:\n",
    "        return 'Sunday'\n",
    "    \n",
    "    return date_val.weekday()"
   ]
  },
  {
   "cell_type": "code",
   "execution_count": 45,
   "metadata": {},
   "outputs": [],
   "source": [
    "days_of_week = incident_df['INCDATE'].apply(lambda row : get_accident_day_of_week(row))"
   ]
  },
  {
   "cell_type": "code",
   "execution_count": 46,
   "metadata": {
    "collapsed": true,
    "jupyter": {
     "outputs_hidden": true,
     "source_hidden": true
    }
   },
   "outputs": [
    {
     "data": {
      "text/plain": [
       "0         Wednesday\n",
       "1         Wednesday\n",
       "2          Thursday\n",
       "3            Friday\n",
       "4         Wednesday\n",
       "            ...    \n",
       "194668       Monday\n",
       "194669      Tuesday\n",
       "194670     Saturday\n",
       "194671      Tuesday\n",
       "194672       Friday\n",
       "Name: INCDATE, Length: 194673, dtype: object"
      ]
     },
     "execution_count": 46,
     "metadata": {},
     "output_type": "execute_result"
    }
   ],
   "source": [
    "days_of_week"
   ]
  },
  {
   "cell_type": "code",
   "execution_count": 49,
   "metadata": {
    "collapsed": true,
    "jupyter": {
     "outputs_hidden": true,
     "source_hidden": true
    }
   },
   "outputs": [
    {
     "data": {
      "text/plain": [
       "'Wet'"
      ]
     },
     "execution_count": 49,
     "metadata": {},
     "output_type": "execute_result"
    }
   ],
   "source": [
    " accident_df['ROADCOND'][0] "
   ]
  },
  {
   "cell_type": "code",
   "execution_count": 47,
   "metadata": {},
   "outputs": [],
   "source": [
    "def change_road_condition_categories(row):\n",
    "    \n",
    "    '''\n",
    "        This function will recategorize the road conditions into two categories, Fair and Hazardous\n",
    "    '''\n",
    "        \n",
    "    HAZARD_CONDITION = 'Hazardous'\n",
    "    FAIR_CONDITION = 'Fair'\n",
    "    \n",
    "    if row == 'Dry':\n",
    "        return FAIR_CONDITION\n",
    "    elif row == 'Wet' or row == 'Snow/Slush' or row == 'Ice' or row == 'Standing Water'or row == 'Sand/Mud/Dirt' or row == 'Oil':\n",
    "        return HAZARD_CONDITION\n",
    "    else :\n",
    "        return FAIR_CONDITION"
   ]
  },
  {
   "cell_type": "code",
   "execution_count": 48,
   "metadata": {},
   "outputs": [],
   "source": [
    "road_condition = accident_df['ROADCOND'].apply(lambda row : change_road_condition_categories(row))"
   ]
  },
  {
   "cell_type": "code",
   "execution_count": 52,
   "metadata": {
    "collapsed": true,
    "jupyter": {
     "outputs_hidden": true,
     "source_hidden": true
    }
   },
   "outputs": [
    {
     "data": {
      "text/plain": [
       "0         Hazardous\n",
       "1         Hazardous\n",
       "2              Fair\n",
       "3              Fair\n",
       "4         Hazardous\n",
       "            ...    \n",
       "194668         Fair\n",
       "194669    Hazardous\n",
       "194670         Fair\n",
       "194671         Fair\n",
       "194672    Hazardous\n",
       "Name: ROADCOND, Length: 194673, dtype: object"
      ]
     },
     "execution_count": 52,
     "metadata": {},
     "output_type": "execute_result"
    }
   ],
   "source": [
    "road_condition"
   ]
  },
  {
   "cell_type": "code",
   "execution_count": 49,
   "metadata": {},
   "outputs": [],
   "source": [
    "def change_weather_condition_categories(row):\n",
    "    '''\n",
    "        This function will recategorize the weather conditions into two categories, Clear and Inclement\n",
    "    '''\n",
    "    \n",
    "    CLEAR_CONDITION = 'Clear'\n",
    "    INCLEMENT_CONDITION = 'Inclement'\n",
    "    \n",
    "    if row == 'Clear' or row == 'Overcast' or row == 'Unknown' or row == 'Other' or row == 'Partly Cloudy' :\n",
    "        return CLEAR_CONDITION\n",
    "    elif row == 'Raining' or row == 'Snowing' or row == 'Fog/Smog/Smoke' or row == 'Sleet/Hail/Freezing Rain' or row == 'Blowing Sand/Dirt' or row == 'Severe Crosswind' :\n",
    "        return INCLEMENT_CONDITION\n",
    "    else:\n",
    "        return CLEAR_CONDITION\n",
    "    \n",
    "    "
   ]
  },
  {
   "cell_type": "code",
   "execution_count": 50,
   "metadata": {
    "collapsed": true,
    "jupyter": {
     "outputs_hidden": true,
     "source_hidden": true
    }
   },
   "outputs": [
    {
     "data": {
      "text/plain": [
       "0             Clear\n",
       "1         Inclement\n",
       "2             Clear\n",
       "3             Clear\n",
       "4         Inclement\n",
       "            ...    \n",
       "194668        Clear\n",
       "194669    Inclement\n",
       "194670        Clear\n",
       "194671        Clear\n",
       "194672        Clear\n",
       "Name: WEATHER, Length: 194673, dtype: object"
      ]
     },
     "execution_count": 50,
     "metadata": {},
     "output_type": "execute_result"
    }
   ],
   "source": [
    "weather_condition = accident_df['WEATHER'].apply(lambda row : change_weather_condition_categories(row))\n",
    "weather_condition"
   ]
  },
  {
   "cell_type": "code",
   "execution_count": 51,
   "metadata": {
    "collapsed": true,
    "jupyter": {
     "outputs_hidden": true,
     "source_hidden": true
    }
   },
   "outputs": [
    {
     "data": {
      "text/plain": [
       "(34815,)"
      ]
     },
     "execution_count": 51,
     "metadata": {},
     "output_type": "execute_result"
    }
   ],
   "source": [
    "weather_condition[weather_condition != 'Clear'].shape"
   ]
  },
  {
   "cell_type": "code",
   "execution_count": 52,
   "metadata": {},
   "outputs": [],
   "source": [
    "def change_lighting_condition_categories(row):\n",
    "    '''\n",
    "        This function will recategorize the lighting condition into two categories. Night and Day\n",
    "    '''\n",
    "    \n",
    "    DAY_HOURS = 'Day'\n",
    "    NIGHT_HOURS = 'Night'\n",
    "    \n",
    "    if row == 'Daylight' or row == 'Unknown' or row == 'Dusk' or row == 'Dawn' or row == 'Other' :\n",
    "        return DAY_HOURS\n",
    "    elif row == 'Dark - Street Lights On' or row == 'Dark - No Street Lights' or row == 'Dark - Street Lights Off' or row == 'Dark - Unknown Lighting' :\n",
    "        return NIGHT_HOURS\n",
    "    else:\n",
    "        return DAY_HOURS\n",
    "\n",
    "\n"
   ]
  },
  {
   "cell_type": "code",
   "execution_count": 53,
   "metadata": {
    "collapsed": true,
    "jupyter": {
     "outputs_hidden": true,
     "source_hidden": true
    }
   },
   "outputs": [
    {
     "data": {
      "text/plain": [
       "0           Day\n",
       "1         Night\n",
       "2           Day\n",
       "3           Day\n",
       "4           Day\n",
       "          ...  \n",
       "194668      Day\n",
       "194669      Day\n",
       "194670      Day\n",
       "194671      Day\n",
       "194672      Day\n",
       "Name: LIGHTCOND, Length: 194673, dtype: object"
      ]
     },
     "execution_count": 53,
     "metadata": {},
     "output_type": "execute_result"
    }
   ],
   "source": [
    "lighting_condition = accident_df['LIGHTCOND'].apply(lambda row : change_lighting_condition_categories(row))\n",
    "lighting_condition"
   ]
  },
  {
   "cell_type": "code",
   "execution_count": 54,
   "metadata": {
    "collapsed": true,
    "jupyter": {
     "outputs_hidden": true,
     "source_hidden": true
    }
   },
   "outputs": [
    {
     "data": {
      "text/plain": [
       "(143419,)"
      ]
     },
     "execution_count": 54,
     "metadata": {},
     "output_type": "execute_result"
    }
   ],
   "source": [
    "lighting_condition[lighting_condition == 'Day'].to_numpy().shape"
   ]
  },
  {
   "cell_type": "code",
   "execution_count": 55,
   "metadata": {},
   "outputs": [],
   "source": [
    "def change_under_the_influence_categories(row):\n",
    "    ''' \n",
    "        This function will combine categories 0 and N into a No category and Y and 1 into a Yes category\n",
    "    '''\n",
    "    \n",
    "    NO = \"No\"\n",
    "    YES = \"Yes\"\n",
    "    \n",
    "    if row == 'N' or row == '0' :\n",
    "        return NO\n",
    "    elif row == 'Y' or row == '1' :\n",
    "        return YES\n",
    "    else:\n",
    "        return NO"
   ]
  },
  {
   "cell_type": "code",
   "execution_count": 56,
   "metadata": {},
   "outputs": [],
   "source": [
    "under_the_influence = accident_df['UNDERINFL'].apply(lambda row : change_under_the_influence_categories(row))"
   ]
  },
  {
   "cell_type": "code",
   "execution_count": 57,
   "metadata": {
    "collapsed": true,
    "jupyter": {
     "outputs_hidden": true
    }
   },
   "outputs": [
    {
     "data": {
      "text/plain": [
       "(185552,)"
      ]
     },
     "execution_count": 57,
     "metadata": {},
     "output_type": "execute_result"
    }
   ],
   "source": [
    "under_the_influence[under_the_influence == 'No'].to_numpy().shape"
   ]
  },
  {
   "cell_type": "code",
   "execution_count": 62,
   "metadata": {
    "collapsed": true,
    "jupyter": {
     "outputs_hidden": true,
     "source_hidden": true
    }
   },
   "outputs": [
    {
     "data": {
      "text/plain": [
       "12"
      ]
     },
     "execution_count": 62,
     "metadata": {},
     "output_type": "execute_result"
    }
   ],
   "source": [
    "accident_df['VEHCOUNT'].max()"
   ]
  },
  {
   "cell_type": "code",
   "execution_count": 63,
   "metadata": {
    "collapsed": true,
    "jupyter": {
     "outputs_hidden": true,
     "source_hidden": true
    }
   },
   "outputs": [
    {
     "data": {
      "text/plain": [
       "0"
      ]
     },
     "execution_count": 63,
     "metadata": {},
     "output_type": "execute_result"
    }
   ],
   "source": [
    "accident_df['VEHCOUNT'].min()\n"
   ]
  },
  {
   "cell_type": "code",
   "execution_count": 64,
   "metadata": {
    "collapsed": true,
    "jupyter": {
     "outputs_hidden": true,
     "source_hidden": true
    }
   },
   "outputs": [
    {
     "data": {
      "text/plain": [
       "1.9207799746241132"
      ]
     },
     "execution_count": 64,
     "metadata": {},
     "output_type": "execute_result"
    }
   ],
   "source": [
    "accident_df['VEHCOUNT'].mean()"
   ]
  },
  {
   "cell_type": "code",
   "execution_count": 58,
   "metadata": {},
   "outputs": [],
   "source": [
    "vehicle_count = (accident_df['VEHCOUNT'] - accident_df['VEHCOUNT'].min() ) / (accident_df['VEHCOUNT'].max() - accident_df['VEHCOUNT'].min())"
   ]
  },
  {
   "cell_type": "code",
   "execution_count": 59,
   "metadata": {},
   "outputs": [
    {
     "data": {
      "text/plain": [
       "0         0.166667\n",
       "1         0.166667\n",
       "2         0.250000\n",
       "3         0.250000\n",
       "4         0.166667\n",
       "            ...   \n",
       "194668    0.166667\n",
       "194669    0.166667\n",
       "194670    0.166667\n",
       "194671    0.083333\n",
       "194672    0.166667\n",
       "Name: VEHCOUNT, Length: 194673, dtype: float64"
      ]
     },
     "execution_count": 59,
     "metadata": {},
     "output_type": "execute_result"
    }
   ],
   "source": [
    "vehicle_count.fillna(vehicle_count.mode())"
   ]
  },
  {
   "cell_type": "code",
   "execution_count": 60,
   "metadata": {},
   "outputs": [],
   "source": [
    "person_count = (accident_df['PERSONCOUNT'] - accident_df['PERSONCOUNT'].min() ) / (accident_df['PERSONCOUNT'].max() - accident_df['PERSONCOUNT'].min())"
   ]
  },
  {
   "cell_type": "code",
   "execution_count": 61,
   "metadata": {},
   "outputs": [
    {
     "data": {
      "text/plain": [
       "0         0.024691\n",
       "1         0.024691\n",
       "2         0.049383\n",
       "3         0.037037\n",
       "4         0.024691\n",
       "            ...   \n",
       "194668    0.037037\n",
       "194669    0.024691\n",
       "194670    0.037037\n",
       "194671    0.024691\n",
       "194672    0.024691\n",
       "Name: PERSONCOUNT, Length: 194673, dtype: float64"
      ]
     },
     "execution_count": 61,
     "metadata": {},
     "output_type": "execute_result"
    }
   ],
   "source": [
    "person_count.fillna(person_count.mode())"
   ]
  },
  {
   "cell_type": "code",
   "execution_count": 62,
   "metadata": {},
   "outputs": [],
   "source": [
    "pedestrian_count = (accident_df['PEDCOUNT'] - accident_df['PEDCOUNT'].min() ) / (accident_df['PEDCOUNT'].max() - accident_df['PEDCOUNT'].min())"
   ]
  },
  {
   "cell_type": "code",
   "execution_count": 63,
   "metadata": {},
   "outputs": [
    {
     "data": {
      "text/plain": [
       "0         0.0\n",
       "1         0.0\n",
       "2         0.0\n",
       "3         0.0\n",
       "4         0.0\n",
       "         ... \n",
       "194668    0.0\n",
       "194669    0.0\n",
       "194670    0.0\n",
       "194671    0.0\n",
       "194672    0.0\n",
       "Name: PEDCOUNT, Length: 194673, dtype: float64"
      ]
     },
     "execution_count": 63,
     "metadata": {},
     "output_type": "execute_result"
    }
   ],
   "source": [
    "pedestrian_count.fillna(pedestrian_count.mode())"
   ]
  },
  {
   "cell_type": "code",
   "execution_count": 64,
   "metadata": {},
   "outputs": [],
   "source": [
    "cyclist_count = (accident_df['PEDCYLCOUNT'] - accident_df['PEDCYLCOUNT'].min() ) / (accident_df['PEDCYLCOUNT'].max() - accident_df['PEDCYLCOUNT'].min())"
   ]
  },
  {
   "cell_type": "code",
   "execution_count": 65,
   "metadata": {},
   "outputs": [
    {
     "data": {
      "text/plain": [
       "0         0.0\n",
       "1         0.0\n",
       "2         0.0\n",
       "3         0.0\n",
       "4         0.0\n",
       "         ... \n",
       "194668    0.0\n",
       "194669    0.0\n",
       "194670    0.0\n",
       "194671    0.5\n",
       "194672    0.0\n",
       "Name: PEDCYLCOUNT, Length: 194673, dtype: float64"
      ]
     },
     "execution_count": 65,
     "metadata": {},
     "output_type": "execute_result"
    }
   ],
   "source": [
    "cyclist_count.fillna(cyclist_count.mode())"
   ]
  },
  {
   "cell_type": "code",
   "execution_count": 66,
   "metadata": {},
   "outputs": [],
   "source": [
    "accident_location = accident_df['ADDRTYPE'].fillna('Block')"
   ]
  },
  {
   "cell_type": "code",
   "execution_count": null,
   "metadata": {},
   "outputs": [],
   "source": []
  },
  {
   "cell_type": "code",
   "execution_count": 67,
   "metadata": {},
   "outputs": [],
   "source": [
    "X_scaled = (accident_df['X'] - accident_df['X'].min()) / (accident_df['X'].max() -  accident_df['X'].min() )"
   ]
  },
  {
   "cell_type": "code",
   "execution_count": 68,
   "metadata": {},
   "outputs": [
    {
     "data": {
      "text/plain": [
       "0         0.532596\n",
       "1         0.398557\n",
       "2         0.469359\n",
       "3         0.467897\n",
       "4         0.625423\n",
       "            ...   \n",
       "194668    0.712022\n",
       "194669    0.413924\n",
       "194670    0.623967\n",
       "194671    0.354024\n",
       "194672    0.720163\n",
       "Name: X, Length: 194673, dtype: float64"
      ]
     },
     "execution_count": 68,
     "metadata": {},
     "output_type": "execute_result"
    }
   ],
   "source": [
    "X_scaled"
   ]
  },
  {
   "cell_type": "code",
   "execution_count": 69,
   "metadata": {},
   "outputs": [
    {
     "data": {
      "text/plain": [
       "0         0.532596\n",
       "1         0.398557\n",
       "2         0.469359\n",
       "3         0.467897\n",
       "4         0.625423\n",
       "            ...   \n",
       "194668    0.712022\n",
       "194669    0.413924\n",
       "194670    0.623967\n",
       "194671    0.354024\n",
       "194672    0.720163\n",
       "Name: X, Length: 194673, dtype: float64"
      ]
     },
     "execution_count": 69,
     "metadata": {},
     "output_type": "execute_result"
    }
   ],
   "source": [
    "X_scaled.fillna(X_scaled.mode())"
   ]
  },
  {
   "cell_type": "code",
   "execution_count": 70,
   "metadata": {},
   "outputs": [],
   "source": [
    "Y_scaled = (accident_df['Y'] - accident_df['Y'].min()) / (accident_df['Y'].max() -  accident_df['Y'].min() )"
   ]
  },
  {
   "cell_type": "code",
   "execution_count": 71,
   "metadata": {},
   "outputs": [
    {
     "data": {
      "text/plain": [
       "0         0.870053\n",
       "1         0.635455\n",
       "2         0.470718\n",
       "3         0.457855\n",
       "4         0.210281\n",
       "            ...   \n",
       "194668    0.292726\n",
       "194669    0.818844\n",
       "194670    0.785828\n",
       "194671    0.767751\n",
       "194672    0.483903\n",
       "Name: Y, Length: 194673, dtype: float64"
      ]
     },
     "execution_count": 71,
     "metadata": {},
     "output_type": "execute_result"
    }
   ],
   "source": [
    "Y_scaled"
   ]
  },
  {
   "cell_type": "code",
   "execution_count": 72,
   "metadata": {},
   "outputs": [
    {
     "data": {
      "text/plain": [
       "0         0.870053\n",
       "1         0.635455\n",
       "2         0.470718\n",
       "3         0.457855\n",
       "4         0.210281\n",
       "            ...   \n",
       "194668    0.292726\n",
       "194669    0.818844\n",
       "194670    0.785828\n",
       "194671    0.767751\n",
       "194672    0.483903\n",
       "Name: Y, Length: 194673, dtype: float64"
      ]
     },
     "execution_count": 72,
     "metadata": {},
     "output_type": "execute_result"
    }
   ],
   "source": [
    "Y_scaled.fillna(Y_scaled.mode())"
   ]
  },
  {
   "cell_type": "markdown",
   "metadata": {},
   "source": [
    "<br>\n"
   ]
  },
  {
   "cell_type": "markdown",
   "metadata": {},
   "source": [
    "## Building Features Dictionary"
   ]
  },
  {
   "cell_type": "code",
   "execution_count": 73,
   "metadata": {},
   "outputs": [],
   "source": [
    "unscaled_features = {'X' : accident_df['X'], 'Y' : accident_df['Y'], 'Incident Month' : months, 'Incident Day of Week' : days_of_week, 'Road Condition' : road_condition, 'Weather' : weather_condition, 'Time of Day' : lighting_condition, 'Drunk Driving Incident': under_the_influence, 'Vehicles Involved': accident_df['VEHCOUNT'] , 'Persons Involved': accident_df['PERSONCOUNT'] ,\"Bicycle Involved\": accident_df['PEDCYLCOUNT'], \"Pedestrians Involved\" :accident_df['PEDCOUNT'],  \"Accident Location\": accident_location}"
   ]
  },
  {
   "cell_type": "code",
   "execution_count": 74,
   "metadata": {},
   "outputs": [],
   "source": [
    "features = {'X' : X_scaled, 'Y' : Y_scaled, 'Incident Month' : months, 'Incident Day of Week' : days_of_week, 'Road Condition' : road_condition, 'Weather' : weather_condition, 'Time of Day' : lighting_condition, 'Drunk Driving Incident': under_the_influence, 'Vehicles Involved': vehicle_count , 'Persons Involved': person_count , \"Bicycle Involved\" : cyclist_count ,\"Pedestrians Involved\" : pedestrian_count,  \"Accident Location\": accident_location}"
   ]
  },
  {
   "cell_type": "markdown",
   "metadata": {},
   "source": [
    "<br>\n",
    "<br>"
   ]
  },
  {
   "cell_type": "markdown",
   "metadata": {},
   "source": [
    "## Building the Feature Set Dataframe"
   ]
  },
  {
   "cell_type": "markdown",
   "metadata": {},
   "source": [
    "Here is the dataframe containing the selected features used in our classification algorithms"
   ]
  },
  {
   "cell_type": "code",
   "execution_count": 75,
   "metadata": {},
   "outputs": [],
   "source": [
    "unscaled_features_df = pd.DataFrame(unscaled_features)"
   ]
  },
  {
   "cell_type": "code",
   "execution_count": 76,
   "metadata": {},
   "outputs": [
    {
     "data": {
      "text/html": [
       "<div>\n",
       "<style scoped>\n",
       "    .dataframe tbody tr th:only-of-type {\n",
       "        vertical-align: middle;\n",
       "    }\n",
       "\n",
       "    .dataframe tbody tr th {\n",
       "        vertical-align: top;\n",
       "    }\n",
       "\n",
       "    .dataframe thead th {\n",
       "        text-align: right;\n",
       "    }\n",
       "</style>\n",
       "<table border=\"1\" class=\"dataframe\">\n",
       "  <thead>\n",
       "    <tr style=\"text-align: right;\">\n",
       "      <th></th>\n",
       "      <th>X</th>\n",
       "      <th>Y</th>\n",
       "      <th>Incident Month</th>\n",
       "      <th>Incident Day of Week</th>\n",
       "      <th>Road Condition</th>\n",
       "      <th>Weather</th>\n",
       "      <th>Time of Day</th>\n",
       "      <th>Drunk Driving Incident</th>\n",
       "      <th>Vehicles Involved</th>\n",
       "      <th>Persons Involved</th>\n",
       "      <th>Bicycle Involved</th>\n",
       "      <th>Pedestrians Involved</th>\n",
       "      <th>Accident Location</th>\n",
       "    </tr>\n",
       "  </thead>\n",
       "  <tbody>\n",
       "    <tr>\n",
       "      <th>0</th>\n",
       "      <td>-122.323148</td>\n",
       "      <td>47.703140</td>\n",
       "      <td>March</td>\n",
       "      <td>Wednesday</td>\n",
       "      <td>Hazardous</td>\n",
       "      <td>Clear</td>\n",
       "      <td>Day</td>\n",
       "      <td>No</td>\n",
       "      <td>2</td>\n",
       "      <td>2</td>\n",
       "      <td>0</td>\n",
       "      <td>0</td>\n",
       "      <td>Intersection</td>\n",
       "    </tr>\n",
       "    <tr>\n",
       "      <th>1</th>\n",
       "      <td>-122.347294</td>\n",
       "      <td>47.647172</td>\n",
       "      <td>December</td>\n",
       "      <td>Wednesday</td>\n",
       "      <td>Hazardous</td>\n",
       "      <td>Inclement</td>\n",
       "      <td>Night</td>\n",
       "      <td>No</td>\n",
       "      <td>2</td>\n",
       "      <td>2</td>\n",
       "      <td>0</td>\n",
       "      <td>0</td>\n",
       "      <td>Block</td>\n",
       "    </tr>\n",
       "    <tr>\n",
       "      <th>2</th>\n",
       "      <td>-122.334540</td>\n",
       "      <td>47.607871</td>\n",
       "      <td>November</td>\n",
       "      <td>Thursday</td>\n",
       "      <td>Fair</td>\n",
       "      <td>Clear</td>\n",
       "      <td>Day</td>\n",
       "      <td>No</td>\n",
       "      <td>3</td>\n",
       "      <td>4</td>\n",
       "      <td>0</td>\n",
       "      <td>0</td>\n",
       "      <td>Block</td>\n",
       "    </tr>\n",
       "    <tr>\n",
       "      <th>3</th>\n",
       "      <td>-122.334803</td>\n",
       "      <td>47.604803</td>\n",
       "      <td>March</td>\n",
       "      <td>Friday</td>\n",
       "      <td>Fair</td>\n",
       "      <td>Clear</td>\n",
       "      <td>Day</td>\n",
       "      <td>No</td>\n",
       "      <td>3</td>\n",
       "      <td>3</td>\n",
       "      <td>0</td>\n",
       "      <td>0</td>\n",
       "      <td>Block</td>\n",
       "    </tr>\n",
       "    <tr>\n",
       "      <th>4</th>\n",
       "      <td>-122.306426</td>\n",
       "      <td>47.545739</td>\n",
       "      <td>January</td>\n",
       "      <td>Wednesday</td>\n",
       "      <td>Hazardous</td>\n",
       "      <td>Inclement</td>\n",
       "      <td>Day</td>\n",
       "      <td>No</td>\n",
       "      <td>2</td>\n",
       "      <td>2</td>\n",
       "      <td>0</td>\n",
       "      <td>0</td>\n",
       "      <td>Intersection</td>\n",
       "    </tr>\n",
       "    <tr>\n",
       "      <th>...</th>\n",
       "      <td>...</td>\n",
       "      <td>...</td>\n",
       "      <td>...</td>\n",
       "      <td>...</td>\n",
       "      <td>...</td>\n",
       "      <td>...</td>\n",
       "      <td>...</td>\n",
       "      <td>...</td>\n",
       "      <td>...</td>\n",
       "      <td>...</td>\n",
       "      <td>...</td>\n",
       "      <td>...</td>\n",
       "      <td>...</td>\n",
       "    </tr>\n",
       "    <tr>\n",
       "      <th>194668</th>\n",
       "      <td>-122.290826</td>\n",
       "      <td>47.565408</td>\n",
       "      <td>November</td>\n",
       "      <td>Monday</td>\n",
       "      <td>Fair</td>\n",
       "      <td>Clear</td>\n",
       "      <td>Day</td>\n",
       "      <td>No</td>\n",
       "      <td>2</td>\n",
       "      <td>3</td>\n",
       "      <td>0</td>\n",
       "      <td>0</td>\n",
       "      <td>Block</td>\n",
       "    </tr>\n",
       "    <tr>\n",
       "      <th>194669</th>\n",
       "      <td>-122.344526</td>\n",
       "      <td>47.690924</td>\n",
       "      <td>December</td>\n",
       "      <td>Tuesday</td>\n",
       "      <td>Hazardous</td>\n",
       "      <td>Inclement</td>\n",
       "      <td>Day</td>\n",
       "      <td>No</td>\n",
       "      <td>2</td>\n",
       "      <td>2</td>\n",
       "      <td>0</td>\n",
       "      <td>0</td>\n",
       "      <td>Block</td>\n",
       "    </tr>\n",
       "    <tr>\n",
       "      <th>194670</th>\n",
       "      <td>-122.306689</td>\n",
       "      <td>47.683047</td>\n",
       "      <td>January</td>\n",
       "      <td>Saturday</td>\n",
       "      <td>Fair</td>\n",
       "      <td>Clear</td>\n",
       "      <td>Day</td>\n",
       "      <td>No</td>\n",
       "      <td>2</td>\n",
       "      <td>3</td>\n",
       "      <td>0</td>\n",
       "      <td>0</td>\n",
       "      <td>Intersection</td>\n",
       "    </tr>\n",
       "    <tr>\n",
       "      <th>194671</th>\n",
       "      <td>-122.355317</td>\n",
       "      <td>47.678734</td>\n",
       "      <td>January</td>\n",
       "      <td>Tuesday</td>\n",
       "      <td>Fair</td>\n",
       "      <td>Clear</td>\n",
       "      <td>Day</td>\n",
       "      <td>No</td>\n",
       "      <td>1</td>\n",
       "      <td>2</td>\n",
       "      <td>1</td>\n",
       "      <td>0</td>\n",
       "      <td>Intersection</td>\n",
       "    </tr>\n",
       "    <tr>\n",
       "      <th>194672</th>\n",
       "      <td>-122.289360</td>\n",
       "      <td>47.611017</td>\n",
       "      <td>November</td>\n",
       "      <td>Friday</td>\n",
       "      <td>Hazardous</td>\n",
       "      <td>Clear</td>\n",
       "      <td>Day</td>\n",
       "      <td>No</td>\n",
       "      <td>2</td>\n",
       "      <td>2</td>\n",
       "      <td>0</td>\n",
       "      <td>0</td>\n",
       "      <td>Block</td>\n",
       "    </tr>\n",
       "  </tbody>\n",
       "</table>\n",
       "<p>194673 rows × 13 columns</p>\n",
       "</div>"
      ],
      "text/plain": [
       "                 X          Y Incident Month Incident Day of Week  \\\n",
       "0      -122.323148  47.703140          March            Wednesday   \n",
       "1      -122.347294  47.647172       December            Wednesday   \n",
       "2      -122.334540  47.607871       November             Thursday   \n",
       "3      -122.334803  47.604803          March               Friday   \n",
       "4      -122.306426  47.545739        January            Wednesday   \n",
       "...            ...        ...            ...                  ...   \n",
       "194668 -122.290826  47.565408       November               Monday   \n",
       "194669 -122.344526  47.690924       December              Tuesday   \n",
       "194670 -122.306689  47.683047        January             Saturday   \n",
       "194671 -122.355317  47.678734        January              Tuesday   \n",
       "194672 -122.289360  47.611017       November               Friday   \n",
       "\n",
       "       Road Condition    Weather Time of Day Drunk Driving Incident  \\\n",
       "0           Hazardous      Clear         Day                     No   \n",
       "1           Hazardous  Inclement       Night                     No   \n",
       "2                Fair      Clear         Day                     No   \n",
       "3                Fair      Clear         Day                     No   \n",
       "4           Hazardous  Inclement         Day                     No   \n",
       "...               ...        ...         ...                    ...   \n",
       "194668           Fair      Clear         Day                     No   \n",
       "194669      Hazardous  Inclement         Day                     No   \n",
       "194670           Fair      Clear         Day                     No   \n",
       "194671           Fair      Clear         Day                     No   \n",
       "194672      Hazardous      Clear         Day                     No   \n",
       "\n",
       "        Vehicles Involved  Persons Involved  Bicycle Involved  \\\n",
       "0                       2                 2                 0   \n",
       "1                       2                 2                 0   \n",
       "2                       3                 4                 0   \n",
       "3                       3                 3                 0   \n",
       "4                       2                 2                 0   \n",
       "...                   ...               ...               ...   \n",
       "194668                  2                 3                 0   \n",
       "194669                  2                 2                 0   \n",
       "194670                  2                 3                 0   \n",
       "194671                  1                 2                 1   \n",
       "194672                  2                 2                 0   \n",
       "\n",
       "        Pedestrians Involved Accident Location  \n",
       "0                          0      Intersection  \n",
       "1                          0             Block  \n",
       "2                          0             Block  \n",
       "3                          0             Block  \n",
       "4                          0      Intersection  \n",
       "...                      ...               ...  \n",
       "194668                     0             Block  \n",
       "194669                     0             Block  \n",
       "194670                     0      Intersection  \n",
       "194671                     0      Intersection  \n",
       "194672                     0             Block  \n",
       "\n",
       "[194673 rows x 13 columns]"
      ]
     },
     "execution_count": 76,
     "metadata": {},
     "output_type": "execute_result"
    }
   ],
   "source": [
    "unscaled_features_df"
   ]
  },
  {
   "cell_type": "markdown",
   "metadata": {},
   "source": [
    "The below dataframe represents the data with all numerical data **Min/Max Normalized**"
   ]
  },
  {
   "cell_type": "code",
   "execution_count": 77,
   "metadata": {},
   "outputs": [],
   "source": [
    "features_df = pd.DataFrame(features)"
   ]
  },
  {
   "cell_type": "code",
   "execution_count": 78,
   "metadata": {},
   "outputs": [
    {
     "data": {
      "text/html": [
       "<div>\n",
       "<style scoped>\n",
       "    .dataframe tbody tr th:only-of-type {\n",
       "        vertical-align: middle;\n",
       "    }\n",
       "\n",
       "    .dataframe tbody tr th {\n",
       "        vertical-align: top;\n",
       "    }\n",
       "\n",
       "    .dataframe thead th {\n",
       "        text-align: right;\n",
       "    }\n",
       "</style>\n",
       "<table border=\"1\" class=\"dataframe\">\n",
       "  <thead>\n",
       "    <tr style=\"text-align: right;\">\n",
       "      <th></th>\n",
       "      <th>X</th>\n",
       "      <th>Y</th>\n",
       "      <th>Incident Month</th>\n",
       "      <th>Incident Day of Week</th>\n",
       "      <th>Road Condition</th>\n",
       "      <th>Weather</th>\n",
       "      <th>Time of Day</th>\n",
       "      <th>Drunk Driving Incident</th>\n",
       "      <th>Vehicles Involved</th>\n",
       "      <th>Persons Involved</th>\n",
       "      <th>Bicycle Involved</th>\n",
       "      <th>Pedestrians Involved</th>\n",
       "      <th>Accident Location</th>\n",
       "    </tr>\n",
       "  </thead>\n",
       "  <tbody>\n",
       "    <tr>\n",
       "      <th>0</th>\n",
       "      <td>0.532596</td>\n",
       "      <td>0.870053</td>\n",
       "      <td>March</td>\n",
       "      <td>Wednesday</td>\n",
       "      <td>Hazardous</td>\n",
       "      <td>Clear</td>\n",
       "      <td>Day</td>\n",
       "      <td>No</td>\n",
       "      <td>0.166667</td>\n",
       "      <td>0.024691</td>\n",
       "      <td>0.0</td>\n",
       "      <td>0.0</td>\n",
       "      <td>Intersection</td>\n",
       "    </tr>\n",
       "    <tr>\n",
       "      <th>1</th>\n",
       "      <td>0.398557</td>\n",
       "      <td>0.635455</td>\n",
       "      <td>December</td>\n",
       "      <td>Wednesday</td>\n",
       "      <td>Hazardous</td>\n",
       "      <td>Inclement</td>\n",
       "      <td>Night</td>\n",
       "      <td>No</td>\n",
       "      <td>0.166667</td>\n",
       "      <td>0.024691</td>\n",
       "      <td>0.0</td>\n",
       "      <td>0.0</td>\n",
       "      <td>Block</td>\n",
       "    </tr>\n",
       "    <tr>\n",
       "      <th>2</th>\n",
       "      <td>0.469359</td>\n",
       "      <td>0.470718</td>\n",
       "      <td>November</td>\n",
       "      <td>Thursday</td>\n",
       "      <td>Fair</td>\n",
       "      <td>Clear</td>\n",
       "      <td>Day</td>\n",
       "      <td>No</td>\n",
       "      <td>0.250000</td>\n",
       "      <td>0.049383</td>\n",
       "      <td>0.0</td>\n",
       "      <td>0.0</td>\n",
       "      <td>Block</td>\n",
       "    </tr>\n",
       "    <tr>\n",
       "      <th>3</th>\n",
       "      <td>0.467897</td>\n",
       "      <td>0.457855</td>\n",
       "      <td>March</td>\n",
       "      <td>Friday</td>\n",
       "      <td>Fair</td>\n",
       "      <td>Clear</td>\n",
       "      <td>Day</td>\n",
       "      <td>No</td>\n",
       "      <td>0.250000</td>\n",
       "      <td>0.037037</td>\n",
       "      <td>0.0</td>\n",
       "      <td>0.0</td>\n",
       "      <td>Block</td>\n",
       "    </tr>\n",
       "    <tr>\n",
       "      <th>4</th>\n",
       "      <td>0.625423</td>\n",
       "      <td>0.210281</td>\n",
       "      <td>January</td>\n",
       "      <td>Wednesday</td>\n",
       "      <td>Hazardous</td>\n",
       "      <td>Inclement</td>\n",
       "      <td>Day</td>\n",
       "      <td>No</td>\n",
       "      <td>0.166667</td>\n",
       "      <td>0.024691</td>\n",
       "      <td>0.0</td>\n",
       "      <td>0.0</td>\n",
       "      <td>Intersection</td>\n",
       "    </tr>\n",
       "    <tr>\n",
       "      <th>...</th>\n",
       "      <td>...</td>\n",
       "      <td>...</td>\n",
       "      <td>...</td>\n",
       "      <td>...</td>\n",
       "      <td>...</td>\n",
       "      <td>...</td>\n",
       "      <td>...</td>\n",
       "      <td>...</td>\n",
       "      <td>...</td>\n",
       "      <td>...</td>\n",
       "      <td>...</td>\n",
       "      <td>...</td>\n",
       "      <td>...</td>\n",
       "    </tr>\n",
       "    <tr>\n",
       "      <th>194668</th>\n",
       "      <td>0.712022</td>\n",
       "      <td>0.292726</td>\n",
       "      <td>November</td>\n",
       "      <td>Monday</td>\n",
       "      <td>Fair</td>\n",
       "      <td>Clear</td>\n",
       "      <td>Day</td>\n",
       "      <td>No</td>\n",
       "      <td>0.166667</td>\n",
       "      <td>0.037037</td>\n",
       "      <td>0.0</td>\n",
       "      <td>0.0</td>\n",
       "      <td>Block</td>\n",
       "    </tr>\n",
       "    <tr>\n",
       "      <th>194669</th>\n",
       "      <td>0.413924</td>\n",
       "      <td>0.818844</td>\n",
       "      <td>December</td>\n",
       "      <td>Tuesday</td>\n",
       "      <td>Hazardous</td>\n",
       "      <td>Inclement</td>\n",
       "      <td>Day</td>\n",
       "      <td>No</td>\n",
       "      <td>0.166667</td>\n",
       "      <td>0.024691</td>\n",
       "      <td>0.0</td>\n",
       "      <td>0.0</td>\n",
       "      <td>Block</td>\n",
       "    </tr>\n",
       "    <tr>\n",
       "      <th>194670</th>\n",
       "      <td>0.623967</td>\n",
       "      <td>0.785828</td>\n",
       "      <td>January</td>\n",
       "      <td>Saturday</td>\n",
       "      <td>Fair</td>\n",
       "      <td>Clear</td>\n",
       "      <td>Day</td>\n",
       "      <td>No</td>\n",
       "      <td>0.166667</td>\n",
       "      <td>0.037037</td>\n",
       "      <td>0.0</td>\n",
       "      <td>0.0</td>\n",
       "      <td>Intersection</td>\n",
       "    </tr>\n",
       "    <tr>\n",
       "      <th>194671</th>\n",
       "      <td>0.354024</td>\n",
       "      <td>0.767751</td>\n",
       "      <td>January</td>\n",
       "      <td>Tuesday</td>\n",
       "      <td>Fair</td>\n",
       "      <td>Clear</td>\n",
       "      <td>Day</td>\n",
       "      <td>No</td>\n",
       "      <td>0.083333</td>\n",
       "      <td>0.024691</td>\n",
       "      <td>0.5</td>\n",
       "      <td>0.0</td>\n",
       "      <td>Intersection</td>\n",
       "    </tr>\n",
       "    <tr>\n",
       "      <th>194672</th>\n",
       "      <td>0.720163</td>\n",
       "      <td>0.483903</td>\n",
       "      <td>November</td>\n",
       "      <td>Friday</td>\n",
       "      <td>Hazardous</td>\n",
       "      <td>Clear</td>\n",
       "      <td>Day</td>\n",
       "      <td>No</td>\n",
       "      <td>0.166667</td>\n",
       "      <td>0.024691</td>\n",
       "      <td>0.0</td>\n",
       "      <td>0.0</td>\n",
       "      <td>Block</td>\n",
       "    </tr>\n",
       "  </tbody>\n",
       "</table>\n",
       "<p>194673 rows × 13 columns</p>\n",
       "</div>"
      ],
      "text/plain": [
       "               X         Y Incident Month Incident Day of Week Road Condition  \\\n",
       "0       0.532596  0.870053          March            Wednesday      Hazardous   \n",
       "1       0.398557  0.635455       December            Wednesday      Hazardous   \n",
       "2       0.469359  0.470718       November             Thursday           Fair   \n",
       "3       0.467897  0.457855          March               Friday           Fair   \n",
       "4       0.625423  0.210281        January            Wednesday      Hazardous   \n",
       "...          ...       ...            ...                  ...            ...   \n",
       "194668  0.712022  0.292726       November               Monday           Fair   \n",
       "194669  0.413924  0.818844       December              Tuesday      Hazardous   \n",
       "194670  0.623967  0.785828        January             Saturday           Fair   \n",
       "194671  0.354024  0.767751        January              Tuesday           Fair   \n",
       "194672  0.720163  0.483903       November               Friday      Hazardous   \n",
       "\n",
       "          Weather Time of Day Drunk Driving Incident  Vehicles Involved  \\\n",
       "0           Clear         Day                     No           0.166667   \n",
       "1       Inclement       Night                     No           0.166667   \n",
       "2           Clear         Day                     No           0.250000   \n",
       "3           Clear         Day                     No           0.250000   \n",
       "4       Inclement         Day                     No           0.166667   \n",
       "...           ...         ...                    ...                ...   \n",
       "194668      Clear         Day                     No           0.166667   \n",
       "194669  Inclement         Day                     No           0.166667   \n",
       "194670      Clear         Day                     No           0.166667   \n",
       "194671      Clear         Day                     No           0.083333   \n",
       "194672      Clear         Day                     No           0.166667   \n",
       "\n",
       "        Persons Involved  Bicycle Involved  Pedestrians Involved  \\\n",
       "0               0.024691               0.0                   0.0   \n",
       "1               0.024691               0.0                   0.0   \n",
       "2               0.049383               0.0                   0.0   \n",
       "3               0.037037               0.0                   0.0   \n",
       "4               0.024691               0.0                   0.0   \n",
       "...                  ...               ...                   ...   \n",
       "194668          0.037037               0.0                   0.0   \n",
       "194669          0.024691               0.0                   0.0   \n",
       "194670          0.037037               0.0                   0.0   \n",
       "194671          0.024691               0.5                   0.0   \n",
       "194672          0.024691               0.0                   0.0   \n",
       "\n",
       "       Accident Location  \n",
       "0           Intersection  \n",
       "1                  Block  \n",
       "2                  Block  \n",
       "3                  Block  \n",
       "4           Intersection  \n",
       "...                  ...  \n",
       "194668             Block  \n",
       "194669             Block  \n",
       "194670      Intersection  \n",
       "194671      Intersection  \n",
       "194672             Block  \n",
       "\n",
       "[194673 rows x 13 columns]"
      ]
     },
     "execution_count": 78,
     "metadata": {},
     "output_type": "execute_result"
    }
   ],
   "source": [
    "features_df"
   ]
  },
  {
   "cell_type": "markdown",
   "metadata": {},
   "source": [
    "<br>"
   ]
  },
  {
   "cell_type": "markdown",
   "metadata": {},
   "source": [
    "Now we will **One Hot Encode** all of the categorical fields of the `features_df`"
   ]
  },
  {
   "cell_type": "code",
   "execution_count": 79,
   "metadata": {},
   "outputs": [],
   "source": [
    "features_vectorized_df = pd.concat ([features_df , pd.get_dummies(features_df['Road Condition'], prefix='road_condition')] , axis = 1)"
   ]
  },
  {
   "cell_type": "code",
   "execution_count": 80,
   "metadata": {},
   "outputs": [
    {
     "data": {
      "text/html": [
       "<div>\n",
       "<style scoped>\n",
       "    .dataframe tbody tr th:only-of-type {\n",
       "        vertical-align: middle;\n",
       "    }\n",
       "\n",
       "    .dataframe tbody tr th {\n",
       "        vertical-align: top;\n",
       "    }\n",
       "\n",
       "    .dataframe thead th {\n",
       "        text-align: right;\n",
       "    }\n",
       "</style>\n",
       "<table border=\"1\" class=\"dataframe\">\n",
       "  <thead>\n",
       "    <tr style=\"text-align: right;\">\n",
       "      <th></th>\n",
       "      <th>X</th>\n",
       "      <th>Y</th>\n",
       "      <th>Incident Month</th>\n",
       "      <th>Incident Day of Week</th>\n",
       "      <th>Road Condition</th>\n",
       "      <th>Weather</th>\n",
       "      <th>Time of Day</th>\n",
       "      <th>Drunk Driving Incident</th>\n",
       "      <th>Vehicles Involved</th>\n",
       "      <th>Persons Involved</th>\n",
       "      <th>Bicycle Involved</th>\n",
       "      <th>Pedestrians Involved</th>\n",
       "      <th>Accident Location</th>\n",
       "      <th>road_condition_Fair</th>\n",
       "      <th>road_condition_Hazardous</th>\n",
       "    </tr>\n",
       "  </thead>\n",
       "  <tbody>\n",
       "    <tr>\n",
       "      <th>0</th>\n",
       "      <td>0.532596</td>\n",
       "      <td>0.870053</td>\n",
       "      <td>March</td>\n",
       "      <td>Wednesday</td>\n",
       "      <td>Hazardous</td>\n",
       "      <td>Clear</td>\n",
       "      <td>Day</td>\n",
       "      <td>No</td>\n",
       "      <td>0.166667</td>\n",
       "      <td>0.024691</td>\n",
       "      <td>0.0</td>\n",
       "      <td>0.0</td>\n",
       "      <td>Intersection</td>\n",
       "      <td>0</td>\n",
       "      <td>1</td>\n",
       "    </tr>\n",
       "    <tr>\n",
       "      <th>1</th>\n",
       "      <td>0.398557</td>\n",
       "      <td>0.635455</td>\n",
       "      <td>December</td>\n",
       "      <td>Wednesday</td>\n",
       "      <td>Hazardous</td>\n",
       "      <td>Inclement</td>\n",
       "      <td>Night</td>\n",
       "      <td>No</td>\n",
       "      <td>0.166667</td>\n",
       "      <td>0.024691</td>\n",
       "      <td>0.0</td>\n",
       "      <td>0.0</td>\n",
       "      <td>Block</td>\n",
       "      <td>0</td>\n",
       "      <td>1</td>\n",
       "    </tr>\n",
       "    <tr>\n",
       "      <th>2</th>\n",
       "      <td>0.469359</td>\n",
       "      <td>0.470718</td>\n",
       "      <td>November</td>\n",
       "      <td>Thursday</td>\n",
       "      <td>Fair</td>\n",
       "      <td>Clear</td>\n",
       "      <td>Day</td>\n",
       "      <td>No</td>\n",
       "      <td>0.250000</td>\n",
       "      <td>0.049383</td>\n",
       "      <td>0.0</td>\n",
       "      <td>0.0</td>\n",
       "      <td>Block</td>\n",
       "      <td>1</td>\n",
       "      <td>0</td>\n",
       "    </tr>\n",
       "    <tr>\n",
       "      <th>3</th>\n",
       "      <td>0.467897</td>\n",
       "      <td>0.457855</td>\n",
       "      <td>March</td>\n",
       "      <td>Friday</td>\n",
       "      <td>Fair</td>\n",
       "      <td>Clear</td>\n",
       "      <td>Day</td>\n",
       "      <td>No</td>\n",
       "      <td>0.250000</td>\n",
       "      <td>0.037037</td>\n",
       "      <td>0.0</td>\n",
       "      <td>0.0</td>\n",
       "      <td>Block</td>\n",
       "      <td>1</td>\n",
       "      <td>0</td>\n",
       "    </tr>\n",
       "    <tr>\n",
       "      <th>4</th>\n",
       "      <td>0.625423</td>\n",
       "      <td>0.210281</td>\n",
       "      <td>January</td>\n",
       "      <td>Wednesday</td>\n",
       "      <td>Hazardous</td>\n",
       "      <td>Inclement</td>\n",
       "      <td>Day</td>\n",
       "      <td>No</td>\n",
       "      <td>0.166667</td>\n",
       "      <td>0.024691</td>\n",
       "      <td>0.0</td>\n",
       "      <td>0.0</td>\n",
       "      <td>Intersection</td>\n",
       "      <td>0</td>\n",
       "      <td>1</td>\n",
       "    </tr>\n",
       "    <tr>\n",
       "      <th>...</th>\n",
       "      <td>...</td>\n",
       "      <td>...</td>\n",
       "      <td>...</td>\n",
       "      <td>...</td>\n",
       "      <td>...</td>\n",
       "      <td>...</td>\n",
       "      <td>...</td>\n",
       "      <td>...</td>\n",
       "      <td>...</td>\n",
       "      <td>...</td>\n",
       "      <td>...</td>\n",
       "      <td>...</td>\n",
       "      <td>...</td>\n",
       "      <td>...</td>\n",
       "      <td>...</td>\n",
       "    </tr>\n",
       "    <tr>\n",
       "      <th>194668</th>\n",
       "      <td>0.712022</td>\n",
       "      <td>0.292726</td>\n",
       "      <td>November</td>\n",
       "      <td>Monday</td>\n",
       "      <td>Fair</td>\n",
       "      <td>Clear</td>\n",
       "      <td>Day</td>\n",
       "      <td>No</td>\n",
       "      <td>0.166667</td>\n",
       "      <td>0.037037</td>\n",
       "      <td>0.0</td>\n",
       "      <td>0.0</td>\n",
       "      <td>Block</td>\n",
       "      <td>1</td>\n",
       "      <td>0</td>\n",
       "    </tr>\n",
       "    <tr>\n",
       "      <th>194669</th>\n",
       "      <td>0.413924</td>\n",
       "      <td>0.818844</td>\n",
       "      <td>December</td>\n",
       "      <td>Tuesday</td>\n",
       "      <td>Hazardous</td>\n",
       "      <td>Inclement</td>\n",
       "      <td>Day</td>\n",
       "      <td>No</td>\n",
       "      <td>0.166667</td>\n",
       "      <td>0.024691</td>\n",
       "      <td>0.0</td>\n",
       "      <td>0.0</td>\n",
       "      <td>Block</td>\n",
       "      <td>0</td>\n",
       "      <td>1</td>\n",
       "    </tr>\n",
       "    <tr>\n",
       "      <th>194670</th>\n",
       "      <td>0.623967</td>\n",
       "      <td>0.785828</td>\n",
       "      <td>January</td>\n",
       "      <td>Saturday</td>\n",
       "      <td>Fair</td>\n",
       "      <td>Clear</td>\n",
       "      <td>Day</td>\n",
       "      <td>No</td>\n",
       "      <td>0.166667</td>\n",
       "      <td>0.037037</td>\n",
       "      <td>0.0</td>\n",
       "      <td>0.0</td>\n",
       "      <td>Intersection</td>\n",
       "      <td>1</td>\n",
       "      <td>0</td>\n",
       "    </tr>\n",
       "    <tr>\n",
       "      <th>194671</th>\n",
       "      <td>0.354024</td>\n",
       "      <td>0.767751</td>\n",
       "      <td>January</td>\n",
       "      <td>Tuesday</td>\n",
       "      <td>Fair</td>\n",
       "      <td>Clear</td>\n",
       "      <td>Day</td>\n",
       "      <td>No</td>\n",
       "      <td>0.083333</td>\n",
       "      <td>0.024691</td>\n",
       "      <td>0.5</td>\n",
       "      <td>0.0</td>\n",
       "      <td>Intersection</td>\n",
       "      <td>1</td>\n",
       "      <td>0</td>\n",
       "    </tr>\n",
       "    <tr>\n",
       "      <th>194672</th>\n",
       "      <td>0.720163</td>\n",
       "      <td>0.483903</td>\n",
       "      <td>November</td>\n",
       "      <td>Friday</td>\n",
       "      <td>Hazardous</td>\n",
       "      <td>Clear</td>\n",
       "      <td>Day</td>\n",
       "      <td>No</td>\n",
       "      <td>0.166667</td>\n",
       "      <td>0.024691</td>\n",
       "      <td>0.0</td>\n",
       "      <td>0.0</td>\n",
       "      <td>Block</td>\n",
       "      <td>0</td>\n",
       "      <td>1</td>\n",
       "    </tr>\n",
       "  </tbody>\n",
       "</table>\n",
       "<p>194673 rows × 15 columns</p>\n",
       "</div>"
      ],
      "text/plain": [
       "               X         Y Incident Month Incident Day of Week Road Condition  \\\n",
       "0       0.532596  0.870053          March            Wednesday      Hazardous   \n",
       "1       0.398557  0.635455       December            Wednesday      Hazardous   \n",
       "2       0.469359  0.470718       November             Thursday           Fair   \n",
       "3       0.467897  0.457855          March               Friday           Fair   \n",
       "4       0.625423  0.210281        January            Wednesday      Hazardous   \n",
       "...          ...       ...            ...                  ...            ...   \n",
       "194668  0.712022  0.292726       November               Monday           Fair   \n",
       "194669  0.413924  0.818844       December              Tuesday      Hazardous   \n",
       "194670  0.623967  0.785828        January             Saturday           Fair   \n",
       "194671  0.354024  0.767751        January              Tuesday           Fair   \n",
       "194672  0.720163  0.483903       November               Friday      Hazardous   \n",
       "\n",
       "          Weather Time of Day Drunk Driving Incident  Vehicles Involved  \\\n",
       "0           Clear         Day                     No           0.166667   \n",
       "1       Inclement       Night                     No           0.166667   \n",
       "2           Clear         Day                     No           0.250000   \n",
       "3           Clear         Day                     No           0.250000   \n",
       "4       Inclement         Day                     No           0.166667   \n",
       "...           ...         ...                    ...                ...   \n",
       "194668      Clear         Day                     No           0.166667   \n",
       "194669  Inclement         Day                     No           0.166667   \n",
       "194670      Clear         Day                     No           0.166667   \n",
       "194671      Clear         Day                     No           0.083333   \n",
       "194672      Clear         Day                     No           0.166667   \n",
       "\n",
       "        Persons Involved  Bicycle Involved  Pedestrians Involved  \\\n",
       "0               0.024691               0.0                   0.0   \n",
       "1               0.024691               0.0                   0.0   \n",
       "2               0.049383               0.0                   0.0   \n",
       "3               0.037037               0.0                   0.0   \n",
       "4               0.024691               0.0                   0.0   \n",
       "...                  ...               ...                   ...   \n",
       "194668          0.037037               0.0                   0.0   \n",
       "194669          0.024691               0.0                   0.0   \n",
       "194670          0.037037               0.0                   0.0   \n",
       "194671          0.024691               0.5                   0.0   \n",
       "194672          0.024691               0.0                   0.0   \n",
       "\n",
       "       Accident Location  road_condition_Fair  road_condition_Hazardous  \n",
       "0           Intersection                    0                         1  \n",
       "1                  Block                    0                         1  \n",
       "2                  Block                    1                         0  \n",
       "3                  Block                    1                         0  \n",
       "4           Intersection                    0                         1  \n",
       "...                  ...                  ...                       ...  \n",
       "194668             Block                    1                         0  \n",
       "194669             Block                    0                         1  \n",
       "194670      Intersection                    1                         0  \n",
       "194671      Intersection                    1                         0  \n",
       "194672             Block                    0                         1  \n",
       "\n",
       "[194673 rows x 15 columns]"
      ]
     },
     "execution_count": 80,
     "metadata": {},
     "output_type": "execute_result"
    }
   ],
   "source": [
    "features_vectorized_df"
   ]
  },
  {
   "cell_type": "code",
   "execution_count": 81,
   "metadata": {},
   "outputs": [],
   "source": [
    "features_vectorized_df = features_vectorized_df.drop(['Road Condition'], axis=1)"
   ]
  },
  {
   "cell_type": "code",
   "execution_count": 82,
   "metadata": {},
   "outputs": [
    {
     "data": {
      "text/html": [
       "<div>\n",
       "<style scoped>\n",
       "    .dataframe tbody tr th:only-of-type {\n",
       "        vertical-align: middle;\n",
       "    }\n",
       "\n",
       "    .dataframe tbody tr th {\n",
       "        vertical-align: top;\n",
       "    }\n",
       "\n",
       "    .dataframe thead th {\n",
       "        text-align: right;\n",
       "    }\n",
       "</style>\n",
       "<table border=\"1\" class=\"dataframe\">\n",
       "  <thead>\n",
       "    <tr style=\"text-align: right;\">\n",
       "      <th></th>\n",
       "      <th>X</th>\n",
       "      <th>Y</th>\n",
       "      <th>Incident Month</th>\n",
       "      <th>Incident Day of Week</th>\n",
       "      <th>Weather</th>\n",
       "      <th>Time of Day</th>\n",
       "      <th>Drunk Driving Incident</th>\n",
       "      <th>Vehicles Involved</th>\n",
       "      <th>Persons Involved</th>\n",
       "      <th>Bicycle Involved</th>\n",
       "      <th>Pedestrians Involved</th>\n",
       "      <th>Accident Location</th>\n",
       "      <th>road_condition_Fair</th>\n",
       "      <th>road_condition_Hazardous</th>\n",
       "    </tr>\n",
       "  </thead>\n",
       "  <tbody>\n",
       "    <tr>\n",
       "      <th>0</th>\n",
       "      <td>0.532596</td>\n",
       "      <td>0.870053</td>\n",
       "      <td>March</td>\n",
       "      <td>Wednesday</td>\n",
       "      <td>Clear</td>\n",
       "      <td>Day</td>\n",
       "      <td>No</td>\n",
       "      <td>0.166667</td>\n",
       "      <td>0.024691</td>\n",
       "      <td>0.0</td>\n",
       "      <td>0.0</td>\n",
       "      <td>Intersection</td>\n",
       "      <td>0</td>\n",
       "      <td>1</td>\n",
       "    </tr>\n",
       "    <tr>\n",
       "      <th>1</th>\n",
       "      <td>0.398557</td>\n",
       "      <td>0.635455</td>\n",
       "      <td>December</td>\n",
       "      <td>Wednesday</td>\n",
       "      <td>Inclement</td>\n",
       "      <td>Night</td>\n",
       "      <td>No</td>\n",
       "      <td>0.166667</td>\n",
       "      <td>0.024691</td>\n",
       "      <td>0.0</td>\n",
       "      <td>0.0</td>\n",
       "      <td>Block</td>\n",
       "      <td>0</td>\n",
       "      <td>1</td>\n",
       "    </tr>\n",
       "    <tr>\n",
       "      <th>2</th>\n",
       "      <td>0.469359</td>\n",
       "      <td>0.470718</td>\n",
       "      <td>November</td>\n",
       "      <td>Thursday</td>\n",
       "      <td>Clear</td>\n",
       "      <td>Day</td>\n",
       "      <td>No</td>\n",
       "      <td>0.250000</td>\n",
       "      <td>0.049383</td>\n",
       "      <td>0.0</td>\n",
       "      <td>0.0</td>\n",
       "      <td>Block</td>\n",
       "      <td>1</td>\n",
       "      <td>0</td>\n",
       "    </tr>\n",
       "    <tr>\n",
       "      <th>3</th>\n",
       "      <td>0.467897</td>\n",
       "      <td>0.457855</td>\n",
       "      <td>March</td>\n",
       "      <td>Friday</td>\n",
       "      <td>Clear</td>\n",
       "      <td>Day</td>\n",
       "      <td>No</td>\n",
       "      <td>0.250000</td>\n",
       "      <td>0.037037</td>\n",
       "      <td>0.0</td>\n",
       "      <td>0.0</td>\n",
       "      <td>Block</td>\n",
       "      <td>1</td>\n",
       "      <td>0</td>\n",
       "    </tr>\n",
       "    <tr>\n",
       "      <th>4</th>\n",
       "      <td>0.625423</td>\n",
       "      <td>0.210281</td>\n",
       "      <td>January</td>\n",
       "      <td>Wednesday</td>\n",
       "      <td>Inclement</td>\n",
       "      <td>Day</td>\n",
       "      <td>No</td>\n",
       "      <td>0.166667</td>\n",
       "      <td>0.024691</td>\n",
       "      <td>0.0</td>\n",
       "      <td>0.0</td>\n",
       "      <td>Intersection</td>\n",
       "      <td>0</td>\n",
       "      <td>1</td>\n",
       "    </tr>\n",
       "    <tr>\n",
       "      <th>...</th>\n",
       "      <td>...</td>\n",
       "      <td>...</td>\n",
       "      <td>...</td>\n",
       "      <td>...</td>\n",
       "      <td>...</td>\n",
       "      <td>...</td>\n",
       "      <td>...</td>\n",
       "      <td>...</td>\n",
       "      <td>...</td>\n",
       "      <td>...</td>\n",
       "      <td>...</td>\n",
       "      <td>...</td>\n",
       "      <td>...</td>\n",
       "      <td>...</td>\n",
       "    </tr>\n",
       "    <tr>\n",
       "      <th>194668</th>\n",
       "      <td>0.712022</td>\n",
       "      <td>0.292726</td>\n",
       "      <td>November</td>\n",
       "      <td>Monday</td>\n",
       "      <td>Clear</td>\n",
       "      <td>Day</td>\n",
       "      <td>No</td>\n",
       "      <td>0.166667</td>\n",
       "      <td>0.037037</td>\n",
       "      <td>0.0</td>\n",
       "      <td>0.0</td>\n",
       "      <td>Block</td>\n",
       "      <td>1</td>\n",
       "      <td>0</td>\n",
       "    </tr>\n",
       "    <tr>\n",
       "      <th>194669</th>\n",
       "      <td>0.413924</td>\n",
       "      <td>0.818844</td>\n",
       "      <td>December</td>\n",
       "      <td>Tuesday</td>\n",
       "      <td>Inclement</td>\n",
       "      <td>Day</td>\n",
       "      <td>No</td>\n",
       "      <td>0.166667</td>\n",
       "      <td>0.024691</td>\n",
       "      <td>0.0</td>\n",
       "      <td>0.0</td>\n",
       "      <td>Block</td>\n",
       "      <td>0</td>\n",
       "      <td>1</td>\n",
       "    </tr>\n",
       "    <tr>\n",
       "      <th>194670</th>\n",
       "      <td>0.623967</td>\n",
       "      <td>0.785828</td>\n",
       "      <td>January</td>\n",
       "      <td>Saturday</td>\n",
       "      <td>Clear</td>\n",
       "      <td>Day</td>\n",
       "      <td>No</td>\n",
       "      <td>0.166667</td>\n",
       "      <td>0.037037</td>\n",
       "      <td>0.0</td>\n",
       "      <td>0.0</td>\n",
       "      <td>Intersection</td>\n",
       "      <td>1</td>\n",
       "      <td>0</td>\n",
       "    </tr>\n",
       "    <tr>\n",
       "      <th>194671</th>\n",
       "      <td>0.354024</td>\n",
       "      <td>0.767751</td>\n",
       "      <td>January</td>\n",
       "      <td>Tuesday</td>\n",
       "      <td>Clear</td>\n",
       "      <td>Day</td>\n",
       "      <td>No</td>\n",
       "      <td>0.083333</td>\n",
       "      <td>0.024691</td>\n",
       "      <td>0.5</td>\n",
       "      <td>0.0</td>\n",
       "      <td>Intersection</td>\n",
       "      <td>1</td>\n",
       "      <td>0</td>\n",
       "    </tr>\n",
       "    <tr>\n",
       "      <th>194672</th>\n",
       "      <td>0.720163</td>\n",
       "      <td>0.483903</td>\n",
       "      <td>November</td>\n",
       "      <td>Friday</td>\n",
       "      <td>Clear</td>\n",
       "      <td>Day</td>\n",
       "      <td>No</td>\n",
       "      <td>0.166667</td>\n",
       "      <td>0.024691</td>\n",
       "      <td>0.0</td>\n",
       "      <td>0.0</td>\n",
       "      <td>Block</td>\n",
       "      <td>0</td>\n",
       "      <td>1</td>\n",
       "    </tr>\n",
       "  </tbody>\n",
       "</table>\n",
       "<p>194673 rows × 14 columns</p>\n",
       "</div>"
      ],
      "text/plain": [
       "               X         Y Incident Month Incident Day of Week    Weather  \\\n",
       "0       0.532596  0.870053          March            Wednesday      Clear   \n",
       "1       0.398557  0.635455       December            Wednesday  Inclement   \n",
       "2       0.469359  0.470718       November             Thursday      Clear   \n",
       "3       0.467897  0.457855          March               Friday      Clear   \n",
       "4       0.625423  0.210281        January            Wednesday  Inclement   \n",
       "...          ...       ...            ...                  ...        ...   \n",
       "194668  0.712022  0.292726       November               Monday      Clear   \n",
       "194669  0.413924  0.818844       December              Tuesday  Inclement   \n",
       "194670  0.623967  0.785828        January             Saturday      Clear   \n",
       "194671  0.354024  0.767751        January              Tuesday      Clear   \n",
       "194672  0.720163  0.483903       November               Friday      Clear   \n",
       "\n",
       "       Time of Day Drunk Driving Incident  Vehicles Involved  \\\n",
       "0              Day                     No           0.166667   \n",
       "1            Night                     No           0.166667   \n",
       "2              Day                     No           0.250000   \n",
       "3              Day                     No           0.250000   \n",
       "4              Day                     No           0.166667   \n",
       "...            ...                    ...                ...   \n",
       "194668         Day                     No           0.166667   \n",
       "194669         Day                     No           0.166667   \n",
       "194670         Day                     No           0.166667   \n",
       "194671         Day                     No           0.083333   \n",
       "194672         Day                     No           0.166667   \n",
       "\n",
       "        Persons Involved  Bicycle Involved  Pedestrians Involved  \\\n",
       "0               0.024691               0.0                   0.0   \n",
       "1               0.024691               0.0                   0.0   \n",
       "2               0.049383               0.0                   0.0   \n",
       "3               0.037037               0.0                   0.0   \n",
       "4               0.024691               0.0                   0.0   \n",
       "...                  ...               ...                   ...   \n",
       "194668          0.037037               0.0                   0.0   \n",
       "194669          0.024691               0.0                   0.0   \n",
       "194670          0.037037               0.0                   0.0   \n",
       "194671          0.024691               0.5                   0.0   \n",
       "194672          0.024691               0.0                   0.0   \n",
       "\n",
       "       Accident Location  road_condition_Fair  road_condition_Hazardous  \n",
       "0           Intersection                    0                         1  \n",
       "1                  Block                    0                         1  \n",
       "2                  Block                    1                         0  \n",
       "3                  Block                    1                         0  \n",
       "4           Intersection                    0                         1  \n",
       "...                  ...                  ...                       ...  \n",
       "194668             Block                    1                         0  \n",
       "194669             Block                    0                         1  \n",
       "194670      Intersection                    1                         0  \n",
       "194671      Intersection                    1                         0  \n",
       "194672             Block                    0                         1  \n",
       "\n",
       "[194673 rows x 14 columns]"
      ]
     },
     "execution_count": 82,
     "metadata": {},
     "output_type": "execute_result"
    }
   ],
   "source": [
    "features_vectorized_df"
   ]
  },
  {
   "cell_type": "code",
   "execution_count": 83,
   "metadata": {},
   "outputs": [],
   "source": [
    "features_vectorized_df = pd.concat ([features_vectorized_df , pd.get_dummies(features_df['Weather'], prefix='weather_condition')] , axis = 1)\n",
    "features_vectorized_df = features_vectorized_df.drop(['Weather'], axis=1)"
   ]
  },
  {
   "cell_type": "code",
   "execution_count": 84,
   "metadata": {},
   "outputs": [],
   "source": [
    "features_vectorized_df = pd.concat ([features_vectorized_df , pd.get_dummies(features_df['Time of Day'])] , axis = 1)\n",
    "features_vectorized_df = features_vectorized_df.drop(['Time of Day'], axis=1)"
   ]
  },
  {
   "cell_type": "code",
   "execution_count": 85,
   "metadata": {},
   "outputs": [],
   "source": [
    "features_vectorized_df = pd.concat ([features_vectorized_df , pd.get_dummies(features_df['Drunk Driving Incident'], prefix='drunk_driver_related')] , axis = 1)\n",
    "features_vectorized_df = features_vectorized_df.drop(['Drunk Driving Incident'], axis=1)"
   ]
  },
  {
   "cell_type": "code",
   "execution_count": 86,
   "metadata": {},
   "outputs": [],
   "source": [
    "features_vectorized_df = pd.concat ([features_vectorized_df , pd.get_dummies(features_df['Accident Location'])] , axis = 1)\n",
    "features_vectorized_df = features_vectorized_df.drop(['Accident Location'], axis=1)"
   ]
  },
  {
   "cell_type": "code",
   "execution_count": 87,
   "metadata": {},
   "outputs": [],
   "source": [
    "features_vectorized_df = pd.concat ([features_vectorized_df , pd.get_dummies(features_df['Incident Month'], prefix='month_of_year')] , axis = 1)\n",
    "features_vectorized_df = features_vectorized_df.drop(['Incident Month'], axis=1)"
   ]
  },
  {
   "cell_type": "code",
   "execution_count": 88,
   "metadata": {},
   "outputs": [],
   "source": [
    "features_vectorized_df = pd.concat ([features_vectorized_df , pd.get_dummies(features_df['Incident Day of Week'], prefix='day_of_the_week')] , axis = 1)\n",
    "features_vectorized_df = features_vectorized_df.drop(['Incident Day of Week'], axis=1)"
   ]
  },
  {
   "cell_type": "code",
   "execution_count": 89,
   "metadata": {},
   "outputs": [
    {
     "data": {
      "text/html": [
       "<div>\n",
       "<style scoped>\n",
       "    .dataframe tbody tr th:only-of-type {\n",
       "        vertical-align: middle;\n",
       "    }\n",
       "\n",
       "    .dataframe tbody tr th {\n",
       "        vertical-align: top;\n",
       "    }\n",
       "\n",
       "    .dataframe thead th {\n",
       "        text-align: right;\n",
       "    }\n",
       "</style>\n",
       "<table border=\"1\" class=\"dataframe\">\n",
       "  <thead>\n",
       "    <tr style=\"text-align: right;\">\n",
       "      <th></th>\n",
       "      <th>X</th>\n",
       "      <th>Y</th>\n",
       "      <th>Vehicles Involved</th>\n",
       "      <th>Persons Involved</th>\n",
       "      <th>Bicycle Involved</th>\n",
       "      <th>Pedestrians Involved</th>\n",
       "      <th>road_condition_Fair</th>\n",
       "      <th>road_condition_Hazardous</th>\n",
       "      <th>weather_condition_Clear</th>\n",
       "      <th>weather_condition_Inclement</th>\n",
       "      <th>...</th>\n",
       "      <th>month_of_year_November</th>\n",
       "      <th>month_of_year_October</th>\n",
       "      <th>month_of_year_September</th>\n",
       "      <th>day_of_the_week_Friday</th>\n",
       "      <th>day_of_the_week_Monday</th>\n",
       "      <th>day_of_the_week_Saturday</th>\n",
       "      <th>day_of_the_week_Sunday</th>\n",
       "      <th>day_of_the_week_Thursday</th>\n",
       "      <th>day_of_the_week_Tuesday</th>\n",
       "      <th>day_of_the_week_Wednesday</th>\n",
       "    </tr>\n",
       "  </thead>\n",
       "  <tbody>\n",
       "    <tr>\n",
       "      <th>0</th>\n",
       "      <td>0.532596</td>\n",
       "      <td>0.870053</td>\n",
       "      <td>0.166667</td>\n",
       "      <td>0.024691</td>\n",
       "      <td>0.0</td>\n",
       "      <td>0.0</td>\n",
       "      <td>0</td>\n",
       "      <td>1</td>\n",
       "      <td>1</td>\n",
       "      <td>0</td>\n",
       "      <td>...</td>\n",
       "      <td>0</td>\n",
       "      <td>0</td>\n",
       "      <td>0</td>\n",
       "      <td>0</td>\n",
       "      <td>0</td>\n",
       "      <td>0</td>\n",
       "      <td>0</td>\n",
       "      <td>0</td>\n",
       "      <td>0</td>\n",
       "      <td>1</td>\n",
       "    </tr>\n",
       "    <tr>\n",
       "      <th>1</th>\n",
       "      <td>0.398557</td>\n",
       "      <td>0.635455</td>\n",
       "      <td>0.166667</td>\n",
       "      <td>0.024691</td>\n",
       "      <td>0.0</td>\n",
       "      <td>0.0</td>\n",
       "      <td>0</td>\n",
       "      <td>1</td>\n",
       "      <td>0</td>\n",
       "      <td>1</td>\n",
       "      <td>...</td>\n",
       "      <td>0</td>\n",
       "      <td>0</td>\n",
       "      <td>0</td>\n",
       "      <td>0</td>\n",
       "      <td>0</td>\n",
       "      <td>0</td>\n",
       "      <td>0</td>\n",
       "      <td>0</td>\n",
       "      <td>0</td>\n",
       "      <td>1</td>\n",
       "    </tr>\n",
       "    <tr>\n",
       "      <th>2</th>\n",
       "      <td>0.469359</td>\n",
       "      <td>0.470718</td>\n",
       "      <td>0.250000</td>\n",
       "      <td>0.049383</td>\n",
       "      <td>0.0</td>\n",
       "      <td>0.0</td>\n",
       "      <td>1</td>\n",
       "      <td>0</td>\n",
       "      <td>1</td>\n",
       "      <td>0</td>\n",
       "      <td>...</td>\n",
       "      <td>1</td>\n",
       "      <td>0</td>\n",
       "      <td>0</td>\n",
       "      <td>0</td>\n",
       "      <td>0</td>\n",
       "      <td>0</td>\n",
       "      <td>0</td>\n",
       "      <td>1</td>\n",
       "      <td>0</td>\n",
       "      <td>0</td>\n",
       "    </tr>\n",
       "    <tr>\n",
       "      <th>3</th>\n",
       "      <td>0.467897</td>\n",
       "      <td>0.457855</td>\n",
       "      <td>0.250000</td>\n",
       "      <td>0.037037</td>\n",
       "      <td>0.0</td>\n",
       "      <td>0.0</td>\n",
       "      <td>1</td>\n",
       "      <td>0</td>\n",
       "      <td>1</td>\n",
       "      <td>0</td>\n",
       "      <td>...</td>\n",
       "      <td>0</td>\n",
       "      <td>0</td>\n",
       "      <td>0</td>\n",
       "      <td>1</td>\n",
       "      <td>0</td>\n",
       "      <td>0</td>\n",
       "      <td>0</td>\n",
       "      <td>0</td>\n",
       "      <td>0</td>\n",
       "      <td>0</td>\n",
       "    </tr>\n",
       "    <tr>\n",
       "      <th>4</th>\n",
       "      <td>0.625423</td>\n",
       "      <td>0.210281</td>\n",
       "      <td>0.166667</td>\n",
       "      <td>0.024691</td>\n",
       "      <td>0.0</td>\n",
       "      <td>0.0</td>\n",
       "      <td>0</td>\n",
       "      <td>1</td>\n",
       "      <td>0</td>\n",
       "      <td>1</td>\n",
       "      <td>...</td>\n",
       "      <td>0</td>\n",
       "      <td>0</td>\n",
       "      <td>0</td>\n",
       "      <td>0</td>\n",
       "      <td>0</td>\n",
       "      <td>0</td>\n",
       "      <td>0</td>\n",
       "      <td>0</td>\n",
       "      <td>0</td>\n",
       "      <td>1</td>\n",
       "    </tr>\n",
       "    <tr>\n",
       "      <th>...</th>\n",
       "      <td>...</td>\n",
       "      <td>...</td>\n",
       "      <td>...</td>\n",
       "      <td>...</td>\n",
       "      <td>...</td>\n",
       "      <td>...</td>\n",
       "      <td>...</td>\n",
       "      <td>...</td>\n",
       "      <td>...</td>\n",
       "      <td>...</td>\n",
       "      <td>...</td>\n",
       "      <td>...</td>\n",
       "      <td>...</td>\n",
       "      <td>...</td>\n",
       "      <td>...</td>\n",
       "      <td>...</td>\n",
       "      <td>...</td>\n",
       "      <td>...</td>\n",
       "      <td>...</td>\n",
       "      <td>...</td>\n",
       "      <td>...</td>\n",
       "    </tr>\n",
       "    <tr>\n",
       "      <th>194668</th>\n",
       "      <td>0.712022</td>\n",
       "      <td>0.292726</td>\n",
       "      <td>0.166667</td>\n",
       "      <td>0.037037</td>\n",
       "      <td>0.0</td>\n",
       "      <td>0.0</td>\n",
       "      <td>1</td>\n",
       "      <td>0</td>\n",
       "      <td>1</td>\n",
       "      <td>0</td>\n",
       "      <td>...</td>\n",
       "      <td>1</td>\n",
       "      <td>0</td>\n",
       "      <td>0</td>\n",
       "      <td>0</td>\n",
       "      <td>1</td>\n",
       "      <td>0</td>\n",
       "      <td>0</td>\n",
       "      <td>0</td>\n",
       "      <td>0</td>\n",
       "      <td>0</td>\n",
       "    </tr>\n",
       "    <tr>\n",
       "      <th>194669</th>\n",
       "      <td>0.413924</td>\n",
       "      <td>0.818844</td>\n",
       "      <td>0.166667</td>\n",
       "      <td>0.024691</td>\n",
       "      <td>0.0</td>\n",
       "      <td>0.0</td>\n",
       "      <td>0</td>\n",
       "      <td>1</td>\n",
       "      <td>0</td>\n",
       "      <td>1</td>\n",
       "      <td>...</td>\n",
       "      <td>0</td>\n",
       "      <td>0</td>\n",
       "      <td>0</td>\n",
       "      <td>0</td>\n",
       "      <td>0</td>\n",
       "      <td>0</td>\n",
       "      <td>0</td>\n",
       "      <td>0</td>\n",
       "      <td>1</td>\n",
       "      <td>0</td>\n",
       "    </tr>\n",
       "    <tr>\n",
       "      <th>194670</th>\n",
       "      <td>0.623967</td>\n",
       "      <td>0.785828</td>\n",
       "      <td>0.166667</td>\n",
       "      <td>0.037037</td>\n",
       "      <td>0.0</td>\n",
       "      <td>0.0</td>\n",
       "      <td>1</td>\n",
       "      <td>0</td>\n",
       "      <td>1</td>\n",
       "      <td>0</td>\n",
       "      <td>...</td>\n",
       "      <td>0</td>\n",
       "      <td>0</td>\n",
       "      <td>0</td>\n",
       "      <td>0</td>\n",
       "      <td>0</td>\n",
       "      <td>1</td>\n",
       "      <td>0</td>\n",
       "      <td>0</td>\n",
       "      <td>0</td>\n",
       "      <td>0</td>\n",
       "    </tr>\n",
       "    <tr>\n",
       "      <th>194671</th>\n",
       "      <td>0.354024</td>\n",
       "      <td>0.767751</td>\n",
       "      <td>0.083333</td>\n",
       "      <td>0.024691</td>\n",
       "      <td>0.5</td>\n",
       "      <td>0.0</td>\n",
       "      <td>1</td>\n",
       "      <td>0</td>\n",
       "      <td>1</td>\n",
       "      <td>0</td>\n",
       "      <td>...</td>\n",
       "      <td>0</td>\n",
       "      <td>0</td>\n",
       "      <td>0</td>\n",
       "      <td>0</td>\n",
       "      <td>0</td>\n",
       "      <td>0</td>\n",
       "      <td>0</td>\n",
       "      <td>0</td>\n",
       "      <td>1</td>\n",
       "      <td>0</td>\n",
       "    </tr>\n",
       "    <tr>\n",
       "      <th>194672</th>\n",
       "      <td>0.720163</td>\n",
       "      <td>0.483903</td>\n",
       "      <td>0.166667</td>\n",
       "      <td>0.024691</td>\n",
       "      <td>0.0</td>\n",
       "      <td>0.0</td>\n",
       "      <td>0</td>\n",
       "      <td>1</td>\n",
       "      <td>1</td>\n",
       "      <td>0</td>\n",
       "      <td>...</td>\n",
       "      <td>1</td>\n",
       "      <td>0</td>\n",
       "      <td>0</td>\n",
       "      <td>1</td>\n",
       "      <td>0</td>\n",
       "      <td>0</td>\n",
       "      <td>0</td>\n",
       "      <td>0</td>\n",
       "      <td>0</td>\n",
       "      <td>0</td>\n",
       "    </tr>\n",
       "  </tbody>\n",
       "</table>\n",
       "<p>194673 rows × 36 columns</p>\n",
       "</div>"
      ],
      "text/plain": [
       "               X         Y  Vehicles Involved  Persons Involved  \\\n",
       "0       0.532596  0.870053           0.166667          0.024691   \n",
       "1       0.398557  0.635455           0.166667          0.024691   \n",
       "2       0.469359  0.470718           0.250000          0.049383   \n",
       "3       0.467897  0.457855           0.250000          0.037037   \n",
       "4       0.625423  0.210281           0.166667          0.024691   \n",
       "...          ...       ...                ...               ...   \n",
       "194668  0.712022  0.292726           0.166667          0.037037   \n",
       "194669  0.413924  0.818844           0.166667          0.024691   \n",
       "194670  0.623967  0.785828           0.166667          0.037037   \n",
       "194671  0.354024  0.767751           0.083333          0.024691   \n",
       "194672  0.720163  0.483903           0.166667          0.024691   \n",
       "\n",
       "        Bicycle Involved  Pedestrians Involved  road_condition_Fair  \\\n",
       "0                    0.0                   0.0                    0   \n",
       "1                    0.0                   0.0                    0   \n",
       "2                    0.0                   0.0                    1   \n",
       "3                    0.0                   0.0                    1   \n",
       "4                    0.0                   0.0                    0   \n",
       "...                  ...                   ...                  ...   \n",
       "194668               0.0                   0.0                    1   \n",
       "194669               0.0                   0.0                    0   \n",
       "194670               0.0                   0.0                    1   \n",
       "194671               0.5                   0.0                    1   \n",
       "194672               0.0                   0.0                    0   \n",
       "\n",
       "        road_condition_Hazardous  weather_condition_Clear  \\\n",
       "0                              1                        1   \n",
       "1                              1                        0   \n",
       "2                              0                        1   \n",
       "3                              0                        1   \n",
       "4                              1                        0   \n",
       "...                          ...                      ...   \n",
       "194668                         0                        1   \n",
       "194669                         1                        0   \n",
       "194670                         0                        1   \n",
       "194671                         0                        1   \n",
       "194672                         1                        1   \n",
       "\n",
       "        weather_condition_Inclement  ...  month_of_year_November  \\\n",
       "0                                 0  ...                       0   \n",
       "1                                 1  ...                       0   \n",
       "2                                 0  ...                       1   \n",
       "3                                 0  ...                       0   \n",
       "4                                 1  ...                       0   \n",
       "...                             ...  ...                     ...   \n",
       "194668                            0  ...                       1   \n",
       "194669                            1  ...                       0   \n",
       "194670                            0  ...                       0   \n",
       "194671                            0  ...                       0   \n",
       "194672                            0  ...                       1   \n",
       "\n",
       "        month_of_year_October  month_of_year_September  \\\n",
       "0                           0                        0   \n",
       "1                           0                        0   \n",
       "2                           0                        0   \n",
       "3                           0                        0   \n",
       "4                           0                        0   \n",
       "...                       ...                      ...   \n",
       "194668                      0                        0   \n",
       "194669                      0                        0   \n",
       "194670                      0                        0   \n",
       "194671                      0                        0   \n",
       "194672                      0                        0   \n",
       "\n",
       "        day_of_the_week_Friday  day_of_the_week_Monday  \\\n",
       "0                            0                       0   \n",
       "1                            0                       0   \n",
       "2                            0                       0   \n",
       "3                            1                       0   \n",
       "4                            0                       0   \n",
       "...                        ...                     ...   \n",
       "194668                       0                       1   \n",
       "194669                       0                       0   \n",
       "194670                       0                       0   \n",
       "194671                       0                       0   \n",
       "194672                       1                       0   \n",
       "\n",
       "        day_of_the_week_Saturday  day_of_the_week_Sunday  \\\n",
       "0                              0                       0   \n",
       "1                              0                       0   \n",
       "2                              0                       0   \n",
       "3                              0                       0   \n",
       "4                              0                       0   \n",
       "...                          ...                     ...   \n",
       "194668                         0                       0   \n",
       "194669                         0                       0   \n",
       "194670                         1                       0   \n",
       "194671                         0                       0   \n",
       "194672                         0                       0   \n",
       "\n",
       "        day_of_the_week_Thursday  day_of_the_week_Tuesday  \\\n",
       "0                              0                        0   \n",
       "1                              0                        0   \n",
       "2                              1                        0   \n",
       "3                              0                        0   \n",
       "4                              0                        0   \n",
       "...                          ...                      ...   \n",
       "194668                         0                        0   \n",
       "194669                         0                        1   \n",
       "194670                         0                        0   \n",
       "194671                         0                        1   \n",
       "194672                         0                        0   \n",
       "\n",
       "        day_of_the_week_Wednesday  \n",
       "0                               1  \n",
       "1                               1  \n",
       "2                               0  \n",
       "3                               0  \n",
       "4                               1  \n",
       "...                           ...  \n",
       "194668                          0  \n",
       "194669                          0  \n",
       "194670                          0  \n",
       "194671                          0  \n",
       "194672                          0  \n",
       "\n",
       "[194673 rows x 36 columns]"
      ]
     },
     "execution_count": 89,
     "metadata": {},
     "output_type": "execute_result"
    }
   ],
   "source": [
    "features_vectorized_df"
   ]
  },
  {
   "cell_type": "markdown",
   "metadata": {},
   "source": [
    "<br>"
   ]
  },
  {
   "cell_type": "markdown",
   "metadata": {},
   "source": [
    "## Visualizing the Data"
   ]
  },
  {
   "cell_type": "code",
   "execution_count": 90,
   "metadata": {},
   "outputs": [],
   "source": [
    "import seaborn as sns\n",
    "import matplotlib.pyplot as plt\n",
    "\n",
    "sns.set_theme(style='ticks', color_codes=True)"
   ]
  },
  {
   "cell_type": "markdown",
   "metadata": {},
   "source": [
    "<br>"
   ]
  },
  {
   "cell_type": "markdown",
   "metadata": {},
   "source": [
    "### Charting Persons Involved for Different Days, Months , and Times of Day"
   ]
  },
  {
   "cell_type": "code",
   "execution_count": 91,
   "metadata": {},
   "outputs": [
    {
     "data": {
      "text/plain": [
       "<seaborn.axisgrid.FacetGrid at 0x7fd419fe3550>"
      ]
     },
     "execution_count": 91,
     "metadata": {},
     "output_type": "execute_result"
    },
    {
     "data": {
      "image/png": "[encoded data removed]",
      "text/plain": [
       "<Figure size 360x360 with 1 Axes>"
      ]
     },
     "metadata": {},
     "output_type": "display_data"
    }
   ],
   "source": [
    "sns.catplot(x=\"Time of Day\", y=\"Persons Involved\"  ,data=unscaled_features_df)"
   ]
  },
  {
   "cell_type": "code",
   "execution_count": 92,
   "metadata": {},
   "outputs": [
    {
     "data": {
      "text/plain": [
       "<seaborn.axisgrid.FacetGrid at 0x7fd2f05af0d0>"
      ]
     },
     "execution_count": 92,
     "metadata": {},
     "output_type": "execute_result"
    },
    {
     "data": {
      "image/png": "[encoded data removed]",
      "text/plain": [
       "<Figure size 360x360 with 1 Axes>"
      ]
     },
     "metadata": {},
     "output_type": "display_data"
    }
   ],
   "source": [
    "sns.catplot(x=\"Time of Day\", y=\"Persons Involved\" , data=unscaled_features_df, kind=\"box\")"
   ]
  },
  {
   "cell_type": "code",
   "execution_count": 93,
   "metadata": {},
   "outputs": [
    {
     "data": {
      "text/plain": [
       "<seaborn.axisgrid.FacetGrid at 0x7fd2f1b2e5e0>"
      ]
     },
     "execution_count": 93,
     "metadata": {},
     "output_type": "execute_result"
    },
    {
     "data": {
      "image/png": "[encoded data removed]",
      "text/plain": [
       "<Figure size 540x360 with 1 Axes>"
      ]
     },
     "metadata": {},
     "output_type": "display_data"
    }
   ],
   "source": [
    "sns.catplot(x=\"Incident Day of Week\", y=\"Persons Involved\" , data=unscaled_features_df, aspect=1.5)"
   ]
  },
  {
   "cell_type": "code",
   "execution_count": 94,
   "metadata": {},
   "outputs": [
    {
     "data": {
      "text/plain": [
       "<seaborn.axisgrid.FacetGrid at 0x7fd2f1b24be0>"
      ]
     },
     "execution_count": 94,
     "metadata": {},
     "output_type": "execute_result"
    },
    {
     "data": {
      "image/png": "[encoded data removed]",
      "text/plain": [
       "<Figure size 540x360 with 1 Axes>"
      ]
     },
     "metadata": {},
     "output_type": "display_data"
    }
   ],
   "source": [
    "sns.catplot(x=\"Incident Day of Week\", y=\"Persons Involved\" , data=unscaled_features_df, aspect=1.5, kind='box')"
   ]
  },
  {
   "cell_type": "code",
   "execution_count": 95,
   "metadata": {},
   "outputs": [
    {
     "data": {
      "text/plain": [
       "<seaborn.axisgrid.FacetGrid at 0x7fd2f1b96820>"
      ]
     },
     "execution_count": 95,
     "metadata": {},
     "output_type": "execute_result"
    },
    {
     "data": {
      "image/png": "[encoded data removed]",
      "text/plain": [
       "<Figure size 900x360 with 1 Axes>"
      ]
     },
     "metadata": {},
     "output_type": "display_data"
    }
   ],
   "source": [
    "sns.catplot(x=\"Incident Month\", y=\"Persons Involved\" , data=unscaled_features_df, aspect=2.5, kind='box')"
   ]
  },
  {
   "cell_type": "markdown",
   "metadata": {},
   "source": [
    "### Charting Vehicles Involved for Different Days, Months, and Times of Day"
   ]
  },
  {
   "cell_type": "code",
   "execution_count": 96,
   "metadata": {},
   "outputs": [
    {
     "data": {
      "text/plain": [
       "<seaborn.axisgrid.FacetGrid at 0x7fd2f1aed2b0>"
      ]
     },
     "execution_count": 96,
     "metadata": {},
     "output_type": "execute_result"
    },
    {
     "data": {
      "image/png": "[encoded data removed]",
      "text/plain": [
       "<Figure size 360x360 with 1 Axes>"
      ]
     },
     "metadata": {},
     "output_type": "display_data"
    }
   ],
   "source": [
    "sns.catplot(x=\"Time of Day\", y=\"Vehicles Involved\"  ,data=unscaled_features_df)"
   ]
  },
  {
   "cell_type": "code",
   "execution_count": 97,
   "metadata": {},
   "outputs": [
    {
     "data": {
      "text/plain": [
       "<seaborn.axisgrid.FacetGrid at 0x7fd2f1932c70>"
      ]
     },
     "execution_count": 97,
     "metadata": {},
     "output_type": "execute_result"
    },
    {
     "data": {
      "image/png": "[encoded data removed]",
      "text/plain": [
       "<Figure size 360x360 with 1 Axes>"
      ]
     },
     "metadata": {},
     "output_type": "display_data"
    }
   ],
   "source": [
    "sns.catplot(x=\"Time of Day\", y=\"Vehicles Involved\"  ,data=unscaled_features_df, kind='box')"
   ]
  },
  {
   "cell_type": "code",
   "execution_count": 98,
   "metadata": {},
   "outputs": [
    {
     "data": {
      "text/plain": [
       "<seaborn.axisgrid.FacetGrid at 0x7fd2f18f6490>"
      ]
     },
     "execution_count": 98,
     "metadata": {},
     "output_type": "execute_result"
    },
    {
     "data": {
      "image/png": "[encoded data removed]",
      "text/plain": [
       "<Figure size 540x360 with 1 Axes>"
      ]
     },
     "metadata": {},
     "output_type": "display_data"
    }
   ],
   "source": [
    "sns.catplot(x=\"Incident Day of Week\", y=\"Vehicles Involved\" , data=unscaled_features_df, aspect=1.5)"
   ]
  },
  {
   "cell_type": "code",
   "execution_count": 99,
   "metadata": {},
   "outputs": [
    {
     "data": {
      "text/plain": [
       "<seaborn.axisgrid.FacetGrid at 0x7fd2f1b009d0>"
      ]
     },
     "execution_count": 99,
     "metadata": {},
     "output_type": "execute_result"
    },
    {
     "data": {
      "image/png": "[encoded data removed]",
      "text/plain": [
       "<Figure size 540x360 with 1 Axes>"
      ]
     },
     "metadata": {},
     "output_type": "display_data"
    }
   ],
   "source": [
    "sns.catplot(x=\"Incident Day of Week\", y=\"Vehicles Involved\" , data=unscaled_features_df, aspect=1.5, kind='box')"
   ]
  },
  {
   "cell_type": "code",
   "execution_count": 100,
   "metadata": {},
   "outputs": [
    {
     "data": {
      "text/plain": [
       "<seaborn.axisgrid.FacetGrid at 0x7fd2f18a1fd0>"
      ]
     },
     "execution_count": 100,
     "metadata": {},
     "output_type": "execute_result"
    },
    {
     "data": {
      "image/png": "[encoded data removed]",
      "text/plain": [
       "<Figure size 900x360 with 1 Axes>"
      ]
     },
     "metadata": {},
     "output_type": "display_data"
    }
   ],
   "source": [
    "sns.catplot(x=\"Incident Month\", y=\"Vehicles Involved\" , data=unscaled_features_df, aspect=2.5, kind='box')"
   ]
  },
  {
   "cell_type": "code",
   "execution_count": 101,
   "metadata": {},
   "outputs": [
    {
     "data": {
      "text/plain": [
       "<seaborn.axisgrid.FacetGrid at 0x7fd2f18a1ee0>"
      ]
     },
     "execution_count": 101,
     "metadata": {},
     "output_type": "execute_result"
    },
    {
     "data": {
      "image/png": "[encoded data removed]",
      "text/plain": [
       "<Figure size 900x360 with 1 Axes>"
      ]
     },
     "metadata": {},
     "output_type": "display_data"
    }
   ],
   "source": [
    "sns.catplot(x=\"Incident Month\", y=\"Vehicles Involved\" , data=unscaled_features_df, aspect=2.5)"
   ]
  },
  {
   "cell_type": "code",
   "execution_count": 102,
   "metadata": {},
   "outputs": [
    {
     "data": {
      "text/plain": [
       "<seaborn.axisgrid.FacetGrid at 0x7fd2f173dac0>"
      ]
     },
     "execution_count": 102,
     "metadata": {},
     "output_type": "execute_result"
    },
    {
     "data": {
      "image/png": "[encoded data removed]",
      "text/plain": [
       "<Figure size 360x360 with 1 Axes>"
      ]
     },
     "metadata": {},
     "output_type": "display_data"
    }
   ],
   "source": [
    "sns.catplot(x=\"Weather\", y=\"Persons Involved\"  ,data=unscaled_features_df , kind='box')"
   ]
  },
  {
   "cell_type": "code",
   "execution_count": 103,
   "metadata": {},
   "outputs": [
    {
     "data": {
      "text/html": [
       "<div>\n",
       "<style scoped>\n",
       "    .dataframe tbody tr th:only-of-type {\n",
       "        vertical-align: middle;\n",
       "    }\n",
       "\n",
       "    .dataframe tbody tr th {\n",
       "        vertical-align: top;\n",
       "    }\n",
       "\n",
       "    .dataframe thead th {\n",
       "        text-align: right;\n",
       "    }\n",
       "</style>\n",
       "<table border=\"1\" class=\"dataframe\">\n",
       "  <thead>\n",
       "    <tr style=\"text-align: right;\">\n",
       "      <th></th>\n",
       "      <th>X</th>\n",
       "      <th>Y</th>\n",
       "      <th>Incident Month</th>\n",
       "      <th>Incident Day of Week</th>\n",
       "      <th>Road Condition</th>\n",
       "      <th>Weather</th>\n",
       "      <th>Time of Day</th>\n",
       "      <th>Drunk Driving Incident</th>\n",
       "      <th>Vehicles Involved</th>\n",
       "      <th>Persons Involved</th>\n",
       "      <th>Bicycle Involved</th>\n",
       "      <th>Pedestrians Involved</th>\n",
       "      <th>Accident Location</th>\n",
       "    </tr>\n",
       "  </thead>\n",
       "  <tbody>\n",
       "    <tr>\n",
       "      <th>0</th>\n",
       "      <td>-122.323148</td>\n",
       "      <td>47.703140</td>\n",
       "      <td>March</td>\n",
       "      <td>Wednesday</td>\n",
       "      <td>Hazardous</td>\n",
       "      <td>Clear</td>\n",
       "      <td>Day</td>\n",
       "      <td>No</td>\n",
       "      <td>2</td>\n",
       "      <td>2</td>\n",
       "      <td>0</td>\n",
       "      <td>0</td>\n",
       "      <td>Intersection</td>\n",
       "    </tr>\n",
       "    <tr>\n",
       "      <th>1</th>\n",
       "      <td>-122.347294</td>\n",
       "      <td>47.647172</td>\n",
       "      <td>December</td>\n",
       "      <td>Wednesday</td>\n",
       "      <td>Hazardous</td>\n",
       "      <td>Inclement</td>\n",
       "      <td>Night</td>\n",
       "      <td>No</td>\n",
       "      <td>2</td>\n",
       "      <td>2</td>\n",
       "      <td>0</td>\n",
       "      <td>0</td>\n",
       "      <td>Block</td>\n",
       "    </tr>\n",
       "    <tr>\n",
       "      <th>2</th>\n",
       "      <td>-122.334540</td>\n",
       "      <td>47.607871</td>\n",
       "      <td>November</td>\n",
       "      <td>Thursday</td>\n",
       "      <td>Fair</td>\n",
       "      <td>Clear</td>\n",
       "      <td>Day</td>\n",
       "      <td>No</td>\n",
       "      <td>3</td>\n",
       "      <td>4</td>\n",
       "      <td>0</td>\n",
       "      <td>0</td>\n",
       "      <td>Block</td>\n",
       "    </tr>\n",
       "    <tr>\n",
       "      <th>3</th>\n",
       "      <td>-122.334803</td>\n",
       "      <td>47.604803</td>\n",
       "      <td>March</td>\n",
       "      <td>Friday</td>\n",
       "      <td>Fair</td>\n",
       "      <td>Clear</td>\n",
       "      <td>Day</td>\n",
       "      <td>No</td>\n",
       "      <td>3</td>\n",
       "      <td>3</td>\n",
       "      <td>0</td>\n",
       "      <td>0</td>\n",
       "      <td>Block</td>\n",
       "    </tr>\n",
       "    <tr>\n",
       "      <th>4</th>\n",
       "      <td>-122.306426</td>\n",
       "      <td>47.545739</td>\n",
       "      <td>January</td>\n",
       "      <td>Wednesday</td>\n",
       "      <td>Hazardous</td>\n",
       "      <td>Inclement</td>\n",
       "      <td>Day</td>\n",
       "      <td>No</td>\n",
       "      <td>2</td>\n",
       "      <td>2</td>\n",
       "      <td>0</td>\n",
       "      <td>0</td>\n",
       "      <td>Intersection</td>\n",
       "    </tr>\n",
       "    <tr>\n",
       "      <th>...</th>\n",
       "      <td>...</td>\n",
       "      <td>...</td>\n",
       "      <td>...</td>\n",
       "      <td>...</td>\n",
       "      <td>...</td>\n",
       "      <td>...</td>\n",
       "      <td>...</td>\n",
       "      <td>...</td>\n",
       "      <td>...</td>\n",
       "      <td>...</td>\n",
       "      <td>...</td>\n",
       "      <td>...</td>\n",
       "      <td>...</td>\n",
       "    </tr>\n",
       "    <tr>\n",
       "      <th>194668</th>\n",
       "      <td>-122.290826</td>\n",
       "      <td>47.565408</td>\n",
       "      <td>November</td>\n",
       "      <td>Monday</td>\n",
       "      <td>Fair</td>\n",
       "      <td>Clear</td>\n",
       "      <td>Day</td>\n",
       "      <td>No</td>\n",
       "      <td>2</td>\n",
       "      <td>3</td>\n",
       "      <td>0</td>\n",
       "      <td>0</td>\n",
       "      <td>Block</td>\n",
       "    </tr>\n",
       "    <tr>\n",
       "      <th>194669</th>\n",
       "      <td>-122.344526</td>\n",
       "      <td>47.690924</td>\n",
       "      <td>December</td>\n",
       "      <td>Tuesday</td>\n",
       "      <td>Hazardous</td>\n",
       "      <td>Inclement</td>\n",
       "      <td>Day</td>\n",
       "      <td>No</td>\n",
       "      <td>2</td>\n",
       "      <td>2</td>\n",
       "      <td>0</td>\n",
       "      <td>0</td>\n",
       "      <td>Block</td>\n",
       "    </tr>\n",
       "    <tr>\n",
       "      <th>194670</th>\n",
       "      <td>-122.306689</td>\n",
       "      <td>47.683047</td>\n",
       "      <td>January</td>\n",
       "      <td>Saturday</td>\n",
       "      <td>Fair</td>\n",
       "      <td>Clear</td>\n",
       "      <td>Day</td>\n",
       "      <td>No</td>\n",
       "      <td>2</td>\n",
       "      <td>3</td>\n",
       "      <td>0</td>\n",
       "      <td>0</td>\n",
       "      <td>Intersection</td>\n",
       "    </tr>\n",
       "    <tr>\n",
       "      <th>194671</th>\n",
       "      <td>-122.355317</td>\n",
       "      <td>47.678734</td>\n",
       "      <td>January</td>\n",
       "      <td>Tuesday</td>\n",
       "      <td>Fair</td>\n",
       "      <td>Clear</td>\n",
       "      <td>Day</td>\n",
       "      <td>No</td>\n",
       "      <td>1</td>\n",
       "      <td>2</td>\n",
       "      <td>1</td>\n",
       "      <td>0</td>\n",
       "      <td>Intersection</td>\n",
       "    </tr>\n",
       "    <tr>\n",
       "      <th>194672</th>\n",
       "      <td>-122.289360</td>\n",
       "      <td>47.611017</td>\n",
       "      <td>November</td>\n",
       "      <td>Friday</td>\n",
       "      <td>Hazardous</td>\n",
       "      <td>Clear</td>\n",
       "      <td>Day</td>\n",
       "      <td>No</td>\n",
       "      <td>2</td>\n",
       "      <td>2</td>\n",
       "      <td>0</td>\n",
       "      <td>0</td>\n",
       "      <td>Block</td>\n",
       "    </tr>\n",
       "  </tbody>\n",
       "</table>\n",
       "<p>194673 rows × 13 columns</p>\n",
       "</div>"
      ],
      "text/plain": [
       "                 X          Y Incident Month Incident Day of Week  \\\n",
       "0      -122.323148  47.703140          March            Wednesday   \n",
       "1      -122.347294  47.647172       December            Wednesday   \n",
       "2      -122.334540  47.607871       November             Thursday   \n",
       "3      -122.334803  47.604803          March               Friday   \n",
       "4      -122.306426  47.545739        January            Wednesday   \n",
       "...            ...        ...            ...                  ...   \n",
       "194668 -122.290826  47.565408       November               Monday   \n",
       "194669 -122.344526  47.690924       December              Tuesday   \n",
       "194670 -122.306689  47.683047        January             Saturday   \n",
       "194671 -122.355317  47.678734        January              Tuesday   \n",
       "194672 -122.289360  47.611017       November               Friday   \n",
       "\n",
       "       Road Condition    Weather Time of Day Drunk Driving Incident  \\\n",
       "0           Hazardous      Clear         Day                     No   \n",
       "1           Hazardous  Inclement       Night                     No   \n",
       "2                Fair      Clear         Day                     No   \n",
       "3                Fair      Clear         Day                     No   \n",
       "4           Hazardous  Inclement         Day                     No   \n",
       "...               ...        ...         ...                    ...   \n",
       "194668           Fair      Clear         Day                     No   \n",
       "194669      Hazardous  Inclement         Day                     No   \n",
       "194670           Fair      Clear         Day                     No   \n",
       "194671           Fair      Clear         Day                     No   \n",
       "194672      Hazardous      Clear         Day                     No   \n",
       "\n",
       "        Vehicles Involved  Persons Involved  Bicycle Involved  \\\n",
       "0                       2                 2                 0   \n",
       "1                       2                 2                 0   \n",
       "2                       3                 4                 0   \n",
       "3                       3                 3                 0   \n",
       "4                       2                 2                 0   \n",
       "...                   ...               ...               ...   \n",
       "194668                  2                 3                 0   \n",
       "194669                  2                 2                 0   \n",
       "194670                  2                 3                 0   \n",
       "194671                  1                 2                 1   \n",
       "194672                  2                 2                 0   \n",
       "\n",
       "        Pedestrians Involved Accident Location  \n",
       "0                          0      Intersection  \n",
       "1                          0             Block  \n",
       "2                          0             Block  \n",
       "3                          0             Block  \n",
       "4                          0      Intersection  \n",
       "...                      ...               ...  \n",
       "194668                     0             Block  \n",
       "194669                     0             Block  \n",
       "194670                     0      Intersection  \n",
       "194671                     0      Intersection  \n",
       "194672                     0             Block  \n",
       "\n",
       "[194673 rows x 13 columns]"
      ]
     },
     "execution_count": 103,
     "metadata": {},
     "output_type": "execute_result"
    }
   ],
   "source": [
    "unscaled_features_df"
   ]
  },
  {
   "cell_type": "code",
   "execution_count": 104,
   "metadata": {},
   "outputs": [],
   "source": [
    "day_v_accidents = unscaled_features_df['Incident Day of Week'].value_counts().to_frame()\n",
    "day_v_accidents_df = day_v_accidents.reset_index().rename(columns={'Incident Day of Week': 'Accidents' , 'index' : 'Day'})"
   ]
  },
  {
   "cell_type": "code",
   "execution_count": 105,
   "metadata": {},
   "outputs": [],
   "source": [
    "day_v_accidents_df = day_v_accidents_df.reindex([6,5,3, 2, 1, 0, 4])"
   ]
  },
  {
   "cell_type": "code",
   "execution_count": 106,
   "metadata": {},
   "outputs": [
    {
     "data": {
      "text/plain": [
       "<seaborn.axisgrid.FacetGrid at 0x7fd2f18a1e20>"
      ]
     },
     "execution_count": 106,
     "metadata": {},
     "output_type": "execute_result"
    },
    {
     "data": {
      "image/png": "[encoded data removed]",
      "text/plain": [
       "<Figure size 900x360 with 1 Axes>"
      ]
     },
     "metadata": {},
     "output_type": "display_data"
    }
   ],
   "source": [
    "sns.catplot(x='Day', y=\"Accidents\" , data=day_v_accidents_df, aspect=2.5 , kind='point')"
   ]
  },
  {
   "cell_type": "code",
   "execution_count": 107,
   "metadata": {},
   "outputs": [
    {
     "data": {
      "text/plain": [
       "<seaborn.axisgrid.FacetGrid at 0x7fd2ef812b20>"
      ]
     },
     "execution_count": 107,
     "metadata": {},
     "output_type": "execute_result"
    },
    {
     "data": {
      "image/png": "[encoded data removed]",
      "text/plain": [
       "<Figure size 900x360 with 1 Axes>"
      ]
     },
     "metadata": {},
     "output_type": "display_data"
    }
   ],
   "source": [
    "sns.catplot(x='Day', y=\"Accidents\" , data=day_v_accidents_df, aspect=2.5 , kind='bar')"
   ]
  },
  {
   "cell_type": "code",
   "execution_count": 108,
   "metadata": {},
   "outputs": [
    {
     "data": {
      "text/html": [
       "<div>\n",
       "<style scoped>\n",
       "    .dataframe tbody tr th:only-of-type {\n",
       "        vertical-align: middle;\n",
       "    }\n",
       "\n",
       "    .dataframe tbody tr th {\n",
       "        vertical-align: top;\n",
       "    }\n",
       "\n",
       "    .dataframe thead th {\n",
       "        text-align: right;\n",
       "    }\n",
       "</style>\n",
       "<table border=\"1\" class=\"dataframe\">\n",
       "  <thead>\n",
       "    <tr style=\"text-align: right;\">\n",
       "      <th></th>\n",
       "      <th>Month</th>\n",
       "      <th>Accidents</th>\n",
       "    </tr>\n",
       "  </thead>\n",
       "  <tbody>\n",
       "    <tr>\n",
       "      <th>0</th>\n",
       "      <td>October</td>\n",
       "      <td>17768</td>\n",
       "    </tr>\n",
       "    <tr>\n",
       "      <th>1</th>\n",
       "      <td>May</td>\n",
       "      <td>16763</td>\n",
       "    </tr>\n",
       "    <tr>\n",
       "      <th>2</th>\n",
       "      <td>November</td>\n",
       "      <td>16582</td>\n",
       "    </tr>\n",
       "    <tr>\n",
       "      <th>3</th>\n",
       "      <td>June</td>\n",
       "      <td>16566</td>\n",
       "    </tr>\n",
       "    <tr>\n",
       "      <th>4</th>\n",
       "      <td>January</td>\n",
       "      <td>16407</td>\n",
       "    </tr>\n",
       "    <tr>\n",
       "      <th>5</th>\n",
       "      <td>July</td>\n",
       "      <td>16364</td>\n",
       "    </tr>\n",
       "    <tr>\n",
       "      <th>6</th>\n",
       "      <td>August</td>\n",
       "      <td>16296</td>\n",
       "    </tr>\n",
       "    <tr>\n",
       "      <th>7</th>\n",
       "      <td>March</td>\n",
       "      <td>16150</td>\n",
       "    </tr>\n",
       "    <tr>\n",
       "      <th>8</th>\n",
       "      <td>April</td>\n",
       "      <td>15978</td>\n",
       "    </tr>\n",
       "    <tr>\n",
       "      <th>9</th>\n",
       "      <td>September</td>\n",
       "      <td>15864</td>\n",
       "    </tr>\n",
       "    <tr>\n",
       "      <th>10</th>\n",
       "      <td>December</td>\n",
       "      <td>15545</td>\n",
       "    </tr>\n",
       "    <tr>\n",
       "      <th>11</th>\n",
       "      <td>Feburary</td>\n",
       "      <td>14390</td>\n",
       "    </tr>\n",
       "  </tbody>\n",
       "</table>\n",
       "</div>"
      ],
      "text/plain": [
       "        Month  Accidents\n",
       "0     October      17768\n",
       "1         May      16763\n",
       "2    November      16582\n",
       "3        June      16566\n",
       "4     January      16407\n",
       "5        July      16364\n",
       "6      August      16296\n",
       "7       March      16150\n",
       "8       April      15978\n",
       "9   September      15864\n",
       "10   December      15545\n",
       "11   Feburary      14390"
      ]
     },
     "execution_count": 108,
     "metadata": {},
     "output_type": "execute_result"
    }
   ],
   "source": [
    "month_v_accidents = unscaled_features_df['Incident Month'].value_counts().to_frame()\n",
    "month_v_accidents_df = month_v_accidents.reset_index().rename(columns={'Incident Month': 'Accidents' , 'index' : 'Month'})\n",
    "month_v_accidents_df"
   ]
  },
  {
   "cell_type": "code",
   "execution_count": 109,
   "metadata": {},
   "outputs": [],
   "source": [
    "month_v_accidents_df = month_v_accidents_df.reindex([4,11,7,8,1,3,5,6,9,0,2,10])"
   ]
  },
  {
   "cell_type": "code",
   "execution_count": 110,
   "metadata": {},
   "outputs": [
    {
     "data": {
      "text/plain": [
       "<seaborn.axisgrid.FacetGrid at 0x7fd2f0bf1dc0>"
      ]
     },
     "execution_count": 110,
     "metadata": {},
     "output_type": "execute_result"
    },
    {
     "data": {
      "image/png": "[encoded data removed]",
      "text/plain": [
       "<Figure size 900x360 with 1 Axes>"
      ]
     },
     "metadata": {},
     "output_type": "display_data"
    }
   ],
   "source": [
    "sns.catplot(x='Month', y=\"Accidents\" , data=month_v_accidents_df, aspect=2.5 , kind='point')"
   ]
  },
  {
   "cell_type": "code",
   "execution_count": 112,
   "metadata": {},
   "outputs": [
    {
     "data": {
      "text/plain": [
       "<AxesSubplot:xlabel='Victims', ylabel='Accidents'>"
      ]
     },
     "execution_count": 112,
     "metadata": {},
     "output_type": "execute_result"
    },
    {
     "data": {
      "image/png": "[encoded data removed]",
      "text/plain": [
       "<Figure size 432x288 with 1 Axes>"
      ]
     },
     "metadata": {},
     "output_type": "display_data"
    }
   ],
   "source": [
    "person_v_accidents = unscaled_features_df['Persons Involved'].value_counts().to_frame()\n",
    "person_v_accidents_df = person_v_accidents.reset_index().rename(columns={'Persons Involved' : 'Accidents', 'index':'Victims'})\n",
    "sns.regplot(x='Victims', y='Accidents', data=person_v_accidents_df)"
   ]
  },
  {
   "cell_type": "code",
   "execution_count": 113,
   "metadata": {},
   "outputs": [
    {
     "data": {
      "text/plain": [
       "<AxesSubplot:xlabel='Vehicles', ylabel='Accidents'>"
      ]
     },
     "execution_count": 113,
     "metadata": {},
     "output_type": "execute_result"
    },
    {
     "data": {
      "image/png": "[encoded data removed]",
      "text/plain": [
       "<Figure size 432x288 with 1 Axes>"
      ]
     },
     "metadata": {},
     "output_type": "display_data"
    }
   ],
   "source": [
    "vehicle_v_accidents = unscaled_features_df['Vehicles Involved'].value_counts().to_frame()\n",
    "vehicle_v_accidents_df = vehicle_v_accidents.reset_index().rename(columns={'Vehicles Involved' : 'Accidents', 'index':'Vehicles'})\n",
    "sns.regplot(x='Vehicles', y='Accidents', data=vehicle_v_accidents_df)"
   ]
  },
  {
   "cell_type": "code",
   "execution_count": 340,
   "metadata": {},
   "outputs": [],
   "source": [
    "unscaled_features_df['y'] = accident_df['SEVERITYCODE']"
   ]
  },
  {
   "cell_type": "code",
   "execution_count": 342,
   "metadata": {},
   "outputs": [
    {
     "data": {
      "text/plain": [
       "<AxesSubplot:xlabel='Vehicles Involved', ylabel='y'>"
      ]
     },
     "execution_count": 342,
     "metadata": {},
     "output_type": "execute_result"
    },
    {
     "data": {
      "image/png": "[encoded data removed]",
      "text/plain": [
       "<Figure size 432x288 with 1 Axes>"
      ]
     },
     "metadata": {},
     "output_type": "display_data"
    }
   ],
   "source": [
    "sns.regplot(x=\"Vehicles Involved\", y=\"y\", data=unscaled_features_df[:100], logistic=True)"
   ]
  },
  {
   "cell_type": "code",
   "execution_count": 293,
   "metadata": {},
   "outputs": [],
   "source": [
    "weather_v_accidents = unscaled_features_df['Weather'].value_counts().to_frame()"
   ]
  },
  {
   "cell_type": "code",
   "execution_count": 294,
   "metadata": {},
   "outputs": [
    {
     "data": {
      "text/html": [
       "<div>\n",
       "<style scoped>\n",
       "    .dataframe tbody tr th:only-of-type {\n",
       "        vertical-align: middle;\n",
       "    }\n",
       "\n",
       "    .dataframe tbody tr th {\n",
       "        vertical-align: top;\n",
       "    }\n",
       "\n",
       "    .dataframe thead th {\n",
       "        text-align: right;\n",
       "    }\n",
       "</style>\n",
       "<table border=\"1\" class=\"dataframe\">\n",
       "  <thead>\n",
       "    <tr style=\"text-align: right;\">\n",
       "      <th></th>\n",
       "      <th>Weather</th>\n",
       "    </tr>\n",
       "  </thead>\n",
       "  <tbody>\n",
       "    <tr>\n",
       "      <th>Clear</th>\n",
       "      <td>159858</td>\n",
       "    </tr>\n",
       "    <tr>\n",
       "      <th>Inclement</th>\n",
       "      <td>34815</td>\n",
       "    </tr>\n",
       "  </tbody>\n",
       "</table>\n",
       "</div>"
      ],
      "text/plain": [
       "           Weather\n",
       "Clear       159858\n",
       "Inclement    34815"
      ]
     },
     "execution_count": 294,
     "metadata": {},
     "output_type": "execute_result"
    }
   ],
   "source": [
    "weather_v_accidents"
   ]
  },
  {
   "cell_type": "code",
   "execution_count": 296,
   "metadata": {},
   "outputs": [
    {
     "data": {
      "text/plain": [
       "<seaborn.axisgrid.FacetGrid at 0x7fd2db08d610>"
      ]
     },
     "execution_count": 296,
     "metadata": {},
     "output_type": "execute_result"
    },
    {
     "data": {
      "image/png": "[encoded data removed]",
      "text/plain": [
       "<Figure size 360x360 with 1 Axes>"
      ]
     },
     "metadata": {},
     "output_type": "display_data"
    }
   ],
   "source": [
    "weather_v_accidents_df = weather_v_accidents.reset_index().rename(columns={'Weather' : 'Accidents', 'index':'Weather Conditions'})\n",
    "sns.catplot(x='Weather Conditions', y='Accidents', data=weather_v_accidents_df, kind='bar')"
   ]
  },
  {
   "cell_type": "code",
   "execution_count": 318,
   "metadata": {},
   "outputs": [
    {
     "data": {
      "text/plain": [
       "X                         1454\n",
       "Y                         1454\n",
       "Incident Month            1497\n",
       "Incident Day of Week      1497\n",
       "Road Condition            1497\n",
       "Weather                   1497\n",
       "Time of Day               1497\n",
       "Drunk Driving Incident    1497\n",
       "Vehicles Involved         1497\n",
       "Persons Involved          1497\n",
       "Bicycle Involved          1497\n",
       "Pedestrians Involved      1497\n",
       "Accident Location         1497\n",
       "dtype: int64"
      ]
     },
     "execution_count": 318,
     "metadata": {},
     "output_type": "execute_result"
    }
   ],
   "source": [
    "unscaled_features_df.loc[(unscaled_features_df['Incident Day of Week'] == 'Friday') & (unscaled_features_df['Drunk Driving Incident'] == 'Yes')].count()"
   ]
  },
  {
   "cell_type": "code",
   "execution_count": 314,
   "metadata": {},
   "outputs": [
    {
     "data": {
      "text/plain": [
       "X                         1093\n",
       "Y                         1093\n",
       "Incident Month            1123\n",
       "Incident Day of Week      1123\n",
       "Road Condition            1123\n",
       "Weather                   1123\n",
       "Time of Day               1123\n",
       "Drunk Driving Incident    1123\n",
       "Vehicles Involved         1123\n",
       "Persons Involved          1123\n",
       "Bicycle Involved          1123\n",
       "Pedestrians Involved      1123\n",
       "Accident Location         1123\n",
       "dtype: int64"
      ]
     },
     "execution_count": 314,
     "metadata": {},
     "output_type": "execute_result"
    }
   ],
   "source": [
    "unscaled_features_df.loc[(unscaled_features_df['Incident Day of Week'] == 'Thursday') & (unscaled_features_df['Drunk Driving Incident'] == 'Yes')].count()"
   ]
  },
  {
   "cell_type": "code",
   "execution_count": 319,
   "metadata": {},
   "outputs": [
    {
     "data": {
      "text/plain": [
       "X                         972\n",
       "Y                         972\n",
       "Incident Month            992\n",
       "Incident Day of Week      992\n",
       "Road Condition            992\n",
       "Weather                   992\n",
       "Time of Day               992\n",
       "Drunk Driving Incident    992\n",
       "Vehicles Involved         992\n",
       "Persons Involved          992\n",
       "Bicycle Involved          992\n",
       "Pedestrians Involved      992\n",
       "Accident Location         992\n",
       "dtype: int64"
      ]
     },
     "execution_count": 319,
     "metadata": {},
     "output_type": "execute_result"
    }
   ],
   "source": [
    "unscaled_features_df.loc[(unscaled_features_df['Incident Day of Week'] == 'Wednesday') & (unscaled_features_df['Drunk Driving Incident'] == 'Yes')].count()"
   ]
  },
  {
   "cell_type": "code",
   "execution_count": 320,
   "metadata": {},
   "outputs": [
    {
     "data": {
      "text/plain": [
       "X                         1949\n",
       "Y                         1949\n",
       "Incident Month            2000\n",
       "Incident Day of Week      2000\n",
       "Road Condition            2000\n",
       "Weather                   2000\n",
       "Time of Day               2000\n",
       "Drunk Driving Incident    2000\n",
       "Vehicles Involved         2000\n",
       "Persons Involved          2000\n",
       "Bicycle Involved          2000\n",
       "Pedestrians Involved      2000\n",
       "Accident Location         2000\n",
       "dtype: int64"
      ]
     },
     "execution_count": 320,
     "metadata": {},
     "output_type": "execute_result"
    }
   ],
   "source": [
    "unscaled_features_df.loc[(unscaled_features_df['Incident Day of Week'] == 'Saturday') & (unscaled_features_df['Drunk Driving Incident'] == 'Yes')].count()"
   ]
  },
  {
   "cell_type": "markdown",
   "metadata": {},
   "source": [
    "## Create Models and Process"
   ]
  },
  {
   "cell_type": "code",
   "execution_count": 114,
   "metadata": {},
   "outputs": [],
   "source": [
    "y = accident_df['SEVERITYCODE']"
   ]
  },
  {
   "cell_type": "code",
   "execution_count": 115,
   "metadata": {},
   "outputs": [
    {
     "data": {
      "text/plain": [
       "0         2\n",
       "1         1\n",
       "2         1\n",
       "3         1\n",
       "4         2\n",
       "         ..\n",
       "194668    2\n",
       "194669    1\n",
       "194670    2\n",
       "194671    2\n",
       "194672    1\n",
       "Name: SEVERITYCODE, Length: 194673, dtype: int64"
      ]
     },
     "execution_count": 115,
     "metadata": {},
     "output_type": "execute_result"
    }
   ],
   "source": [
    "y"
   ]
  },
  {
   "cell_type": "code",
   "execution_count": 116,
   "metadata": {},
   "outputs": [
    {
     "data": {
      "text/plain": [
       "array([1, 0, 0, ..., 1, 1, 0])"
      ]
     },
     "execution_count": 116,
     "metadata": {},
     "output_type": "execute_result"
    }
   ],
   "source": [
    "from sklearn.preprocessing import LabelEncoder\n",
    "\n",
    "label_encoder = LabelEncoder()\n",
    "y = label_encoder.fit_transform(y)\n",
    "y"
   ]
  },
  {
   "cell_type": "code",
   "execution_count": 117,
   "metadata": {},
   "outputs": [],
   "source": [
    "X = features_vectorized_df"
   ]
  },
  {
   "cell_type": "markdown",
   "metadata": {},
   "source": [
    "#### Make sure there are no 'NaN' values"
   ]
  },
  {
   "cell_type": "code",
   "execution_count": 118,
   "metadata": {},
   "outputs": [],
   "source": [
    "from sklearn.model_selection import cross_val_score, cross_val_predict, cross_validate\n",
    "from sklearn.impute import SimpleImputer\n",
    "\n",
    "imputer = SimpleImputer(missing_values=np.nan, strategy='most_frequent')\n",
    "X = imputer.fit_transform(X)"
   ]
  },
  {
   "cell_type": "markdown",
   "metadata": {},
   "source": [
    "#### Test, Train, Dev split"
   ]
  },
  {
   "cell_type": "code",
   "execution_count": 119,
   "metadata": {},
   "outputs": [],
   "source": [
    "from sklearn.model_selection import train_test_split\n",
    "\n",
    "X_train, X_test, y_train, y_test = train_test_split(X, y, test_size=0.1, random_state=1)\n"
   ]
  },
  {
   "cell_type": "markdown",
   "metadata": {},
   "source": [
    "<br>"
   ]
  },
  {
   "cell_type": "markdown",
   "metadata": {},
   "source": [
    "## Logistic Regression"
   ]
  },
  {
   "cell_type": "code",
   "execution_count": 120,
   "metadata": {},
   "outputs": [
    {
     "data": {
      "text/plain": [
       "{'fit_time': array([1.13234854, 1.71277666, 1.77071667]),\n",
       " 'score_time': array([0.00481987, 0.00462127, 0.01173902]),\n",
       " 'estimator': (LogisticRegression(C=10, max_iter=1000),\n",
       "  LogisticRegression(C=10, max_iter=1000),\n",
       "  LogisticRegression(C=10, max_iter=1000)),\n",
       " 'test_score': array([0.75240574, 0.75033389, 0.75163097]),\n",
       " 'train_score': array([0.75104235, 0.75186425, 0.75172939])}"
      ]
     },
     "execution_count": 120,
     "metadata": {},
     "output_type": "execute_result"
    }
   ],
   "source": [
    "from sklearn.linear_model import LogisticRegression\n",
    "\n",
    "logistic_regression = LogisticRegression(max_iter=1000, C=10)\n",
    "\n",
    "# k-fold cross validation\n",
    "results = cross_validate(logistic_regression, X_train, y_train, cv=3, return_estimator=True , return_train_score = True)\n",
    "results"
   ]
  },
  {
   "cell_type": "code",
   "execution_count": 121,
   "metadata": {},
   "outputs": [],
   "source": [
    "#Select the best scoring model from cross-validation\n",
    "regression_models = results['estimator']\n",
    "best_model_score = np.argmax(results['test_score'])\n",
    "model = regression_models[best_model_score]"
   ]
  },
  {
   "cell_type": "markdown",
   "metadata": {},
   "source": [
    "<br>\n",
    "<strong>Accuracy measure</strong>"
   ]
  },
  {
   "cell_type": "code",
   "execution_count": 122,
   "metadata": {},
   "outputs": [
    {
     "data": {
      "text/plain": [
       "0.7534415450996507"
      ]
     },
     "execution_count": 122,
     "metadata": {},
     "output_type": "execute_result"
    }
   ],
   "source": [
    "#Test the model on the test set\n",
    "model.score(X_test, y_test)"
   ]
  },
  {
   "cell_type": "code",
   "execution_count": 123,
   "metadata": {},
   "outputs": [],
   "source": [
    "prediction = model.predict(X_test)"
   ]
  },
  {
   "cell_type": "markdown",
   "metadata": {},
   "source": [
    "As you can see, our model is predicting both classes to some degree of success"
   ]
  },
  {
   "cell_type": "code",
   "execution_count": 124,
   "metadata": {},
   "outputs": [
    {
     "data": {
      "text/plain": [
       "array([0, 1])"
      ]
     },
     "execution_count": 124,
     "metadata": {},
     "output_type": "execute_result"
    }
   ],
   "source": [
    "np.unique(prediction) "
   ]
  },
  {
   "cell_type": "markdown",
   "metadata": {},
   "source": [
    "<br>\n",
    "<strong>ROC of AUC</strong>"
   ]
  },
  {
   "cell_type": "code",
   "execution_count": 125,
   "metadata": {},
   "outputs": [
    {
     "data": {
      "text/plain": [
       "0.714569247608215"
      ]
     },
     "execution_count": 125,
     "metadata": {},
     "output_type": "execute_result"
    }
   ],
   "source": [
    "from sklearn.metrics import roc_auc_score\n",
    "\n",
    "# generate the ROC\n",
    "probability = model.predict_proba(X_test)\n",
    "probability_class_1 = [p[1] for p in probability]\n",
    "\n",
    "roc_auc_score(y_test, probability_class_1)"
   ]
  },
  {
   "cell_type": "markdown",
   "metadata": {},
   "source": [
    "<br>\n",
    "<strong>F1 Score</strong>"
   ]
  },
  {
   "cell_type": "code",
   "execution_count": 122,
   "metadata": {},
   "outputs": [
    {
     "data": {
      "text/plain": [
       "0.3639014047177312"
      ]
     },
     "execution_count": 122,
     "metadata": {},
     "output_type": "execute_result"
    }
   ],
   "source": [
    "from sklearn.metrics import f1_score\n",
    "\n",
    "f1_score(y_test, prediction)"
   ]
  },
  {
   "cell_type": "markdown",
   "metadata": {},
   "source": [
    "Not a good score, not at all"
   ]
  },
  {
   "cell_type": "markdown",
   "metadata": {},
   "source": [
    "## Attempt to improve Logistic Regression by Oversampling the Injury classes\n",
    "\n",
    "We will increase the representation of the under represented class by doubling its population in the dataset,"
   ]
  },
  {
   "cell_type": "code",
   "execution_count": 123,
   "metadata": {},
   "outputs": [
    {
     "data": {
      "text/plain": [
       "175205"
      ]
     },
     "execution_count": 123,
     "metadata": {},
     "output_type": "execute_result"
    }
   ],
   "source": [
    "len(y_train)"
   ]
  },
  {
   "cell_type": "code",
   "execution_count": 124,
   "metadata": {},
   "outputs": [
    {
     "data": {
      "text/plain": [
       "(52427, 36)"
      ]
     },
     "execution_count": 124,
     "metadata": {},
     "output_type": "execute_result"
    }
   ],
   "source": [
    "injury_severity_indices = [index for index, element in enumerate(y_train) if element == 1]\n",
    "\n",
    "injury_X_train = X_train[injury_severity_indices]\n",
    "injury_X_train.shape"
   ]
  },
  {
   "cell_type": "code",
   "execution_count": 125,
   "metadata": {},
   "outputs": [
    {
     "data": {
      "text/plain": [
       "52427"
      ]
     },
     "execution_count": 125,
     "metadata": {},
     "output_type": "execute_result"
    }
   ],
   "source": [
    "len(injury_severity_indices)"
   ]
  },
  {
   "cell_type": "code",
   "execution_count": 126,
   "metadata": {},
   "outputs": [
    {
     "data": {
      "text/plain": [
       "(175205, 36)"
      ]
     },
     "execution_count": 126,
     "metadata": {},
     "output_type": "execute_result"
    }
   ],
   "source": [
    "X_train.shape"
   ]
  },
  {
   "cell_type": "code",
   "execution_count": 127,
   "metadata": {},
   "outputs": [
    {
     "data": {
      "text/plain": [
       "(227632, 36)"
      ]
     },
     "execution_count": 127,
     "metadata": {},
     "output_type": "execute_result"
    }
   ],
   "source": [
    "oversampled_X_train = np.vstack((X_train, injury_X_train))\n",
    "oversampled_X_train.shape"
   ]
  },
  {
   "cell_type": "code",
   "execution_count": 128,
   "metadata": {},
   "outputs": [
    {
     "data": {
      "text/plain": [
       "(175205,)"
      ]
     },
     "execution_count": 128,
     "metadata": {},
     "output_type": "execute_result"
    }
   ],
   "source": [
    "y_train.shape"
   ]
  },
  {
   "cell_type": "code",
   "execution_count": 129,
   "metadata": {},
   "outputs": [
    {
     "data": {
      "text/plain": [
       "array([1., 1., 1., ..., 1., 1., 1.])"
      ]
     },
     "execution_count": 129,
     "metadata": {},
     "output_type": "execute_result"
    }
   ],
   "source": [
    "np.ones(52427)"
   ]
  },
  {
   "cell_type": "code",
   "execution_count": 130,
   "metadata": {},
   "outputs": [],
   "source": [
    "oversampled_y_train = np.append(y_train, np.ones(52427))"
   ]
  },
  {
   "cell_type": "code",
   "execution_count": 131,
   "metadata": {},
   "outputs": [
    {
     "data": {
      "text/plain": [
       "(227632,)"
      ]
     },
     "execution_count": 131,
     "metadata": {},
     "output_type": "execute_result"
    }
   ],
   "source": [
    "oversampled_y_train.shape"
   ]
  },
  {
   "cell_type": "markdown",
   "metadata": {},
   "source": [
    "<br>"
   ]
  },
  {
   "cell_type": "markdown",
   "metadata": {},
   "source": [
    "## Oversampled Logistic Classification"
   ]
  },
  {
   "cell_type": "code",
   "execution_count": 132,
   "metadata": {},
   "outputs": [
    {
     "data": {
      "text/plain": [
       "{'fit_time': array([1.302845  , 2.41115189, 1.81480265]),\n",
       " 'score_time': array([0.01075602, 0.0079155 , 0.0081296 ]),\n",
       " 'estimator': (LogisticRegression(C=10, max_iter=1000),\n",
       "  LogisticRegression(C=10, max_iter=1000),\n",
       "  LogisticRegression(C=10, max_iter=1000)),\n",
       " 'test_score': array([0.6632489 , 0.6639825 , 0.66219012]),\n",
       " 'train_score': array([0.66334331, 0.66235709, 0.66347073])}"
      ]
     },
     "execution_count": 132,
     "metadata": {},
     "output_type": "execute_result"
    }
   ],
   "source": [
    "logistic_regression = LogisticRegression(max_iter=1000, C=10)\n",
    "\n",
    "# k-fold cross validation\n",
    "results = cross_validate(logistic_regression, oversampled_X_train, oversampled_y_train, cv=3, return_estimator=True, return_train_score = True)\n",
    "results"
   ]
  },
  {
   "cell_type": "code",
   "execution_count": 133,
   "metadata": {},
   "outputs": [],
   "source": [
    "#Select the best scoring model from cross-validation\n",
    "regression_models = results['estimator']\n",
    "best_model_score = np.argmax(results['test_score'])\n",
    "model = regression_models[best_model_score]"
   ]
  },
  {
   "cell_type": "markdown",
   "metadata": {},
   "source": [
    "<br>\n",
    "<strong>Accuracy Measure</strong>"
   ]
  },
  {
   "cell_type": "code",
   "execution_count": 134,
   "metadata": {},
   "outputs": [
    {
     "data": {
      "text/plain": [
       "0.7142490240394493"
      ]
     },
     "execution_count": 134,
     "metadata": {},
     "output_type": "execute_result"
    }
   ],
   "source": [
    "#Test the model on the test set\n",
    "model.score(X_test, y_test)"
   ]
  },
  {
   "cell_type": "code",
   "execution_count": 135,
   "metadata": {},
   "outputs": [],
   "source": [
    "prediction = model.predict(X_test)"
   ]
  },
  {
   "cell_type": "markdown",
   "metadata": {},
   "source": [
    "As you can see, our model is predicting both classes to some degree of success"
   ]
  },
  {
   "cell_type": "code",
   "execution_count": 136,
   "metadata": {},
   "outputs": [
    {
     "data": {
      "text/plain": [
       "array([0., 1.])"
      ]
     },
     "execution_count": 136,
     "metadata": {},
     "output_type": "execute_result"
    }
   ],
   "source": [
    "np.unique(prediction) #the prediction is selecting both classes"
   ]
  },
  {
   "cell_type": "markdown",
   "metadata": {},
   "source": [
    "<br>\n",
    "<strong>ROC of AUC</strong>"
   ]
  },
  {
   "cell_type": "code",
   "execution_count": 137,
   "metadata": {},
   "outputs": [
    {
     "data": {
      "text/plain": [
       "0.7150041814817403"
      ]
     },
     "execution_count": 137,
     "metadata": {},
     "output_type": "execute_result"
    }
   ],
   "source": [
    "from sklearn.metrics import roc_auc_score\n",
    "\n",
    "# generate the ROC\n",
    "probability = model.predict_proba(X_test)\n",
    "probability_class_1 = [p[1] for p in probability]\n",
    "\n",
    "roc_auc_score(y_test, probability_class_1)"
   ]
  },
  {
   "cell_type": "markdown",
   "metadata": {},
   "source": [
    "<br>\n",
    "<strong> F1 Score</strong>"
   ]
  },
  {
   "cell_type": "code",
   "execution_count": 138,
   "metadata": {},
   "outputs": [
    {
     "data": {
      "text/plain": [
       "0.49724356077722554"
      ]
     },
     "execution_count": 138,
     "metadata": {},
     "output_type": "execute_result"
    }
   ],
   "source": [
    "from sklearn.metrics import f1_score\n",
    "\n",
    "f1_score(y_test, prediction)"
   ]
  },
  {
   "cell_type": "markdown",
   "metadata": {},
   "source": [
    "## Simple Logistic Regression Model without Oversampling or Cross-validation"
   ]
  },
  {
   "cell_type": "code",
   "execution_count": 139,
   "metadata": {},
   "outputs": [
    {
     "data": {
      "text/plain": [
       "0.7536470104787343"
      ]
     },
     "execution_count": 139,
     "metadata": {},
     "output_type": "execute_result"
    }
   ],
   "source": [
    "logistic_regression = LogisticRegression(max_iter=1000, C=100)\n",
    "\n",
    "model = logistic_regression.fit(X_train, y_train)\n",
    "\n",
    "model.score(X_test, y_test)"
   ]
  },
  {
   "cell_type": "code",
   "execution_count": 140,
   "metadata": {},
   "outputs": [],
   "source": [
    "prediction = model.predict(X_test)"
   ]
  },
  {
   "cell_type": "markdown",
   "metadata": {},
   "source": [
    "As you can see, our model is predicting both classes to some degree of success"
   ]
  },
  {
   "cell_type": "code",
   "execution_count": 141,
   "metadata": {},
   "outputs": [
    {
     "data": {
      "text/plain": [
       "array([0, 1])"
      ]
     },
     "execution_count": 141,
     "metadata": {},
     "output_type": "execute_result"
    }
   ],
   "source": [
    "np.unique(prediction) #the prediction is selecting both classes"
   ]
  },
  {
   "cell_type": "markdown",
   "metadata": {},
   "source": [
    "<br>\n",
    "<strong> ROC of AUC</strong>"
   ]
  },
  {
   "cell_type": "code",
   "execution_count": 142,
   "metadata": {},
   "outputs": [
    {
     "data": {
      "text/plain": [
       "0.7147915584001713"
      ]
     },
     "execution_count": 142,
     "metadata": {},
     "output_type": "execute_result"
    }
   ],
   "source": [
    "from sklearn.metrics import roc_auc_score\n",
    "\n",
    "# generate the ROC\n",
    "probability = model.predict_proba(X_test)\n",
    "probability_class_1 = [p[1] for p in probability]\n",
    "\n",
    "roc_auc_score(y_test, probability_class_1)"
   ]
  },
  {
   "cell_type": "markdown",
   "metadata": {},
   "source": [
    "<br>\n",
    "<strong>F1 Score</strong>"
   ]
  },
  {
   "cell_type": "code",
   "execution_count": 143,
   "metadata": {},
   "outputs": [
    {
     "data": {
      "text/plain": [
       "0.3649364406779661"
      ]
     },
     "execution_count": 143,
     "metadata": {},
     "output_type": "execute_result"
    }
   ],
   "source": [
    "from sklearn.metrics import f1_score\n",
    "\n",
    "f1_score(y_test, prediction)"
   ]
  },
  {
   "cell_type": "markdown",
   "metadata": {},
   "source": [
    "<br>"
   ]
  },
  {
   "cell_type": "markdown",
   "metadata": {},
   "source": [
    "## SGDClassifier"
   ]
  },
  {
   "cell_type": "code",
   "execution_count": 144,
   "metadata": {},
   "outputs": [
    {
     "data": {
      "text/plain": [
       "{'fit_time': array([0.35456061, 0.36660242, 0.36775732]),\n",
       " 'score_time': array([0.01366019, 0.00479341, 0.0061028 ]),\n",
       " 'estimator': (SGDClassifier(), SGDClassifier(), SGDClassifier()),\n",
       " 'test_score': array([0.75084757, 0.74970035, 0.7494221 ]),\n",
       " 'train_score': array([0.74956123, 0.75012628, 0.75027396])}"
      ]
     },
     "execution_count": 144,
     "metadata": {},
     "output_type": "execute_result"
    }
   ],
   "source": [
    "from sklearn.linear_model import SGDClassifier\n",
    "\n",
    "sgd_classifier = SGDClassifier(max_iter=1000, learning_rate='optimal')\n",
    "\n",
    "# k-fold\n",
    "results = cross_validate(sgd_classifier, X_train, y_train, cv=3, return_estimator=True , return_train_score = True)\n",
    "results"
   ]
  },
  {
   "cell_type": "code",
   "execution_count": 145,
   "metadata": {},
   "outputs": [],
   "source": [
    "#Select the best scoring model from cross-validation\n",
    "regression_models = results['estimator']\n",
    "best_model_score = np.argmax(results['test_score'])\n",
    "model = regression_models[best_model_score]"
   ]
  },
  {
   "cell_type": "markdown",
   "metadata": {},
   "source": [
    "<br>\n",
    "<strong>Accuracy</strong>"
   ]
  },
  {
   "cell_type": "code",
   "execution_count": 146,
   "metadata": {},
   "outputs": [
    {
     "data": {
      "text/plain": [
       "0.7533388124101089"
      ]
     },
     "execution_count": 146,
     "metadata": {},
     "output_type": "execute_result"
    }
   ],
   "source": [
    "#Test the model on the test set\n",
    "model.score(X_test, y_test)"
   ]
  },
  {
   "cell_type": "code",
   "execution_count": 147,
   "metadata": {},
   "outputs": [],
   "source": [
    "prediction = model.predict(X_test)"
   ]
  },
  {
   "cell_type": "markdown",
   "metadata": {},
   "source": [
    "As you can see, our model is predicting both classes to some degree of success"
   ]
  },
  {
   "cell_type": "code",
   "execution_count": 148,
   "metadata": {},
   "outputs": [
    {
     "data": {
      "text/plain": [
       "array([0, 1])"
      ]
     },
     "execution_count": 148,
     "metadata": {},
     "output_type": "execute_result"
    }
   ],
   "source": [
    "np.unique(prediction) #the prediction is selecting both classes"
   ]
  },
  {
   "cell_type": "markdown",
   "metadata": {},
   "source": [
    "<br>\n",
    "<strong>ROC of AUC </strong>"
   ]
  },
  {
   "cell_type": "code",
   "execution_count": 149,
   "metadata": {},
   "outputs": [
    {
     "data": {
      "text/plain": [
       "0.7006237315193786"
      ]
     },
     "execution_count": 149,
     "metadata": {},
     "output_type": "execute_result"
    }
   ],
   "source": [
    "from sklearn.metrics import roc_auc_score\n",
    "from sklearn.calibration import CalibratedClassifierCV\n",
    "\n",
    "model = CalibratedClassifierCV(model)\n",
    "model.fit(X_test, y_test)\n",
    "\n",
    "# generate the ROC\n",
    "probability = model.predict_proba(X_test)\n",
    "probability_class_1 = [p[1] for p in probability]\n",
    "\n",
    "roc_auc_score(y_test, probability_class_1)"
   ]
  },
  {
   "cell_type": "markdown",
   "metadata": {},
   "source": [
    "<br>\n",
    "<strong>F1 Score </strong>"
   ]
  },
  {
   "cell_type": "code",
   "execution_count": 150,
   "metadata": {},
   "outputs": [
    {
     "data": {
      "text/plain": [
       "0.314"
      ]
     },
     "execution_count": 150,
     "metadata": {},
     "output_type": "execute_result"
    }
   ],
   "source": [
    "from sklearn.metrics import f1_score\n",
    "\n",
    "f1_score(y_test, prediction)"
   ]
  },
  {
   "cell_type": "markdown",
   "metadata": {},
   "source": [
    "<br>"
   ]
  },
  {
   "cell_type": "markdown",
   "metadata": {},
   "source": [
    "## Oversampled data"
   ]
  },
  {
   "cell_type": "code",
   "execution_count": 151,
   "metadata": {},
   "outputs": [
    {
     "data": {
      "text/plain": [
       "{'fit_time': array([0.44430614, 0.50539494, 0.48066878]),\n",
       " 'score_time': array([0.01091003, 0.00994754, 0.00821805]),\n",
       " 'estimator': (SGDClassifier(), SGDClassifier(), SGDClassifier()),\n",
       " 'test_score': array([0.64307177, 0.6422236 , 0.6384148 ]),\n",
       " 'train_score': array([0.64039169, 0.64073671, 0.64260815])}"
      ]
     },
     "execution_count": 151,
     "metadata": {},
     "output_type": "execute_result"
    }
   ],
   "source": [
    "from sklearn.linear_model import SGDClassifier\n",
    "\n",
    "sgd_classifier = SGDClassifier(max_iter=1000, learning_rate='optimal')\n",
    "\n",
    "# k-fold\n",
    "results = cross_validate(sgd_classifier, oversampled_X_train, oversampled_y_train, cv=3, return_estimator=True , return_train_score = True)\n",
    "results"
   ]
  },
  {
   "cell_type": "code",
   "execution_count": 152,
   "metadata": {},
   "outputs": [],
   "source": [
    "#Select the best scoring model from cross-validation\n",
    "regression_models = results['estimator']\n",
    "best_model_score = np.argmax(results['test_score'])\n",
    "model = regression_models[best_model_score]"
   ]
  },
  {
   "cell_type": "markdown",
   "metadata": {},
   "source": [
    "<br>\n",
    "<strong>Accuracy</strong>"
   ]
  },
  {
   "cell_type": "code",
   "execution_count": 153,
   "metadata": {},
   "outputs": [
    {
     "data": {
      "text/plain": [
       "0.6695089377439901"
      ]
     },
     "execution_count": 153,
     "metadata": {},
     "output_type": "execute_result"
    }
   ],
   "source": [
    "#Test the model on the test set\n",
    "model.score(X_test, y_test)"
   ]
  },
  {
   "cell_type": "code",
   "execution_count": 154,
   "metadata": {},
   "outputs": [],
   "source": [
    "prediction = model.predict(X_test)"
   ]
  },
  {
   "cell_type": "markdown",
   "metadata": {},
   "source": [
    "As you can see, our model is predicting both classes to some degree of success"
   ]
  },
  {
   "cell_type": "code",
   "execution_count": 155,
   "metadata": {},
   "outputs": [
    {
     "data": {
      "text/plain": [
       "array([0., 1.])"
      ]
     },
     "execution_count": 155,
     "metadata": {},
     "output_type": "execute_result"
    }
   ],
   "source": [
    "np.unique(prediction) #the prediction is selecting both classes"
   ]
  },
  {
   "cell_type": "markdown",
   "metadata": {},
   "source": [
    "<br>\n",
    "<strong>ROC of AUC </strong>"
   ]
  },
  {
   "cell_type": "code",
   "execution_count": 156,
   "metadata": {},
   "outputs": [
    {
     "data": {
      "text/plain": [
       "0.699190912821282"
      ]
     },
     "execution_count": 156,
     "metadata": {},
     "output_type": "execute_result"
    }
   ],
   "source": [
    "from sklearn.metrics import roc_auc_score\n",
    "from sklearn.calibration import CalibratedClassifierCV\n",
    "\n",
    "model = CalibratedClassifierCV(model)\n",
    "model.fit(X_test, y_test)\n",
    "\n",
    "# generate the ROC\n",
    "probability = model.predict_proba(X_test)\n",
    "probability_class_1 = [p[1] for p in probability]\n",
    "\n",
    "roc_auc_score(y_test, probability_class_1)"
   ]
  },
  {
   "cell_type": "markdown",
   "metadata": {},
   "source": [
    "<br>\n",
    "<strong>F1 Score </strong>"
   ]
  },
  {
   "cell_type": "code",
   "execution_count": 157,
   "metadata": {},
   "outputs": [
    {
     "data": {
      "text/plain": [
       "0.49234653621587504"
      ]
     },
     "execution_count": 157,
     "metadata": {},
     "output_type": "execute_result"
    }
   ],
   "source": [
    "from sklearn.metrics import f1_score\n",
    "\n",
    "f1_score(y_test, prediction)"
   ]
  },
  {
   "cell_type": "markdown",
   "metadata": {},
   "source": [
    "<br/>"
   ]
  },
  {
   "cell_type": "markdown",
   "metadata": {},
   "source": [
    "## Support Vector Machine with Linear Kernel"
   ]
  },
  {
   "cell_type": "code",
   "execution_count": 158,
   "metadata": {},
   "outputs": [
    {
     "data": {
      "text/plain": [
       "{'fit_time': array([3.36870289, 3.52005982, 3.37292719]),\n",
       " 'score_time': array([0.00471902, 0.00470734, 0.00464129]),\n",
       " 'estimator': (LinearSVC(random_state=0, tol=1e-05),\n",
       "  LinearSVC(random_state=0, tol=1e-05),\n",
       "  LinearSVC(random_state=0, tol=1e-05)),\n",
       " 'test_score': array([0.75208041, 0.7508647 , 0.75104878]),\n",
       " 'train_score': array([0.7509653 , 0.75154748, 0.75132701])}"
      ]
     },
     "execution_count": 158,
     "metadata": {},
     "output_type": "execute_result"
    }
   ],
   "source": [
    "from sklearn.svm import LinearSVC\n",
    "\n",
    "svc = LinearSVC(random_state=0, tol=1e-5)\n",
    "\n",
    "# k-fold\n",
    "results = cross_validate(svc, X_train, y_train, cv=3, return_estimator=True , return_train_score = True)\n",
    "results"
   ]
  },
  {
   "cell_type": "code",
   "execution_count": 159,
   "metadata": {},
   "outputs": [],
   "source": [
    "#Select the best scoring model from cross-validation\n",
    "regression_models = results['estimator']\n",
    "best_model_score = np.argmax(results['test_score'])\n",
    "model = regression_models[best_model_score]"
   ]
  },
  {
   "cell_type": "markdown",
   "metadata": {},
   "source": [
    "<br>\n",
    "<strong>Accuracy</strong>"
   ]
  },
  {
   "cell_type": "code",
   "execution_count": 160,
   "metadata": {},
   "outputs": [
    {
     "data": {
      "text/plain": [
       "0.7539038422025889"
      ]
     },
     "execution_count": 160,
     "metadata": {},
     "output_type": "execute_result"
    }
   ],
   "source": [
    "#Test the model on the test set\n",
    "model.score(X_test, y_test)"
   ]
  },
  {
   "cell_type": "code",
   "execution_count": 161,
   "metadata": {},
   "outputs": [],
   "source": [
    "prediction = model.predict(X_test)"
   ]
  },
  {
   "cell_type": "markdown",
   "metadata": {},
   "source": [
    "As you can see, our model is predicting both classes to some degree of success"
   ]
  },
  {
   "cell_type": "code",
   "execution_count": 162,
   "metadata": {},
   "outputs": [
    {
     "data": {
      "text/plain": [
       "array([0, 1])"
      ]
     },
     "execution_count": 162,
     "metadata": {},
     "output_type": "execute_result"
    }
   ],
   "source": [
    "np.unique(prediction) #the prediction is selecting both classes"
   ]
  },
  {
   "cell_type": "markdown",
   "metadata": {},
   "source": [
    "<br>\n",
    "<strong>ROC of AUC </strong>"
   ]
  },
  {
   "cell_type": "code",
   "execution_count": 163,
   "metadata": {},
   "outputs": [
    {
     "data": {
      "text/plain": [
       "0.7139436494633318"
      ]
     },
     "execution_count": 163,
     "metadata": {},
     "output_type": "execute_result"
    }
   ],
   "source": [
    "from sklearn.metrics import roc_auc_score\n",
    "from sklearn.calibration import CalibratedClassifierCV\n",
    "\n",
    "model = CalibratedClassifierCV(model)\n",
    "model.fit(X_test, y_test)\n",
    "\n",
    "# generate the ROC\n",
    "probability = model.predict_proba(X_test)\n",
    "probability_class_1 = [p[1] for p in probability]\n",
    "\n",
    "roc_auc_score(y_test, probability_class_1)"
   ]
  },
  {
   "cell_type": "markdown",
   "metadata": {},
   "source": [
    "<br>\n",
    "<strong>F1 Score </strong>"
   ]
  },
  {
   "cell_type": "code",
   "execution_count": 164,
   "metadata": {},
   "outputs": [
    {
     "data": {
      "text/plain": [
       "0.34504442925495554"
      ]
     },
     "execution_count": 164,
     "metadata": {},
     "output_type": "execute_result"
    }
   ],
   "source": [
    "from sklearn.metrics import f1_score\n",
    "\n",
    "f1_score(y_test, prediction)"
   ]
  },
  {
   "cell_type": "markdown",
   "metadata": {},
   "source": [
    "<br>"
   ]
  },
  {
   "cell_type": "markdown",
   "metadata": {},
   "source": [
    "## Simple Linear SVM"
   ]
  },
  {
   "cell_type": "code",
   "execution_count": 165,
   "metadata": {},
   "outputs": [
    {
     "data": {
      "text/plain": [
       "0.7541093075816725"
      ]
     },
     "execution_count": 165,
     "metadata": {},
     "output_type": "execute_result"
    }
   ],
   "source": [
    "svc = LinearSVC(random_state=0, tol=1e-5)\n",
    "\n",
    "model = svc.fit(X_train, y_train)\n",
    "model.score(X_test, y_test)"
   ]
  },
  {
   "cell_type": "markdown",
   "metadata": {},
   "source": [
    "<br>\n",
    "<strong>ROC of AUC </strong>"
   ]
  },
  {
   "cell_type": "code",
   "execution_count": 166,
   "metadata": {},
   "outputs": [
    {
     "data": {
      "text/plain": [
       "0.7139436494633318"
      ]
     },
     "execution_count": 166,
     "metadata": {},
     "output_type": "execute_result"
    }
   ],
   "source": [
    "from sklearn.metrics import roc_auc_score\n",
    "from sklearn.calibration import CalibratedClassifierCV\n",
    "\n",
    "model = CalibratedClassifierCV(model)\n",
    "model.fit(X_test, y_test)\n",
    "\n",
    "# generate the ROC\n",
    "probability = model.predict_proba(X_test)\n",
    "probability_class_1 = [p[1] for p in probability]\n",
    "\n",
    "roc_auc_score(y_test, probability_class_1)"
   ]
  },
  {
   "cell_type": "markdown",
   "metadata": {},
   "source": [
    "<br>\n",
    "<strong>F1 Score </strong>"
   ]
  },
  {
   "cell_type": "code",
   "execution_count": 167,
   "metadata": {},
   "outputs": [],
   "source": [
    "prediction = model.predict(X_test)"
   ]
  },
  {
   "cell_type": "code",
   "execution_count": 168,
   "metadata": {},
   "outputs": [
    {
     "data": {
      "text/plain": [
       "0.3443835616438356"
      ]
     },
     "execution_count": 168,
     "metadata": {},
     "output_type": "execute_result"
    }
   ],
   "source": [
    "from sklearn.metrics import f1_score\n",
    "\n",
    "f1_score(y_test, prediction)"
   ]
  },
  {
   "cell_type": "markdown",
   "metadata": {},
   "source": [
    "<br>"
   ]
  },
  {
   "cell_type": "markdown",
   "metadata": {},
   "source": [
    "## Oversampled LinearSVC"
   ]
  },
  {
   "cell_type": "code",
   "execution_count": 169,
   "metadata": {},
   "outputs": [
    {
     "data": {
      "text/plain": [
       "{'fit_time': array([8.07413721, 7.90354633, 5.10015893]),\n",
       " 'score_time': array([0.01806474, 0.00793004, 0.01888585]),\n",
       " 'estimator': (LinearSVC(random_state=0, tol=1e-05),\n",
       "  LinearSVC(random_state=0, tol=1e-05),\n",
       "  LinearSVC(random_state=0, tol=1e-05)),\n",
       " 'test_score': array([0.66258995, 0.66349487, 0.6609381 ]),\n",
       " 'train_score': array([0.66240099, 0.66182992, 0.6623505 ])}"
      ]
     },
     "execution_count": 169,
     "metadata": {},
     "output_type": "execute_result"
    }
   ],
   "source": [
    "svc = LinearSVC(random_state=0, tol=1e-5)\n",
    "\n",
    "# k-fold\n",
    "results = cross_validate(svc, oversampled_X_train, oversampled_y_train, cv=3, return_estimator=True , return_train_score = True)\n",
    "results"
   ]
  },
  {
   "cell_type": "code",
   "execution_count": 170,
   "metadata": {},
   "outputs": [],
   "source": [
    "#Select the best scoring model from cross-validation\n",
    "regression_models = results['estimator']\n",
    "best_model_score = np.argmax(results['test_score'])\n",
    "model = regression_models[best_model_score]"
   ]
  },
  {
   "cell_type": "markdown",
   "metadata": {},
   "source": [
    "<br>\n",
    "<strong>Accuracy</strong>"
   ]
  },
  {
   "cell_type": "code",
   "execution_count": 171,
   "metadata": {},
   "outputs": [
    {
     "data": {
      "text/plain": [
       "0.719334292171769"
      ]
     },
     "execution_count": 171,
     "metadata": {},
     "output_type": "execute_result"
    }
   ],
   "source": [
    "#Test the model on the test set\n",
    "model.score(X_test, y_test)"
   ]
  },
  {
   "cell_type": "code",
   "execution_count": 172,
   "metadata": {},
   "outputs": [],
   "source": [
    "prediction = model.predict(X_test)"
   ]
  },
  {
   "cell_type": "markdown",
   "metadata": {},
   "source": [
    "As you can see, our model is predicting both classes to some degree of success"
   ]
  },
  {
   "cell_type": "code",
   "execution_count": 173,
   "metadata": {},
   "outputs": [
    {
     "data": {
      "text/plain": [
       "array([0., 1.])"
      ]
     },
     "execution_count": 173,
     "metadata": {},
     "output_type": "execute_result"
    }
   ],
   "source": [
    "np.unique(prediction) #the prediction is selecting both classes"
   ]
  },
  {
   "cell_type": "markdown",
   "metadata": {},
   "source": [
    "<br>\n",
    "<strong>ROC of AUC </strong>"
   ]
  },
  {
   "cell_type": "code",
   "execution_count": 174,
   "metadata": {},
   "outputs": [
    {
     "data": {
      "text/plain": [
       "0.7139436494633318"
      ]
     },
     "execution_count": 174,
     "metadata": {},
     "output_type": "execute_result"
    }
   ],
   "source": [
    "from sklearn.metrics import roc_auc_score\n",
    "from sklearn.calibration import CalibratedClassifierCV\n",
    "\n",
    "model = CalibratedClassifierCV(model)\n",
    "model.fit(X_test, y_test)\n",
    "\n",
    "# generate the ROC\n",
    "probability = model.predict_proba(X_test)\n",
    "probability_class_1 = [p[1] for p in probability]\n",
    "\n",
    "roc_auc_score(y_test, probability_class_1)"
   ]
  },
  {
   "cell_type": "markdown",
   "metadata": {},
   "source": [
    "<br>\n",
    "<strong>F1 Score </strong>"
   ]
  },
  {
   "cell_type": "code",
   "execution_count": 175,
   "metadata": {},
   "outputs": [
    {
     "data": {
      "text/plain": [
       "0.49341739291674386"
      ]
     },
     "execution_count": 175,
     "metadata": {},
     "output_type": "execute_result"
    }
   ],
   "source": [
    "from sklearn.metrics import f1_score\n",
    "\n",
    "f1_score(y_test, prediction)"
   ]
  },
  {
   "cell_type": "markdown",
   "metadata": {},
   "source": [
    "<br>"
   ]
  },
  {
   "cell_type": "markdown",
   "metadata": {},
   "source": [
    "# Random Forest Classifier"
   ]
  },
  {
   "cell_type": "code",
   "execution_count": 176,
   "metadata": {},
   "outputs": [
    {
     "data": {
      "text/plain": [
       "{'fit_time': array([11.93122673, 12.09776926, 12.09217119]),\n",
       " 'score_time': array([1.13856721, 1.12852192, 1.12324882]),\n",
       " 'estimator': (RandomForestClassifier(),\n",
       "  RandomForestClassifier(),\n",
       "  RandomForestClassifier()),\n",
       " 'test_score': array([0.7251464 , 0.72631074, 0.72536429]),\n",
       " 'train_score': array([0.99361318, 0.99339914, 0.99393   ])}"
      ]
     },
     "execution_count": 176,
     "metadata": {},
     "output_type": "execute_result"
    }
   ],
   "source": [
    "from sklearn.ensemble import RandomForestClassifier\n",
    "\n",
    "random_forest = RandomForestClassifier()\n",
    "\n",
    "# k-fold\n",
    "results = cross_validate(random_forest, X_train, y_train, cv=3, return_estimator=True , return_train_score = True)\n",
    "results"
   ]
  },
  {
   "cell_type": "code",
   "execution_count": 177,
   "metadata": {},
   "outputs": [],
   "source": [
    "#Select the best scoring model from cross-validation\n",
    "regression_models = results['estimator']\n",
    "best_model_score = np.argmax(results['test_score'])\n",
    "model = regression_models[best_model_score]"
   ]
  },
  {
   "cell_type": "markdown",
   "metadata": {},
   "source": [
    "<br>\n",
    "<strong>Accuracy</strong>"
   ]
  },
  {
   "cell_type": "code",
   "execution_count": 178,
   "metadata": {},
   "outputs": [
    {
     "data": {
      "text/plain": [
       "0.7300184918841175"
      ]
     },
     "execution_count": 178,
     "metadata": {},
     "output_type": "execute_result"
    }
   ],
   "source": [
    "#Test the model on the test setprediction = model.predict(X_test)\n",
    "model.score(X_test, y_test)"
   ]
  },
  {
   "cell_type": "code",
   "execution_count": 179,
   "metadata": {},
   "outputs": [],
   "source": [
    "prediction = model.predict(X_test)"
   ]
  },
  {
   "cell_type": "markdown",
   "metadata": {},
   "source": [
    "As you can see, our model is predicting both classes to some degree of success"
   ]
  },
  {
   "cell_type": "code",
   "execution_count": 180,
   "metadata": {},
   "outputs": [
    {
     "data": {
      "text/plain": [
       "array([0, 1])"
      ]
     },
     "execution_count": 180,
     "metadata": {},
     "output_type": "execute_result"
    }
   ],
   "source": [
    "np.unique(prediction) #the prediction is selecting both classes"
   ]
  },
  {
   "cell_type": "markdown",
   "metadata": {},
   "source": [
    "<br>\n",
    "<strong>ROC of AUC </strong>"
   ]
  },
  {
   "cell_type": "code",
   "execution_count": 181,
   "metadata": {},
   "outputs": [
    {
     "data": {
      "text/plain": [
       "0.9997662475788481"
      ]
     },
     "execution_count": 181,
     "metadata": {},
     "output_type": "execute_result"
    }
   ],
   "source": [
    "from sklearn.metrics import roc_auc_score\n",
    "from sklearn.calibration import CalibratedClassifierCV\n",
    "\n",
    "model = CalibratedClassifierCV(model)\n",
    "model.fit(X_test, y_test)\n",
    "\n",
    "# generate the ROC\n",
    "probability = model.predict_proba(X_test)\n",
    "probability_class_1 = [p[1] for p in probability]\n",
    "\n",
    "roc_auc_score(y_test, probability_class_1)"
   ]
  },
  {
   "cell_type": "markdown",
   "metadata": {},
   "source": [
    "<br>\n",
    "<strong>F1 Score </strong>"
   ]
  },
  {
   "cell_type": "code",
   "execution_count": 182,
   "metadata": {},
   "outputs": [
    {
     "data": {
      "text/plain": [
       "0.44439746300211413"
      ]
     },
     "execution_count": 182,
     "metadata": {},
     "output_type": "execute_result"
    }
   ],
   "source": [
    "from sklearn.metrics import f1_score\n",
    "\n",
    "f1_score(y_test, prediction)"
   ]
  },
  {
   "cell_type": "markdown",
   "metadata": {},
   "source": [
    "<br>\n"
   ]
  },
  {
   "cell_type": "markdown",
   "metadata": {},
   "source": [
    "## RandomForest Classifier with over sampling"
   ]
  },
  {
   "cell_type": "code",
   "execution_count": 183,
   "metadata": {},
   "outputs": [
    {
     "data": {
      "text/plain": [
       "{'fit_time': array([16.2805717 , 16.17411733, 16.16124105]),\n",
       " 'score_time': array([1.49397445, 1.50537705, 1.49204302]),\n",
       " 'estimator': (RandomForestClassifier(),\n",
       "  RandomForestClassifier(),\n",
       "  RandomForestClassifier()),\n",
       " 'test_score': array([0.85856243, 0.86316011, 0.85599062]),\n",
       " 'train_score': array([0.992132  , 0.99232974, 0.99250107])}"
      ]
     },
     "execution_count": 183,
     "metadata": {},
     "output_type": "execute_result"
    }
   ],
   "source": [
    "random_forest = RandomForestClassifier()\n",
    "\n",
    "# k-fold\n",
    "results = cross_validate(random_forest, oversampled_X_train, oversampled_y_train, cv=3, return_estimator=True , return_train_score = True)\n",
    "results"
   ]
  },
  {
   "cell_type": "code",
   "execution_count": 184,
   "metadata": {},
   "outputs": [],
   "source": [
    "#Select the best scoring model from cross-validation\n",
    "regression_models = results['estimator']\n",
    "best_model_score = np.argmax(results['test_score'])\n",
    "model = regression_models[best_model_score]"
   ]
  },
  {
   "cell_type": "markdown",
   "metadata": {},
   "source": [
    "<br>\n",
    "<strong>Accuracy</strong>"
   ]
  },
  {
   "cell_type": "code",
   "execution_count": 185,
   "metadata": {},
   "outputs": [
    {
     "data": {
      "text/plain": [
       "0.6835833162112184"
      ]
     },
     "execution_count": 185,
     "metadata": {},
     "output_type": "execute_result"
    }
   ],
   "source": [
    "#Test the model on the test set\n",
    "model.score(X_test, y_test)"
   ]
  },
  {
   "cell_type": "code",
   "execution_count": 186,
   "metadata": {},
   "outputs": [],
   "source": [
    "prediction = model.predict(X_test)"
   ]
  },
  {
   "cell_type": "markdown",
   "metadata": {},
   "source": [
    "As you can see, our model is predicting both classes to some degree of success"
   ]
  },
  {
   "cell_type": "code",
   "execution_count": 187,
   "metadata": {},
   "outputs": [
    {
     "data": {
      "text/plain": [
       "array([0., 1.])"
      ]
     },
     "execution_count": 187,
     "metadata": {},
     "output_type": "execute_result"
    }
   ],
   "source": [
    "np.unique(prediction) #the prediction is selecting both classes"
   ]
  },
  {
   "cell_type": "markdown",
   "metadata": {},
   "source": [
    "<br>\n",
    "<strong>ROC of AUC </strong>"
   ]
  },
  {
   "cell_type": "code",
   "execution_count": 188,
   "metadata": {},
   "outputs": [
    {
     "data": {
      "text/plain": [
       "0.9997734532091882"
      ]
     },
     "execution_count": 188,
     "metadata": {},
     "output_type": "execute_result"
    }
   ],
   "source": [
    "from sklearn.metrics import roc_auc_score\n",
    "from sklearn.calibration import CalibratedClassifierCV\n",
    "\n",
    "model = CalibratedClassifierCV(model)\n",
    "model.fit(X_test, y_test)\n",
    "\n",
    "# generate the ROC\n",
    "probability = model.predict_proba(X_test)\n",
    "probability_class_1 = [p[1] for p in probability]\n",
    "\n",
    "roc_auc_score(y_test, probability_class_1)"
   ]
  },
  {
   "cell_type": "markdown",
   "metadata": {},
   "source": [
    "<br>\n",
    "<strong>F1 Score </strong>"
   ]
  },
  {
   "cell_type": "code",
   "execution_count": 189,
   "metadata": {},
   "outputs": [
    {
     "data": {
      "text/plain": [
       "0.4954128440366972"
      ]
     },
     "execution_count": 189,
     "metadata": {},
     "output_type": "execute_result"
    }
   ],
   "source": [
    "from sklearn.metrics import f1_score\n",
    "\n",
    "f1_score(y_test, prediction)"
   ]
  },
  {
   "cell_type": "markdown",
   "metadata": {},
   "source": [
    "## Gradient Boosting Classifier"
   ]
  },
  {
   "cell_type": "code",
   "execution_count": 190,
   "metadata": {},
   "outputs": [
    {
     "data": {
      "text/plain": [
       "{'fit_time': array([16.05677581, 15.95720506, 15.90672565]),\n",
       " 'score_time': array([0.06158686, 0.06054211, 0.06377387]),\n",
       " 'estimator': (GradientBoostingClassifier(),\n",
       "  GradientBoostingClassifier(),\n",
       "  GradientBoostingClassifier()),\n",
       " 'test_score': array([0.75605287, 0.75449471, 0.75368572]),\n",
       " 'train_score': array([0.75541724, 0.75652166, 0.75617273])}"
      ]
     },
     "execution_count": 190,
     "metadata": {},
     "output_type": "execute_result"
    }
   ],
   "source": [
    "from sklearn.ensemble import GradientBoostingClassifier\n",
    "\n",
    "gradient_classifier = GradientBoostingClassifier()\n",
    "\n",
    "# k-fold\n",
    "results = cross_validate(gradient_classifier, X_train, y_train, cv=3, return_estimator=True , return_train_score = True)\n",
    "results"
   ]
  },
  {
   "cell_type": "code",
   "execution_count": 191,
   "metadata": {},
   "outputs": [],
   "source": [
    "#Select the best scoring model from cross-validation\n",
    "regression_models = results['estimator']\n",
    "best_model_score = np.argmax(results['test_score'])\n",
    "model = regression_models[best_model_score]"
   ]
  },
  {
   "cell_type": "markdown",
   "metadata": {},
   "source": [
    "<br>\n",
    "<strong>Accuracy</strong>"
   ]
  },
  {
   "cell_type": "code",
   "execution_count": 192,
   "metadata": {},
   "outputs": [
    {
     "data": {
      "text/plain": [
       "0.7563180604068215"
      ]
     },
     "execution_count": 192,
     "metadata": {},
     "output_type": "execute_result"
    }
   ],
   "source": [
    "#Test the model on the test set\n",
    "model.score(X_test, y_test)"
   ]
  },
  {
   "cell_type": "code",
   "execution_count": 193,
   "metadata": {},
   "outputs": [],
   "source": [
    "prediction = model.predict(X_test)"
   ]
  },
  {
   "cell_type": "markdown",
   "metadata": {},
   "source": [
    "As you can see, our model is predicting both classes to some degree of success"
   ]
  },
  {
   "cell_type": "code",
   "execution_count": 194,
   "metadata": {},
   "outputs": [
    {
     "data": {
      "text/plain": [
       "array([0, 1])"
      ]
     },
     "execution_count": 194,
     "metadata": {},
     "output_type": "execute_result"
    }
   ],
   "source": [
    "np.unique(prediction) #the prediction is selecting both classes"
   ]
  },
  {
   "cell_type": "markdown",
   "metadata": {},
   "source": [
    "<br>\n",
    "<strong>ROC of AUC </strong>"
   ]
  },
  {
   "cell_type": "code",
   "execution_count": 195,
   "metadata": {},
   "outputs": [
    {
     "data": {
      "text/plain": [
       "0.7589945420452773"
      ]
     },
     "execution_count": 195,
     "metadata": {},
     "output_type": "execute_result"
    }
   ],
   "source": [
    "from sklearn.metrics import roc_auc_score\n",
    "from sklearn.calibration import CalibratedClassifierCV\n",
    "\n",
    "model = CalibratedClassifierCV(model)\n",
    "model.fit(X_test, y_test)\n",
    "\n",
    "# generate the ROC\n",
    "probability = model.predict_proba(X_test)\n",
    "probability_class_1 = [p[1] for p in probability]\n",
    "\n",
    "roc_auc_score(y_test, probability_class_1)"
   ]
  },
  {
   "cell_type": "markdown",
   "metadata": {},
   "source": [
    "<br>\n",
    "<strong>F1 Score </strong>"
   ]
  },
  {
   "cell_type": "code",
   "execution_count": 196,
   "metadata": {},
   "outputs": [
    {
     "data": {
      "text/plain": [
       "0.37889499869075677"
      ]
     },
     "execution_count": 196,
     "metadata": {},
     "output_type": "execute_result"
    }
   ],
   "source": [
    "from sklearn.metrics import f1_score\n",
    "\n",
    "f1_score(y_test, prediction)"
   ]
  },
  {
   "cell_type": "markdown",
   "metadata": {},
   "source": [
    "<br>"
   ]
  },
  {
   "cell_type": "markdown",
   "metadata": {},
   "source": [
    "## Gradient Classifier with Oversampling"
   ]
  },
  {
   "cell_type": "code",
   "execution_count": 197,
   "metadata": {},
   "outputs": [
    {
     "data": {
      "text/plain": [
       "{'fit_time': array([22.5060184 , 22.61536407, 23.06629014]),\n",
       " 'score_time': array([0.0880177 , 0.08754945, 0.08941317]),\n",
       " 'estimator': (GradientBoostingClassifier(),\n",
       "  GradientBoostingClassifier(),\n",
       "  GradientBoostingClassifier()),\n",
       " 'test_score': array([0.6755186 , 0.67858508, 0.67564611]),\n",
       " 'train_score': array([0.67820288, 0.67823795, 0.67711113])}"
      ]
     },
     "execution_count": 197,
     "metadata": {},
     "output_type": "execute_result"
    }
   ],
   "source": [
    "gradient_classifier = GradientBoostingClassifier()\n",
    "\n",
    "# k-fold\n",
    "results = cross_validate(gradient_classifier, oversampled_X_train, oversampled_y_train, cv=3, return_estimator=True , return_train_score = True)\n",
    "results"
   ]
  },
  {
   "cell_type": "code",
   "execution_count": 198,
   "metadata": {},
   "outputs": [],
   "source": [
    "#Select the best scoring model from cross-validation\n",
    "regression_models = results['estimator']\n",
    "best_model_score = np.argmax(results['test_score'])\n",
    "model = regression_models[best_model_score]"
   ]
  },
  {
   "cell_type": "markdown",
   "metadata": {},
   "source": [
    "<br>\n",
    "<strong>Accuracy</strong>"
   ]
  },
  {
   "cell_type": "code",
   "execution_count": 199,
   "metadata": {},
   "outputs": [
    {
     "data": {
      "text/plain": [
       "0.7175364701047874"
      ]
     },
     "execution_count": 199,
     "metadata": {},
     "output_type": "execute_result"
    }
   ],
   "source": [
    "#Test the model on the test set\n",
    "model.score(X_test, y_test)"
   ]
  },
  {
   "cell_type": "code",
   "execution_count": 200,
   "metadata": {},
   "outputs": [],
   "source": [
    "prediction = model.predict(X_test)"
   ]
  },
  {
   "cell_type": "markdown",
   "metadata": {},
   "source": [
    "As you can see, our model is predicting both classes to some degree of success"
   ]
  },
  {
   "cell_type": "code",
   "execution_count": 201,
   "metadata": {},
   "outputs": [
    {
     "data": {
      "text/plain": [
       "array([0., 1.])"
      ]
     },
     "execution_count": 201,
     "metadata": {},
     "output_type": "execute_result"
    }
   ],
   "source": [
    "np.unique(prediction) #the prediction is selecting both classes"
   ]
  },
  {
   "cell_type": "markdown",
   "metadata": {},
   "source": [
    "<br>\n",
    "<strong>ROC of AUC </strong>"
   ]
  },
  {
   "cell_type": "code",
   "execution_count": 202,
   "metadata": {},
   "outputs": [
    {
     "data": {
      "text/plain": [
       "0.7589878176345379"
      ]
     },
     "execution_count": 202,
     "metadata": {},
     "output_type": "execute_result"
    }
   ],
   "source": [
    "from sklearn.metrics import roc_auc_score\n",
    "from sklearn.calibration import CalibratedClassifierCV\n",
    "\n",
    "model = CalibratedClassifierCV(model)\n",
    "model.fit(X_test, y_test)\n",
    "\n",
    "# generate the ROC\n",
    "probability = model.predict_proba(X_test)\n",
    "probability_class_1 = [p[1] for p in probability]\n",
    "\n",
    "roc_auc_score(y_test, probability_class_1)"
   ]
  },
  {
   "cell_type": "markdown",
   "metadata": {},
   "source": [
    "<br>\n",
    "<strong>F1 Score </strong>"
   ]
  },
  {
   "cell_type": "code",
   "execution_count": 203,
   "metadata": {},
   "outputs": [
    {
     "data": {
      "text/plain": [
       "0.5398711404903356"
      ]
     },
     "execution_count": 203,
     "metadata": {},
     "output_type": "execute_result"
    }
   ],
   "source": [
    "from sklearn.metrics import f1_score\n",
    "\n",
    "f1_score(y_test, prediction)"
   ]
  },
  {
   "cell_type": "markdown",
   "metadata": {},
   "source": [
    "<br>"
   ]
  },
  {
   "cell_type": "markdown",
   "metadata": {},
   "source": [
    "## Simple GradientBoosting Classifier"
   ]
  },
  {
   "cell_type": "code",
   "execution_count": 204,
   "metadata": {},
   "outputs": [
    {
     "data": {
      "text/plain": [
       "0.7566262584754468"
      ]
     },
     "execution_count": 204,
     "metadata": {},
     "output_type": "execute_result"
    }
   ],
   "source": [
    "gradient_classifier = GradientBoostingClassifier()\n",
    "\n",
    "model = gradient_classifier.fit(X_train, y_train)\n",
    "\n",
    "model.score(X_test, y_test)"
   ]
  },
  {
   "cell_type": "markdown",
   "metadata": {},
   "source": [
    "<br>\n",
    "<strong>Accuracy</strong>"
   ]
  },
  {
   "cell_type": "code",
   "execution_count": 205,
   "metadata": {},
   "outputs": [
    {
     "data": {
      "text/plain": [
       "0.7566262584754468"
      ]
     },
     "execution_count": 205,
     "metadata": {},
     "output_type": "execute_result"
    }
   ],
   "source": [
    "#Test the model on the test set\n",
    "model.score(X_test, y_test)"
   ]
  },
  {
   "cell_type": "code",
   "execution_count": 206,
   "metadata": {},
   "outputs": [],
   "source": [
    "prediction = model.predict(X_test)"
   ]
  },
  {
   "cell_type": "markdown",
   "metadata": {},
   "source": [
    "As you can see, our model is predicting both classes to some degree of success"
   ]
  },
  {
   "cell_type": "code",
   "execution_count": 207,
   "metadata": {},
   "outputs": [
    {
     "data": {
      "text/plain": [
       "array([0, 1])"
      ]
     },
     "execution_count": 207,
     "metadata": {},
     "output_type": "execute_result"
    }
   ],
   "source": [
    "np.unique(prediction) #the prediction is selecting both classes"
   ]
  },
  {
   "cell_type": "markdown",
   "metadata": {},
   "source": [
    "<br>\n",
    "<strong>ROC of AUC </strong>"
   ]
  },
  {
   "cell_type": "code",
   "execution_count": 208,
   "metadata": {},
   "outputs": [
    {
     "data": {
      "text/plain": [
       "0.7589889573651718"
      ]
     },
     "execution_count": 208,
     "metadata": {},
     "output_type": "execute_result"
    }
   ],
   "source": [
    "from sklearn.metrics import roc_auc_score\n",
    "from sklearn.calibration import CalibratedClassifierCV\n",
    "\n",
    "model = CalibratedClassifierCV(model)\n",
    "model.fit(X_test, y_test)\n",
    "\n",
    "# generate the ROC\n",
    "probability = model.predict_proba(X_test)\n",
    "probability_class_1 = [p[1] for p in probability]\n",
    "\n",
    "roc_auc_score(y_test, probability_class_1)"
   ]
  },
  {
   "cell_type": "markdown",
   "metadata": {},
   "source": [
    "<br>\n",
    "<strong>F1 Score </strong>"
   ]
  },
  {
   "cell_type": "code",
   "execution_count": 209,
   "metadata": {},
   "outputs": [
    {
     "data": {
      "text/plain": [
       "0.38000523423187643"
      ]
     },
     "execution_count": 209,
     "metadata": {},
     "output_type": "execute_result"
    }
   ],
   "source": [
    "from sklearn.metrics import f1_score\n",
    "\n",
    "f1_score(y_test, prediction)"
   ]
  },
  {
   "cell_type": "code",
   "execution_count": null,
   "metadata": {},
   "outputs": [],
   "source": []
  },
  {
   "cell_type": "code",
   "execution_count": 210,
   "metadata": {},
   "outputs": [
    {
     "data": {
      "text/html": [
       "<div>\n",
       "<style scoped>\n",
       "    .dataframe tbody tr th:only-of-type {\n",
       "        vertical-align: middle;\n",
       "    }\n",
       "\n",
       "    .dataframe tbody tr th {\n",
       "        vertical-align: top;\n",
       "    }\n",
       "\n",
       "    .dataframe thead th {\n",
       "        text-align: right;\n",
       "    }\n",
       "</style>\n",
       "<table border=\"1\" class=\"dataframe\">\n",
       "  <thead>\n",
       "    <tr style=\"text-align: right;\">\n",
       "      <th></th>\n",
       "      <th>X</th>\n",
       "      <th>Y</th>\n",
       "      <th>Vehicles Involved</th>\n",
       "      <th>Persons Involved</th>\n",
       "      <th>Bicycle Involved</th>\n",
       "      <th>Pedestrians Involved</th>\n",
       "      <th>road_condition_Fair</th>\n",
       "      <th>road_condition_Hazardous</th>\n",
       "      <th>weather_condition_Clear</th>\n",
       "      <th>weather_condition_Inclement</th>\n",
       "      <th>...</th>\n",
       "      <th>month_of_year_November</th>\n",
       "      <th>month_of_year_October</th>\n",
       "      <th>month_of_year_September</th>\n",
       "      <th>day_of_the_week_Friday</th>\n",
       "      <th>day_of_the_week_Monday</th>\n",
       "      <th>day_of_the_week_Saturday</th>\n",
       "      <th>day_of_the_week_Sunday</th>\n",
       "      <th>day_of_the_week_Thursday</th>\n",
       "      <th>day_of_the_week_Tuesday</th>\n",
       "      <th>day_of_the_week_Wednesday</th>\n",
       "    </tr>\n",
       "  </thead>\n",
       "  <tbody>\n",
       "    <tr>\n",
       "      <th>X</th>\n",
       "      <td>1.000000</td>\n",
       "      <td>-0.160262</td>\n",
       "      <td>-0.012168</td>\n",
       "      <td>0.012887</td>\n",
       "      <td>-0.001752</td>\n",
       "      <td>0.011304</td>\n",
       "      <td>-0.010777</td>\n",
       "      <td>0.010777</td>\n",
       "      <td>-0.003662</td>\n",
       "      <td>0.003662</td>\n",
       "      <td>...</td>\n",
       "      <td>-0.000226</td>\n",
       "      <td>0.001309</td>\n",
       "      <td>0.005414</td>\n",
       "      <td>0.000743</td>\n",
       "      <td>0.004197</td>\n",
       "      <td>-0.006768</td>\n",
       "      <td>-0.006821</td>\n",
       "      <td>0.005308</td>\n",
       "      <td>0.000539</td>\n",
       "      <td>0.001999</td>\n",
       "    </tr>\n",
       "    <tr>\n",
       "      <th>Y</th>\n",
       "      <td>-0.160262</td>\n",
       "      <td>1.000000</td>\n",
       "      <td>0.017058</td>\n",
       "      <td>-0.013850</td>\n",
       "      <td>0.026304</td>\n",
       "      <td>0.010178</td>\n",
       "      <td>0.010950</td>\n",
       "      <td>-0.010950</td>\n",
       "      <td>0.011823</td>\n",
       "      <td>-0.011823</td>\n",
       "      <td>...</td>\n",
       "      <td>0.002564</td>\n",
       "      <td>0.009267</td>\n",
       "      <td>-0.000789</td>\n",
       "      <td>0.000238</td>\n",
       "      <td>0.000485</td>\n",
       "      <td>0.001671</td>\n",
       "      <td>-0.010709</td>\n",
       "      <td>0.003658</td>\n",
       "      <td>0.000407</td>\n",
       "      <td>0.003092</td>\n",
       "    </tr>\n",
       "    <tr>\n",
       "      <th>Vehicles Involved</th>\n",
       "      <td>-0.012168</td>\n",
       "      <td>0.017058</td>\n",
       "      <td>1.000000</td>\n",
       "      <td>0.380523</td>\n",
       "      <td>-0.253773</td>\n",
       "      <td>-0.261285</td>\n",
       "      <td>-0.026530</td>\n",
       "      <td>0.026530</td>\n",
       "      <td>-0.021498</td>\n",
       "      <td>0.021498</td>\n",
       "      <td>...</td>\n",
       "      <td>0.001126</td>\n",
       "      <td>0.001345</td>\n",
       "      <td>0.006300</td>\n",
       "      <td>0.001584</td>\n",
       "      <td>-0.005581</td>\n",
       "      <td>0.007041</td>\n",
       "      <td>0.004562</td>\n",
       "      <td>0.002322</td>\n",
       "      <td>-0.006207</td>\n",
       "      <td>-0.003399</td>\n",
       "    </tr>\n",
       "    <tr>\n",
       "      <th>Persons Involved</th>\n",
       "      <td>0.012887</td>\n",
       "      <td>-0.013850</td>\n",
       "      <td>0.380523</td>\n",
       "      <td>1.000000</td>\n",
       "      <td>-0.038809</td>\n",
       "      <td>-0.023464</td>\n",
       "      <td>-0.019050</td>\n",
       "      <td>0.019050</td>\n",
       "      <td>-0.020758</td>\n",
       "      <td>0.020758</td>\n",
       "      <td>...</td>\n",
       "      <td>0.002974</td>\n",
       "      <td>-0.005295</td>\n",
       "      <td>-0.025409</td>\n",
       "      <td>0.002249</td>\n",
       "      <td>-0.019810</td>\n",
       "      <td>0.048160</td>\n",
       "      <td>0.033959</td>\n",
       "      <td>-0.016265</td>\n",
       "      <td>-0.025319</td>\n",
       "      <td>-0.019084</td>\n",
       "    </tr>\n",
       "    <tr>\n",
       "      <th>Bicycle Involved</th>\n",
       "      <td>-0.001752</td>\n",
       "      <td>0.026304</td>\n",
       "      <td>-0.253773</td>\n",
       "      <td>-0.038809</td>\n",
       "      <td>1.000000</td>\n",
       "      <td>-0.016920</td>\n",
       "      <td>0.032381</td>\n",
       "      <td>-0.032381</td>\n",
       "      <td>0.030381</td>\n",
       "      <td>-0.030381</td>\n",
       "      <td>...</td>\n",
       "      <td>-0.012947</td>\n",
       "      <td>0.000165</td>\n",
       "      <td>0.014311</td>\n",
       "      <td>-0.001564</td>\n",
       "      <td>-0.000338</td>\n",
       "      <td>-0.016467</td>\n",
       "      <td>-0.022148</td>\n",
       "      <td>0.009389</td>\n",
       "      <td>0.014680</td>\n",
       "      <td>0.013742</td>\n",
       "    </tr>\n",
       "    <tr>\n",
       "      <th>Pedestrians Involved</th>\n",
       "      <td>0.011304</td>\n",
       "      <td>0.010178</td>\n",
       "      <td>-0.261285</td>\n",
       "      <td>-0.023464</td>\n",
       "      <td>-0.016920</td>\n",
       "      <td>1.000000</td>\n",
       "      <td>-0.025954</td>\n",
       "      <td>0.025954</td>\n",
       "      <td>-0.031659</td>\n",
       "      <td>0.031659</td>\n",
       "      <td>...</td>\n",
       "      <td>0.016174</td>\n",
       "      <td>0.004241</td>\n",
       "      <td>-0.006081</td>\n",
       "      <td>0.003495</td>\n",
       "      <td>0.009006</td>\n",
       "      <td>-0.014703</td>\n",
       "      <td>-0.014292</td>\n",
       "      <td>0.003691</td>\n",
       "      <td>0.005895</td>\n",
       "      <td>0.005201</td>\n",
       "    </tr>\n",
       "    <tr>\n",
       "      <th>road_condition_Fair</th>\n",
       "      <td>-0.010777</td>\n",
       "      <td>0.010950</td>\n",
       "      <td>-0.026530</td>\n",
       "      <td>-0.019050</td>\n",
       "      <td>0.032381</td>\n",
       "      <td>-0.025954</td>\n",
       "      <td>1.000000</td>\n",
       "      <td>-1.000000</td>\n",
       "      <td>0.759250</td>\n",
       "      <td>-0.759250</td>\n",
       "      <td>...</td>\n",
       "      <td>-0.132691</td>\n",
       "      <td>-0.049208</td>\n",
       "      <td>0.069163</td>\n",
       "      <td>-0.003520</td>\n",
       "      <td>0.010306</td>\n",
       "      <td>-0.012337</td>\n",
       "      <td>-0.011033</td>\n",
       "      <td>-0.004712</td>\n",
       "      <td>0.012424</td>\n",
       "      <td>0.008041</td>\n",
       "    </tr>\n",
       "    <tr>\n",
       "      <th>road_condition_Hazardous</th>\n",
       "      <td>0.010777</td>\n",
       "      <td>-0.010950</td>\n",
       "      <td>0.026530</td>\n",
       "      <td>0.019050</td>\n",
       "      <td>-0.032381</td>\n",
       "      <td>0.025954</td>\n",
       "      <td>-1.000000</td>\n",
       "      <td>1.000000</td>\n",
       "      <td>-0.759250</td>\n",
       "      <td>0.759250</td>\n",
       "      <td>...</td>\n",
       "      <td>0.132691</td>\n",
       "      <td>0.049208</td>\n",
       "      <td>-0.069163</td>\n",
       "      <td>0.003520</td>\n",
       "      <td>-0.010306</td>\n",
       "      <td>0.012337</td>\n",
       "      <td>0.011033</td>\n",
       "      <td>0.004712</td>\n",
       "      <td>-0.012424</td>\n",
       "      <td>-0.008041</td>\n",
       "    </tr>\n",
       "    <tr>\n",
       "      <th>weather_condition_Clear</th>\n",
       "      <td>-0.003662</td>\n",
       "      <td>0.011823</td>\n",
       "      <td>-0.021498</td>\n",
       "      <td>-0.020758</td>\n",
       "      <td>0.030381</td>\n",
       "      <td>-0.031659</td>\n",
       "      <td>0.759250</td>\n",
       "      <td>-0.759250</td>\n",
       "      <td>1.000000</td>\n",
       "      <td>-1.000000</td>\n",
       "      <td>...</td>\n",
       "      <td>-0.113494</td>\n",
       "      <td>-0.050519</td>\n",
       "      <td>0.051009</td>\n",
       "      <td>0.000194</td>\n",
       "      <td>0.010591</td>\n",
       "      <td>-0.014218</td>\n",
       "      <td>-0.009518</td>\n",
       "      <td>-0.006061</td>\n",
       "      <td>0.013030</td>\n",
       "      <td>0.005122</td>\n",
       "    </tr>\n",
       "    <tr>\n",
       "      <th>weather_condition_Inclement</th>\n",
       "      <td>0.003662</td>\n",
       "      <td>-0.011823</td>\n",
       "      <td>0.021498</td>\n",
       "      <td>0.020758</td>\n",
       "      <td>-0.030381</td>\n",
       "      <td>0.031659</td>\n",
       "      <td>-0.759250</td>\n",
       "      <td>0.759250</td>\n",
       "      <td>-1.000000</td>\n",
       "      <td>1.000000</td>\n",
       "      <td>...</td>\n",
       "      <td>0.113494</td>\n",
       "      <td>0.050519</td>\n",
       "      <td>-0.051009</td>\n",
       "      <td>-0.000194</td>\n",
       "      <td>-0.010591</td>\n",
       "      <td>0.014218</td>\n",
       "      <td>0.009518</td>\n",
       "      <td>0.006061</td>\n",
       "      <td>-0.013030</td>\n",
       "      <td>-0.005122</td>\n",
       "    </tr>\n",
       "    <tr>\n",
       "      <th>Day</th>\n",
       "      <td>0.020966</td>\n",
       "      <td>0.010685</td>\n",
       "      <td>-0.013148</td>\n",
       "      <td>-0.012638</td>\n",
       "      <td>0.032338</td>\n",
       "      <td>-0.030813</td>\n",
       "      <td>0.185599</td>\n",
       "      <td>-0.185599</td>\n",
       "      <td>0.168458</td>\n",
       "      <td>-0.168458</td>\n",
       "      <td>...</td>\n",
       "      <td>-0.095735</td>\n",
       "      <td>-0.017455</td>\n",
       "      <td>0.033411</td>\n",
       "      <td>0.008422</td>\n",
       "      <td>0.036021</td>\n",
       "      <td>-0.089160</td>\n",
       "      <td>-0.085863</td>\n",
       "      <td>0.025124</td>\n",
       "      <td>0.051867</td>\n",
       "      <td>0.043303</td>\n",
       "    </tr>\n",
       "    <tr>\n",
       "      <th>Night</th>\n",
       "      <td>-0.020966</td>\n",
       "      <td>-0.010685</td>\n",
       "      <td>0.013148</td>\n",
       "      <td>0.012638</td>\n",
       "      <td>-0.032338</td>\n",
       "      <td>0.030813</td>\n",
       "      <td>-0.185599</td>\n",
       "      <td>0.185599</td>\n",
       "      <td>-0.168458</td>\n",
       "      <td>0.168458</td>\n",
       "      <td>...</td>\n",
       "      <td>0.095735</td>\n",
       "      <td>0.017455</td>\n",
       "      <td>-0.033411</td>\n",
       "      <td>-0.008422</td>\n",
       "      <td>-0.036021</td>\n",
       "      <td>0.089160</td>\n",
       "      <td>0.085863</td>\n",
       "      <td>-0.025124</td>\n",
       "      <td>-0.051867</td>\n",
       "      <td>-0.043303</td>\n",
       "    </tr>\n",
       "    <tr>\n",
       "      <th>drunk_driver_related_No</th>\n",
       "      <td>0.031117</td>\n",
       "      <td>0.006764</td>\n",
       "      <td>-0.006609</td>\n",
       "      <td>-0.022420</td>\n",
       "      <td>0.016401</td>\n",
       "      <td>-0.016592</td>\n",
       "      <td>0.022103</td>\n",
       "      <td>-0.022103</td>\n",
       "      <td>0.016544</td>\n",
       "      <td>-0.016544</td>\n",
       "      <td>...</td>\n",
       "      <td>-0.003491</td>\n",
       "      <td>0.001222</td>\n",
       "      <td>0.006688</td>\n",
       "      <td>0.001169</td>\n",
       "      <td>0.026580</td>\n",
       "      <td>-0.050107</td>\n",
       "      <td>-0.055201</td>\n",
       "      <td>0.017052</td>\n",
       "      <td>0.029951</td>\n",
       "      <td>0.024404</td>\n",
       "    </tr>\n",
       "    <tr>\n",
       "      <th>drunk_driver_related_Yes</th>\n",
       "      <td>-0.031117</td>\n",
       "      <td>-0.006764</td>\n",
       "      <td>0.006609</td>\n",
       "      <td>0.022420</td>\n",
       "      <td>-0.016401</td>\n",
       "      <td>0.016592</td>\n",
       "      <td>-0.022103</td>\n",
       "      <td>0.022103</td>\n",
       "      <td>-0.016544</td>\n",
       "      <td>0.016544</td>\n",
       "      <td>...</td>\n",
       "      <td>0.003491</td>\n",
       "      <td>-0.001222</td>\n",
       "      <td>-0.006688</td>\n",
       "      <td>-0.001169</td>\n",
       "      <td>-0.026580</td>\n",
       "      <td>0.050107</td>\n",
       "      <td>0.055201</td>\n",
       "      <td>-0.017052</td>\n",
       "      <td>-0.029951</td>\n",
       "      <td>-0.024404</td>\n",
       "    </tr>\n",
       "    <tr>\n",
       "      <th>Alley</th>\n",
       "      <td>NaN</td>\n",
       "      <td>NaN</td>\n",
       "      <td>-0.024622</td>\n",
       "      <td>-0.025228</td>\n",
       "      <td>-0.006594</td>\n",
       "      <td>0.003809</td>\n",
       "      <td>0.008664</td>\n",
       "      <td>-0.008664</td>\n",
       "      <td>0.008716</td>\n",
       "      <td>-0.008716</td>\n",
       "      <td>...</td>\n",
       "      <td>-0.004147</td>\n",
       "      <td>-0.002459</td>\n",
       "      <td>-0.000969</td>\n",
       "      <td>-0.002390</td>\n",
       "      <td>0.003003</td>\n",
       "      <td>0.000319</td>\n",
       "      <td>0.005319</td>\n",
       "      <td>-0.004894</td>\n",
       "      <td>-0.002146</td>\n",
       "      <td>0.001630</td>\n",
       "    </tr>\n",
       "    <tr>\n",
       "      <th>Block</th>\n",
       "      <td>-0.005886</td>\n",
       "      <td>-0.034444</td>\n",
       "      <td>0.076566</td>\n",
       "      <td>-0.063657</td>\n",
       "      <td>-0.084272</td>\n",
       "      <td>-0.145026</td>\n",
       "      <td>0.037654</td>\n",
       "      <td>-0.037654</td>\n",
       "      <td>0.036572</td>\n",
       "      <td>-0.036572</td>\n",
       "      <td>...</td>\n",
       "      <td>-0.005813</td>\n",
       "      <td>0.003150</td>\n",
       "      <td>0.005548</td>\n",
       "      <td>-0.001630</td>\n",
       "      <td>-0.002820</td>\n",
       "      <td>0.005856</td>\n",
       "      <td>0.010649</td>\n",
       "      <td>-0.000038</td>\n",
       "      <td>-0.004939</td>\n",
       "      <td>-0.005839</td>\n",
       "    </tr>\n",
       "    <tr>\n",
       "      <th>Intersection</th>\n",
       "      <td>0.005886</td>\n",
       "      <td>0.034444</td>\n",
       "      <td>-0.073548</td>\n",
       "      <td>0.067153</td>\n",
       "      <td>0.085377</td>\n",
       "      <td>0.144936</td>\n",
       "      <td>-0.038899</td>\n",
       "      <td>0.038899</td>\n",
       "      <td>-0.037821</td>\n",
       "      <td>0.037821</td>\n",
       "      <td>...</td>\n",
       "      <td>0.006375</td>\n",
       "      <td>-0.002836</td>\n",
       "      <td>-0.005436</td>\n",
       "      <td>0.001949</td>\n",
       "      <td>0.002434</td>\n",
       "      <td>-0.005914</td>\n",
       "      <td>-0.011378</td>\n",
       "      <td>0.000681</td>\n",
       "      <td>0.005235</td>\n",
       "      <td>0.005641</td>\n",
       "    </tr>\n",
       "    <tr>\n",
       "      <th>month_of_year_April</th>\n",
       "      <td>0.001141</td>\n",
       "      <td>-0.000817</td>\n",
       "      <td>0.002129</td>\n",
       "      <td>-0.003560</td>\n",
       "      <td>-0.000742</td>\n",
       "      <td>-0.006556</td>\n",
       "      <td>0.022710</td>\n",
       "      <td>-0.022710</td>\n",
       "      <td>0.010718</td>\n",
       "      <td>-0.010718</td>\n",
       "      <td>...</td>\n",
       "      <td>-0.091244</td>\n",
       "      <td>-0.094766</td>\n",
       "      <td>-0.089067</td>\n",
       "      <td>0.006901</td>\n",
       "      <td>-0.000204</td>\n",
       "      <td>0.007375</td>\n",
       "      <td>-0.001715</td>\n",
       "      <td>0.001528</td>\n",
       "      <td>-0.010884</td>\n",
       "      <td>-0.003427</td>\n",
       "    </tr>\n",
       "    <tr>\n",
       "      <th>month_of_year_August</th>\n",
       "      <td>-0.000332</td>\n",
       "      <td>-0.004117</td>\n",
       "      <td>0.006906</td>\n",
       "      <td>-0.002155</td>\n",
       "      <td>0.017985</td>\n",
       "      <td>-0.011253</td>\n",
       "      <td>0.127136</td>\n",
       "      <td>-0.127136</td>\n",
       "      <td>0.097301</td>\n",
       "      <td>-0.097301</td>\n",
       "      <td>...</td>\n",
       "      <td>-0.092229</td>\n",
       "      <td>-0.095790</td>\n",
       "      <td>-0.090029</td>\n",
       "      <td>-0.004166</td>\n",
       "      <td>0.004081</td>\n",
       "      <td>-0.003292</td>\n",
       "      <td>-0.000577</td>\n",
       "      <td>-0.002422</td>\n",
       "      <td>0.000608</td>\n",
       "      <td>0.006010</td>\n",
       "    </tr>\n",
       "    <tr>\n",
       "      <th>month_of_year_December</th>\n",
       "      <td>-0.000642</td>\n",
       "      <td>0.001684</td>\n",
       "      <td>-0.006652</td>\n",
       "      <td>0.004243</td>\n",
       "      <td>-0.017697</td>\n",
       "      <td>0.019096</td>\n",
       "      <td>-0.125801</td>\n",
       "      <td>0.125801</td>\n",
       "      <td>-0.080257</td>\n",
       "      <td>0.080257</td>\n",
       "      <td>...</td>\n",
       "      <td>-0.089890</td>\n",
       "      <td>-0.093360</td>\n",
       "      <td>-0.087746</td>\n",
       "      <td>0.000721</td>\n",
       "      <td>0.003261</td>\n",
       "      <td>0.000378</td>\n",
       "      <td>-0.001027</td>\n",
       "      <td>0.004420</td>\n",
       "      <td>-0.001942</td>\n",
       "      <td>-0.005872</td>\n",
       "    </tr>\n",
       "    <tr>\n",
       "      <th>month_of_year_Feburary</th>\n",
       "      <td>-0.000903</td>\n",
       "      <td>-0.000955</td>\n",
       "      <td>-0.029651</td>\n",
       "      <td>-0.010376</td>\n",
       "      <td>-0.013786</td>\n",
       "      <td>0.006497</td>\n",
       "      <td>-0.037197</td>\n",
       "      <td>0.037197</td>\n",
       "      <td>-0.019802</td>\n",
       "      <td>0.019802</td>\n",
       "      <td>...</td>\n",
       "      <td>-0.086209</td>\n",
       "      <td>-0.089537</td>\n",
       "      <td>-0.084152</td>\n",
       "      <td>0.000738</td>\n",
       "      <td>-0.002117</td>\n",
       "      <td>0.000872</td>\n",
       "      <td>-0.001669</td>\n",
       "      <td>-0.000472</td>\n",
       "      <td>-0.003042</td>\n",
       "      <td>0.005408</td>\n",
       "    </tr>\n",
       "    <tr>\n",
       "      <th>month_of_year_January</th>\n",
       "      <td>0.000782</td>\n",
       "      <td>-0.001973</td>\n",
       "      <td>-0.009676</td>\n",
       "      <td>0.000416</td>\n",
       "      <td>-0.016657</td>\n",
       "      <td>0.019844</td>\n",
       "      <td>-0.137814</td>\n",
       "      <td>0.137814</td>\n",
       "      <td>-0.090799</td>\n",
       "      <td>0.090799</td>\n",
       "      <td>...</td>\n",
       "      <td>-0.092572</td>\n",
       "      <td>-0.096146</td>\n",
       "      <td>-0.090363</td>\n",
       "      <td>0.000744</td>\n",
       "      <td>-0.005123</td>\n",
       "      <td>-0.007250</td>\n",
       "      <td>-0.006744</td>\n",
       "      <td>0.007888</td>\n",
       "      <td>0.010051</td>\n",
       "      <td>-0.000698</td>\n",
       "    </tr>\n",
       "    <tr>\n",
       "      <th>month_of_year_July</th>\n",
       "      <td>-0.006591</td>\n",
       "      <td>-0.001718</td>\n",
       "      <td>0.006464</td>\n",
       "      <td>0.014998</td>\n",
       "      <td>0.018180</td>\n",
       "      <td>-0.011561</td>\n",
       "      <td>0.139505</td>\n",
       "      <td>-0.139505</td>\n",
       "      <td>0.109540</td>\n",
       "      <td>-0.109540</td>\n",
       "      <td>...</td>\n",
       "      <td>-0.092439</td>\n",
       "      <td>-0.096008</td>\n",
       "      <td>-0.090234</td>\n",
       "      <td>-0.000243</td>\n",
       "      <td>-0.002703</td>\n",
       "      <td>-0.005925</td>\n",
       "      <td>0.001843</td>\n",
       "      <td>0.000676</td>\n",
       "      <td>0.004166</td>\n",
       "      <td>0.002188</td>\n",
       "    </tr>\n",
       "    <tr>\n",
       "      <th>month_of_year_June</th>\n",
       "      <td>-0.001020</td>\n",
       "      <td>0.002987</td>\n",
       "      <td>0.014072</td>\n",
       "      <td>0.014398</td>\n",
       "      <td>0.007112</td>\n",
       "      <td>-0.015353</td>\n",
       "      <td>0.092606</td>\n",
       "      <td>-0.092606</td>\n",
       "      <td>0.069833</td>\n",
       "      <td>-0.069833</td>\n",
       "      <td>...</td>\n",
       "      <td>-0.093061</td>\n",
       "      <td>-0.096653</td>\n",
       "      <td>-0.090841</td>\n",
       "      <td>0.002799</td>\n",
       "      <td>-0.002221</td>\n",
       "      <td>0.001180</td>\n",
       "      <td>0.002427</td>\n",
       "      <td>0.000907</td>\n",
       "      <td>-0.001094</td>\n",
       "      <td>-0.003937</td>\n",
       "    </tr>\n",
       "    <tr>\n",
       "      <th>month_of_year_March</th>\n",
       "      <td>0.001518</td>\n",
       "      <td>-0.005584</td>\n",
       "      <td>0.008364</td>\n",
       "      <td>-0.001764</td>\n",
       "      <td>-0.011405</td>\n",
       "      <td>-0.003835</td>\n",
       "      <td>-0.035476</td>\n",
       "      <td>0.035476</td>\n",
       "      <td>-0.029536</td>\n",
       "      <td>0.029536</td>\n",
       "      <td>...</td>\n",
       "      <td>-0.091778</td>\n",
       "      <td>-0.095321</td>\n",
       "      <td>-0.089588</td>\n",
       "      <td>0.000834</td>\n",
       "      <td>-0.000816</td>\n",
       "      <td>0.000151</td>\n",
       "      <td>-0.003555</td>\n",
       "      <td>0.004753</td>\n",
       "      <td>-0.003000</td>\n",
       "      <td>0.001133</td>\n",
       "    </tr>\n",
       "    <tr>\n",
       "      <th>month_of_year_May</th>\n",
       "      <td>-0.000462</td>\n",
       "      <td>-0.000970</td>\n",
       "      <td>-0.002497</td>\n",
       "      <td>0.010613</td>\n",
       "      <td>0.014337</td>\n",
       "      <td>-0.010680</td>\n",
       "      <td>0.064879</td>\n",
       "      <td>-0.064879</td>\n",
       "      <td>0.045675</td>\n",
       "      <td>-0.045675</td>\n",
       "      <td>...</td>\n",
       "      <td>-0.093664</td>\n",
       "      <td>-0.097280</td>\n",
       "      <td>-0.091430</td>\n",
       "      <td>-0.001237</td>\n",
       "      <td>-0.002245</td>\n",
       "      <td>0.002769</td>\n",
       "      <td>0.000549</td>\n",
       "      <td>-0.003842</td>\n",
       "      <td>0.001350</td>\n",
       "      <td>0.002784</td>\n",
       "    </tr>\n",
       "    <tr>\n",
       "      <th>month_of_year_November</th>\n",
       "      <td>-0.000226</td>\n",
       "      <td>0.002564</td>\n",
       "      <td>0.001126</td>\n",
       "      <td>0.002974</td>\n",
       "      <td>-0.012947</td>\n",
       "      <td>0.016174</td>\n",
       "      <td>-0.132691</td>\n",
       "      <td>0.132691</td>\n",
       "      <td>-0.113494</td>\n",
       "      <td>0.113494</td>\n",
       "      <td>...</td>\n",
       "      <td>1.000000</td>\n",
       "      <td>-0.096705</td>\n",
       "      <td>-0.090889</td>\n",
       "      <td>-0.006877</td>\n",
       "      <td>0.008585</td>\n",
       "      <td>-0.001321</td>\n",
       "      <td>0.001507</td>\n",
       "      <td>-0.005802</td>\n",
       "      <td>0.003778</td>\n",
       "      <td>0.000971</td>\n",
       "    </tr>\n",
       "    <tr>\n",
       "      <th>month_of_year_October</th>\n",
       "      <td>0.001309</td>\n",
       "      <td>0.009267</td>\n",
       "      <td>0.001345</td>\n",
       "      <td>-0.005295</td>\n",
       "      <td>0.000165</td>\n",
       "      <td>0.004241</td>\n",
       "      <td>-0.049208</td>\n",
       "      <td>0.049208</td>\n",
       "      <td>-0.050519</td>\n",
       "      <td>0.050519</td>\n",
       "      <td>...</td>\n",
       "      <td>-0.096705</td>\n",
       "      <td>1.000000</td>\n",
       "      <td>-0.094398</td>\n",
       "      <td>0.001818</td>\n",
       "      <td>0.003760</td>\n",
       "      <td>0.005447</td>\n",
       "      <td>0.002884</td>\n",
       "      <td>-0.009346</td>\n",
       "      <td>-0.003496</td>\n",
       "      <td>-0.000533</td>\n",
       "    </tr>\n",
       "    <tr>\n",
       "      <th>month_of_year_September</th>\n",
       "      <td>0.005414</td>\n",
       "      <td>-0.000789</td>\n",
       "      <td>0.006300</td>\n",
       "      <td>-0.025409</td>\n",
       "      <td>0.014311</td>\n",
       "      <td>-0.006081</td>\n",
       "      <td>0.069163</td>\n",
       "      <td>-0.069163</td>\n",
       "      <td>0.051009</td>\n",
       "      <td>-0.051009</td>\n",
       "      <td>...</td>\n",
       "      <td>-0.090889</td>\n",
       "      <td>-0.094398</td>\n",
       "      <td>1.000000</td>\n",
       "      <td>-0.001959</td>\n",
       "      <td>-0.004518</td>\n",
       "      <td>-0.000483</td>\n",
       "      <td>0.005869</td>\n",
       "      <td>0.002277</td>\n",
       "      <td>0.003288</td>\n",
       "      <td>-0.003922</td>\n",
       "    </tr>\n",
       "    <tr>\n",
       "      <th>day_of_the_week_Friday</th>\n",
       "      <td>0.000743</td>\n",
       "      <td>0.000238</td>\n",
       "      <td>0.001584</td>\n",
       "      <td>0.002249</td>\n",
       "      <td>-0.001564</td>\n",
       "      <td>0.003495</td>\n",
       "      <td>-0.003520</td>\n",
       "      <td>0.003520</td>\n",
       "      <td>0.000194</td>\n",
       "      <td>-0.000194</td>\n",
       "      <td>...</td>\n",
       "      <td>-0.006877</td>\n",
       "      <td>0.001818</td>\n",
       "      <td>-0.001959</td>\n",
       "      <td>1.000000</td>\n",
       "      <td>-0.176528</td>\n",
       "      <td>-0.180581</td>\n",
       "      <td>-0.159114</td>\n",
       "      <td>-0.187941</td>\n",
       "      <td>-0.185034</td>\n",
       "      <td>-0.185876</td>\n",
       "    </tr>\n",
       "    <tr>\n",
       "      <th>day_of_the_week_Monday</th>\n",
       "      <td>0.004197</td>\n",
       "      <td>0.000485</td>\n",
       "      <td>-0.005581</td>\n",
       "      <td>-0.019810</td>\n",
       "      <td>-0.000338</td>\n",
       "      <td>0.009006</td>\n",
       "      <td>0.010306</td>\n",
       "      <td>-0.010306</td>\n",
       "      <td>0.010591</td>\n",
       "      <td>-0.010591</td>\n",
       "      <td>...</td>\n",
       "      <td>0.008585</td>\n",
       "      <td>0.003760</td>\n",
       "      <td>-0.004518</td>\n",
       "      <td>-0.176528</td>\n",
       "      <td>1.000000</td>\n",
       "      <td>-0.160053</td>\n",
       "      <td>-0.141027</td>\n",
       "      <td>-0.166577</td>\n",
       "      <td>-0.164001</td>\n",
       "      <td>-0.164747</td>\n",
       "    </tr>\n",
       "    <tr>\n",
       "      <th>day_of_the_week_Saturday</th>\n",
       "      <td>-0.006768</td>\n",
       "      <td>0.001671</td>\n",
       "      <td>0.007041</td>\n",
       "      <td>0.048160</td>\n",
       "      <td>-0.016467</td>\n",
       "      <td>-0.014703</td>\n",
       "      <td>-0.012337</td>\n",
       "      <td>0.012337</td>\n",
       "      <td>-0.014218</td>\n",
       "      <td>0.014218</td>\n",
       "      <td>...</td>\n",
       "      <td>-0.001321</td>\n",
       "      <td>0.005447</td>\n",
       "      <td>-0.000483</td>\n",
       "      <td>-0.180581</td>\n",
       "      <td>-0.160053</td>\n",
       "      <td>1.000000</td>\n",
       "      <td>-0.144264</td>\n",
       "      <td>-0.170401</td>\n",
       "      <td>-0.167765</td>\n",
       "      <td>-0.168529</td>\n",
       "    </tr>\n",
       "    <tr>\n",
       "      <th>day_of_the_week_Sunday</th>\n",
       "      <td>-0.006821</td>\n",
       "      <td>-0.010709</td>\n",
       "      <td>0.004562</td>\n",
       "      <td>0.033959</td>\n",
       "      <td>-0.022148</td>\n",
       "      <td>-0.014292</td>\n",
       "      <td>-0.011033</td>\n",
       "      <td>0.011033</td>\n",
       "      <td>-0.009518</td>\n",
       "      <td>0.009518</td>\n",
       "      <td>...</td>\n",
       "      <td>0.001507</td>\n",
       "      <td>0.002884</td>\n",
       "      <td>0.005869</td>\n",
       "      <td>-0.159114</td>\n",
       "      <td>-0.141027</td>\n",
       "      <td>-0.144264</td>\n",
       "      <td>1.000000</td>\n",
       "      <td>-0.150144</td>\n",
       "      <td>-0.147822</td>\n",
       "      <td>-0.148495</td>\n",
       "    </tr>\n",
       "    <tr>\n",
       "      <th>day_of_the_week_Thursday</th>\n",
       "      <td>0.005308</td>\n",
       "      <td>0.003658</td>\n",
       "      <td>0.002322</td>\n",
       "      <td>-0.016265</td>\n",
       "      <td>0.009389</td>\n",
       "      <td>0.003691</td>\n",
       "      <td>-0.004712</td>\n",
       "      <td>0.004712</td>\n",
       "      <td>-0.006061</td>\n",
       "      <td>0.006061</td>\n",
       "      <td>...</td>\n",
       "      <td>-0.005802</td>\n",
       "      <td>-0.009346</td>\n",
       "      <td>0.002277</td>\n",
       "      <td>-0.187941</td>\n",
       "      <td>-0.166577</td>\n",
       "      <td>-0.170401</td>\n",
       "      <td>-0.150144</td>\n",
       "      <td>1.000000</td>\n",
       "      <td>-0.174603</td>\n",
       "      <td>-0.175398</td>\n",
       "    </tr>\n",
       "    <tr>\n",
       "      <th>day_of_the_week_Tuesday</th>\n",
       "      <td>0.000539</td>\n",
       "      <td>0.000407</td>\n",
       "      <td>-0.006207</td>\n",
       "      <td>-0.025319</td>\n",
       "      <td>0.014680</td>\n",
       "      <td>0.005895</td>\n",
       "      <td>0.012424</td>\n",
       "      <td>-0.012424</td>\n",
       "      <td>0.013030</td>\n",
       "      <td>-0.013030</td>\n",
       "      <td>...</td>\n",
       "      <td>0.003778</td>\n",
       "      <td>-0.003496</td>\n",
       "      <td>0.003288</td>\n",
       "      <td>-0.185034</td>\n",
       "      <td>-0.164001</td>\n",
       "      <td>-0.167765</td>\n",
       "      <td>-0.147822</td>\n",
       "      <td>-0.174603</td>\n",
       "      <td>1.000000</td>\n",
       "      <td>-0.172685</td>\n",
       "    </tr>\n",
       "    <tr>\n",
       "      <th>day_of_the_week_Wednesday</th>\n",
       "      <td>0.001999</td>\n",
       "      <td>0.003092</td>\n",
       "      <td>-0.003399</td>\n",
       "      <td>-0.019084</td>\n",
       "      <td>0.013742</td>\n",
       "      <td>0.005201</td>\n",
       "      <td>0.008041</td>\n",
       "      <td>-0.008041</td>\n",
       "      <td>0.005122</td>\n",
       "      <td>-0.005122</td>\n",
       "      <td>...</td>\n",
       "      <td>0.000971</td>\n",
       "      <td>-0.000533</td>\n",
       "      <td>-0.003922</td>\n",
       "      <td>-0.185876</td>\n",
       "      <td>-0.164747</td>\n",
       "      <td>-0.168529</td>\n",
       "      <td>-0.148495</td>\n",
       "      <td>-0.175398</td>\n",
       "      <td>-0.172685</td>\n",
       "      <td>1.000000</td>\n",
       "    </tr>\n",
       "  </tbody>\n",
       "</table>\n",
       "<p>36 rows × 36 columns</p>\n",
       "</div>"
      ],
      "text/plain": [
       "                                    X         Y  Vehicles Involved  \\\n",
       "X                            1.000000 -0.160262          -0.012168   \n",
       "Y                           -0.160262  1.000000           0.017058   \n",
       "Vehicles Involved           -0.012168  0.017058           1.000000   \n",
       "Persons Involved             0.012887 -0.013850           0.380523   \n",
       "Bicycle Involved            -0.001752  0.026304          -0.253773   \n",
       "Pedestrians Involved         0.011304  0.010178          -0.261285   \n",
       "road_condition_Fair         -0.010777  0.010950          -0.026530   \n",
       "road_condition_Hazardous     0.010777 -0.010950           0.026530   \n",
       "weather_condition_Clear     -0.003662  0.011823          -0.021498   \n",
       "weather_condition_Inclement  0.003662 -0.011823           0.021498   \n",
       "Day                          0.020966  0.010685          -0.013148   \n",
       "Night                       -0.020966 -0.010685           0.013148   \n",
       "drunk_driver_related_No      0.031117  0.006764          -0.006609   \n",
       "drunk_driver_related_Yes    -0.031117 -0.006764           0.006609   \n",
       "Alley                             NaN       NaN          -0.024622   \n",
       "Block                       -0.005886 -0.034444           0.076566   \n",
       "Intersection                 0.005886  0.034444          -0.073548   \n",
       "month_of_year_April          0.001141 -0.000817           0.002129   \n",
       "month_of_year_August        -0.000332 -0.004117           0.006906   \n",
       "month_of_year_December      -0.000642  0.001684          -0.006652   \n",
       "month_of_year_Feburary      -0.000903 -0.000955          -0.029651   \n",
       "month_of_year_January        0.000782 -0.001973          -0.009676   \n",
       "month_of_year_July          -0.006591 -0.001718           0.006464   \n",
       "month_of_year_June          -0.001020  0.002987           0.014072   \n",
       "month_of_year_March          0.001518 -0.005584           0.008364   \n",
       "month_of_year_May           -0.000462 -0.000970          -0.002497   \n",
       "month_of_year_November      -0.000226  0.002564           0.001126   \n",
       "month_of_year_October        0.001309  0.009267           0.001345   \n",
       "month_of_year_September      0.005414 -0.000789           0.006300   \n",
       "day_of_the_week_Friday       0.000743  0.000238           0.001584   \n",
       "day_of_the_week_Monday       0.004197  0.000485          -0.005581   \n",
       "day_of_the_week_Saturday    -0.006768  0.001671           0.007041   \n",
       "day_of_the_week_Sunday      -0.006821 -0.010709           0.004562   \n",
       "day_of_the_week_Thursday     0.005308  0.003658           0.002322   \n",
       "day_of_the_week_Tuesday      0.000539  0.000407          -0.006207   \n",
       "day_of_the_week_Wednesday    0.001999  0.003092          -0.003399   \n",
       "\n",
       "                             Persons Involved  Bicycle Involved  \\\n",
       "X                                    0.012887         -0.001752   \n",
       "Y                                   -0.013850          0.026304   \n",
       "Vehicles Involved                    0.380523         -0.253773   \n",
       "Persons Involved                     1.000000         -0.038809   \n",
       "Bicycle Involved                    -0.038809          1.000000   \n",
       "Pedestrians Involved                -0.023464         -0.016920   \n",
       "road_condition_Fair                 -0.019050          0.032381   \n",
       "road_condition_Hazardous             0.019050         -0.032381   \n",
       "weather_condition_Clear             -0.020758          0.030381   \n",
       "weather_condition_Inclement          0.020758         -0.030381   \n",
       "Day                                 -0.012638          0.032338   \n",
       "Night                                0.012638         -0.032338   \n",
       "drunk_driver_related_No             -0.022420          0.016401   \n",
       "drunk_driver_related_Yes             0.022420         -0.016401   \n",
       "Alley                               -0.025228         -0.006594   \n",
       "Block                               -0.063657         -0.084272   \n",
       "Intersection                         0.067153          0.085377   \n",
       "month_of_year_April                 -0.003560         -0.000742   \n",
       "month_of_year_August                -0.002155          0.017985   \n",
       "month_of_year_December               0.004243         -0.017697   \n",
       "month_of_year_Feburary              -0.010376         -0.013786   \n",
       "month_of_year_January                0.000416         -0.016657   \n",
       "month_of_year_July                   0.014998          0.018180   \n",
       "month_of_year_June                   0.014398          0.007112   \n",
       "month_of_year_March                 -0.001764         -0.011405   \n",
       "month_of_year_May                    0.010613          0.014337   \n",
       "month_of_year_November               0.002974         -0.012947   \n",
       "month_of_year_October               -0.005295          0.000165   \n",
       "month_of_year_September             -0.025409          0.014311   \n",
       "day_of_the_week_Friday               0.002249         -0.001564   \n",
       "day_of_the_week_Monday              -0.019810         -0.000338   \n",
       "day_of_the_week_Saturday             0.048160         -0.016467   \n",
       "day_of_the_week_Sunday               0.033959         -0.022148   \n",
       "day_of_the_week_Thursday            -0.016265          0.009389   \n",
       "day_of_the_week_Tuesday             -0.025319          0.014680   \n",
       "day_of_the_week_Wednesday           -0.019084          0.013742   \n",
       "\n",
       "                             Pedestrians Involved  road_condition_Fair  \\\n",
       "X                                        0.011304            -0.010777   \n",
       "Y                                        0.010178             0.010950   \n",
       "Vehicles Involved                       -0.261285            -0.026530   \n",
       "Persons Involved                        -0.023464            -0.019050   \n",
       "Bicycle Involved                        -0.016920             0.032381   \n",
       "Pedestrians Involved                     1.000000            -0.025954   \n",
       "road_condition_Fair                     -0.025954             1.000000   \n",
       "road_condition_Hazardous                 0.025954            -1.000000   \n",
       "weather_condition_Clear                 -0.031659             0.759250   \n",
       "weather_condition_Inclement              0.031659            -0.759250   \n",
       "Day                                     -0.030813             0.185599   \n",
       "Night                                    0.030813            -0.185599   \n",
       "drunk_driver_related_No                 -0.016592             0.022103   \n",
       "drunk_driver_related_Yes                 0.016592            -0.022103   \n",
       "Alley                                    0.003809             0.008664   \n",
       "Block                                   -0.145026             0.037654   \n",
       "Intersection                             0.144936            -0.038899   \n",
       "month_of_year_April                     -0.006556             0.022710   \n",
       "month_of_year_August                    -0.011253             0.127136   \n",
       "month_of_year_December                   0.019096            -0.125801   \n",
       "month_of_year_Feburary                   0.006497            -0.037197   \n",
       "month_of_year_January                    0.019844            -0.137814   \n",
       "month_of_year_July                      -0.011561             0.139505   \n",
       "month_of_year_June                      -0.015353             0.092606   \n",
       "month_of_year_March                     -0.003835            -0.035476   \n",
       "month_of_year_May                       -0.010680             0.064879   \n",
       "month_of_year_November                   0.016174            -0.132691   \n",
       "month_of_year_October                    0.004241            -0.049208   \n",
       "month_of_year_September                 -0.006081             0.069163   \n",
       "day_of_the_week_Friday                   0.003495            -0.003520   \n",
       "day_of_the_week_Monday                   0.009006             0.010306   \n",
       "day_of_the_week_Saturday                -0.014703            -0.012337   \n",
       "day_of_the_week_Sunday                  -0.014292            -0.011033   \n",
       "day_of_the_week_Thursday                 0.003691            -0.004712   \n",
       "day_of_the_week_Tuesday                  0.005895             0.012424   \n",
       "day_of_the_week_Wednesday                0.005201             0.008041   \n",
       "\n",
       "                             road_condition_Hazardous  \\\n",
       "X                                            0.010777   \n",
       "Y                                           -0.010950   \n",
       "Vehicles Involved                            0.026530   \n",
       "Persons Involved                             0.019050   \n",
       "Bicycle Involved                            -0.032381   \n",
       "Pedestrians Involved                         0.025954   \n",
       "road_condition_Fair                         -1.000000   \n",
       "road_condition_Hazardous                     1.000000   \n",
       "weather_condition_Clear                     -0.759250   \n",
       "weather_condition_Inclement                  0.759250   \n",
       "Day                                         -0.185599   \n",
       "Night                                        0.185599   \n",
       "drunk_driver_related_No                     -0.022103   \n",
       "drunk_driver_related_Yes                     0.022103   \n",
       "Alley                                       -0.008664   \n",
       "Block                                       -0.037654   \n",
       "Intersection                                 0.038899   \n",
       "month_of_year_April                         -0.022710   \n",
       "month_of_year_August                        -0.127136   \n",
       "month_of_year_December                       0.125801   \n",
       "month_of_year_Feburary                       0.037197   \n",
       "month_of_year_January                        0.137814   \n",
       "month_of_year_July                          -0.139505   \n",
       "month_of_year_June                          -0.092606   \n",
       "month_of_year_March                          0.035476   \n",
       "month_of_year_May                           -0.064879   \n",
       "month_of_year_November                       0.132691   \n",
       "month_of_year_October                        0.049208   \n",
       "month_of_year_September                     -0.069163   \n",
       "day_of_the_week_Friday                       0.003520   \n",
       "day_of_the_week_Monday                      -0.010306   \n",
       "day_of_the_week_Saturday                     0.012337   \n",
       "day_of_the_week_Sunday                       0.011033   \n",
       "day_of_the_week_Thursday                     0.004712   \n",
       "day_of_the_week_Tuesday                     -0.012424   \n",
       "day_of_the_week_Wednesday                   -0.008041   \n",
       "\n",
       "                             weather_condition_Clear  \\\n",
       "X                                          -0.003662   \n",
       "Y                                           0.011823   \n",
       "Vehicles Involved                          -0.021498   \n",
       "Persons Involved                           -0.020758   \n",
       "Bicycle Involved                            0.030381   \n",
       "Pedestrians Involved                       -0.031659   \n",
       "road_condition_Fair                         0.759250   \n",
       "road_condition_Hazardous                   -0.759250   \n",
       "weather_condition_Clear                     1.000000   \n",
       "weather_condition_Inclement                -1.000000   \n",
       "Day                                         0.168458   \n",
       "Night                                      -0.168458   \n",
       "drunk_driver_related_No                     0.016544   \n",
       "drunk_driver_related_Yes                   -0.016544   \n",
       "Alley                                       0.008716   \n",
       "Block                                       0.036572   \n",
       "Intersection                               -0.037821   \n",
       "month_of_year_April                         0.010718   \n",
       "month_of_year_August                        0.097301   \n",
       "month_of_year_December                     -0.080257   \n",
       "month_of_year_Feburary                     -0.019802   \n",
       "month_of_year_January                      -0.090799   \n",
       "month_of_year_July                          0.109540   \n",
       "month_of_year_June                          0.069833   \n",
       "month_of_year_March                        -0.029536   \n",
       "month_of_year_May                           0.045675   \n",
       "month_of_year_November                     -0.113494   \n",
       "month_of_year_October                      -0.050519   \n",
       "month_of_year_September                     0.051009   \n",
       "day_of_the_week_Friday                      0.000194   \n",
       "day_of_the_week_Monday                      0.010591   \n",
       "day_of_the_week_Saturday                   -0.014218   \n",
       "day_of_the_week_Sunday                     -0.009518   \n",
       "day_of_the_week_Thursday                   -0.006061   \n",
       "day_of_the_week_Tuesday                     0.013030   \n",
       "day_of_the_week_Wednesday                   0.005122   \n",
       "\n",
       "                             weather_condition_Inclement  ...  \\\n",
       "X                                               0.003662  ...   \n",
       "Y                                              -0.011823  ...   \n",
       "Vehicles Involved                               0.021498  ...   \n",
       "Persons Involved                                0.020758  ...   \n",
       "Bicycle Involved                               -0.030381  ...   \n",
       "Pedestrians Involved                            0.031659  ...   \n",
       "road_condition_Fair                            -0.759250  ...   \n",
       "road_condition_Hazardous                        0.759250  ...   \n",
       "weather_condition_Clear                        -1.000000  ...   \n",
       "weather_condition_Inclement                     1.000000  ...   \n",
       "Day                                            -0.168458  ...   \n",
       "Night                                           0.168458  ...   \n",
       "drunk_driver_related_No                        -0.016544  ...   \n",
       "drunk_driver_related_Yes                        0.016544  ...   \n",
       "Alley                                          -0.008716  ...   \n",
       "Block                                          -0.036572  ...   \n",
       "Intersection                                    0.037821  ...   \n",
       "month_of_year_April                            -0.010718  ...   \n",
       "month_of_year_August                           -0.097301  ...   \n",
       "month_of_year_December                          0.080257  ...   \n",
       "month_of_year_Feburary                          0.019802  ...   \n",
       "month_of_year_January                           0.090799  ...   \n",
       "month_of_year_July                             -0.109540  ...   \n",
       "month_of_year_June                             -0.069833  ...   \n",
       "month_of_year_March                             0.029536  ...   \n",
       "month_of_year_May                              -0.045675  ...   \n",
       "month_of_year_November                          0.113494  ...   \n",
       "month_of_year_October                           0.050519  ...   \n",
       "month_of_year_September                        -0.051009  ...   \n",
       "day_of_the_week_Friday                         -0.000194  ...   \n",
       "day_of_the_week_Monday                         -0.010591  ...   \n",
       "day_of_the_week_Saturday                        0.014218  ...   \n",
       "day_of_the_week_Sunday                          0.009518  ...   \n",
       "day_of_the_week_Thursday                        0.006061  ...   \n",
       "day_of_the_week_Tuesday                        -0.013030  ...   \n",
       "day_of_the_week_Wednesday                      -0.005122  ...   \n",
       "\n",
       "                             month_of_year_November  month_of_year_October  \\\n",
       "X                                         -0.000226               0.001309   \n",
       "Y                                          0.002564               0.009267   \n",
       "Vehicles Involved                          0.001126               0.001345   \n",
       "Persons Involved                           0.002974              -0.005295   \n",
       "Bicycle Involved                          -0.012947               0.000165   \n",
       "Pedestrians Involved                       0.016174               0.004241   \n",
       "road_condition_Fair                       -0.132691              -0.049208   \n",
       "road_condition_Hazardous                   0.132691               0.049208   \n",
       "weather_condition_Clear                   -0.113494              -0.050519   \n",
       "weather_condition_Inclement                0.113494               0.050519   \n",
       "Day                                       -0.095735              -0.017455   \n",
       "Night                                      0.095735               0.017455   \n",
       "drunk_driver_related_No                   -0.003491               0.001222   \n",
       "drunk_driver_related_Yes                   0.003491              -0.001222   \n",
       "Alley                                     -0.004147              -0.002459   \n",
       "Block                                     -0.005813               0.003150   \n",
       "Intersection                               0.006375              -0.002836   \n",
       "month_of_year_April                       -0.091244              -0.094766   \n",
       "month_of_year_August                      -0.092229              -0.095790   \n",
       "month_of_year_December                    -0.089890              -0.093360   \n",
       "month_of_year_Feburary                    -0.086209              -0.089537   \n",
       "month_of_year_January                     -0.092572              -0.096146   \n",
       "month_of_year_July                        -0.092439              -0.096008   \n",
       "month_of_year_June                        -0.093061              -0.096653   \n",
       "month_of_year_March                       -0.091778              -0.095321   \n",
       "month_of_year_May                         -0.093664              -0.097280   \n",
       "month_of_year_November                     1.000000              -0.096705   \n",
       "month_of_year_October                     -0.096705               1.000000   \n",
       "month_of_year_September                   -0.090889              -0.094398   \n",
       "day_of_the_week_Friday                    -0.006877               0.001818   \n",
       "day_of_the_week_Monday                     0.008585               0.003760   \n",
       "day_of_the_week_Saturday                  -0.001321               0.005447   \n",
       "day_of_the_week_Sunday                     0.001507               0.002884   \n",
       "day_of_the_week_Thursday                  -0.005802              -0.009346   \n",
       "day_of_the_week_Tuesday                    0.003778              -0.003496   \n",
       "day_of_the_week_Wednesday                  0.000971              -0.000533   \n",
       "\n",
       "                             month_of_year_September  day_of_the_week_Friday  \\\n",
       "X                                           0.005414                0.000743   \n",
       "Y                                          -0.000789                0.000238   \n",
       "Vehicles Involved                           0.006300                0.001584   \n",
       "Persons Involved                           -0.025409                0.002249   \n",
       "Bicycle Involved                            0.014311               -0.001564   \n",
       "Pedestrians Involved                       -0.006081                0.003495   \n",
       "road_condition_Fair                         0.069163               -0.003520   \n",
       "road_condition_Hazardous                   -0.069163                0.003520   \n",
       "weather_condition_Clear                     0.051009                0.000194   \n",
       "weather_condition_Inclement                -0.051009               -0.000194   \n",
       "Day                                         0.033411                0.008422   \n",
       "Night                                      -0.033411               -0.008422   \n",
       "drunk_driver_related_No                     0.006688                0.001169   \n",
       "drunk_driver_related_Yes                   -0.006688               -0.001169   \n",
       "Alley                                      -0.000969               -0.002390   \n",
       "Block                                       0.005548               -0.001630   \n",
       "Intersection                               -0.005436                0.001949   \n",
       "month_of_year_April                        -0.089067                0.006901   \n",
       "month_of_year_August                       -0.090029               -0.004166   \n",
       "month_of_year_December                     -0.087746                0.000721   \n",
       "month_of_year_Feburary                     -0.084152                0.000738   \n",
       "month_of_year_January                      -0.090363                0.000744   \n",
       "month_of_year_July                         -0.090234               -0.000243   \n",
       "month_of_year_June                         -0.090841                0.002799   \n",
       "month_of_year_March                        -0.089588                0.000834   \n",
       "month_of_year_May                          -0.091430               -0.001237   \n",
       "month_of_year_November                     -0.090889               -0.006877   \n",
       "month_of_year_October                      -0.094398                0.001818   \n",
       "month_of_year_September                     1.000000               -0.001959   \n",
       "day_of_the_week_Friday                     -0.001959                1.000000   \n",
       "day_of_the_week_Monday                     -0.004518               -0.176528   \n",
       "day_of_the_week_Saturday                   -0.000483               -0.180581   \n",
       "day_of_the_week_Sunday                      0.005869               -0.159114   \n",
       "day_of_the_week_Thursday                    0.002277               -0.187941   \n",
       "day_of_the_week_Tuesday                     0.003288               -0.185034   \n",
       "day_of_the_week_Wednesday                  -0.003922               -0.185876   \n",
       "\n",
       "                             day_of_the_week_Monday  day_of_the_week_Saturday  \\\n",
       "X                                          0.004197                 -0.006768   \n",
       "Y                                          0.000485                  0.001671   \n",
       "Vehicles Involved                         -0.005581                  0.007041   \n",
       "Persons Involved                          -0.019810                  0.048160   \n",
       "Bicycle Involved                          -0.000338                 -0.016467   \n",
       "Pedestrians Involved                       0.009006                 -0.014703   \n",
       "road_condition_Fair                        0.010306                 -0.012337   \n",
       "road_condition_Hazardous                  -0.010306                  0.012337   \n",
       "weather_condition_Clear                    0.010591                 -0.014218   \n",
       "weather_condition_Inclement               -0.010591                  0.014218   \n",
       "Day                                        0.036021                 -0.089160   \n",
       "Night                                     -0.036021                  0.089160   \n",
       "drunk_driver_related_No                    0.026580                 -0.050107   \n",
       "drunk_driver_related_Yes                  -0.026580                  0.050107   \n",
       "Alley                                      0.003003                  0.000319   \n",
       "Block                                     -0.002820                  0.005856   \n",
       "Intersection                               0.002434                 -0.005914   \n",
       "month_of_year_April                       -0.000204                  0.007375   \n",
       "month_of_year_August                       0.004081                 -0.003292   \n",
       "month_of_year_December                     0.003261                  0.000378   \n",
       "month_of_year_Feburary                    -0.002117                  0.000872   \n",
       "month_of_year_January                     -0.005123                 -0.007250   \n",
       "month_of_year_July                        -0.002703                 -0.005925   \n",
       "month_of_year_June                        -0.002221                  0.001180   \n",
       "month_of_year_March                       -0.000816                  0.000151   \n",
       "month_of_year_May                         -0.002245                  0.002769   \n",
       "month_of_year_November                     0.008585                 -0.001321   \n",
       "month_of_year_October                      0.003760                  0.005447   \n",
       "month_of_year_September                   -0.004518                 -0.000483   \n",
       "day_of_the_week_Friday                    -0.176528                 -0.180581   \n",
       "day_of_the_week_Monday                     1.000000                 -0.160053   \n",
       "day_of_the_week_Saturday                  -0.160053                  1.000000   \n",
       "day_of_the_week_Sunday                    -0.141027                 -0.144264   \n",
       "day_of_the_week_Thursday                  -0.166577                 -0.170401   \n",
       "day_of_the_week_Tuesday                   -0.164001                 -0.167765   \n",
       "day_of_the_week_Wednesday                 -0.164747                 -0.168529   \n",
       "\n",
       "                             day_of_the_week_Sunday  day_of_the_week_Thursday  \\\n",
       "X                                         -0.006821                  0.005308   \n",
       "Y                                         -0.010709                  0.003658   \n",
       "Vehicles Involved                          0.004562                  0.002322   \n",
       "Persons Involved                           0.033959                 -0.016265   \n",
       "Bicycle Involved                          -0.022148                  0.009389   \n",
       "Pedestrians Involved                      -0.014292                  0.003691   \n",
       "road_condition_Fair                       -0.011033                 -0.004712   \n",
       "road_condition_Hazardous                   0.011033                  0.004712   \n",
       "weather_condition_Clear                   -0.009518                 -0.006061   \n",
       "weather_condition_Inclement                0.009518                  0.006061   \n",
       "Day                                       -0.085863                  0.025124   \n",
       "Night                                      0.085863                 -0.025124   \n",
       "drunk_driver_related_No                   -0.055201                  0.017052   \n",
       "drunk_driver_related_Yes                   0.055201                 -0.017052   \n",
       "Alley                                      0.005319                 -0.004894   \n",
       "Block                                      0.010649                 -0.000038   \n",
       "Intersection                              -0.011378                  0.000681   \n",
       "month_of_year_April                       -0.001715                  0.001528   \n",
       "month_of_year_August                      -0.000577                 -0.002422   \n",
       "month_of_year_December                    -0.001027                  0.004420   \n",
       "month_of_year_Feburary                    -0.001669                 -0.000472   \n",
       "month_of_year_January                     -0.006744                  0.007888   \n",
       "month_of_year_July                         0.001843                  0.000676   \n",
       "month_of_year_June                         0.002427                  0.000907   \n",
       "month_of_year_March                       -0.003555                  0.004753   \n",
       "month_of_year_May                          0.000549                 -0.003842   \n",
       "month_of_year_November                     0.001507                 -0.005802   \n",
       "month_of_year_October                      0.002884                 -0.009346   \n",
       "month_of_year_September                    0.005869                  0.002277   \n",
       "day_of_the_week_Friday                    -0.159114                 -0.187941   \n",
       "day_of_the_week_Monday                    -0.141027                 -0.166577   \n",
       "day_of_the_week_Saturday                  -0.144264                 -0.170401   \n",
       "day_of_the_week_Sunday                     1.000000                 -0.150144   \n",
       "day_of_the_week_Thursday                  -0.150144                  1.000000   \n",
       "day_of_the_week_Tuesday                   -0.147822                 -0.174603   \n",
       "day_of_the_week_Wednesday                 -0.148495                 -0.175398   \n",
       "\n",
       "                             day_of_the_week_Tuesday  \\\n",
       "X                                           0.000539   \n",
       "Y                                           0.000407   \n",
       "Vehicles Involved                          -0.006207   \n",
       "Persons Involved                           -0.025319   \n",
       "Bicycle Involved                            0.014680   \n",
       "Pedestrians Involved                        0.005895   \n",
       "road_condition_Fair                         0.012424   \n",
       "road_condition_Hazardous                   -0.012424   \n",
       "weather_condition_Clear                     0.013030   \n",
       "weather_condition_Inclement                -0.013030   \n",
       "Day                                         0.051867   \n",
       "Night                                      -0.051867   \n",
       "drunk_driver_related_No                     0.029951   \n",
       "drunk_driver_related_Yes                   -0.029951   \n",
       "Alley                                      -0.002146   \n",
       "Block                                      -0.004939   \n",
       "Intersection                                0.005235   \n",
       "month_of_year_April                        -0.010884   \n",
       "month_of_year_August                        0.000608   \n",
       "month_of_year_December                     -0.001942   \n",
       "month_of_year_Feburary                     -0.003042   \n",
       "month_of_year_January                       0.010051   \n",
       "month_of_year_July                          0.004166   \n",
       "month_of_year_June                         -0.001094   \n",
       "month_of_year_March                        -0.003000   \n",
       "month_of_year_May                           0.001350   \n",
       "month_of_year_November                      0.003778   \n",
       "month_of_year_October                      -0.003496   \n",
       "month_of_year_September                     0.003288   \n",
       "day_of_the_week_Friday                     -0.185034   \n",
       "day_of_the_week_Monday                     -0.164001   \n",
       "day_of_the_week_Saturday                   -0.167765   \n",
       "day_of_the_week_Sunday                     -0.147822   \n",
       "day_of_the_week_Thursday                   -0.174603   \n",
       "day_of_the_week_Tuesday                     1.000000   \n",
       "day_of_the_week_Wednesday                  -0.172685   \n",
       "\n",
       "                             day_of_the_week_Wednesday  \n",
       "X                                             0.001999  \n",
       "Y                                             0.003092  \n",
       "Vehicles Involved                            -0.003399  \n",
       "Persons Involved                             -0.019084  \n",
       "Bicycle Involved                              0.013742  \n",
       "Pedestrians Involved                          0.005201  \n",
       "road_condition_Fair                           0.008041  \n",
       "road_condition_Hazardous                     -0.008041  \n",
       "weather_condition_Clear                       0.005122  \n",
       "weather_condition_Inclement                  -0.005122  \n",
       "Day                                           0.043303  \n",
       "Night                                        -0.043303  \n",
       "drunk_driver_related_No                       0.024404  \n",
       "drunk_driver_related_Yes                     -0.024404  \n",
       "Alley                                         0.001630  \n",
       "Block                                        -0.005839  \n",
       "Intersection                                  0.005641  \n",
       "month_of_year_April                          -0.003427  \n",
       "month_of_year_August                          0.006010  \n",
       "month_of_year_December                       -0.005872  \n",
       "month_of_year_Feburary                        0.005408  \n",
       "month_of_year_January                        -0.000698  \n",
       "month_of_year_July                            0.002188  \n",
       "month_of_year_June                           -0.003937  \n",
       "month_of_year_March                           0.001133  \n",
       "month_of_year_May                             0.002784  \n",
       "month_of_year_November                        0.000971  \n",
       "month_of_year_October                        -0.000533  \n",
       "month_of_year_September                      -0.003922  \n",
       "day_of_the_week_Friday                       -0.185876  \n",
       "day_of_the_week_Monday                       -0.164747  \n",
       "day_of_the_week_Saturday                     -0.168529  \n",
       "day_of_the_week_Sunday                       -0.148495  \n",
       "day_of_the_week_Thursday                     -0.175398  \n",
       "day_of_the_week_Tuesday                      -0.172685  \n",
       "day_of_the_week_Wednesday                     1.000000  \n",
       "\n",
       "[36 rows x 36 columns]"
      ]
     },
     "execution_count": 210,
     "metadata": {},
     "output_type": "execute_result"
    }
   ],
   "source": [
    "features_vectorized_df.corr()"
   ]
  },
  {
   "cell_type": "code",
   "execution_count": 211,
   "metadata": {},
   "outputs": [
    {
     "data": {
      "text/plain": [
       "<AxesSubplot:>"
      ]
     },
     "execution_count": 211,
     "metadata": {},
     "output_type": "execute_result"
    },
    {
     "data": {
      "image/png": "[encoded data removed]",
      "text/plain": [
       "<Figure size 864x720 with 2 Axes>"
      ]
     },
     "metadata": {},
     "output_type": "display_data"
    }
   ],
   "source": [
    "sns.set_theme(style=\"white\")\n",
    "\n",
    "# Generate a large random dataset\n",
    "rs = np.random.RandomState(33)\n",
    "d = features_vectorized_df\n",
    "\n",
    "# Compute the correlation matrix\n",
    "corr = d.corr()\n",
    "\n",
    "# Generate a mask for the upper triangle\n",
    "mask = np.triu(np.ones_like(corr, dtype=bool))\n",
    "\n",
    "# Set up the matplotlib figure\n",
    "f, ax = plt.subplots(figsize=(12, 10))\n",
    "\n",
    "# Generate a custom diverging colormap\n",
    "cmap = sns.diverging_palette(230, 20, as_cmap=True)\n",
    "\n",
    "# Draw the heatmap with the mask and correct aspect ratio\n",
    "sns.heatmap(corr, mask=mask, cmap=cmap, vmax=.3, center=0,\n",
    "            square=True, linewidths=.5, cbar_kws={\"shrink\": .5})"
   ]
  },
  {
   "cell_type": "markdown",
   "metadata": {},
   "source": [
    "## Dimensional Increase \n",
    "\n",
    "**Summary** \n",
    "\n",
    "The below dataframe represents adding an additional 23 features to the input matrix X to our classification. It would appear adding more features did not improve\n",
    "the accuracy of our models. \n",
    "\n",
    "This dataframe was not reduced categorically, but instead expanded back to its original category sets and one hot encoded.\n",
    "\n"
   ]
  },
  {
   "cell_type": "code",
   "execution_count": 212,
   "metadata": {},
   "outputs": [],
   "source": [
    "features2 = {'X' : X_scaled, 'Y' : Y_scaled, 'Incident Month' : months, 'Incident Day of Week' : days_of_week, 'Road Condition' : accident_df['ROADCOND'], 'Weather' : accident_df['WEATHER'], 'Time of Day' : accident_df['LIGHTCOND'] , 'Drunk Driving Incident': under_the_influence, 'Vehicles Involved': vehicle_count , 'Persons Involved': person_count , \"Bicycle Involved\" : cyclist_count ,\"Pedestrians Involved\" : pedestrian_count,  \"Accident Location\": accident_location}"
   ]
  },
  {
   "cell_type": "code",
   "execution_count": 213,
   "metadata": {},
   "outputs": [],
   "source": [
    "features2_df = pd.DataFrame(features2)"
   ]
  },
  {
   "cell_type": "code",
   "execution_count": 214,
   "metadata": {},
   "outputs": [
    {
     "data": {
      "text/html": [
       "<div>\n",
       "<style scoped>\n",
       "    .dataframe tbody tr th:only-of-type {\n",
       "        vertical-align: middle;\n",
       "    }\n",
       "\n",
       "    .dataframe tbody tr th {\n",
       "        vertical-align: top;\n",
       "    }\n",
       "\n",
       "    .dataframe thead th {\n",
       "        text-align: right;\n",
       "    }\n",
       "</style>\n",
       "<table border=\"1\" class=\"dataframe\">\n",
       "  <thead>\n",
       "    <tr style=\"text-align: right;\">\n",
       "      <th></th>\n",
       "      <th>X</th>\n",
       "      <th>Y</th>\n",
       "      <th>Incident Month</th>\n",
       "      <th>Incident Day of Week</th>\n",
       "      <th>Road Condition</th>\n",
       "      <th>Weather</th>\n",
       "      <th>Time of Day</th>\n",
       "      <th>Drunk Driving Incident</th>\n",
       "      <th>Vehicles Involved</th>\n",
       "      <th>Persons Involved</th>\n",
       "      <th>Bicycle Involved</th>\n",
       "      <th>Pedestrians Involved</th>\n",
       "      <th>Accident Location</th>\n",
       "    </tr>\n",
       "  </thead>\n",
       "  <tbody>\n",
       "    <tr>\n",
       "      <th>0</th>\n",
       "      <td>0.532596</td>\n",
       "      <td>0.870053</td>\n",
       "      <td>March</td>\n",
       "      <td>Wednesday</td>\n",
       "      <td>Wet</td>\n",
       "      <td>Overcast</td>\n",
       "      <td>Daylight</td>\n",
       "      <td>No</td>\n",
       "      <td>0.166667</td>\n",
       "      <td>0.024691</td>\n",
       "      <td>0.0</td>\n",
       "      <td>0.0</td>\n",
       "      <td>Intersection</td>\n",
       "    </tr>\n",
       "    <tr>\n",
       "      <th>1</th>\n",
       "      <td>0.398557</td>\n",
       "      <td>0.635455</td>\n",
       "      <td>December</td>\n",
       "      <td>Wednesday</td>\n",
       "      <td>Wet</td>\n",
       "      <td>Raining</td>\n",
       "      <td>Dark - Street Lights On</td>\n",
       "      <td>No</td>\n",
       "      <td>0.166667</td>\n",
       "      <td>0.024691</td>\n",
       "      <td>0.0</td>\n",
       "      <td>0.0</td>\n",
       "      <td>Block</td>\n",
       "    </tr>\n",
       "    <tr>\n",
       "      <th>2</th>\n",
       "      <td>0.469359</td>\n",
       "      <td>0.470718</td>\n",
       "      <td>November</td>\n",
       "      <td>Thursday</td>\n",
       "      <td>Dry</td>\n",
       "      <td>Overcast</td>\n",
       "      <td>Daylight</td>\n",
       "      <td>No</td>\n",
       "      <td>0.250000</td>\n",
       "      <td>0.049383</td>\n",
       "      <td>0.0</td>\n",
       "      <td>0.0</td>\n",
       "      <td>Block</td>\n",
       "    </tr>\n",
       "    <tr>\n",
       "      <th>3</th>\n",
       "      <td>0.467897</td>\n",
       "      <td>0.457855</td>\n",
       "      <td>March</td>\n",
       "      <td>Friday</td>\n",
       "      <td>Dry</td>\n",
       "      <td>Clear</td>\n",
       "      <td>Daylight</td>\n",
       "      <td>No</td>\n",
       "      <td>0.250000</td>\n",
       "      <td>0.037037</td>\n",
       "      <td>0.0</td>\n",
       "      <td>0.0</td>\n",
       "      <td>Block</td>\n",
       "    </tr>\n",
       "    <tr>\n",
       "      <th>4</th>\n",
       "      <td>0.625423</td>\n",
       "      <td>0.210281</td>\n",
       "      <td>January</td>\n",
       "      <td>Wednesday</td>\n",
       "      <td>Wet</td>\n",
       "      <td>Raining</td>\n",
       "      <td>Daylight</td>\n",
       "      <td>No</td>\n",
       "      <td>0.166667</td>\n",
       "      <td>0.024691</td>\n",
       "      <td>0.0</td>\n",
       "      <td>0.0</td>\n",
       "      <td>Intersection</td>\n",
       "    </tr>\n",
       "    <tr>\n",
       "      <th>...</th>\n",
       "      <td>...</td>\n",
       "      <td>...</td>\n",
       "      <td>...</td>\n",
       "      <td>...</td>\n",
       "      <td>...</td>\n",
       "      <td>...</td>\n",
       "      <td>...</td>\n",
       "      <td>...</td>\n",
       "      <td>...</td>\n",
       "      <td>...</td>\n",
       "      <td>...</td>\n",
       "      <td>...</td>\n",
       "      <td>...</td>\n",
       "    </tr>\n",
       "    <tr>\n",
       "      <th>194668</th>\n",
       "      <td>0.712022</td>\n",
       "      <td>0.292726</td>\n",
       "      <td>November</td>\n",
       "      <td>Monday</td>\n",
       "      <td>Dry</td>\n",
       "      <td>Clear</td>\n",
       "      <td>Daylight</td>\n",
       "      <td>No</td>\n",
       "      <td>0.166667</td>\n",
       "      <td>0.037037</td>\n",
       "      <td>0.0</td>\n",
       "      <td>0.0</td>\n",
       "      <td>Block</td>\n",
       "    </tr>\n",
       "    <tr>\n",
       "      <th>194669</th>\n",
       "      <td>0.413924</td>\n",
       "      <td>0.818844</td>\n",
       "      <td>December</td>\n",
       "      <td>Tuesday</td>\n",
       "      <td>Wet</td>\n",
       "      <td>Raining</td>\n",
       "      <td>Daylight</td>\n",
       "      <td>No</td>\n",
       "      <td>0.166667</td>\n",
       "      <td>0.024691</td>\n",
       "      <td>0.0</td>\n",
       "      <td>0.0</td>\n",
       "      <td>Block</td>\n",
       "    </tr>\n",
       "    <tr>\n",
       "      <th>194670</th>\n",
       "      <td>0.623967</td>\n",
       "      <td>0.785828</td>\n",
       "      <td>January</td>\n",
       "      <td>Saturday</td>\n",
       "      <td>Dry</td>\n",
       "      <td>Clear</td>\n",
       "      <td>Daylight</td>\n",
       "      <td>No</td>\n",
       "      <td>0.166667</td>\n",
       "      <td>0.037037</td>\n",
       "      <td>0.0</td>\n",
       "      <td>0.0</td>\n",
       "      <td>Intersection</td>\n",
       "    </tr>\n",
       "    <tr>\n",
       "      <th>194671</th>\n",
       "      <td>0.354024</td>\n",
       "      <td>0.767751</td>\n",
       "      <td>January</td>\n",
       "      <td>Tuesday</td>\n",
       "      <td>Dry</td>\n",
       "      <td>Clear</td>\n",
       "      <td>Dusk</td>\n",
       "      <td>No</td>\n",
       "      <td>0.083333</td>\n",
       "      <td>0.024691</td>\n",
       "      <td>0.5</td>\n",
       "      <td>0.0</td>\n",
       "      <td>Intersection</td>\n",
       "    </tr>\n",
       "    <tr>\n",
       "      <th>194672</th>\n",
       "      <td>0.720163</td>\n",
       "      <td>0.483903</td>\n",
       "      <td>November</td>\n",
       "      <td>Friday</td>\n",
       "      <td>Wet</td>\n",
       "      <td>Clear</td>\n",
       "      <td>Daylight</td>\n",
       "      <td>No</td>\n",
       "      <td>0.166667</td>\n",
       "      <td>0.024691</td>\n",
       "      <td>0.0</td>\n",
       "      <td>0.0</td>\n",
       "      <td>Block</td>\n",
       "    </tr>\n",
       "  </tbody>\n",
       "</table>\n",
       "<p>194673 rows × 13 columns</p>\n",
       "</div>"
      ],
      "text/plain": [
       "               X         Y Incident Month Incident Day of Week Road Condition  \\\n",
       "0       0.532596  0.870053          March            Wednesday            Wet   \n",
       "1       0.398557  0.635455       December            Wednesday            Wet   \n",
       "2       0.469359  0.470718       November             Thursday            Dry   \n",
       "3       0.467897  0.457855          March               Friday            Dry   \n",
       "4       0.625423  0.210281        January            Wednesday            Wet   \n",
       "...          ...       ...            ...                  ...            ...   \n",
       "194668  0.712022  0.292726       November               Monday            Dry   \n",
       "194669  0.413924  0.818844       December              Tuesday            Wet   \n",
       "194670  0.623967  0.785828        January             Saturday            Dry   \n",
       "194671  0.354024  0.767751        January              Tuesday            Dry   \n",
       "194672  0.720163  0.483903       November               Friday            Wet   \n",
       "\n",
       "         Weather              Time of Day Drunk Driving Incident  \\\n",
       "0       Overcast                 Daylight                     No   \n",
       "1        Raining  Dark - Street Lights On                     No   \n",
       "2       Overcast                 Daylight                     No   \n",
       "3          Clear                 Daylight                     No   \n",
       "4        Raining                 Daylight                     No   \n",
       "...          ...                      ...                    ...   \n",
       "194668     Clear                 Daylight                     No   \n",
       "194669   Raining                 Daylight                     No   \n",
       "194670     Clear                 Daylight                     No   \n",
       "194671     Clear                     Dusk                     No   \n",
       "194672     Clear                 Daylight                     No   \n",
       "\n",
       "        Vehicles Involved  Persons Involved  Bicycle Involved  \\\n",
       "0                0.166667          0.024691               0.0   \n",
       "1                0.166667          0.024691               0.0   \n",
       "2                0.250000          0.049383               0.0   \n",
       "3                0.250000          0.037037               0.0   \n",
       "4                0.166667          0.024691               0.0   \n",
       "...                   ...               ...               ...   \n",
       "194668           0.166667          0.037037               0.0   \n",
       "194669           0.166667          0.024691               0.0   \n",
       "194670           0.166667          0.037037               0.0   \n",
       "194671           0.083333          0.024691               0.5   \n",
       "194672           0.166667          0.024691               0.0   \n",
       "\n",
       "        Pedestrians Involved Accident Location  \n",
       "0                        0.0      Intersection  \n",
       "1                        0.0             Block  \n",
       "2                        0.0             Block  \n",
       "3                        0.0             Block  \n",
       "4                        0.0      Intersection  \n",
       "...                      ...               ...  \n",
       "194668                   0.0             Block  \n",
       "194669                   0.0             Block  \n",
       "194670                   0.0      Intersection  \n",
       "194671                   0.0      Intersection  \n",
       "194672                   0.0             Block  \n",
       "\n",
       "[194673 rows x 13 columns]"
      ]
     },
     "execution_count": 214,
     "metadata": {},
     "output_type": "execute_result"
    }
   ],
   "source": [
    "features2_df # this dataframe consists of the EXPANDED set of features. This dataframe is much bigger than the one used for prior predictions"
   ]
  },
  {
   "cell_type": "code",
   "execution_count": 215,
   "metadata": {},
   "outputs": [],
   "source": [
    "features2_df = pd.concat ([features2_df , pd.get_dummies(features2_df['Road Condition'], prefix='road_condition')] , axis = 1)"
   ]
  },
  {
   "cell_type": "code",
   "execution_count": 216,
   "metadata": {},
   "outputs": [],
   "source": [
    "features2_df = features2_df.drop(['Road Condition'], axis=1)"
   ]
  },
  {
   "cell_type": "code",
   "execution_count": 217,
   "metadata": {},
   "outputs": [],
   "source": [
    "features2_df = pd.concat ([features2_df , pd.get_dummies(features2_df['Weather'], prefix='weather_condition')] , axis = 1)\n",
    "features2_df = features2_df.drop(['Weather'], axis=1)"
   ]
  },
  {
   "cell_type": "code",
   "execution_count": 218,
   "metadata": {},
   "outputs": [],
   "source": [
    "features2_df = pd.concat ([features2_df , pd.get_dummies(features2_df['Time of Day'])] , axis = 1)\n",
    "features2_df = features2_df.drop(['Time of Day'], axis=1)"
   ]
  },
  {
   "cell_type": "code",
   "execution_count": 219,
   "metadata": {},
   "outputs": [],
   "source": [
    "features2_df = pd.concat ([features2_df , pd.get_dummies(features2_df['Drunk Driving Incident'], prefix='drunk_driver_related')] , axis = 1)\n",
    "features2_df = features2_df.drop(['Drunk Driving Incident'], axis=1)"
   ]
  },
  {
   "cell_type": "code",
   "execution_count": 220,
   "metadata": {},
   "outputs": [],
   "source": [
    "features2_df = pd.concat ([features2_df , pd.get_dummies(features2_df['Accident Location'])] , axis = 1)\n",
    "features2_df = features2_df.drop(['Accident Location'], axis=1)"
   ]
  },
  {
   "cell_type": "code",
   "execution_count": 221,
   "metadata": {},
   "outputs": [],
   "source": [
    "features2_df = pd.concat ([features2_df , pd.get_dummies(features2_df['Incident Month'], prefix='month_of_year')] , axis = 1)\n",
    "features2_df = features2_df.drop(['Incident Month'], axis=1)"
   ]
  },
  {
   "cell_type": "code",
   "execution_count": 222,
   "metadata": {},
   "outputs": [],
   "source": [
    "features2_df = pd.concat ([features2_df , pd.get_dummies(features2_df['Incident Day of Week'], prefix='day_of_the_week')] , axis = 1)\n",
    "features2_df = features2_df.drop(['Incident Day of Week'], axis=1)"
   ]
  },
  {
   "cell_type": "code",
   "execution_count": 223,
   "metadata": {},
   "outputs": [
    {
     "data": {
      "text/html": [
       "<div>\n",
       "<style scoped>\n",
       "    .dataframe tbody tr th:only-of-type {\n",
       "        vertical-align: middle;\n",
       "    }\n",
       "\n",
       "    .dataframe tbody tr th {\n",
       "        vertical-align: top;\n",
       "    }\n",
       "\n",
       "    .dataframe thead th {\n",
       "        text-align: right;\n",
       "    }\n",
       "</style>\n",
       "<table border=\"1\" class=\"dataframe\">\n",
       "  <thead>\n",
       "    <tr style=\"text-align: right;\">\n",
       "      <th></th>\n",
       "      <th>X</th>\n",
       "      <th>Y</th>\n",
       "      <th>Vehicles Involved</th>\n",
       "      <th>Persons Involved</th>\n",
       "      <th>Bicycle Involved</th>\n",
       "      <th>Pedestrians Involved</th>\n",
       "      <th>road_condition_Dry</th>\n",
       "      <th>road_condition_Ice</th>\n",
       "      <th>road_condition_Oil</th>\n",
       "      <th>road_condition_Other</th>\n",
       "      <th>...</th>\n",
       "      <th>month_of_year_November</th>\n",
       "      <th>month_of_year_October</th>\n",
       "      <th>month_of_year_September</th>\n",
       "      <th>day_of_the_week_Friday</th>\n",
       "      <th>day_of_the_week_Monday</th>\n",
       "      <th>day_of_the_week_Saturday</th>\n",
       "      <th>day_of_the_week_Sunday</th>\n",
       "      <th>day_of_the_week_Thursday</th>\n",
       "      <th>day_of_the_week_Tuesday</th>\n",
       "      <th>day_of_the_week_Wednesday</th>\n",
       "    </tr>\n",
       "  </thead>\n",
       "  <tbody>\n",
       "    <tr>\n",
       "      <th>0</th>\n",
       "      <td>0.532596</td>\n",
       "      <td>0.870053</td>\n",
       "      <td>0.166667</td>\n",
       "      <td>0.024691</td>\n",
       "      <td>0.0</td>\n",
       "      <td>0.0</td>\n",
       "      <td>0</td>\n",
       "      <td>0</td>\n",
       "      <td>0</td>\n",
       "      <td>0</td>\n",
       "      <td>...</td>\n",
       "      <td>0</td>\n",
       "      <td>0</td>\n",
       "      <td>0</td>\n",
       "      <td>0</td>\n",
       "      <td>0</td>\n",
       "      <td>0</td>\n",
       "      <td>0</td>\n",
       "      <td>0</td>\n",
       "      <td>0</td>\n",
       "      <td>1</td>\n",
       "    </tr>\n",
       "    <tr>\n",
       "      <th>1</th>\n",
       "      <td>0.398557</td>\n",
       "      <td>0.635455</td>\n",
       "      <td>0.166667</td>\n",
       "      <td>0.024691</td>\n",
       "      <td>0.0</td>\n",
       "      <td>0.0</td>\n",
       "      <td>0</td>\n",
       "      <td>0</td>\n",
       "      <td>0</td>\n",
       "      <td>0</td>\n",
       "      <td>...</td>\n",
       "      <td>0</td>\n",
       "      <td>0</td>\n",
       "      <td>0</td>\n",
       "      <td>0</td>\n",
       "      <td>0</td>\n",
       "      <td>0</td>\n",
       "      <td>0</td>\n",
       "      <td>0</td>\n",
       "      <td>0</td>\n",
       "      <td>1</td>\n",
       "    </tr>\n",
       "    <tr>\n",
       "      <th>2</th>\n",
       "      <td>0.469359</td>\n",
       "      <td>0.470718</td>\n",
       "      <td>0.250000</td>\n",
       "      <td>0.049383</td>\n",
       "      <td>0.0</td>\n",
       "      <td>0.0</td>\n",
       "      <td>1</td>\n",
       "      <td>0</td>\n",
       "      <td>0</td>\n",
       "      <td>0</td>\n",
       "      <td>...</td>\n",
       "      <td>1</td>\n",
       "      <td>0</td>\n",
       "      <td>0</td>\n",
       "      <td>0</td>\n",
       "      <td>0</td>\n",
       "      <td>0</td>\n",
       "      <td>0</td>\n",
       "      <td>1</td>\n",
       "      <td>0</td>\n",
       "      <td>0</td>\n",
       "    </tr>\n",
       "    <tr>\n",
       "      <th>3</th>\n",
       "      <td>0.467897</td>\n",
       "      <td>0.457855</td>\n",
       "      <td>0.250000</td>\n",
       "      <td>0.037037</td>\n",
       "      <td>0.0</td>\n",
       "      <td>0.0</td>\n",
       "      <td>1</td>\n",
       "      <td>0</td>\n",
       "      <td>0</td>\n",
       "      <td>0</td>\n",
       "      <td>...</td>\n",
       "      <td>0</td>\n",
       "      <td>0</td>\n",
       "      <td>0</td>\n",
       "      <td>1</td>\n",
       "      <td>0</td>\n",
       "      <td>0</td>\n",
       "      <td>0</td>\n",
       "      <td>0</td>\n",
       "      <td>0</td>\n",
       "      <td>0</td>\n",
       "    </tr>\n",
       "    <tr>\n",
       "      <th>4</th>\n",
       "      <td>0.625423</td>\n",
       "      <td>0.210281</td>\n",
       "      <td>0.166667</td>\n",
       "      <td>0.024691</td>\n",
       "      <td>0.0</td>\n",
       "      <td>0.0</td>\n",
       "      <td>0</td>\n",
       "      <td>0</td>\n",
       "      <td>0</td>\n",
       "      <td>0</td>\n",
       "      <td>...</td>\n",
       "      <td>0</td>\n",
       "      <td>0</td>\n",
       "      <td>0</td>\n",
       "      <td>0</td>\n",
       "      <td>0</td>\n",
       "      <td>0</td>\n",
       "      <td>0</td>\n",
       "      <td>0</td>\n",
       "      <td>0</td>\n",
       "      <td>1</td>\n",
       "    </tr>\n",
       "    <tr>\n",
       "      <th>...</th>\n",
       "      <td>...</td>\n",
       "      <td>...</td>\n",
       "      <td>...</td>\n",
       "      <td>...</td>\n",
       "      <td>...</td>\n",
       "      <td>...</td>\n",
       "      <td>...</td>\n",
       "      <td>...</td>\n",
       "      <td>...</td>\n",
       "      <td>...</td>\n",
       "      <td>...</td>\n",
       "      <td>...</td>\n",
       "      <td>...</td>\n",
       "      <td>...</td>\n",
       "      <td>...</td>\n",
       "      <td>...</td>\n",
       "      <td>...</td>\n",
       "      <td>...</td>\n",
       "      <td>...</td>\n",
       "      <td>...</td>\n",
       "      <td>...</td>\n",
       "    </tr>\n",
       "    <tr>\n",
       "      <th>194668</th>\n",
       "      <td>0.712022</td>\n",
       "      <td>0.292726</td>\n",
       "      <td>0.166667</td>\n",
       "      <td>0.037037</td>\n",
       "      <td>0.0</td>\n",
       "      <td>0.0</td>\n",
       "      <td>1</td>\n",
       "      <td>0</td>\n",
       "      <td>0</td>\n",
       "      <td>0</td>\n",
       "      <td>...</td>\n",
       "      <td>1</td>\n",
       "      <td>0</td>\n",
       "      <td>0</td>\n",
       "      <td>0</td>\n",
       "      <td>1</td>\n",
       "      <td>0</td>\n",
       "      <td>0</td>\n",
       "      <td>0</td>\n",
       "      <td>0</td>\n",
       "      <td>0</td>\n",
       "    </tr>\n",
       "    <tr>\n",
       "      <th>194669</th>\n",
       "      <td>0.413924</td>\n",
       "      <td>0.818844</td>\n",
       "      <td>0.166667</td>\n",
       "      <td>0.024691</td>\n",
       "      <td>0.0</td>\n",
       "      <td>0.0</td>\n",
       "      <td>0</td>\n",
       "      <td>0</td>\n",
       "      <td>0</td>\n",
       "      <td>0</td>\n",
       "      <td>...</td>\n",
       "      <td>0</td>\n",
       "      <td>0</td>\n",
       "      <td>0</td>\n",
       "      <td>0</td>\n",
       "      <td>0</td>\n",
       "      <td>0</td>\n",
       "      <td>0</td>\n",
       "      <td>0</td>\n",
       "      <td>1</td>\n",
       "      <td>0</td>\n",
       "    </tr>\n",
       "    <tr>\n",
       "      <th>194670</th>\n",
       "      <td>0.623967</td>\n",
       "      <td>0.785828</td>\n",
       "      <td>0.166667</td>\n",
       "      <td>0.037037</td>\n",
       "      <td>0.0</td>\n",
       "      <td>0.0</td>\n",
       "      <td>1</td>\n",
       "      <td>0</td>\n",
       "      <td>0</td>\n",
       "      <td>0</td>\n",
       "      <td>...</td>\n",
       "      <td>0</td>\n",
       "      <td>0</td>\n",
       "      <td>0</td>\n",
       "      <td>0</td>\n",
       "      <td>0</td>\n",
       "      <td>1</td>\n",
       "      <td>0</td>\n",
       "      <td>0</td>\n",
       "      <td>0</td>\n",
       "      <td>0</td>\n",
       "    </tr>\n",
       "    <tr>\n",
       "      <th>194671</th>\n",
       "      <td>0.354024</td>\n",
       "      <td>0.767751</td>\n",
       "      <td>0.083333</td>\n",
       "      <td>0.024691</td>\n",
       "      <td>0.5</td>\n",
       "      <td>0.0</td>\n",
       "      <td>1</td>\n",
       "      <td>0</td>\n",
       "      <td>0</td>\n",
       "      <td>0</td>\n",
       "      <td>...</td>\n",
       "      <td>0</td>\n",
       "      <td>0</td>\n",
       "      <td>0</td>\n",
       "      <td>0</td>\n",
       "      <td>0</td>\n",
       "      <td>0</td>\n",
       "      <td>0</td>\n",
       "      <td>0</td>\n",
       "      <td>1</td>\n",
       "      <td>0</td>\n",
       "    </tr>\n",
       "    <tr>\n",
       "      <th>194672</th>\n",
       "      <td>0.720163</td>\n",
       "      <td>0.483903</td>\n",
       "      <td>0.166667</td>\n",
       "      <td>0.024691</td>\n",
       "      <td>0.0</td>\n",
       "      <td>0.0</td>\n",
       "      <td>0</td>\n",
       "      <td>0</td>\n",
       "      <td>0</td>\n",
       "      <td>0</td>\n",
       "      <td>...</td>\n",
       "      <td>1</td>\n",
       "      <td>0</td>\n",
       "      <td>0</td>\n",
       "      <td>1</td>\n",
       "      <td>0</td>\n",
       "      <td>0</td>\n",
       "      <td>0</td>\n",
       "      <td>0</td>\n",
       "      <td>0</td>\n",
       "      <td>0</td>\n",
       "    </tr>\n",
       "  </tbody>\n",
       "</table>\n",
       "<p>194673 rows × 59 columns</p>\n",
       "</div>"
      ],
      "text/plain": [
       "               X         Y  Vehicles Involved  Persons Involved  \\\n",
       "0       0.532596  0.870053           0.166667          0.024691   \n",
       "1       0.398557  0.635455           0.166667          0.024691   \n",
       "2       0.469359  0.470718           0.250000          0.049383   \n",
       "3       0.467897  0.457855           0.250000          0.037037   \n",
       "4       0.625423  0.210281           0.166667          0.024691   \n",
       "...          ...       ...                ...               ...   \n",
       "194668  0.712022  0.292726           0.166667          0.037037   \n",
       "194669  0.413924  0.818844           0.166667          0.024691   \n",
       "194670  0.623967  0.785828           0.166667          0.037037   \n",
       "194671  0.354024  0.767751           0.083333          0.024691   \n",
       "194672  0.720163  0.483903           0.166667          0.024691   \n",
       "\n",
       "        Bicycle Involved  Pedestrians Involved  road_condition_Dry  \\\n",
       "0                    0.0                   0.0                   0   \n",
       "1                    0.0                   0.0                   0   \n",
       "2                    0.0                   0.0                   1   \n",
       "3                    0.0                   0.0                   1   \n",
       "4                    0.0                   0.0                   0   \n",
       "...                  ...                   ...                 ...   \n",
       "194668               0.0                   0.0                   1   \n",
       "194669               0.0                   0.0                   0   \n",
       "194670               0.0                   0.0                   1   \n",
       "194671               0.5                   0.0                   1   \n",
       "194672               0.0                   0.0                   0   \n",
       "\n",
       "        road_condition_Ice  road_condition_Oil  road_condition_Other  ...  \\\n",
       "0                        0                   0                     0  ...   \n",
       "1                        0                   0                     0  ...   \n",
       "2                        0                   0                     0  ...   \n",
       "3                        0                   0                     0  ...   \n",
       "4                        0                   0                     0  ...   \n",
       "...                    ...                 ...                   ...  ...   \n",
       "194668                   0                   0                     0  ...   \n",
       "194669                   0                   0                     0  ...   \n",
       "194670                   0                   0                     0  ...   \n",
       "194671                   0                   0                     0  ...   \n",
       "194672                   0                   0                     0  ...   \n",
       "\n",
       "        month_of_year_November  month_of_year_October  \\\n",
       "0                            0                      0   \n",
       "1                            0                      0   \n",
       "2                            1                      0   \n",
       "3                            0                      0   \n",
       "4                            0                      0   \n",
       "...                        ...                    ...   \n",
       "194668                       1                      0   \n",
       "194669                       0                      0   \n",
       "194670                       0                      0   \n",
       "194671                       0                      0   \n",
       "194672                       1                      0   \n",
       "\n",
       "        month_of_year_September  day_of_the_week_Friday  \\\n",
       "0                             0                       0   \n",
       "1                             0                       0   \n",
       "2                             0                       0   \n",
       "3                             0                       1   \n",
       "4                             0                       0   \n",
       "...                         ...                     ...   \n",
       "194668                        0                       0   \n",
       "194669                        0                       0   \n",
       "194670                        0                       0   \n",
       "194671                        0                       0   \n",
       "194672                        0                       1   \n",
       "\n",
       "        day_of_the_week_Monday  day_of_the_week_Saturday  \\\n",
       "0                            0                         0   \n",
       "1                            0                         0   \n",
       "2                            0                         0   \n",
       "3                            0                         0   \n",
       "4                            0                         0   \n",
       "...                        ...                       ...   \n",
       "194668                       1                         0   \n",
       "194669                       0                         0   \n",
       "194670                       0                         1   \n",
       "194671                       0                         0   \n",
       "194672                       0                         0   \n",
       "\n",
       "        day_of_the_week_Sunday  day_of_the_week_Thursday  \\\n",
       "0                            0                         0   \n",
       "1                            0                         0   \n",
       "2                            0                         1   \n",
       "3                            0                         0   \n",
       "4                            0                         0   \n",
       "...                        ...                       ...   \n",
       "194668                       0                         0   \n",
       "194669                       0                         0   \n",
       "194670                       0                         0   \n",
       "194671                       0                         0   \n",
       "194672                       0                         0   \n",
       "\n",
       "        day_of_the_week_Tuesday  day_of_the_week_Wednesday  \n",
       "0                             0                          1  \n",
       "1                             0                          1  \n",
       "2                             0                          0  \n",
       "3                             0                          0  \n",
       "4                             0                          1  \n",
       "...                         ...                        ...  \n",
       "194668                        0                          0  \n",
       "194669                        1                          0  \n",
       "194670                        0                          0  \n",
       "194671                        1                          0  \n",
       "194672                        0                          0  \n",
       "\n",
       "[194673 rows x 59 columns]"
      ]
     },
     "execution_count": 223,
     "metadata": {},
     "output_type": "execute_result"
    }
   ],
   "source": [
    "features2_df"
   ]
  },
  {
   "cell_type": "code",
   "execution_count": 224,
   "metadata": {},
   "outputs": [
    {
     "data": {
      "text/plain": [
       "(194673, 59)"
      ]
     },
     "execution_count": 224,
     "metadata": {},
     "output_type": "execute_result"
    }
   ],
   "source": [
    "features2_df.shape"
   ]
  },
  {
   "cell_type": "code",
   "execution_count": 225,
   "metadata": {},
   "outputs": [],
   "source": [
    "y = accident_df['SEVERITYCODE']"
   ]
  },
  {
   "cell_type": "code",
   "execution_count": 226,
   "metadata": {},
   "outputs": [
    {
     "data": {
      "text/plain": [
       "array([1, 0, 0, ..., 1, 1, 0])"
      ]
     },
     "execution_count": 226,
     "metadata": {},
     "output_type": "execute_result"
    }
   ],
   "source": [
    "from sklearn.preprocessing import LabelEncoder\n",
    "\n",
    "label_encoder = LabelEncoder()\n",
    "y = label_encoder.fit_transform(y)\n",
    "y"
   ]
  },
  {
   "cell_type": "code",
   "execution_count": 227,
   "metadata": {},
   "outputs": [],
   "source": [
    "X = features2_df"
   ]
  },
  {
   "cell_type": "code",
   "execution_count": 228,
   "metadata": {},
   "outputs": [],
   "source": [
    "from sklearn.model_selection import cross_val_score, cross_val_predict, cross_validate\n",
    "from sklearn.impute import SimpleImputer\n",
    "\n",
    "imputer = SimpleImputer(missing_values=np.nan, strategy='most_frequent')\n",
    "X = imputer.fit_transform(X)"
   ]
  },
  {
   "cell_type": "code",
   "execution_count": 229,
   "metadata": {},
   "outputs": [],
   "source": [
    "from sklearn.model_selection import train_test_split\n",
    "\n",
    "X_train, X_test, y_train, y_test = train_test_split(X, y, test_size=0.1, random_state=1)\n"
   ]
  },
  {
   "cell_type": "code",
   "execution_count": 230,
   "metadata": {},
   "outputs": [
    {
     "data": {
      "text/plain": [
       "{'fit_time': array([3.98834991, 4.32366276, 3.41120934]),\n",
       " 'score_time': array([0.0055635 , 0.00606585, 0.00551581]),\n",
       " 'estimator': (LogisticRegression(C=100, max_iter=1000),\n",
       "  LogisticRegression(C=100, max_iter=1000),\n",
       "  LogisticRegression(C=100, max_iter=1000)),\n",
       " 'test_score': array([0.75185781, 0.75055649, 0.75115152]),\n",
       " 'train_score': array([0.75102523, 0.75184713, 0.75142118])}"
      ]
     },
     "execution_count": 230,
     "metadata": {},
     "output_type": "execute_result"
    }
   ],
   "source": [
    "from sklearn.linear_model import LogisticRegression\n",
    "\n",
    "logistic_regression = LogisticRegression(max_iter=1000, C=100)\n",
    "\n",
    "# k-fold cross validation\n",
    "results = cross_validate(logistic_regression, X_train, y_train, cv=3, return_estimator=True , return_train_score = True)\n",
    "results"
   ]
  },
  {
   "cell_type": "code",
   "execution_count": 231,
   "metadata": {},
   "outputs": [],
   "source": [
    "#Select the best scoring model from cross-validation\n",
    "regression_models = results['estimator']\n",
    "best_model_score = np.argmax(results['test_score'])\n",
    "model = regression_models[best_model_score]"
   ]
  },
  {
   "cell_type": "code",
   "execution_count": 232,
   "metadata": {},
   "outputs": [
    {
     "data": {
      "text/plain": [
       "0.753801109513047"
      ]
     },
     "execution_count": 232,
     "metadata": {},
     "output_type": "execute_result"
    }
   ],
   "source": [
    "#Test the model on the test set\n",
    "model.score(X_test, y_test)"
   ]
  },
  {
   "cell_type": "markdown",
   "metadata": {},
   "source": [
    "<br>\n",
    "<br>"
   ]
  },
  {
   "cell_type": "code",
   "execution_count": 233,
   "metadata": {},
   "outputs": [
    {
     "data": {
      "text/plain": [
       "{'fit_time': array([0.44833374, 0.4523468 , 0.44362664]),\n",
       " 'score_time': array([0.00541687, 0.00541019, 0.00551748]),\n",
       " 'estimator': (SGDClassifier(), SGDClassifier(), SGDClassifier()),\n",
       " 'test_score': array([0.75084757, 0.74970035, 0.7494221 ]),\n",
       " 'train_score': array([0.74956123, 0.75013484, 0.75027396])}"
      ]
     },
     "execution_count": 233,
     "metadata": {},
     "output_type": "execute_result"
    }
   ],
   "source": [
    "from sklearn.linear_model import SGDClassifier\n",
    "\n",
    "sgd_classifier = SGDClassifier(max_iter=1000, learning_rate='optimal')\n",
    "\n",
    "# k-fold\n",
    "results = cross_validate(sgd_classifier, X_train, y_train, cv=3, return_estimator=True , return_train_score = True)\n",
    "results"
   ]
  },
  {
   "cell_type": "code",
   "execution_count": 234,
   "metadata": {},
   "outputs": [],
   "source": [
    "#Select the best scoring model from cross-validation\n",
    "regression_models = results['estimator']\n",
    "best_model_score = np.argmax(results['test_score'])\n",
    "model = regression_models[best_model_score]"
   ]
  },
  {
   "cell_type": "code",
   "execution_count": 235,
   "metadata": {},
   "outputs": [
    {
     "data": {
      "text/plain": [
       "0.753287446065338"
      ]
     },
     "execution_count": 235,
     "metadata": {},
     "output_type": "execute_result"
    }
   ],
   "source": [
    "#Test the model on the test set\n",
    "model.score(X_test, y_test)"
   ]
  },
  {
   "cell_type": "markdown",
   "metadata": {},
   "source": [
    "<br>"
   ]
  },
  {
   "cell_type": "markdown",
   "metadata": {},
   "source": [
    "## Creating Polynomial Features\n",
    "\n",
    "The below examples try and fit the data to an n-dimensional set of features. \n",
    "\n",
    "Let's see if the model improves"
   ]
  },
  {
   "cell_type": "code",
   "execution_count": 236,
   "metadata": {},
   "outputs": [],
   "source": [
    "y = accident_df['SEVERITYCODE']"
   ]
  },
  {
   "cell_type": "code",
   "execution_count": 237,
   "metadata": {},
   "outputs": [
    {
     "data": {
      "text/plain": [
       "array([1, 0, 0, ..., 1, 1, 0])"
      ]
     },
     "execution_count": 237,
     "metadata": {},
     "output_type": "execute_result"
    }
   ],
   "source": [
    "from sklearn.preprocessing import LabelEncoder\n",
    "\n",
    "label_encoder = LabelEncoder()\n",
    "y = label_encoder.fit_transform(y)\n",
    "y"
   ]
  },
  {
   "cell_type": "code",
   "execution_count": 238,
   "metadata": {},
   "outputs": [],
   "source": [
    "from sklearn.preprocessing import PolynomialFeatures"
   ]
  },
  {
   "cell_type": "code",
   "execution_count": 239,
   "metadata": {},
   "outputs": [],
   "source": [
    "X = features_vectorized_df # this is the same vector of features originally used to create the original models"
   ]
  },
  {
   "cell_type": "code",
   "execution_count": 240,
   "metadata": {},
   "outputs": [],
   "source": [
    "from sklearn.model_selection import cross_val_score, cross_val_predict, cross_validate\n",
    "from sklearn.impute import SimpleImputer\n",
    "\n",
    "imputer = SimpleImputer(missing_values=np.nan, strategy='most_frequent')\n",
    "X = imputer.fit_transform(X)"
   ]
  },
  {
   "cell_type": "code",
   "execution_count": 241,
   "metadata": {},
   "outputs": [
    {
     "data": {
      "text/plain": [
       "array([[1.        , 0.53259573, 0.87005309, ..., 0.        , 0.        ,\n",
       "        1.        ],\n",
       "       [1.        , 0.39855736, 0.63545467, ..., 0.        , 0.        ,\n",
       "        1.        ],\n",
       "       [1.        , 0.46935884, 0.47071778, ..., 0.        , 0.        ,\n",
       "        0.        ],\n",
       "       ...,\n",
       "       [1.        , 0.62396713, 0.78582845, ..., 0.        , 0.        ,\n",
       "        0.        ],\n",
       "       [1.        , 0.35402353, 0.76775114, ..., 1.        , 0.        ,\n",
       "        0.        ],\n",
       "       [1.        , 0.72016307, 0.48390317, ..., 0.        , 0.        ,\n",
       "        0.        ]])"
      ]
     },
     "execution_count": 241,
     "metadata": {},
     "output_type": "execute_result"
    }
   ],
   "source": [
    "poly = PolynomialFeatures(2)\n",
    "\n",
    "X_2d_df = poly.fit_transform(X)\n",
    "X_2d_df"
   ]
  },
  {
   "cell_type": "code",
   "execution_count": 242,
   "metadata": {},
   "outputs": [
    {
     "data": {
      "text/plain": [
       "(194673, 36)"
      ]
     },
     "execution_count": 242,
     "metadata": {},
     "output_type": "execute_result"
    }
   ],
   "source": [
    "X.shape"
   ]
  },
  {
   "cell_type": "code",
   "execution_count": 243,
   "metadata": {},
   "outputs": [
    {
     "data": {
      "text/plain": [
       "(194673, 703)"
      ]
     },
     "execution_count": 243,
     "metadata": {},
     "output_type": "execute_result"
    }
   ],
   "source": [
    "X_2d_df.shape"
   ]
  },
  {
   "cell_type": "markdown",
   "metadata": {},
   "source": [
    "## Using Scikit Learn feature weighting\n",
    "\n",
    "The below examples will set the weights on the classes to *'balance'*"
   ]
  },
  {
   "cell_type": "code",
   "execution_count": null,
   "metadata": {},
   "outputs": [],
   "source": [
    "from sklearn.model_selection import train_test_split\n",
    "\n",
    "X_train, X_test, y_train, y_test = train_test_split(X_2d_df, y, test_size=0.1, random_state=1)\n"
   ]
  },
  {
   "cell_type": "code",
   "execution_count": null,
   "metadata": {},
   "outputs": [],
   "source": [
    "from sklearn.linear_model import LogisticRegression\n",
    "\n",
    "logistic_regression = LogisticRegression(max_iter=10000, C=100, class_weight = 'balanced')\n",
    "\n",
    "# k-fold cross validation\n",
    "results = cross_validate(logistic_regression, X_train, y_train, cv=3, return_estimator=True , return_train_score = True)\n",
    "results"
   ]
  },
  {
   "cell_type": "code",
   "execution_count": 246,
   "metadata": {},
   "outputs": [],
   "source": [
    "#Select the best scoring model from cross-validation\n",
    "regression_models = results['estimator']\n",
    "best_model_score = np.argmax(results['test_score'])\n",
    "model = regression_models[best_model_score]"
   ]
  },
  {
   "cell_type": "code",
   "execution_count": 247,
   "metadata": {},
   "outputs": [
    {
     "data": {
      "text/plain": [
       "0.6875898911033491"
      ]
     },
     "execution_count": 247,
     "metadata": {},
     "output_type": "execute_result"
    }
   ],
   "source": [
    "#Test the model on the test set\n",
    "model.score(X_test, y_test)"
   ]
  },
  {
   "cell_type": "code",
   "execution_count": 248,
   "metadata": {},
   "outputs": [],
   "source": [
    "prediction = model.predict(X_test)"
   ]
  },
  {
   "cell_type": "code",
   "execution_count": 249,
   "metadata": {},
   "outputs": [
    {
     "data": {
      "text/plain": [
       "array([0, 1])"
      ]
     },
     "execution_count": 249,
     "metadata": {},
     "output_type": "execute_result"
    }
   ],
   "source": [
    "np.unique( prediction )"
   ]
  },
  {
   "cell_type": "code",
   "execution_count": 250,
   "metadata": {},
   "outputs": [
    {
     "data": {
      "text/plain": [
       "0.7276442374389684"
      ]
     },
     "execution_count": 250,
     "metadata": {},
     "output_type": "execute_result"
    }
   ],
   "source": [
    "from sklearn.metrics import roc_auc_score\n",
    "\n",
    "# generate the ROC\n",
    "probability = model.predict_proba(X_test)\n",
    "probability_class_1 = [p[1] for p in probability]\n",
    "\n",
    "roc_auc_score(y_test, probability_class_1)"
   ]
  },
  {
   "cell_type": "code",
   "execution_count": 251,
   "metadata": {},
   "outputs": [
    {
     "data": {
      "text/plain": [
       "0.5300571781795704"
      ]
     },
     "execution_count": 251,
     "metadata": {},
     "output_type": "execute_result"
    }
   ],
   "source": [
    "from sklearn.metrics import f1_score\n",
    "\n",
    "f1_score(y_test, prediction)"
   ]
  },
  {
   "cell_type": "markdown",
   "metadata": {},
   "source": [
    "<br>\n"
   ]
  },
  {
   "cell_type": "markdown",
   "metadata": {},
   "source": [
    "## PCA Dimensional Reduction of the Data"
   ]
  },
  {
   "cell_type": "code",
   "execution_count": 216,
   "metadata": {},
   "outputs": [],
   "source": [
    "y = accident_df['SEVERITYCODE']"
   ]
  },
  {
   "cell_type": "code",
   "execution_count": 217,
   "metadata": {},
   "outputs": [
    {
     "data": {
      "text/plain": [
       "array([1, 0, 0, ..., 1, 1, 0])"
      ]
     },
     "execution_count": 217,
     "metadata": {},
     "output_type": "execute_result"
    }
   ],
   "source": [
    "from sklearn.preprocessing import LabelEncoder\n",
    "\n",
    "label_encoder = LabelEncoder()\n",
    "y = label_encoder.fit_transform(y)\n",
    "y"
   ]
  },
  {
   "cell_type": "code",
   "execution_count": 218,
   "metadata": {},
   "outputs": [],
   "source": [
    "X = features_vectorized_df"
   ]
  },
  {
   "cell_type": "code",
   "execution_count": 219,
   "metadata": {},
   "outputs": [],
   "source": [
    "from sklearn.model_selection import cross_val_score, cross_val_predict, cross_validate\n",
    "from sklearn.impute import SimpleImputer\n",
    "\n",
    "imputer = SimpleImputer(missing_values=np.nan, strategy='most_frequent')\n",
    "X = imputer.fit_transform(X)"
   ]
  },
  {
   "cell_type": "markdown",
   "metadata": {},
   "source": [
    "### PCA Projection to 2D"
   ]
  },
  {
   "cell_type": "code",
   "execution_count": 220,
   "metadata": {},
   "outputs": [
    {
     "data": {
      "text/plain": [
       "array([[ 5.41565684e-01,  9.81829314e-01, -4.90136094e-01, ...,\n",
       "         5.06280786e-16, -3.45073517e-16,  3.32885800e-17],\n",
       "       [ 1.79301092e+00, -6.74076627e-01,  2.64109004e-01, ...,\n",
       "         1.54957076e-16,  2.82126772e-16, -3.27903706e-16],\n",
       "       [-5.25347565e-01, -3.98196208e-01, -2.51750293e-01, ...,\n",
       "        -4.17705877e-16,  1.48278829e-16, -6.48974916e-16],\n",
       "       ...,\n",
       "       [-3.79221176e-01,  9.78250983e-01,  5.36692403e-02, ...,\n",
       "         3.00892094e-17, -2.77648479e-17,  1.30027943e-17],\n",
       "       [-4.16937930e-01,  1.01034706e+00, -6.02790382e-02, ...,\n",
       "         1.77105862e-18, -3.36277925e-17, -1.40286104e-17],\n",
       "       [ 4.71656963e-01, -4.31685300e-01, -6.36218271e-01, ...,\n",
       "         3.10361790e-17,  3.67795398e-17, -7.24197593e-17]])"
      ]
     },
     "execution_count": 220,
     "metadata": {},
     "output_type": "execute_result"
    }
   ],
   "source": [
    "from sklearn.decomposition import PCA\n",
    "\n",
    "pca = PCA(tol=.95)\n",
    "X = pca.fit_transform(X)\n",
    "X"
   ]
  },
  {
   "cell_type": "code",
   "execution_count": 221,
   "metadata": {},
   "outputs": [
    {
     "data": {
      "text/plain": [
       "array([1.85470004e-01, 1.28170952e-01, 1.04388097e-01, 4.68236826e-02,\n",
       "       4.31241135e-02, 4.24350288e-02, 4.06242405e-02, 3.93785915e-02,\n",
       "       3.33344831e-02, 2.60854154e-02, 2.50065496e-02, 2.47185919e-02,\n",
       "       2.44690778e-02, 2.42615146e-02, 2.41732338e-02, 2.38905738e-02,\n",
       "       2.37410370e-02, 2.35841994e-02, 2.33957921e-02, 2.32072415e-02,\n",
       "       2.15616841e-02, 1.90082076e-02, 1.69383757e-02, 7.39626870e-03,\n",
       "       2.07268314e-03, 1.64392592e-03, 7.59673716e-04, 2.72119120e-04,\n",
       "       6.46418624e-05, 3.65775088e-32, 7.37440262e-33, 3.35521271e-33,\n",
       "       3.26781957e-33, 1.66269142e-33, 1.36556122e-33, 1.36556122e-33])"
      ]
     },
     "execution_count": 221,
     "metadata": {},
     "output_type": "execute_result"
    }
   ],
   "source": [
    "pca.explained_variance_ratio_"
   ]
  },
  {
   "cell_type": "code",
   "execution_count": 222,
   "metadata": {},
   "outputs": [],
   "source": [
    "from sklearn.model_selection import train_test_split\n",
    "\n",
    "X_train, X_test, y_train, y_test = train_test_split(X, y, test_size=0.1, random_state=1)\n"
   ]
  },
  {
   "cell_type": "markdown",
   "metadata": {},
   "source": [
    "## Logistic Regression"
   ]
  },
  {
   "cell_type": "code",
   "execution_count": 223,
   "metadata": {},
   "outputs": [
    {
     "data": {
      "text/plain": [
       "{'fit_time': array([1.38971949, 1.35791445, 1.67266011, 1.66909838, 1.46153545,\n",
       "        1.25261688, 1.41945696, 1.35652018, 1.68623018, 1.22446704]),\n",
       " 'score_time': array([0.00167584, 0.00161028, 0.00210643, 0.00187206, 0.0016315 ,\n",
       "        0.00158167, 0.00162172, 0.00213218, 0.00158787, 0.00338602]),\n",
       " 'estimator': (LogisticRegression(C=100000000000000, max_iter=1000),\n",
       "  LogisticRegression(C=100000000000000, max_iter=1000),\n",
       "  LogisticRegression(C=100000000000000, max_iter=1000),\n",
       "  LogisticRegression(C=100000000000000, max_iter=1000),\n",
       "  LogisticRegression(C=100000000000000, max_iter=1000),\n",
       "  LogisticRegression(C=100000000000000, max_iter=1000),\n",
       "  LogisticRegression(C=100000000000000, max_iter=1000),\n",
       "  LogisticRegression(C=100000000000000, max_iter=1000),\n",
       "  LogisticRegression(C=100000000000000, max_iter=1000),\n",
       "  LogisticRegression(C=100000000000000, max_iter=1000)),\n",
       " 'test_score': array([0.74887278, 0.75446607, 0.75263969, 0.75338166, 0.75075624,\n",
       "        0.74863014, 0.75131279, 0.75005708, 0.75074201, 0.75273973]),\n",
       " 'train_score': array([0.75165521, 0.7511225 , 0.75132544, 0.75114152, 0.75157911,\n",
       "        0.75169483, 0.75152361, 0.75163776, 0.75134604, 0.75138409])}"
      ]
     },
     "execution_count": 223,
     "metadata": {},
     "output_type": "execute_result"
    }
   ],
   "source": [
    "from sklearn.linear_model import LogisticRegression\n",
    "\n",
    "logistic_regression = LogisticRegression(max_iter=1000, C=10000)\n",
    "\n",
    "# k-fold cross validation\n",
    "results = cross_validate(logistic_regression, X_train, y_train, cv=10, return_estimator=True , return_train_score = True)\n",
    "results"
   ]
  },
  {
   "cell_type": "code",
   "execution_count": 224,
   "metadata": {},
   "outputs": [],
   "source": [
    "#Select the best scoring model from cross-validation\n",
    "regression_models = results['estimator']\n",
    "best_model_score = np.argmax(results['test_score'])\n",
    "model = regression_models[best_model_score]"
   ]
  },
  {
   "cell_type": "markdown",
   "metadata": {},
   "source": [
    "<br>\n",
    "<strong>Accuracy</strong>"
   ]
  },
  {
   "cell_type": "code",
   "execution_count": 225,
   "metadata": {},
   "outputs": [
    {
     "data": {
      "text/plain": [
       "0.7536470104787343"
      ]
     },
     "execution_count": 225,
     "metadata": {},
     "output_type": "execute_result"
    }
   ],
   "source": [
    "#Test the model on the test set\n",
    "model.score(X_test, y_test)"
   ]
  },
  {
   "cell_type": "code",
   "execution_count": 226,
   "metadata": {},
   "outputs": [],
   "source": [
    "prediction = model.predict(X_test)"
   ]
  },
  {
   "cell_type": "code",
   "execution_count": 227,
   "metadata": {},
   "outputs": [
    {
     "data": {
      "text/plain": [
       "array([0, 1])"
      ]
     },
     "execution_count": 227,
     "metadata": {},
     "output_type": "execute_result"
    }
   ],
   "source": [
    "np.unique(prediction) "
   ]
  },
  {
   "cell_type": "markdown",
   "metadata": {},
   "source": [
    "<br>\n",
    "<strong>ROC of AUC </strong>"
   ]
  },
  {
   "cell_type": "code",
   "execution_count": 228,
   "metadata": {},
   "outputs": [
    {
     "data": {
      "text/plain": [
       "0.7148678570342661"
      ]
     },
     "execution_count": 228,
     "metadata": {},
     "output_type": "execute_result"
    }
   ],
   "source": [
    "from sklearn.metrics import roc_auc_score\n",
    "\n",
    "# generate the ROC\n",
    "probability = model.predict_proba(X_test)\n",
    "probability_class_1 = [p[1] for p in probability]\n",
    "\n",
    "roc_auc_score(y_test, probability_class_1)"
   ]
  },
  {
   "cell_type": "markdown",
   "metadata": {},
   "source": [
    "<br>\n",
    "<strong>F1 Score</strong>"
   ]
  },
  {
   "cell_type": "code",
   "execution_count": 229,
   "metadata": {},
   "outputs": [
    {
     "data": {
      "text/plain": [
       "0.3647682119205298"
      ]
     },
     "execution_count": 229,
     "metadata": {},
     "output_type": "execute_result"
    }
   ],
   "source": [
    "from sklearn.metrics import f1_score\n",
    "\n",
    "f1_score(y_test, prediction)"
   ]
  },
  {
   "cell_type": "markdown",
   "metadata": {},
   "source": [
    "## Neural Net"
   ]
  },
  {
   "cell_type": "code",
   "execution_count": 272,
   "metadata": {},
   "outputs": [],
   "source": [
    "y = accident_df['SEVERITYCODE']"
   ]
  },
  {
   "cell_type": "code",
   "execution_count": 273,
   "metadata": {},
   "outputs": [
    {
     "data": {
      "text/plain": [
       "array([1, 0, 0, ..., 1, 1, 0])"
      ]
     },
     "execution_count": 273,
     "metadata": {},
     "output_type": "execute_result"
    }
   ],
   "source": [
    "from sklearn.preprocessing import LabelEncoder\n",
    "\n",
    "label_encoder = LabelEncoder()\n",
    "y = label_encoder.fit_transform(y)\n",
    "y"
   ]
  },
  {
   "cell_type": "code",
   "execution_count": 274,
   "metadata": {},
   "outputs": [],
   "source": [
    "X = features_vectorized_df"
   ]
  },
  {
   "cell_type": "code",
   "execution_count": 275,
   "metadata": {},
   "outputs": [],
   "source": [
    "from sklearn.model_selection import cross_val_score, cross_val_predict, cross_validate\n",
    "from sklearn.impute import SimpleImputer\n",
    "\n",
    "imputer = SimpleImputer(missing_values=np.nan, strategy='most_frequent')\n",
    "X = imputer.fit_transform(X)"
   ]
  },
  {
   "cell_type": "code",
   "execution_count": 276,
   "metadata": {},
   "outputs": [],
   "source": [
    "from sklearn.model_selection import train_test_split\n",
    "\n",
    "X_train, X_test, y_train, y_test = train_test_split(X, y, test_size=0.3, random_state=1)"
   ]
  },
  {
   "cell_type": "code",
   "execution_count": null,
   "metadata": {},
   "outputs": [],
   "source": []
  },
  {
   "cell_type": "code",
   "execution_count": 278,
   "metadata": {},
   "outputs": [
    {
     "data": {
      "text/plain": [
       "{'fit_time': array([65.00538301, 44.91544175, 34.62222219]),\n",
       " 'score_time': array([0.0336709 , 0.03102493, 0.03917384]),\n",
       " 'estimator': (MLPClassifier(hidden_layer_sizes=(15, 15, 15, 15, 15, 15), max_iter=300,\n",
       "                random_state=1),\n",
       "  MLPClassifier(hidden_layer_sizes=(15, 15, 15, 15, 15, 15), max_iter=300,\n",
       "                random_state=1),\n",
       "  MLPClassifier(hidden_layer_sizes=(15, 15, 15, 15, 15, 15), max_iter=300,\n",
       "                random_state=1)),\n",
       " 'test_score': array([0.75283991, 0.74951567, 0.75010457]),\n",
       " 'train_score': array([0.75526985, 0.75652471, 0.75499736])}"
      ]
     },
     "execution_count": 278,
     "metadata": {},
     "output_type": "execute_result"
    }
   ],
   "source": [
    "from sklearn.neural_network import MLPClassifier\n",
    "\n",
    "clf = MLPClassifier(random_state=1, max_iter=300, activation='relu', solver='adam', hidden_layer_sizes=(15, 15,15,15,15,15))\n",
    "\n",
    "# k-fold cross validation\n",
    "results = cross_validate(clf, X_train, y_train, cv=3, return_estimator=True , return_train_score = True)\n",
    "results"
   ]
  },
  {
   "cell_type": "code",
   "execution_count": 279,
   "metadata": {},
   "outputs": [],
   "source": [
    "#Select the best scoring model from cross-validation\n",
    "regression_models = results['estimator']\n",
    "best_model_score = np.argmax(results['test_score'])\n",
    "model = regression_models[best_model_score]"
   ]
  },
  {
   "cell_type": "markdown",
   "metadata": {},
   "source": [
    "<br>\n",
    "<strong>Accuracy</strong>"
   ]
  },
  {
   "cell_type": "code",
   "execution_count": 280,
   "metadata": {},
   "outputs": [
    {
     "data": {
      "text/plain": [
       "0.7524913530358549"
      ]
     },
     "execution_count": 280,
     "metadata": {},
     "output_type": "execute_result"
    }
   ],
   "source": [
    "#Test the model on the test set\n",
    "model.score(X_test, y_test)"
   ]
  },
  {
   "cell_type": "code",
   "execution_count": 281,
   "metadata": {},
   "outputs": [],
   "source": [
    "prediction = model.predict(X_test)"
   ]
  },
  {
   "cell_type": "code",
   "execution_count": 282,
   "metadata": {},
   "outputs": [
    {
     "data": {
      "text/plain": [
       "array([0, 1])"
      ]
     },
     "execution_count": 282,
     "metadata": {},
     "output_type": "execute_result"
    }
   ],
   "source": [
    "np.unique(prediction) "
   ]
  },
  {
   "cell_type": "markdown",
   "metadata": {},
   "source": [
    "<br>\n",
    "<strong>ROC of AUC </strong>"
   ]
  },
  {
   "cell_type": "code",
   "execution_count": 270,
   "metadata": {},
   "outputs": [
    {
     "data": {
      "text/plain": [
       "0.7366073577438561"
      ]
     },
     "execution_count": 270,
     "metadata": {},
     "output_type": "execute_result"
    }
   ],
   "source": [
    "from sklearn.metrics import roc_auc_score\n",
    "\n",
    "# generate the ROC\n",
    "probability = model.predict_proba(X_test)\n",
    "probability_class_1 = [p[1] for p in probability]\n",
    "\n",
    "roc_auc_score(y_test, probability_class_1)"
   ]
  },
  {
   "cell_type": "markdown",
   "metadata": {},
   "source": [
    "<br>\n",
    "<strong>F1 Score</strong>"
   ]
  },
  {
   "cell_type": "code",
   "execution_count": 257,
   "metadata": {},
   "outputs": [
    {
     "data": {
      "text/plain": [
       "0.38896621536125525"
      ]
     },
     "execution_count": 257,
     "metadata": {},
     "output_type": "execute_result"
    }
   ],
   "source": [
    "from sklearn.metrics import f1_score\n",
    "\n",
    "f1_score(y_test, prediction)"
   ]
  },
  {
   "cell_type": "code",
   "execution_count": 259,
   "metadata": {},
   "outputs": [
    {
     "data": {
      "text/plain": [
       "array([[13102,   605],\n",
       "       [ 4224,  1537]])"
      ]
     },
     "execution_count": 259,
     "metadata": {},
     "output_type": "execute_result"
    }
   ],
   "source": [
    "from sklearn.metrics import confusion_matrix, classification_report\n",
    "confusion_matrix(y_test, prediction)"
   ]
  },
  {
   "cell_type": "code",
   "execution_count": 262,
   "metadata": {},
   "outputs": [
    {
     "name": "stdout",
     "output_type": "stream",
     "text": [
      "              precision    recall  f1-score   support\n",
      "\n",
      "           0       0.76      0.96      0.84     13707\n",
      "           1       0.72      0.27      0.39      5761\n",
      "\n",
      "    accuracy                           0.75     19468\n",
      "   macro avg       0.74      0.61      0.62     19468\n",
      "weighted avg       0.74      0.75      0.71     19468\n",
      "\n"
     ]
    }
   ],
   "source": [
    "print(classification_report(y_test, prediction))"
   ]
  },
  {
   "cell_type": "code",
   "execution_count": 263,
   "metadata": {},
   "outputs": [
    {
     "data": {
      "text/plain": [
       "array([0, 1, 0, ..., 0, 0, 0])"
      ]
     },
     "execution_count": 263,
     "metadata": {},
     "output_type": "execute_result"
    }
   ],
   "source": [
    "prediction"
   ]
  },
  {
   "cell_type": "code",
   "execution_count": 264,
   "metadata": {},
   "outputs": [
    {
     "data": {
      "text/plain": [
       "array([0, 1, 0, ..., 0, 0, 1])"
      ]
     },
     "execution_count": 264,
     "metadata": {},
     "output_type": "execute_result"
    }
   ],
   "source": [
    "y_test"
   ]
  },
  {
   "cell_type": "markdown",
   "metadata": {},
   "source": [
    "## Shallow Neural Net"
   ]
  },
  {
   "cell_type": "code",
   "execution_count": 284,
   "metadata": {},
   "outputs": [
    {
     "data": {
      "text/plain": [
       "{'fit_time': array([156.96073174, 233.83795404, 124.35595274]),\n",
       " 'score_time': array([0.0574441 , 0.05756068, 0.06185746]),\n",
       " 'estimator': (MLPClassifier(hidden_layer_sizes=100, max_iter=1000, random_state=1),\n",
       "  MLPClassifier(hidden_layer_sizes=100, max_iter=1000, random_state=1),\n",
       "  MLPClassifier(hidden_layer_sizes=100, max_iter=1000, random_state=1)),\n",
       " 'test_score': array([0.74658771, 0.74614741, 0.75085309]),\n",
       " 'train_score': array([0.75848404, 0.76309619, 0.760424  ])}"
      ]
     },
     "execution_count": 284,
     "metadata": {},
     "output_type": "execute_result"
    }
   ],
   "source": [
    "from sklearn.neural_network import MLPClassifier\n",
    "\n",
    "clf = MLPClassifier(random_state=1, max_iter=1000, activation='relu', solver='adam', hidden_layer_sizes=(100))\n",
    "\n",
    "# k-fold cross validation\n",
    "results = cross_validate(clf, X_train, y_train, cv=3, return_estimator=True , return_train_score = True)\n",
    "results"
   ]
  },
  {
   "cell_type": "code",
   "execution_count": 285,
   "metadata": {},
   "outputs": [],
   "source": [
    "#Select the best scoring model from cross-validation\n",
    "regression_models = results['estimator']\n",
    "best_model_score = np.argmax(results['test_score'])\n",
    "model = regression_models[best_model_score]"
   ]
  },
  {
   "cell_type": "markdown",
   "metadata": {},
   "source": [
    "<br>\n",
    "<strong>Accuracy</strong>"
   ]
  },
  {
   "cell_type": "code",
   "execution_count": 286,
   "metadata": {},
   "outputs": [
    {
     "data": {
      "text/plain": [
       "0.752542721139687"
      ]
     },
     "execution_count": 286,
     "metadata": {},
     "output_type": "execute_result"
    }
   ],
   "source": [
    "#Test the model on the test set\n",
    "model.score(X_test, y_test)"
   ]
  },
  {
   "cell_type": "code",
   "execution_count": 287,
   "metadata": {},
   "outputs": [],
   "source": [
    "prediction = model.predict(X_test)"
   ]
  },
  {
   "cell_type": "code",
   "execution_count": 288,
   "metadata": {},
   "outputs": [
    {
     "data": {
      "text/plain": [
       "array([0, 1])"
      ]
     },
     "execution_count": 288,
     "metadata": {},
     "output_type": "execute_result"
    }
   ],
   "source": [
    "np.unique(prediction) "
   ]
  },
  {
   "cell_type": "markdown",
   "metadata": {},
   "source": [
    "<br>\n",
    "<strong>ROC of AUC </strong>"
   ]
  },
  {
   "cell_type": "code",
   "execution_count": 290,
   "metadata": {},
   "outputs": [
    {
     "data": {
      "text/plain": [
       "0.7243329331077272"
      ]
     },
     "execution_count": 290,
     "metadata": {},
     "output_type": "execute_result"
    }
   ],
   "source": [
    "from sklearn.metrics import roc_auc_score\n",
    "\n",
    "# generate the ROC\n",
    "probability = model.predict_proba(X_test)\n",
    "probability_class_1 = [p[1] for p in probability]\n",
    "\n",
    "roc_auc_score(y_test, probability_class_1)"
   ]
  },
  {
   "cell_type": "markdown",
   "metadata": {},
   "source": [
    "<br>\n",
    "<strong>F1 Score</strong>"
   ]
  },
  {
   "cell_type": "code",
   "execution_count": 292,
   "metadata": {},
   "outputs": [
    {
     "data": {
      "text/plain": [
       "0.39005655440195836"
      ]
     },
     "execution_count": 292,
     "metadata": {},
     "output_type": "execute_result"
    }
   ],
   "source": [
    "from sklearn.metrics import f1_score\n",
    "\n",
    "f1_score(y_test, prediction)"
   ]
  },
  {
   "cell_type": "code",
   "execution_count": null,
   "metadata": {},
   "outputs": [],
   "source": []
  }
 ],
 "metadata": {
  "kernelspec": {
   "display_name": "Python 3",
   "language": "python",
   "name": "python3"
  },
  "language_info": {
   "codemirror_mode": {
    "name": "ipython",
    "version": 3
   },
   "file_extension": ".py",
   "mimetype": "text/x-python",
   "name": "python",
   "nbconvert_exporter": "python",
   "pygments_lexer": "ipython3",
   "version": "3.8.5"
  }
 },
 "nbformat": 4,
 "nbformat_minor": 4
}
